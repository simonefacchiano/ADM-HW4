{
 "cells": [
  {
   "cell_type": "markdown",
   "id": "d9bbe8ae-f370-4928-be37-e4bfb132d0be",
   "metadata": {},
   "source": [
    "# Algorithmic Question"
   ]
  },
  {
   "cell_type": "markdown",
   "id": "14c541b8-25b6-48da-8479-92f6be872999",
   "metadata": {},
   "source": [
    "Given `n` entrances, `m` students and `g` guards, we have to implement an algorithm that check if the current number of guards is enough to monitor the flow of students while abiding by the following restrinctions:\n",
    "- the entrance must be opened right before the first student’s arrival and closed right after the arrival of the last student that should enter through that specific entrance;\n",
    "- two students can not enter the university simultaneously;\n",
    "- for an entry to be protected, a guard should be assigned to it;\n",
    "- a guard cannot leave his post until the door he was given is closed.\n",
    "\n",
    "Task: tell if, given the input, the guards will survail the entarances abiding the above rules."
   ]
  },
  {
   "cell_type": "code",
   "execution_count": 92,
   "id": "fd240b42-98d6-4b84-a250-2843187d3d14",
   "metadata": {
    "tags": []
   },
   "outputs": [],
   "source": [
    "def guard():\n",
    "    n,m,g = list(map(int,input().split())) # store numbers of entrances, students, and guards\n",
    "    entrances = list(map(int,input().split()))[:m] # build a list of the entaraces used\n",
    "    e_opened=set() # initialize a variable that takes track of the entrances opened\n",
    "    e_closed = set() # initialize a variable that takes track of the entrances closed\n",
    "    gfree = [x for x in range(g)] # initialize a variable that takes track of the guards that are not busy\n",
    "    answer = [] # # initialize a variable that will store 1 when the answer is 'No'\n",
    "    for e in entrances: # for each entrance\n",
    "        if e not in e_closed: # if it has not been closed.... well, you can proceed!\n",
    "            if e not in e_opened: # if it has not even been opened, mark it as opened\n",
    "                if len(gfree)>0: # and if a guard is free\n",
    "                    e_opened.add(e) # use that guard to survail that door\n",
    "                    gfree.pop()  # and remove that guard from the list of free guards\n",
    "                else: # but if there are no free guards\n",
    "                    e_closed.add(e_opened.pop()) # you have to close a door\n",
    "                    e_opened.add(e) # and move a guard to a new open door\n",
    "        else :\n",
    "            answer.append(1) # of course,  if the door has been closed before.... well, you fail!\n",
    "            break\n",
    "            \n",
    "    # Print the results\n",
    "    if len(answer) == 1:\n",
    "        print('NO')\n",
    "    else:\n",
    "        print('YES')"
   ]
  },
  {
   "cell_type": "code",
   "execution_count": 97,
   "id": "7acc3841-848d-4116-90c7-66957f60fa53",
   "metadata": {},
   "outputs": [
    {
     "name": "stdin",
     "output_type": "stream",
     "text": [
      " 4 5 1\n",
      " 1 1 3 3 3\n"
     ]
    },
    {
     "name": "stdout",
     "output_type": "stream",
     "text": [
      "YES\n"
     ]
    }
   ],
   "source": [
    "guard() # input 1"
   ]
  },
  {
   "cell_type": "code",
   "execution_count": 94,
   "id": "302fe018-c03d-43b7-b37b-684d650bc04b",
   "metadata": {},
   "outputs": [
    {
     "name": "stdin",
     "output_type": "stream",
     "text": [
      " 2 5 1 \n",
      " 1 2 1 2 2\n"
     ]
    },
    {
     "name": "stdout",
     "output_type": "stream",
     "text": [
      "NO\n"
     ]
    }
   ],
   "source": [
    "guard() # input 2"
   ]
  }
 ],
 "metadata": {
  "kernelspec": {
   "display_name": "Python 3 (ipykernel)",
   "language": "python",
   "name": "python3"
  },
  "language_info": {
   "codemirror_mode": {
    "name": "ipython",
    "version": 3
   },
   "file_extension": ".py",
   "mimetype": "text/x-python",
   "name": "python",
   "nbconvert_exporter": "python",
   "pygments_lexer": "ipython3",
   "version": "3.9.12"
  }
 },
 "nbformat": 4,
 "nbformat_minor": 5
}
