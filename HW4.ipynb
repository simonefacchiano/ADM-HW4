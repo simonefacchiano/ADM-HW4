{
 "cells": [
  {
   "cell_type": "markdown",
   "metadata": {},
   "source": [
    "## LAB con Ioannis 22/11"
   ]
  },
  {
   "cell_type": "code",
   "execution_count": 2,
   "metadata": {},
   "outputs": [],
   "source": [
    "import pandas as pd"
   ]
  },
  {
   "cell_type": "code",
   "execution_count": 5,
   "metadata": {},
   "outputs": [],
   "source": [
    "data = pd.read_csv('/Users/simonefacchiano/Desktop/Data Science/ADM/ADM HW4/bank_transactions.csv')"
   ]
  },
  {
   "cell_type": "code",
   "execution_count": 125,
   "metadata": {},
   "outputs": [
    {
     "data": {
      "text/html": [
       "<div>\n",
       "<style scoped>\n",
       "    .dataframe tbody tr th:only-of-type {\n",
       "        vertical-align: middle;\n",
       "    }\n",
       "\n",
       "    .dataframe tbody tr th {\n",
       "        vertical-align: top;\n",
       "    }\n",
       "\n",
       "    .dataframe thead th {\n",
       "        text-align: right;\n",
       "    }\n",
       "</style>\n",
       "<table border=\"1\" class=\"dataframe\">\n",
       "  <thead>\n",
       "    <tr style=\"text-align: right;\">\n",
       "      <th></th>\n",
       "      <th>TransactionID</th>\n",
       "      <th>CustomerID</th>\n",
       "      <th>CustomerDOB</th>\n",
       "      <th>CustGender</th>\n",
       "      <th>CustLocation</th>\n",
       "      <th>CustAccountBalance</th>\n",
       "      <th>TransactionDate</th>\n",
       "      <th>TransactionTime</th>\n",
       "      <th>TransactionAmount (INR)</th>\n",
       "    </tr>\n",
       "  </thead>\n",
       "  <tbody>\n",
       "    <tr>\n",
       "      <th>0</th>\n",
       "      <td>T1</td>\n",
       "      <td>C5841053</td>\n",
       "      <td>10/1/94</td>\n",
       "      <td>F</td>\n",
       "      <td>JAMSHEDPUR</td>\n",
       "      <td>17819.05</td>\n",
       "      <td>2/8/16</td>\n",
       "      <td>143207</td>\n",
       "      <td>25.0</td>\n",
       "    </tr>\n",
       "    <tr>\n",
       "      <th>1</th>\n",
       "      <td>T2</td>\n",
       "      <td>C2142763</td>\n",
       "      <td>4/4/57</td>\n",
       "      <td>M</td>\n",
       "      <td>JHAJJAR</td>\n",
       "      <td>2270.69</td>\n",
       "      <td>2/8/16</td>\n",
       "      <td>141858</td>\n",
       "      <td>27999.0</td>\n",
       "    </tr>\n",
       "    <tr>\n",
       "      <th>2</th>\n",
       "      <td>T3</td>\n",
       "      <td>C4417068</td>\n",
       "      <td>26/11/96</td>\n",
       "      <td>F</td>\n",
       "      <td>MUMBAI</td>\n",
       "      <td>17874.44</td>\n",
       "      <td>2/8/16</td>\n",
       "      <td>142712</td>\n",
       "      <td>459.0</td>\n",
       "    </tr>\n",
       "    <tr>\n",
       "      <th>3</th>\n",
       "      <td>T4</td>\n",
       "      <td>C5342380</td>\n",
       "      <td>14/9/73</td>\n",
       "      <td>F</td>\n",
       "      <td>MUMBAI</td>\n",
       "      <td>866503.21</td>\n",
       "      <td>2/8/16</td>\n",
       "      <td>142714</td>\n",
       "      <td>2060.0</td>\n",
       "    </tr>\n",
       "    <tr>\n",
       "      <th>4</th>\n",
       "      <td>T5</td>\n",
       "      <td>C9031234</td>\n",
       "      <td>24/3/88</td>\n",
       "      <td>F</td>\n",
       "      <td>NAVI MUMBAI</td>\n",
       "      <td>6714.43</td>\n",
       "      <td>2/8/16</td>\n",
       "      <td>181156</td>\n",
       "      <td>1762.5</td>\n",
       "    </tr>\n",
       "  </tbody>\n",
       "</table>\n",
       "</div>"
      ],
      "text/plain": [
       "  TransactionID CustomerID CustomerDOB CustGender CustLocation  \\\n",
       "0            T1   C5841053     10/1/94          F   JAMSHEDPUR   \n",
       "1            T2   C2142763      4/4/57          M      JHAJJAR   \n",
       "2            T3   C4417068    26/11/96          F       MUMBAI   \n",
       "3            T4   C5342380     14/9/73          F       MUMBAI   \n",
       "4            T5   C9031234     24/3/88          F  NAVI MUMBAI   \n",
       "\n",
       "   CustAccountBalance TransactionDate  TransactionTime  \\\n",
       "0            17819.05          2/8/16           143207   \n",
       "1             2270.69          2/8/16           141858   \n",
       "2            17874.44          2/8/16           142712   \n",
       "3           866503.21          2/8/16           142714   \n",
       "4             6714.43          2/8/16           181156   \n",
       "\n",
       "   TransactionAmount (INR)  \n",
       "0                     25.0  \n",
       "1                  27999.0  \n",
       "2                    459.0  \n",
       "3                   2060.0  \n",
       "4                   1762.5  "
      ]
     },
     "execution_count": 125,
     "metadata": {},
     "output_type": "execute_result"
    }
   ],
   "source": [
    "data.head()"
   ]
  },
  {
   "cell_type": "code",
   "execution_count": 126,
   "metadata": {},
   "outputs": [],
   "source": [
    "# Spoiler per le prossime domande\n",
    "\n",
    "# We want to identify the feature which brings the majority of variation.\n",
    "# Maybe we should also normalize, for example if we want to compute the euclidean distance between distance -> polar distance (-1, +1). There are also other distances: Manhattan, "
   ]
  },
  {
   "cell_type": "markdown",
   "metadata": {},
   "source": [
    "### Data Cleaning"
   ]
  },
  {
   "cell_type": "code",
   "execution_count": 6,
   "metadata": {},
   "outputs": [
    {
     "name": "stdout",
     "output_type": "stream",
     "text": [
      "<class 'pandas.core.frame.DataFrame'>\n",
      "RangeIndex: 1048567 entries, 0 to 1048566\n",
      "Data columns (total 9 columns):\n",
      " #   Column                   Non-Null Count    Dtype  \n",
      "---  ------                   --------------    -----  \n",
      " 0   TransactionID            1048567 non-null  object \n",
      " 1   CustomerID               1048567 non-null  object \n",
      " 2   CustomerDOB              1045170 non-null  object \n",
      " 3   CustGender               1047467 non-null  object \n",
      " 4   CustLocation             1048416 non-null  object \n",
      " 5   CustAccountBalance       1046198 non-null  float64\n",
      " 6   TransactionDate          1048567 non-null  object \n",
      " 7   TransactionTime          1048567 non-null  int64  \n",
      " 8   TransactionAmount (INR)  1048567 non-null  float64\n",
      "dtypes: float64(2), int64(1), object(6)\n",
      "memory usage: 72.0+ MB\n"
     ]
    }
   ],
   "source": [
    "data.info()\n",
    "\n",
    "# We need to convert the DateOfBirth and the TransactionData as date objects, same for TransactionTime"
   ]
  },
  {
   "cell_type": "code",
   "execution_count": 7,
   "metadata": {},
   "outputs": [],
   "source": [
    "# We rename the last column to simplify:\n",
    "\n",
    "data.rename(columns = {'TransactionAmount (INR)':'TransactionAmount'}, inplace = True)"
   ]
  },
  {
   "cell_type": "code",
   "execution_count": 129,
   "metadata": {},
   "outputs": [
    {
     "data": {
      "text/html": [
       "<div>\n",
       "<style scoped>\n",
       "    .dataframe tbody tr th:only-of-type {\n",
       "        vertical-align: middle;\n",
       "    }\n",
       "\n",
       "    .dataframe tbody tr th {\n",
       "        vertical-align: top;\n",
       "    }\n",
       "\n",
       "    .dataframe thead th {\n",
       "        text-align: right;\n",
       "    }\n",
       "</style>\n",
       "<table border=\"1\" class=\"dataframe\">\n",
       "  <thead>\n",
       "    <tr style=\"text-align: right;\">\n",
       "      <th></th>\n",
       "      <th>TransactionID</th>\n",
       "      <th>CustomerID</th>\n",
       "      <th>CustomerDOB</th>\n",
       "      <th>CustGender</th>\n",
       "      <th>CustLocation</th>\n",
       "      <th>CustAccountBalance</th>\n",
       "      <th>TransactionDate</th>\n",
       "      <th>TransactionTime</th>\n",
       "      <th>TransactionAmount</th>\n",
       "    </tr>\n",
       "  </thead>\n",
       "  <tbody>\n",
       "    <tr>\n",
       "      <th>0</th>\n",
       "      <td>T1</td>\n",
       "      <td>C5841053</td>\n",
       "      <td>10/1/94</td>\n",
       "      <td>F</td>\n",
       "      <td>JAMSHEDPUR</td>\n",
       "      <td>17819.05</td>\n",
       "      <td>2/8/16</td>\n",
       "      <td>143207</td>\n",
       "      <td>25.0</td>\n",
       "    </tr>\n",
       "    <tr>\n",
       "      <th>1</th>\n",
       "      <td>T2</td>\n",
       "      <td>C2142763</td>\n",
       "      <td>4/4/57</td>\n",
       "      <td>M</td>\n",
       "      <td>JHAJJAR</td>\n",
       "      <td>2270.69</td>\n",
       "      <td>2/8/16</td>\n",
       "      <td>141858</td>\n",
       "      <td>27999.0</td>\n",
       "    </tr>\n",
       "    <tr>\n",
       "      <th>2</th>\n",
       "      <td>T3</td>\n",
       "      <td>C4417068</td>\n",
       "      <td>26/11/96</td>\n",
       "      <td>F</td>\n",
       "      <td>MUMBAI</td>\n",
       "      <td>17874.44</td>\n",
       "      <td>2/8/16</td>\n",
       "      <td>142712</td>\n",
       "      <td>459.0</td>\n",
       "    </tr>\n",
       "    <tr>\n",
       "      <th>3</th>\n",
       "      <td>T4</td>\n",
       "      <td>C5342380</td>\n",
       "      <td>14/9/73</td>\n",
       "      <td>F</td>\n",
       "      <td>MUMBAI</td>\n",
       "      <td>866503.21</td>\n",
       "      <td>2/8/16</td>\n",
       "      <td>142714</td>\n",
       "      <td>2060.0</td>\n",
       "    </tr>\n",
       "    <tr>\n",
       "      <th>4</th>\n",
       "      <td>T5</td>\n",
       "      <td>C9031234</td>\n",
       "      <td>24/3/88</td>\n",
       "      <td>F</td>\n",
       "      <td>NAVI MUMBAI</td>\n",
       "      <td>6714.43</td>\n",
       "      <td>2/8/16</td>\n",
       "      <td>181156</td>\n",
       "      <td>1762.5</td>\n",
       "    </tr>\n",
       "  </tbody>\n",
       "</table>\n",
       "</div>"
      ],
      "text/plain": [
       "  TransactionID CustomerID CustomerDOB CustGender CustLocation  \\\n",
       "0            T1   C5841053     10/1/94          F   JAMSHEDPUR   \n",
       "1            T2   C2142763      4/4/57          M      JHAJJAR   \n",
       "2            T3   C4417068    26/11/96          F       MUMBAI   \n",
       "3            T4   C5342380     14/9/73          F       MUMBAI   \n",
       "4            T5   C9031234     24/3/88          F  NAVI MUMBAI   \n",
       "\n",
       "   CustAccountBalance TransactionDate  TransactionTime  TransactionAmount  \n",
       "0            17819.05          2/8/16           143207               25.0  \n",
       "1             2270.69          2/8/16           141858            27999.0  \n",
       "2            17874.44          2/8/16           142712              459.0  \n",
       "3           866503.21          2/8/16           142714             2060.0  \n",
       "4             6714.43          2/8/16           181156             1762.5  "
      ]
     },
     "execution_count": 129,
     "metadata": {},
     "output_type": "execute_result"
    }
   ],
   "source": [
    "data.head()"
   ]
  },
  {
   "cell_type": "markdown",
   "metadata": {},
   "source": [
    "### Missing values"
   ]
  },
  {
   "cell_type": "code",
   "execution_count": 130,
   "metadata": {},
   "outputs": [
    {
     "name": "stdout",
     "output_type": "stream",
     "text": [
      "TransactionID            0\n",
      "CustomerID               0\n",
      "CustomerDOB           3397\n",
      "CustGender            1100\n",
      "CustLocation           151\n",
      "CustAccountBalance    2369\n",
      "TransactionDate          0\n",
      "TransactionTime          0\n",
      "TransactionAmount        0\n",
      "dtype: int64\n",
      "*********************************\n",
      "*********************************\n",
      "The total number of rows is:  1048567\n"
     ]
    }
   ],
   "source": [
    "print(data.isna().sum())\n",
    "print('*********************************')\n",
    "print('*********************************')\n",
    "print('The total number of rows is: ',len(data))\n",
    "\n",
    "# Since the number of Missing Values is pretty low, we can drop the rows that contain NaN's."
   ]
  },
  {
   "cell_type": "code",
   "execution_count": 8,
   "metadata": {},
   "outputs": [],
   "source": [
    "data.dropna(inplace = True) # tanto sono poche"
   ]
  },
  {
   "cell_type": "code",
   "execution_count": 132,
   "metadata": {},
   "outputs": [
    {
     "name": "stdout",
     "output_type": "stream",
     "text": [
      "Index(['TransactionID', 'CustomerID', 'CustomerDOB', 'CustGender',\n",
      "       'CustLocation', 'CustAccountBalance', 'TransactionDate',\n",
      "       'TransactionTime', 'TransactionAmount'],\n",
      "      dtype='object')\n"
     ]
    },
    {
     "data": {
      "text/html": [
       "<div>\n",
       "<style scoped>\n",
       "    .dataframe tbody tr th:only-of-type {\n",
       "        vertical-align: middle;\n",
       "    }\n",
       "\n",
       "    .dataframe tbody tr th {\n",
       "        vertical-align: top;\n",
       "    }\n",
       "\n",
       "    .dataframe thead th {\n",
       "        text-align: right;\n",
       "    }\n",
       "</style>\n",
       "<table border=\"1\" class=\"dataframe\">\n",
       "  <thead>\n",
       "    <tr style=\"text-align: right;\">\n",
       "      <th></th>\n",
       "      <th>CustAccountBalance</th>\n",
       "      <th>TransactionAmount</th>\n",
       "    </tr>\n",
       "  </thead>\n",
       "  <tbody>\n",
       "    <tr>\n",
       "      <th>count</th>\n",
       "      <td>1.041614e+06</td>\n",
       "      <td>1.041614e+06</td>\n",
       "    </tr>\n",
       "    <tr>\n",
       "      <th>mean</th>\n",
       "      <td>1.149986e+05</td>\n",
       "      <td>1.566096e+03</td>\n",
       "    </tr>\n",
       "    <tr>\n",
       "      <th>std</th>\n",
       "      <td>8.467609e+05</td>\n",
       "      <td>6.561464e+03</td>\n",
       "    </tr>\n",
       "    <tr>\n",
       "      <th>min</th>\n",
       "      <td>0.000000e+00</td>\n",
       "      <td>0.000000e+00</td>\n",
       "    </tr>\n",
       "    <tr>\n",
       "      <th>25%</th>\n",
       "      <td>4.728140e+03</td>\n",
       "      <td>1.600000e+02</td>\n",
       "    </tr>\n",
       "    <tr>\n",
       "      <th>50%</th>\n",
       "      <td>1.676852e+04</td>\n",
       "      <td>4.575000e+02</td>\n",
       "    </tr>\n",
       "    <tr>\n",
       "      <th>75%</th>\n",
       "      <td>5.742885e+04</td>\n",
       "      <td>1.200000e+03</td>\n",
       "    </tr>\n",
       "    <tr>\n",
       "      <th>max</th>\n",
       "      <td>1.150355e+08</td>\n",
       "      <td>1.560035e+06</td>\n",
       "    </tr>\n",
       "  </tbody>\n",
       "</table>\n",
       "</div>"
      ],
      "text/plain": [
       "       CustAccountBalance  TransactionAmount\n",
       "count        1.041614e+06       1.041614e+06\n",
       "mean         1.149986e+05       1.566096e+03\n",
       "std          8.467609e+05       6.561464e+03\n",
       "min          0.000000e+00       0.000000e+00\n",
       "25%          4.728140e+03       1.600000e+02\n",
       "50%          1.676852e+04       4.575000e+02\n",
       "75%          5.742885e+04       1.200000e+03\n",
       "max          1.150355e+08       1.560035e+06"
      ]
     },
     "execution_count": 132,
     "metadata": {},
     "output_type": "execute_result"
    }
   ],
   "source": [
    "print(data.columns)\n",
    "\n",
    "data[['CustAccountBalance', 'TransactionAmount']].describe()"
   ]
  },
  {
   "cell_type": "code",
   "execution_count": 9,
   "metadata": {},
   "outputs": [],
   "source": [
    "# There are Transactions of 0! This makes no sense, so we want to delete them:\n",
    "\n",
    "data = data[data['TransactionAmount'] != 0]"
   ]
  },
  {
   "cell_type": "code",
   "execution_count": 10,
   "metadata": {},
   "outputs": [
    {
     "name": "stdout",
     "output_type": "stream",
     "text": [
      "878763\n",
      "1040794\n",
      "There are 162031 values that are present more than one time\n"
     ]
    }
   ],
   "source": [
    "# I want to know if CustomerID has some repetead values:\n",
    "print(data['CustomerID'].nunique())\n",
    "print(len(data))\n",
    "print('There are', len(data) - data['CustomerID'].nunique(), 'values that are present more than one time')"
   ]
  },
  {
   "cell_type": "markdown",
   "metadata": {},
   "source": [
    "### Date"
   ]
  },
  {
   "cell_type": "code",
   "execution_count": 6,
   "metadata": {},
   "outputs": [],
   "source": [
    "# We want to convert DateOfBirth, TransactionDate and TransactionTime in a datetime format\n",
    "\n",
    "from datetime import datetime\n",
    "\n",
    "data.dropna(inplace=True)\n",
    "data.CustomerDOB = pd.to_datetime(data.CustomerDOB) \n",
    "data.TransactionDate = pd.to_datetime(data.TransactionDate) \n",
    "#data.TransactionTime = data.TransactionTime.apply(lambda x: datetime.strptime(str(x).zfill(6), '%H%M%S'))\n",
    "data.TransactionTime = pd.to_datetime(data.TransactionTime) "
   ]
  },
  {
   "cell_type": "code",
   "execution_count": 137,
   "metadata": {},
   "outputs": [
    {
     "data": {
      "text/plain": [
       "<AxesSubplot:>"
      ]
     },
     "execution_count": 137,
     "metadata": {},
     "output_type": "execute_result"
    },
    {
     "data": {
      "image/png": "[encoded data removed]",
      "text/plain": [
       "<Figure size 432x288 with 1 Axes>"
      ]
     },
     "metadata": {
      "needs_background": "light"
     },
     "output_type": "display_data"
    }
   ],
   "source": [
    "data.CustomerDOB.dt.year.hist(bins = 50)"
   ]
  },
  {
   "cell_type": "code",
   "execution_count": 138,
   "metadata": {},
   "outputs": [
    {
     "name": "stdout",
     "output_type": "stream",
     "text": [
      "Years of births are up to 2071\n",
      "For people born in the XX century, dates start from 1972-01-01 00:00:00\n"
     ]
    }
   ],
   "source": [
    "# This is obviously very strane, but let's see:\n",
    "print('Years of births are up to', max(data.CustomerDOB.dt.year))\n",
    "\n",
    "print('For people born in the XX century, dates start from', min(data['CustomerDOB'][data.CustomerDOB.dt.year > 1850]))\n",
    "\n",
    "# Therefore, it would appear that people born before 1972 were reported as born after 2000. "
   ]
  },
  {
   "cell_type": "code",
   "execution_count": 12,
   "metadata": {},
   "outputs": [
    {
     "data": {
      "text/plain": [
       "<AxesSubplot:>"
      ]
     },
     "execution_count": 12,
     "metadata": {},
     "output_type": "execute_result"
    },
    {
     "data": {
      "image/png": "[encoded data removed]",
      "text/plain": [
       "<Figure size 432x288 with 1 Axes>"
      ]
     },
     "metadata": {
      "needs_background": "light"
     },
     "output_type": "display_data"
    }
   ],
   "source": [
    "# To fix this error, we execute:\n",
    "data.loc[data.CustomerDOB.dt.year > 2000, 'CustomerDOB'] = data.loc[data.CustomerDOB.dt.year > 2000, 'CustomerDOB'] - pd.DateOffset(years = 100)\n",
    "\n",
    "# Then, we remove observations from 1800's:\n",
    "data.drop(data[data.CustomerDOB.dt.year <= 1805].index, axis = 0, inplace = True)\n",
    "\n",
    "# and finally we have:\n",
    "data.CustomerDOB.dt.year.hist(bins = 50)"
   ]
  },
  {
   "cell_type": "code",
   "execution_count": 140,
   "metadata": {},
   "outputs": [],
   "source": [
    "# Now, since life expectancy at birth in India is 69 years for women and 68 years for men, probably we have some problems with that left tail in the histogram... we decided to drop the rows for users with more tan 100 years, because they probably result from some errors in data transcription. Since the dataset refers to the 2016, we cut observations where DOB.year is < 1916, that are 616 rows\n",
    "\n",
    "#data = data.drop(data[data.CustomerDOB.dt.year < 1916].index)"
   ]
  },
  {
   "cell_type": "code",
   "execution_count": 141,
   "metadata": {},
   "outputs": [
    {
     "name": "stdout",
     "output_type": "stream",
     "text": [
      "Years of births stops in 2000 ...\n",
      "But note that we have some very early observstions, starting from 1901-01-01 00:00:00 !\n",
      "So, we move those observations like we did before!\n"
     ]
    }
   ],
   "source": [
    "# Now, we have some data regardin the early 1900's, while the life expectancy at birth in India is 69 years for women and 68 years for men. Somethins is not working... Also, see how the shape of the histogram abruptly stops at the beginning of the new millennium. Making similar reasoning to that seen above:\n",
    "\n",
    "print('Years of births stops in', max(data.CustomerDOB.dt.year), '...')\n",
    "print('But note that we have some very early observstions, starting from', min(data['CustomerDOB'][data.CustomerDOB.dt.year < 1915]), '!')\n",
    "print('So, we move those observations like we did before!')"
   ]
  },
  {
   "cell_type": "code",
   "execution_count": 13,
   "metadata": {},
   "outputs": [
    {
     "data": {
      "text/plain": [
       "<BarContainer object of 16 artists>"
      ]
     },
     "execution_count": 13,
     "metadata": {},
     "output_type": "execute_result"
    },
    {
     "data": {
      "image/png": "[encoded data removed]",
      "text/plain": [
       "<Figure size 432x288 with 1 Axes>"
      ]
     },
     "metadata": {
      "needs_background": "light"
     },
     "output_type": "display_data"
    }
   ],
   "source": [
    "import matplotlib.pyplot as plt\n",
    "\n",
    "years = []\n",
    "number = []\n",
    "for i in range(1900, 1916):\n",
    "    years.append(i)\n",
    "    number.append(len(data[data.CustomerDOB.dt.year == i]))\n",
    "\n",
    "plt.bar(years, number)\n",
    "\n",
    "# sembrerebbe che fino al 1906 ci siano degli errori, e guarda caso in india sopra i 10 anni puoi aprire un conto! quindi ha senso che ci siano persone nate tra il 2000 e il 2006!"
   ]
  },
  {
   "cell_type": "code",
   "execution_count": 14,
   "metadata": {},
   "outputs": [],
   "source": [
    "data.loc[data.CustomerDOB.dt.year <= 1906, 'CustomerDOB'] = data.loc[data.CustomerDOB.dt.year <= 1906, 'CustomerDOB'] + pd.DateOffset(years = 100)"
   ]
  },
  {
   "cell_type": "code",
   "execution_count": 15,
   "metadata": {},
   "outputs": [
    {
     "data": {
      "text/plain": [
       "<AxesSubplot:>"
      ]
     },
     "execution_count": 15,
     "metadata": {},
     "output_type": "execute_result"
    },
    {
     "data": {
      "image/png": "[encoded data removed]",
      "text/plain": [
       "<Figure size 432x288 with 1 Axes>"
      ]
     },
     "metadata": {
      "needs_background": "light"
     },
     "output_type": "display_data"
    }
   ],
   "source": [
    "# Now the distribution of age looks like this:\n",
    "data.CustomerDOB.dt.year.hist(bins = 40)"
   ]
  },
  {
   "cell_type": "code",
   "execution_count": 145,
   "metadata": {},
   "outputs": [
    {
     "data": {
      "text/plain": [
       "Timestamp('1907-02-01 00:00:00')"
      ]
     },
     "execution_count": 145,
     "metadata": {},
     "output_type": "execute_result"
    }
   ],
   "source": [
    "min(data.CustomerDOB)"
   ]
  },
  {
   "cell_type": "code",
   "execution_count": 7,
   "metadata": {},
   "outputs": [
    {
     "data": {
      "image/png": "[encoded data removed]",
      "text/plain": [
       "<Figure size 432x288 with 1 Axes>"
      ]
     },
     "metadata": {
      "needs_background": "light"
     },
     "output_type": "display_data"
    }
   ],
   "source": [
    "# Now the distribution of age looks like this (with a nicer plot):\n",
    "import matplotlib.pyplot as plt\n",
    "\n",
    "n, bins, patches = plt.hist(data.CustomerDOB.dt.year, bins=100, facecolor='#2ab0ff', edgecolor='#e0e0e0', linewidth=0.5, alpha=0.7)\n",
    "\n",
    "n = n.astype('int') # it MUST be integer\n",
    "# Good old loop. Choose colormap of your taste\n",
    "for i in range(len(patches)):\n",
    "    patches[i].set_facecolor(plt.cm.plasma(n[i]/max(n)))\n",
    "\n",
    "plt.title('Year of Birth Distribution', fontsize=12)\n",
    "plt.xlabel('Years of Birth', fontsize=12)\n",
    "plt.ylabel('Frequencies', fontsize=12)\n",
    "plt.show()"
   ]
  },
  {
   "cell_type": "code",
   "execution_count": 147,
   "metadata": {},
   "outputs": [],
   "source": [
    "#from datetime import datetime\n",
    "\n",
    "#data.TransactionTime = data.TransactionTime.apply(lambda x: datetime.strptime(str(x).zfill(6), '%H%M%S'))"
   ]
  },
  {
   "cell_type": "markdown",
   "metadata": {},
   "source": [
    "### Transactions"
   ]
  },
  {
   "cell_type": "code",
   "execution_count": 148,
   "metadata": {},
   "outputs": [
    {
     "data": {
      "text/plain": [
       "<AxesSubplot:ylabel='Frequency'>"
      ]
     },
     "execution_count": 148,
     "metadata": {},
     "output_type": "execute_result"
    },
    {
     "data": {
      "image/png": "[encoded data removed]",
      "text/plain": [
       "<Figure size 432x288 with 1 Axes>"
      ]
     },
     "metadata": {
      "needs_background": "light"
     },
     "output_type": "display_data"
    }
   ],
   "source": [
    "data.groupby('CustomerID').TransactionID.count().plot.hist()"
   ]
  },
  {
   "cell_type": "markdown",
   "metadata": {},
   "source": [
    "### Age"
   ]
  },
  {
   "cell_type": "code",
   "execution_count": 16,
   "metadata": {},
   "outputs": [
    {
     "data": {
      "text/html": [
       "<div>\n",
       "<style scoped>\n",
       "    .dataframe tbody tr th:only-of-type {\n",
       "        vertical-align: middle;\n",
       "    }\n",
       "\n",
       "    .dataframe tbody tr th {\n",
       "        vertical-align: top;\n",
       "    }\n",
       "\n",
       "    .dataframe thead th {\n",
       "        text-align: right;\n",
       "    }\n",
       "</style>\n",
       "<table border=\"1\" class=\"dataframe\">\n",
       "  <thead>\n",
       "    <tr style=\"text-align: right;\">\n",
       "      <th></th>\n",
       "      <th>TransactionID</th>\n",
       "      <th>CustomerID</th>\n",
       "      <th>CustomerDOB</th>\n",
       "      <th>CustGender</th>\n",
       "      <th>CustLocation</th>\n",
       "      <th>CustAccountBalance</th>\n",
       "      <th>TransactionDate</th>\n",
       "      <th>TransactionTime</th>\n",
       "      <th>TransactionAmount</th>\n",
       "      <th>CustomerAge</th>\n",
       "    </tr>\n",
       "  </thead>\n",
       "  <tbody>\n",
       "    <tr>\n",
       "      <th>0</th>\n",
       "      <td>T1</td>\n",
       "      <td>C5841053</td>\n",
       "      <td>1994-10-01</td>\n",
       "      <td>F</td>\n",
       "      <td>JAMSHEDPUR</td>\n",
       "      <td>17819.05</td>\n",
       "      <td>2016-02-08</td>\n",
       "      <td>1900-01-01 14:32:07</td>\n",
       "      <td>25.0</td>\n",
       "      <td>28</td>\n",
       "    </tr>\n",
       "    <tr>\n",
       "      <th>1</th>\n",
       "      <td>T2</td>\n",
       "      <td>C2142763</td>\n",
       "      <td>1957-04-04</td>\n",
       "      <td>M</td>\n",
       "      <td>JHAJJAR</td>\n",
       "      <td>2270.69</td>\n",
       "      <td>2016-02-08</td>\n",
       "      <td>1900-01-01 14:18:58</td>\n",
       "      <td>27999.0</td>\n",
       "      <td>66</td>\n",
       "    </tr>\n",
       "    <tr>\n",
       "      <th>2</th>\n",
       "      <td>T3</td>\n",
       "      <td>C4417068</td>\n",
       "      <td>1996-11-26</td>\n",
       "      <td>F</td>\n",
       "      <td>MUMBAI</td>\n",
       "      <td>17874.44</td>\n",
       "      <td>2016-02-08</td>\n",
       "      <td>1900-01-01 14:27:12</td>\n",
       "      <td>459.0</td>\n",
       "      <td>26</td>\n",
       "    </tr>\n",
       "    <tr>\n",
       "      <th>3</th>\n",
       "      <td>T4</td>\n",
       "      <td>C5342380</td>\n",
       "      <td>1973-09-14</td>\n",
       "      <td>F</td>\n",
       "      <td>MUMBAI</td>\n",
       "      <td>866503.21</td>\n",
       "      <td>2016-02-08</td>\n",
       "      <td>1900-01-01 14:27:14</td>\n",
       "      <td>2060.0</td>\n",
       "      <td>49</td>\n",
       "    </tr>\n",
       "    <tr>\n",
       "      <th>4</th>\n",
       "      <td>T5</td>\n",
       "      <td>C9031234</td>\n",
       "      <td>1988-03-24</td>\n",
       "      <td>F</td>\n",
       "      <td>NAVI MUMBAI</td>\n",
       "      <td>6714.43</td>\n",
       "      <td>2016-02-08</td>\n",
       "      <td>1900-01-01 18:11:56</td>\n",
       "      <td>1762.5</td>\n",
       "      <td>35</td>\n",
       "    </tr>\n",
       "  </tbody>\n",
       "</table>\n",
       "</div>"
      ],
      "text/plain": [
       "  TransactionID CustomerID CustomerDOB CustGender CustLocation  \\\n",
       "0            T1   C5841053  1994-10-01          F   JAMSHEDPUR   \n",
       "1            T2   C2142763  1957-04-04          M      JHAJJAR   \n",
       "2            T3   C4417068  1996-11-26          F       MUMBAI   \n",
       "3            T4   C5342380  1973-09-14          F       MUMBAI   \n",
       "4            T5   C9031234  1988-03-24          F  NAVI MUMBAI   \n",
       "\n",
       "   CustAccountBalance TransactionDate     TransactionTime  TransactionAmount  \\\n",
       "0            17819.05      2016-02-08 1900-01-01 14:32:07               25.0   \n",
       "1             2270.69      2016-02-08 1900-01-01 14:18:58            27999.0   \n",
       "2            17874.44      2016-02-08 1900-01-01 14:27:12              459.0   \n",
       "3           866503.21      2016-02-08 1900-01-01 14:27:14             2060.0   \n",
       "4             6714.43      2016-02-08 1900-01-01 18:11:56             1762.5   \n",
       "\n",
       "   CustomerAge  \n",
       "0           28  \n",
       "1           66  \n",
       "2           26  \n",
       "3           49  \n",
       "4           35  "
      ]
     },
     "execution_count": 16,
     "metadata": {},
     "output_type": "execute_result"
    }
   ],
   "source": [
    "import numpy as np\n",
    "\n",
    "data['CustomerAge'] = (round((pd.to_datetime('today') - data.CustomerDOB)/np.timedelta64(1, 'Y'), 0)).astype(int)\n",
    "data.head()"
   ]
  },
  {
   "cell_type": "code",
   "execution_count": 118,
   "metadata": {},
   "outputs": [
    {
     "data": {
      "text/plain": [
       "98"
      ]
     },
     "execution_count": 118,
     "metadata": {},
     "output_type": "execute_result"
    }
   ],
   "source": [
    "data['CustomerAge'].nunique()"
   ]
  },
  {
   "cell_type": "code",
   "execution_count": 150,
   "metadata": {},
   "outputs": [
    {
     "data": {
      "image/png": "[encoded data removed]",
      "text/plain": [
       "<Figure size 432x288 with 1 Axes>"
      ]
     },
     "metadata": {
      "needs_background": "light"
     },
     "output_type": "display_data"
    }
   ],
   "source": [
    "n, bins, patches = plt.hist(data.CustomerAge, bins=100, facecolor='#2ab0ff', edgecolor='#e0e0e0', linewidth=0.5, alpha=0.7)\n",
    "\n",
    "n = n.astype('int') # it MUST be integer\n",
    "# Good old loop. Choose colormap of your taste\n",
    "for i in range(len(patches)):\n",
    "    patches[i].set_facecolor(plt.cm.plasma(n[i]/max(n)))\n",
    "\n",
    "plt.title('Year of Birth Distribution', fontsize=12)\n",
    "plt.xlabel('Years of Birth', fontsize=12)\n",
    "plt.ylabel('Frequencies', fontsize=12)\n",
    "plt.show()\n",
    "\n",
    "# Average age in India: 29 years!"
   ]
  },
  {
   "cell_type": "code",
   "execution_count": 151,
   "metadata": {},
   "outputs": [
    {
     "name": "stdout",
     "output_type": "stream",
     "text": [
      "<class 'pandas.core.frame.DataFrame'>\n",
      "Int64Index: 984614 entries, 0 to 1048566\n",
      "Data columns (total 10 columns):\n",
      " #   Column              Non-Null Count   Dtype         \n",
      "---  ------              --------------   -----         \n",
      " 0   TransactionID       984614 non-null  object        \n",
      " 1   CustomerID          984614 non-null  object        \n",
      " 2   CustomerDOB         984614 non-null  datetime64[ns]\n",
      " 3   CustGender          984614 non-null  object        \n",
      " 4   CustLocation        984614 non-null  object        \n",
      " 5   CustAccountBalance  984614 non-null  float64       \n",
      " 6   TransactionDate     984614 non-null  datetime64[ns]\n",
      " 7   TransactionTime     984614 non-null  datetime64[ns]\n",
      " 8   TransactionAmount   984614 non-null  float64       \n",
      " 9   CustomerAge         984614 non-null  int64         \n",
      "dtypes: datetime64[ns](3), float64(2), int64(1), object(4)\n",
      "memory usage: 82.6+ MB\n"
     ]
    }
   ],
   "source": [
    "data.info()"
   ]
  },
  {
   "cell_type": "code",
   "execution_count": 17,
   "metadata": {},
   "outputs": [],
   "source": [
    "# Now we save it, to simplify the loading for the next runs\n",
    "\n",
    "import os\n",
    "\n",
    "data.to_csv('/Users/simonefacchiano/Desktop/Data Science/ADM/ADM HW4/data.csv') "
   ]
  },
  {
   "cell_type": "markdown",
   "metadata": {},
   "source": [
    "# 2. Grouping customers together!"
   ]
  },
  {
   "cell_type": "markdown",
   "metadata": {},
   "source": [
    "## 2.1 Getting your data + feature engineering"
   ]
  },
  {
   "cell_type": "code",
   "execution_count": 3,
   "metadata": {},
   "outputs": [
    {
     "name": "stdout",
     "output_type": "stream",
     "text": [
      "<class 'pandas.core.frame.DataFrame'>\n",
      "RangeIndex: 984614 entries, 0 to 984613\n",
      "Data columns (total 10 columns):\n",
      " #   Column              Non-Null Count   Dtype  \n",
      "---  ------              --------------   -----  \n",
      " 0   TransactionID       984614 non-null  object \n",
      " 1   CustomerID          984614 non-null  object \n",
      " 2   CustomerDOB         984614 non-null  object \n",
      " 3   CustGender          984614 non-null  object \n",
      " 4   CustLocation        984614 non-null  object \n",
      " 5   CustAccountBalance  984614 non-null  float64\n",
      " 6   TransactionDate     984614 non-null  object \n",
      " 7   TransactionTime     984614 non-null  object \n",
      " 8   TransactionAmount   984614 non-null  float64\n",
      " 9   CustomerAge         984614 non-null  int64  \n",
      "dtypes: float64(2), int64(1), object(7)\n",
      "memory usage: 75.1+ MB\n"
     ]
    }
   ],
   "source": [
    "data = pd.read_csv('/Users/simonefacchiano/Desktop/Data Science/ADM/ADM HW4/data.csv')\n",
    "data = data.drop('Unnamed: 0', axis=1)\n",
    "data.info()"
   ]
  },
  {
   "cell_type": "code",
   "execution_count": 4,
   "metadata": {},
   "outputs": [],
   "source": [
    "from datetime import datetime\n",
    "\n",
    "data.CustomerDOB = pd.to_datetime(data.CustomerDOB) \n",
    "data.TransactionDate = pd.to_datetime(data.TransactionDate) \n",
    "data.TransactionTime = pd.to_datetime(data.TransactionTime) "
   ]
  },
  {
   "cell_type": "markdown",
   "metadata": {},
   "source": [
    "### 2.1.1 & 2.1.2: 2.1 Getting your data + feature engineering"
   ]
  },
  {
   "cell_type": "code",
   "execution_count": 5,
   "metadata": {},
   "outputs": [],
   "source": [
    "# Number of transactions\n",
    "\n",
    "data_num_trans = pd.DataFrame(data.groupby([\"CustomerID\"])[\"TransactionID\"].count().reset_index(name=\"Number_Transactions\"))\n",
    "data_small = data_num_trans"
   ]
  },
  {
   "cell_type": "code",
   "execution_count": 643,
   "metadata": {},
   "outputs": [
    {
     "data": {
      "text/html": [
       "<div>\n",
       "<style scoped>\n",
       "    .dataframe tbody tr th:only-of-type {\n",
       "        vertical-align: middle;\n",
       "    }\n",
       "\n",
       "    .dataframe tbody tr th {\n",
       "        vertical-align: top;\n",
       "    }\n",
       "\n",
       "    .dataframe thead th {\n",
       "        text-align: right;\n",
       "    }\n",
       "</style>\n",
       "<table border=\"1\" class=\"dataframe\">\n",
       "  <thead>\n",
       "    <tr style=\"text-align: right;\">\n",
       "      <th></th>\n",
       "      <th>CustomerID</th>\n",
       "      <th>Number_Transactions</th>\n",
       "    </tr>\n",
       "  </thead>\n",
       "  <tbody>\n",
       "    <tr>\n",
       "      <th>0</th>\n",
       "      <td>C1010011</td>\n",
       "      <td>2</td>\n",
       "    </tr>\n",
       "    <tr>\n",
       "      <th>1</th>\n",
       "      <td>C1010012</td>\n",
       "      <td>1</td>\n",
       "    </tr>\n",
       "    <tr>\n",
       "      <th>2</th>\n",
       "      <td>C1010014</td>\n",
       "      <td>2</td>\n",
       "    </tr>\n",
       "    <tr>\n",
       "      <th>3</th>\n",
       "      <td>C1010018</td>\n",
       "      <td>1</td>\n",
       "    </tr>\n",
       "    <tr>\n",
       "      <th>4</th>\n",
       "      <td>C1010024</td>\n",
       "      <td>1</td>\n",
       "    </tr>\n",
       "    <tr>\n",
       "      <th>...</th>\n",
       "      <td>...</td>\n",
       "      <td>...</td>\n",
       "    </tr>\n",
       "    <tr>\n",
       "      <th>838556</th>\n",
       "      <td>C9099836</td>\n",
       "      <td>1</td>\n",
       "    </tr>\n",
       "    <tr>\n",
       "      <th>838557</th>\n",
       "      <td>C9099877</td>\n",
       "      <td>1</td>\n",
       "    </tr>\n",
       "    <tr>\n",
       "      <th>838558</th>\n",
       "      <td>C9099919</td>\n",
       "      <td>1</td>\n",
       "    </tr>\n",
       "    <tr>\n",
       "      <th>838559</th>\n",
       "      <td>C9099941</td>\n",
       "      <td>1</td>\n",
       "    </tr>\n",
       "    <tr>\n",
       "      <th>838560</th>\n",
       "      <td>C9099956</td>\n",
       "      <td>1</td>\n",
       "    </tr>\n",
       "  </tbody>\n",
       "</table>\n",
       "<p>838561 rows × 2 columns</p>\n",
       "</div>"
      ],
      "text/plain": [
       "       CustomerID  Number_Transactions\n",
       "0        C1010011                    2\n",
       "1        C1010012                    1\n",
       "2        C1010014                    2\n",
       "3        C1010018                    1\n",
       "4        C1010024                    1\n",
       "...           ...                  ...\n",
       "838556   C9099836                    1\n",
       "838557   C9099877                    1\n",
       "838558   C9099919                    1\n",
       "838559   C9099941                    1\n",
       "838560   C9099956                    1\n",
       "\n",
       "[838561 rows x 2 columns]"
      ]
     },
     "execution_count": 643,
     "metadata": {},
     "output_type": "execute_result"
    }
   ],
   "source": [
    "data_num_trans"
   ]
  },
  {
   "cell_type": "code",
   "execution_count": 6,
   "metadata": {},
   "outputs": [
    {
     "ename": "InvalidIndexError",
     "evalue": "(31336     False\n162622    False\nName: TransactionAmount, dtype: bool, 50)",
     "output_type": "error",
     "traceback": [
      "\u001b[0;31m---------------------------------------------------------------------------\u001b[0m",
      "\u001b[0;31mTypeError\u001b[0m                                 Traceback (most recent call last)",
      "File \u001b[0;32m~/opt/anaconda3/lib/python3.9/site-packages/pandas/core/indexes/base.py:3629\u001b[0m, in \u001b[0;36mIndex.get_loc\u001b[0;34m(self, key, method, tolerance)\u001b[0m\n\u001b[1;32m   3628\u001b[0m \u001b[39mtry\u001b[39;00m:\n\u001b[0;32m-> 3629\u001b[0m     \u001b[39mreturn\u001b[39;00m \u001b[39mself\u001b[39;49m\u001b[39m.\u001b[39;49m_engine\u001b[39m.\u001b[39;49mget_loc(casted_key)\n\u001b[1;32m   3630\u001b[0m \u001b[39mexcept\u001b[39;00m \u001b[39mKeyError\u001b[39;00m \u001b[39mas\u001b[39;00m err:\n",
      "File \u001b[0;32m~/opt/anaconda3/lib/python3.9/site-packages/pandas/_libs/index.pyx:136\u001b[0m, in \u001b[0;36mpandas._libs.index.IndexEngine.get_loc\u001b[0;34m()\u001b[0m\n",
      "File \u001b[0;32m~/opt/anaconda3/lib/python3.9/site-packages/pandas/_libs/index.pyx:142\u001b[0m, in \u001b[0;36mpandas._libs.index.IndexEngine.get_loc\u001b[0;34m()\u001b[0m\n",
      "\u001b[0;31mTypeError\u001b[0m: '(31336     False\n162622    False\nName: TransactionAmount, dtype: bool, 50)' is an invalid key",
      "\nDuring handling of the above exception, another exception occurred:\n",
      "\u001b[0;31mInvalidIndexError\u001b[0m                         Traceback (most recent call last)",
      "\u001b[1;32m/Users/simonefacchiano/Desktop/Data Science/ADM/ADM HW4/HW4.ipynb Cella 44\u001b[0m in \u001b[0;36m<cell line: 5>\u001b[0;34m()\u001b[0m\n\u001b[1;32m      <a href='vscode-notebook-cell:/Users/simonefacchiano/Desktop/Data%20Science/ADM/ADM%20HW4/HW4.ipynb#X61sZmlsZQ%3D%3D?line=0'>1</a>\u001b[0m \u001b[39m# Number of transactions with a balance bigger than 100 USD\u001b[39;00m\n\u001b[1;32m      <a href='vscode-notebook-cell:/Users/simonefacchiano/Desktop/Data%20Science/ADM/ADM%20HW4/HW4.ipynb#X61sZmlsZQ%3D%3D?line=1'>2</a>\u001b[0m \n\u001b[1;32m      <a href='vscode-notebook-cell:/Users/simonefacchiano/Desktop/Data%20Science/ADM/ADM%20HW4/HW4.ipynb#X61sZmlsZQ%3D%3D?line=2'>3</a>\u001b[0m \u001b[39m# Since we have the transaction amount in INR (indian rupies) we have to search the transaction > 8163,85 INR\u001b[39;00m\n\u001b[0;32m----> <a href='vscode-notebook-cell:/Users/simonefacchiano/Desktop/Data%20Science/ADM/ADM%20HW4/HW4.ipynb#X61sZmlsZQ%3D%3D?line=4'>5</a>\u001b[0m data_100 \u001b[39m=\u001b[39m data\u001b[39m.\u001b[39;49mgroupby([\u001b[39m'\u001b[39;49m\u001b[39mCustomerID\u001b[39;49m\u001b[39m'\u001b[39;49m])\u001b[39m.\u001b[39;49mapply(  \u001b[39mlambda\u001b[39;49;00m x:  x[x[\u001b[39m'\u001b[39;49m\u001b[39mTransactionAmount\u001b[39;49m\u001b[39m'\u001b[39;49m] \u001b[39m>\u001b[39;49m \u001b[39m81638\u001b[39;49m,\u001b[39m50\u001b[39;49m][\u001b[39m'\u001b[39;49m\u001b[39mTransactionAmount\u001b[39;49m\u001b[39m'\u001b[39;49m]\u001b[39m.\u001b[39;49mcount()  )\u001b[39m.\u001b[39mreset_index(name\u001b[39m=\u001b[39m\u001b[39m\"\u001b[39m\u001b[39mNumber_Transactions>100\u001b[39m\u001b[39m\"\u001b[39m)\n\u001b[1;32m      <a href='vscode-notebook-cell:/Users/simonefacchiano/Desktop/Data%20Science/ADM/ADM%20HW4/HW4.ipynb#X61sZmlsZQ%3D%3D?line=5'>6</a>\u001b[0m data_100\n",
      "File \u001b[0;32m~/opt/anaconda3/lib/python3.9/site-packages/pandas/core/groupby/groupby.py:1423\u001b[0m, in \u001b[0;36mGroupBy.apply\u001b[0;34m(self, func, *args, **kwargs)\u001b[0m\n\u001b[1;32m   1421\u001b[0m \u001b[39mwith\u001b[39;00m option_context(\u001b[39m\"\u001b[39m\u001b[39mmode.chained_assignment\u001b[39m\u001b[39m\"\u001b[39m, \u001b[39mNone\u001b[39;00m):\n\u001b[1;32m   1422\u001b[0m     \u001b[39mtry\u001b[39;00m:\n\u001b[0;32m-> 1423\u001b[0m         result \u001b[39m=\u001b[39m \u001b[39mself\u001b[39;49m\u001b[39m.\u001b[39;49m_python_apply_general(f, \u001b[39mself\u001b[39;49m\u001b[39m.\u001b[39;49m_selected_obj)\n\u001b[1;32m   1424\u001b[0m     \u001b[39mexcept\u001b[39;00m \u001b[39mTypeError\u001b[39;00m:\n\u001b[1;32m   1425\u001b[0m         \u001b[39m# gh-20949\u001b[39;00m\n\u001b[1;32m   1426\u001b[0m         \u001b[39m# try again, with .apply acting as a filtering\u001b[39;00m\n\u001b[0;32m   (...)\u001b[0m\n\u001b[1;32m   1430\u001b[0m         \u001b[39m# fails on *some* columns, e.g. a numeric operation\u001b[39;00m\n\u001b[1;32m   1431\u001b[0m         \u001b[39m# on a string grouper column\u001b[39;00m\n\u001b[1;32m   1433\u001b[0m         \u001b[39mwith\u001b[39;00m \u001b[39mself\u001b[39m\u001b[39m.\u001b[39m_group_selection_context():\n",
      "File \u001b[0;32m~/opt/anaconda3/lib/python3.9/site-packages/pandas/core/groupby/groupby.py:1464\u001b[0m, in \u001b[0;36mGroupBy._python_apply_general\u001b[0;34m(self, f, data, not_indexed_same)\u001b[0m\n\u001b[1;32m   1438\u001b[0m \u001b[39m@final\u001b[39m\n\u001b[1;32m   1439\u001b[0m \u001b[39mdef\u001b[39;00m \u001b[39m_python_apply_general\u001b[39m(\n\u001b[1;32m   1440\u001b[0m     \u001b[39mself\u001b[39m,\n\u001b[0;32m   (...)\u001b[0m\n\u001b[1;32m   1443\u001b[0m     not_indexed_same: \u001b[39mbool\u001b[39m \u001b[39m|\u001b[39m \u001b[39mNone\u001b[39;00m \u001b[39m=\u001b[39m \u001b[39mNone\u001b[39;00m,\n\u001b[1;32m   1444\u001b[0m ) \u001b[39m-\u001b[39m\u001b[39m>\u001b[39m DataFrame \u001b[39m|\u001b[39m Series:\n\u001b[1;32m   1445\u001b[0m     \u001b[39m\"\"\"\u001b[39;00m\n\u001b[1;32m   1446\u001b[0m \u001b[39m    Apply function f in python space\u001b[39;00m\n\u001b[1;32m   1447\u001b[0m \n\u001b[0;32m   (...)\u001b[0m\n\u001b[1;32m   1462\u001b[0m \u001b[39m        data after applying f\u001b[39;00m\n\u001b[1;32m   1463\u001b[0m \u001b[39m    \"\"\"\u001b[39;00m\n\u001b[0;32m-> 1464\u001b[0m     values, mutated \u001b[39m=\u001b[39m \u001b[39mself\u001b[39;49m\u001b[39m.\u001b[39;49mgrouper\u001b[39m.\u001b[39;49mapply(f, data, \u001b[39mself\u001b[39;49m\u001b[39m.\u001b[39;49maxis)\n\u001b[1;32m   1466\u001b[0m     \u001b[39mif\u001b[39;00m not_indexed_same \u001b[39mis\u001b[39;00m \u001b[39mNone\u001b[39;00m:\n\u001b[1;32m   1467\u001b[0m         not_indexed_same \u001b[39m=\u001b[39m mutated \u001b[39mor\u001b[39;00m \u001b[39mself\u001b[39m\u001b[39m.\u001b[39mmutated\n",
      "File \u001b[0;32m~/opt/anaconda3/lib/python3.9/site-packages/pandas/core/groupby/ops.py:761\u001b[0m, in \u001b[0;36mBaseGrouper.apply\u001b[0;34m(self, f, data, axis)\u001b[0m\n\u001b[1;32m    759\u001b[0m \u001b[39m# group might be modified\u001b[39;00m\n\u001b[1;32m    760\u001b[0m group_axes \u001b[39m=\u001b[39m group\u001b[39m.\u001b[39maxes\n\u001b[0;32m--> 761\u001b[0m res \u001b[39m=\u001b[39m f(group)\n\u001b[1;32m    762\u001b[0m \u001b[39mif\u001b[39;00m \u001b[39mnot\u001b[39;00m mutated \u001b[39mand\u001b[39;00m \u001b[39mnot\u001b[39;00m _is_indexed_like(res, group_axes, axis):\n\u001b[1;32m    763\u001b[0m     mutated \u001b[39m=\u001b[39m \u001b[39mTrue\u001b[39;00m\n",
      "\u001b[1;32m/Users/simonefacchiano/Desktop/Data Science/ADM/ADM HW4/HW4.ipynb Cella 44\u001b[0m in \u001b[0;36m<lambda>\u001b[0;34m(x)\u001b[0m\n\u001b[1;32m      <a href='vscode-notebook-cell:/Users/simonefacchiano/Desktop/Data%20Science/ADM/ADM%20HW4/HW4.ipynb#X61sZmlsZQ%3D%3D?line=0'>1</a>\u001b[0m \u001b[39m# Number of transactions with a balance bigger than 100 USD\u001b[39;00m\n\u001b[1;32m      <a href='vscode-notebook-cell:/Users/simonefacchiano/Desktop/Data%20Science/ADM/ADM%20HW4/HW4.ipynb#X61sZmlsZQ%3D%3D?line=1'>2</a>\u001b[0m \n\u001b[1;32m      <a href='vscode-notebook-cell:/Users/simonefacchiano/Desktop/Data%20Science/ADM/ADM%20HW4/HW4.ipynb#X61sZmlsZQ%3D%3D?line=2'>3</a>\u001b[0m \u001b[39m# Since we have the transaction amount in INR (indian rupies) we have to search the transaction > 8163,85 INR\u001b[39;00m\n\u001b[0;32m----> <a href='vscode-notebook-cell:/Users/simonefacchiano/Desktop/Data%20Science/ADM/ADM%20HW4/HW4.ipynb#X61sZmlsZQ%3D%3D?line=4'>5</a>\u001b[0m data_100 \u001b[39m=\u001b[39m data\u001b[39m.\u001b[39mgroupby([\u001b[39m'\u001b[39m\u001b[39mCustomerID\u001b[39m\u001b[39m'\u001b[39m])\u001b[39m.\u001b[39mapply(  \u001b[39mlambda\u001b[39;00m x:  x[x[\u001b[39m'\u001b[39;49m\u001b[39mTransactionAmount\u001b[39;49m\u001b[39m'\u001b[39;49m] \u001b[39m>\u001b[39;49m \u001b[39m81638\u001b[39;49m,\u001b[39m50\u001b[39;49m][\u001b[39m'\u001b[39m\u001b[39mTransactionAmount\u001b[39m\u001b[39m'\u001b[39m]\u001b[39m.\u001b[39mcount()  )\u001b[39m.\u001b[39mreset_index(name\u001b[39m=\u001b[39m\u001b[39m\"\u001b[39m\u001b[39mNumber_Transactions>100\u001b[39m\u001b[39m\"\u001b[39m)\n\u001b[1;32m      <a href='vscode-notebook-cell:/Users/simonefacchiano/Desktop/Data%20Science/ADM/ADM%20HW4/HW4.ipynb#X61sZmlsZQ%3D%3D?line=5'>6</a>\u001b[0m data_100\n",
      "File \u001b[0;32m~/opt/anaconda3/lib/python3.9/site-packages/pandas/core/frame.py:3505\u001b[0m, in \u001b[0;36mDataFrame.__getitem__\u001b[0;34m(self, key)\u001b[0m\n\u001b[1;32m   3503\u001b[0m \u001b[39mif\u001b[39;00m \u001b[39mself\u001b[39m\u001b[39m.\u001b[39mcolumns\u001b[39m.\u001b[39mnlevels \u001b[39m>\u001b[39m \u001b[39m1\u001b[39m:\n\u001b[1;32m   3504\u001b[0m     \u001b[39mreturn\u001b[39;00m \u001b[39mself\u001b[39m\u001b[39m.\u001b[39m_getitem_multilevel(key)\n\u001b[0;32m-> 3505\u001b[0m indexer \u001b[39m=\u001b[39m \u001b[39mself\u001b[39;49m\u001b[39m.\u001b[39;49mcolumns\u001b[39m.\u001b[39;49mget_loc(key)\n\u001b[1;32m   3506\u001b[0m \u001b[39mif\u001b[39;00m is_integer(indexer):\n\u001b[1;32m   3507\u001b[0m     indexer \u001b[39m=\u001b[39m [indexer]\n",
      "File \u001b[0;32m~/opt/anaconda3/lib/python3.9/site-packages/pandas/core/indexes/base.py:3636\u001b[0m, in \u001b[0;36mIndex.get_loc\u001b[0;34m(self, key, method, tolerance)\u001b[0m\n\u001b[1;32m   3631\u001b[0m         \u001b[39mraise\u001b[39;00m \u001b[39mKeyError\u001b[39;00m(key) \u001b[39mfrom\u001b[39;00m \u001b[39merr\u001b[39;00m\n\u001b[1;32m   3632\u001b[0m     \u001b[39mexcept\u001b[39;00m \u001b[39mTypeError\u001b[39;00m:\n\u001b[1;32m   3633\u001b[0m         \u001b[39m# If we have a listlike key, _check_indexing_error will raise\u001b[39;00m\n\u001b[1;32m   3634\u001b[0m         \u001b[39m#  InvalidIndexError. Otherwise we fall through and re-raise\u001b[39;00m\n\u001b[1;32m   3635\u001b[0m         \u001b[39m#  the TypeError.\u001b[39;00m\n\u001b[0;32m-> 3636\u001b[0m         \u001b[39mself\u001b[39;49m\u001b[39m.\u001b[39;49m_check_indexing_error(key)\n\u001b[1;32m   3637\u001b[0m         \u001b[39mraise\u001b[39;00m\n\u001b[1;32m   3639\u001b[0m \u001b[39m# GH#42269\u001b[39;00m\n",
      "File \u001b[0;32m~/opt/anaconda3/lib/python3.9/site-packages/pandas/core/indexes/base.py:5651\u001b[0m, in \u001b[0;36mIndex._check_indexing_error\u001b[0;34m(self, key)\u001b[0m\n\u001b[1;32m   5647\u001b[0m \u001b[39mdef\u001b[39;00m \u001b[39m_check_indexing_error\u001b[39m(\u001b[39mself\u001b[39m, key):\n\u001b[1;32m   5648\u001b[0m     \u001b[39mif\u001b[39;00m \u001b[39mnot\u001b[39;00m is_scalar(key):\n\u001b[1;32m   5649\u001b[0m         \u001b[39m# if key is not a scalar, directly raise an error (the code below\u001b[39;00m\n\u001b[1;32m   5650\u001b[0m         \u001b[39m# would convert to numpy arrays and raise later any way) - GH29926\u001b[39;00m\n\u001b[0;32m-> 5651\u001b[0m         \u001b[39mraise\u001b[39;00m InvalidIndexError(key)\n",
      "\u001b[0;31mInvalidIndexError\u001b[0m: (31336     False\n162622    False\nName: TransactionAmount, dtype: bool, 50)"
     ]
    }
   ],
   "source": [
    "# Number of transactions with a balance bigger than 100 USD\n",
    "\n",
    "# Since we have the transaction amount in INR (indian rupies) we have to search the transaction > 8163,85 INR\n",
    "\n",
    "data_100 = data.groupby(['CustomerID']).apply(  lambda x:  x[x['TransactionAmount'] > 81638,50]['TransactionAmount'].count()  ).reset_index(name=\"Number_Transactions>100\")\n",
    "data_100"
   ]
  },
  {
   "cell_type": "code",
   "execution_count": 157,
   "metadata": {},
   "outputs": [
    {
     "data": {
      "text/html": [
       "<div>\n",
       "<style scoped>\n",
       "    .dataframe tbody tr th:only-of-type {\n",
       "        vertical-align: middle;\n",
       "    }\n",
       "\n",
       "    .dataframe tbody tr th {\n",
       "        vertical-align: top;\n",
       "    }\n",
       "\n",
       "    .dataframe thead th {\n",
       "        text-align: right;\n",
       "    }\n",
       "</style>\n",
       "<table border=\"1\" class=\"dataframe\">\n",
       "  <thead>\n",
       "    <tr style=\"text-align: right;\">\n",
       "      <th></th>\n",
       "      <th>CustomerID</th>\n",
       "      <th>Average_Amount_Transactions</th>\n",
       "    </tr>\n",
       "  </thead>\n",
       "  <tbody>\n",
       "    <tr>\n",
       "      <th>0</th>\n",
       "      <td>C1010011</td>\n",
       "      <td>2553.0</td>\n",
       "    </tr>\n",
       "    <tr>\n",
       "      <th>1</th>\n",
       "      <td>C1010012</td>\n",
       "      <td>1499.0</td>\n",
       "    </tr>\n",
       "    <tr>\n",
       "      <th>2</th>\n",
       "      <td>C1010014</td>\n",
       "      <td>727.5</td>\n",
       "    </tr>\n",
       "    <tr>\n",
       "      <th>3</th>\n",
       "      <td>C1010018</td>\n",
       "      <td>30.0</td>\n",
       "    </tr>\n",
       "    <tr>\n",
       "      <th>4</th>\n",
       "      <td>C1010024</td>\n",
       "      <td>5000.0</td>\n",
       "    </tr>\n",
       "    <tr>\n",
       "      <th>...</th>\n",
       "      <td>...</td>\n",
       "      <td>...</td>\n",
       "    </tr>\n",
       "    <tr>\n",
       "      <th>838556</th>\n",
       "      <td>C9099836</td>\n",
       "      <td>691.0</td>\n",
       "    </tr>\n",
       "    <tr>\n",
       "      <th>838557</th>\n",
       "      <td>C9099877</td>\n",
       "      <td>222.0</td>\n",
       "    </tr>\n",
       "    <tr>\n",
       "      <th>838558</th>\n",
       "      <td>C9099919</td>\n",
       "      <td>126.0</td>\n",
       "    </tr>\n",
       "    <tr>\n",
       "      <th>838559</th>\n",
       "      <td>C9099941</td>\n",
       "      <td>50.0</td>\n",
       "    </tr>\n",
       "    <tr>\n",
       "      <th>838560</th>\n",
       "      <td>C9099956</td>\n",
       "      <td>855.0</td>\n",
       "    </tr>\n",
       "  </tbody>\n",
       "</table>\n",
       "<p>838561 rows × 2 columns</p>\n",
       "</div>"
      ],
      "text/plain": [
       "       CustomerID  Average_Amount_Transactions\n",
       "0        C1010011                       2553.0\n",
       "1        C1010012                       1499.0\n",
       "2        C1010014                        727.5\n",
       "3        C1010018                         30.0\n",
       "4        C1010024                       5000.0\n",
       "...           ...                          ...\n",
       "838556   C9099836                        691.0\n",
       "838557   C9099877                        222.0\n",
       "838558   C9099919                        126.0\n",
       "838559   C9099941                         50.0\n",
       "838560   C9099956                        855.0\n",
       "\n",
       "[838561 rows x 2 columns]"
      ]
     },
     "execution_count": 157,
     "metadata": {},
     "output_type": "execute_result"
    }
   ],
   "source": [
    "# Average amount of transaction\n",
    "\n",
    "data_average_trans = data.groupby([\"CustomerID\"])[\"TransactionAmount\"].mean().reset_index(name=\"Average_Amount_Transactions\")\n",
    "data_average_trans"
   ]
  },
  {
   "cell_type": "code",
   "execution_count": 158,
   "metadata": {},
   "outputs": [
    {
     "data": {
      "text/html": [
       "<div>\n",
       "<style scoped>\n",
       "    .dataframe tbody tr th:only-of-type {\n",
       "        vertical-align: middle;\n",
       "    }\n",
       "\n",
       "    .dataframe tbody tr th {\n",
       "        vertical-align: top;\n",
       "    }\n",
       "\n",
       "    .dataframe thead th {\n",
       "        text-align: right;\n",
       "    }\n",
       "</style>\n",
       "<table border=\"1\" class=\"dataframe\">\n",
       "  <thead>\n",
       "    <tr style=\"text-align: right;\">\n",
       "      <th></th>\n",
       "      <th>CustomerID</th>\n",
       "      <th>Average_Balance</th>\n",
       "    </tr>\n",
       "  </thead>\n",
       "  <tbody>\n",
       "    <tr>\n",
       "      <th>0</th>\n",
       "      <td>C1010011</td>\n",
       "      <td>76340.635</td>\n",
       "    </tr>\n",
       "    <tr>\n",
       "      <th>1</th>\n",
       "      <td>C1010012</td>\n",
       "      <td>24204.490</td>\n",
       "    </tr>\n",
       "    <tr>\n",
       "      <th>2</th>\n",
       "      <td>C1010014</td>\n",
       "      <td>100112.950</td>\n",
       "    </tr>\n",
       "    <tr>\n",
       "      <th>3</th>\n",
       "      <td>C1010018</td>\n",
       "      <td>496.180</td>\n",
       "    </tr>\n",
       "    <tr>\n",
       "      <th>4</th>\n",
       "      <td>C1010024</td>\n",
       "      <td>87058.650</td>\n",
       "    </tr>\n",
       "    <tr>\n",
       "      <th>...</th>\n",
       "      <td>...</td>\n",
       "      <td>...</td>\n",
       "    </tr>\n",
       "    <tr>\n",
       "      <th>838556</th>\n",
       "      <td>C9099836</td>\n",
       "      <td>133067.230</td>\n",
       "    </tr>\n",
       "    <tr>\n",
       "      <th>838557</th>\n",
       "      <td>C9099877</td>\n",
       "      <td>96063.460</td>\n",
       "    </tr>\n",
       "    <tr>\n",
       "      <th>838558</th>\n",
       "      <td>C9099919</td>\n",
       "      <td>5559.750</td>\n",
       "    </tr>\n",
       "    <tr>\n",
       "      <th>838559</th>\n",
       "      <td>C9099941</td>\n",
       "      <td>35295.920</td>\n",
       "    </tr>\n",
       "    <tr>\n",
       "      <th>838560</th>\n",
       "      <td>C9099956</td>\n",
       "      <td>6968.930</td>\n",
       "    </tr>\n",
       "  </tbody>\n",
       "</table>\n",
       "<p>838561 rows × 2 columns</p>\n",
       "</div>"
      ],
      "text/plain": [
       "       CustomerID  Average_Balance\n",
       "0        C1010011        76340.635\n",
       "1        C1010012        24204.490\n",
       "2        C1010014       100112.950\n",
       "3        C1010018          496.180\n",
       "4        C1010024        87058.650\n",
       "...           ...              ...\n",
       "838556   C9099836       133067.230\n",
       "838557   C9099877        96063.460\n",
       "838558   C9099919         5559.750\n",
       "838559   C9099941        35295.920\n",
       "838560   C9099956         6968.930\n",
       "\n",
       "[838561 rows x 2 columns]"
      ]
     },
     "execution_count": 158,
     "metadata": {},
     "output_type": "execute_result"
    }
   ],
   "source": [
    "# Average balance\n",
    "\n",
    "data_average_balance = data.groupby([\"CustomerID\"])[\"CustAccountBalance\"].mean().reset_index(name=\"Average_Balance\")\n",
    "data_average_balance"
   ]
  },
  {
   "cell_type": "code",
   "execution_count": 125,
   "metadata": {},
   "outputs": [
    {
     "data": {
      "text/html": [
       "<div>\n",
       "<style scoped>\n",
       "    .dataframe tbody tr th:only-of-type {\n",
       "        vertical-align: middle;\n",
       "    }\n",
       "\n",
       "    .dataframe tbody tr th {\n",
       "        vertical-align: top;\n",
       "    }\n",
       "\n",
       "    .dataframe thead th {\n",
       "        text-align: right;\n",
       "    }\n",
       "</style>\n",
       "<table border=\"1\" class=\"dataframe\">\n",
       "  <thead>\n",
       "    <tr style=\"text-align: right;\">\n",
       "      <th></th>\n",
       "      <th>CustomerID</th>\n",
       "      <th>Utilisation</th>\n",
       "    </tr>\n",
       "  </thead>\n",
       "  <tbody>\n",
       "    <tr>\n",
       "      <th>0</th>\n",
       "      <td>C1010011</td>\n",
       "      <td>73787.635</td>\n",
       "    </tr>\n",
       "    <tr>\n",
       "      <th>1</th>\n",
       "      <td>C1010012</td>\n",
       "      <td>22705.490</td>\n",
       "    </tr>\n",
       "    <tr>\n",
       "      <th>2</th>\n",
       "      <td>C1010014</td>\n",
       "      <td>99385.450</td>\n",
       "    </tr>\n",
       "    <tr>\n",
       "      <th>3</th>\n",
       "      <td>C1010018</td>\n",
       "      <td>466.180</td>\n",
       "    </tr>\n",
       "    <tr>\n",
       "      <th>4</th>\n",
       "      <td>C1010024</td>\n",
       "      <td>82058.650</td>\n",
       "    </tr>\n",
       "    <tr>\n",
       "      <th>...</th>\n",
       "      <td>...</td>\n",
       "      <td>...</td>\n",
       "    </tr>\n",
       "    <tr>\n",
       "      <th>838556</th>\n",
       "      <td>C9099836</td>\n",
       "      <td>132376.230</td>\n",
       "    </tr>\n",
       "    <tr>\n",
       "      <th>838557</th>\n",
       "      <td>C9099877</td>\n",
       "      <td>95841.460</td>\n",
       "    </tr>\n",
       "    <tr>\n",
       "      <th>838558</th>\n",
       "      <td>C9099919</td>\n",
       "      <td>5433.750</td>\n",
       "    </tr>\n",
       "    <tr>\n",
       "      <th>838559</th>\n",
       "      <td>C9099941</td>\n",
       "      <td>35245.920</td>\n",
       "    </tr>\n",
       "    <tr>\n",
       "      <th>838560</th>\n",
       "      <td>C9099956</td>\n",
       "      <td>6113.930</td>\n",
       "    </tr>\n",
       "  </tbody>\n",
       "</table>\n",
       "<p>838561 rows × 2 columns</p>\n",
       "</div>"
      ],
      "text/plain": [
       "       CustomerID  Utilisation\n",
       "0        C1010011    73787.635\n",
       "1        C1010012    22705.490\n",
       "2        C1010014    99385.450\n",
       "3        C1010018      466.180\n",
       "4        C1010024    82058.650\n",
       "...           ...          ...\n",
       "838556   C9099836   132376.230\n",
       "838557   C9099877    95841.460\n",
       "838558   C9099919     5433.750\n",
       "838559   C9099941    35245.920\n",
       "838560   C9099956     6113.930\n",
       "\n",
       "[838561 rows x 2 columns]"
      ]
     },
     "execution_count": 125,
     "metadata": {},
     "output_type": "execute_result"
    }
   ],
   "source": [
    "# Average difference between the balance and the transaction amount for each customer (Utilisation)\n",
    "\n",
    "data['Utilisation'] = data['CustAccountBalance'] - data['TransactionAmount']\n",
    "data_utilisation = pd.DataFrame(data.groupby(['CustomerID'])['Utilisation'].mean())\n",
    "data_utilisation = data_utilisation.reset_index() \n",
    "data_utilisation"
   ]
  },
  {
   "cell_type": "code",
   "execution_count": 160,
   "metadata": {},
   "outputs": [],
   "source": [
    "# Most common gender of the customer\n",
    "data_gender = pd.DataFrame(data.groupby(['CustomerID'])['CustGender'].agg(lambda x: pd.Series.mode(x)))"
   ]
  },
  {
   "cell_type": "code",
   "execution_count": 161,
   "metadata": {},
   "outputs": [],
   "source": [
    "for idx in data_gender.index:\n",
    "    data_gender.loc[idx] = data_gender.loc[idx][0][0]"
   ]
  },
  {
   "cell_type": "code",
   "execution_count": 162,
   "metadata": {},
   "outputs": [
    {
     "data": {
      "text/html": [
       "<div>\n",
       "<style scoped>\n",
       "    .dataframe tbody tr th:only-of-type {\n",
       "        vertical-align: middle;\n",
       "    }\n",
       "\n",
       "    .dataframe tbody tr th {\n",
       "        vertical-align: top;\n",
       "    }\n",
       "\n",
       "    .dataframe thead th {\n",
       "        text-align: right;\n",
       "    }\n",
       "</style>\n",
       "<table border=\"1\" class=\"dataframe\">\n",
       "  <thead>\n",
       "    <tr style=\"text-align: right;\">\n",
       "      <th></th>\n",
       "      <th>CustomerID</th>\n",
       "      <th>CustGender</th>\n",
       "    </tr>\n",
       "  </thead>\n",
       "  <tbody>\n",
       "    <tr>\n",
       "      <th>0</th>\n",
       "      <td>C1010011</td>\n",
       "      <td>F</td>\n",
       "    </tr>\n",
       "    <tr>\n",
       "      <th>1</th>\n",
       "      <td>C1010012</td>\n",
       "      <td>M</td>\n",
       "    </tr>\n",
       "    <tr>\n",
       "      <th>2</th>\n",
       "      <td>C1010014</td>\n",
       "      <td>F</td>\n",
       "    </tr>\n",
       "    <tr>\n",
       "      <th>3</th>\n",
       "      <td>C1010018</td>\n",
       "      <td>F</td>\n",
       "    </tr>\n",
       "    <tr>\n",
       "      <th>4</th>\n",
       "      <td>C1010024</td>\n",
       "      <td>M</td>\n",
       "    </tr>\n",
       "    <tr>\n",
       "      <th>...</th>\n",
       "      <td>...</td>\n",
       "      <td>...</td>\n",
       "    </tr>\n",
       "    <tr>\n",
       "      <th>838556</th>\n",
       "      <td>C9099836</td>\n",
       "      <td>M</td>\n",
       "    </tr>\n",
       "    <tr>\n",
       "      <th>838557</th>\n",
       "      <td>C9099877</td>\n",
       "      <td>M</td>\n",
       "    </tr>\n",
       "    <tr>\n",
       "      <th>838558</th>\n",
       "      <td>C9099919</td>\n",
       "      <td>M</td>\n",
       "    </tr>\n",
       "    <tr>\n",
       "      <th>838559</th>\n",
       "      <td>C9099941</td>\n",
       "      <td>M</td>\n",
       "    </tr>\n",
       "    <tr>\n",
       "      <th>838560</th>\n",
       "      <td>C9099956</td>\n",
       "      <td>M</td>\n",
       "    </tr>\n",
       "  </tbody>\n",
       "</table>\n",
       "<p>838561 rows × 2 columns</p>\n",
       "</div>"
      ],
      "text/plain": [
       "       CustomerID CustGender\n",
       "0        C1010011          F\n",
       "1        C1010012          M\n",
       "2        C1010014          F\n",
       "3        C1010018          F\n",
       "4        C1010024          M\n",
       "...           ...        ...\n",
       "838556   C9099836          M\n",
       "838557   C9099877          M\n",
       "838558   C9099919          M\n",
       "838559   C9099941          M\n",
       "838560   C9099956          M\n",
       "\n",
       "[838561 rows x 2 columns]"
      ]
     },
     "execution_count": 162,
     "metadata": {},
     "output_type": "execute_result"
    }
   ],
   "source": [
    "data_gender = data_gender.reset_index() \n",
    "data_gender"
   ]
  },
  {
   "cell_type": "code",
   "execution_count": 163,
   "metadata": {},
   "outputs": [],
   "source": [
    "# Most common location of the customer\n",
    "data_location = data.groupby(['CustomerID'])['CustLocation'].agg(lambda x: pd.Series.mode(x)) # group by \n",
    "\n",
    "data_location = pd.DataFrame(data_location)"
   ]
  },
  {
   "cell_type": "code",
   "execution_count": 164,
   "metadata": {},
   "outputs": [
    {
     "data": {
      "text/html": [
       "<div>\n",
       "<style scoped>\n",
       "    .dataframe tbody tr th:only-of-type {\n",
       "        vertical-align: middle;\n",
       "    }\n",
       "\n",
       "    .dataframe tbody tr th {\n",
       "        vertical-align: top;\n",
       "    }\n",
       "\n",
       "    .dataframe thead th {\n",
       "        text-align: right;\n",
       "    }\n",
       "</style>\n",
       "<table border=\"1\" class=\"dataframe\">\n",
       "  <thead>\n",
       "    <tr style=\"text-align: right;\">\n",
       "      <th></th>\n",
       "      <th>CustomerID</th>\n",
       "      <th>CustLocation</th>\n",
       "    </tr>\n",
       "  </thead>\n",
       "  <tbody>\n",
       "    <tr>\n",
       "      <th>0</th>\n",
       "      <td>C1010011</td>\n",
       "      <td>NEW DELHI</td>\n",
       "    </tr>\n",
       "    <tr>\n",
       "      <th>1</th>\n",
       "      <td>C1010012</td>\n",
       "      <td>MUMBAI</td>\n",
       "    </tr>\n",
       "    <tr>\n",
       "      <th>2</th>\n",
       "      <td>C1010014</td>\n",
       "      <td>MUMBAI</td>\n",
       "    </tr>\n",
       "    <tr>\n",
       "      <th>3</th>\n",
       "      <td>C1010018</td>\n",
       "      <td>CHAMPARAN</td>\n",
       "    </tr>\n",
       "    <tr>\n",
       "      <th>4</th>\n",
       "      <td>C1010024</td>\n",
       "      <td>KOLKATA</td>\n",
       "    </tr>\n",
       "    <tr>\n",
       "      <th>...</th>\n",
       "      <td>...</td>\n",
       "      <td>...</td>\n",
       "    </tr>\n",
       "    <tr>\n",
       "      <th>838556</th>\n",
       "      <td>C9099836</td>\n",
       "      <td>BHIWANDI</td>\n",
       "    </tr>\n",
       "    <tr>\n",
       "      <th>838557</th>\n",
       "      <td>C9099877</td>\n",
       "      <td>BANGALORE</td>\n",
       "    </tr>\n",
       "    <tr>\n",
       "      <th>838558</th>\n",
       "      <td>C9099919</td>\n",
       "      <td>GUNTUR</td>\n",
       "    </tr>\n",
       "    <tr>\n",
       "      <th>838559</th>\n",
       "      <td>C9099941</td>\n",
       "      <td>CHENNAI</td>\n",
       "    </tr>\n",
       "    <tr>\n",
       "      <th>838560</th>\n",
       "      <td>C9099956</td>\n",
       "      <td>MUSSOORIE</td>\n",
       "    </tr>\n",
       "  </tbody>\n",
       "</table>\n",
       "<p>838561 rows × 2 columns</p>\n",
       "</div>"
      ],
      "text/plain": [
       "       CustomerID CustLocation\n",
       "0        C1010011    NEW DELHI\n",
       "1        C1010012       MUMBAI\n",
       "2        C1010014       MUMBAI\n",
       "3        C1010018    CHAMPARAN\n",
       "4        C1010024      KOLKATA\n",
       "...           ...          ...\n",
       "838556   C9099836     BHIWANDI\n",
       "838557   C9099877    BANGALORE\n",
       "838558   C9099919       GUNTUR\n",
       "838559   C9099941      CHENNAI\n",
       "838560   C9099956    MUSSOORIE\n",
       "\n",
       "[838561 rows x 2 columns]"
      ]
     },
     "execution_count": 164,
     "metadata": {},
     "output_type": "execute_result"
    }
   ],
   "source": [
    "for idx in data_location.index:\n",
    "    if (len(data_location.loc[idx][0]) == 2 or len(data_location.loc[idx][0]) == 3 or len(data_location.loc[idx][0]) == 4): # 2 or 3 because there are examples where the mode has 2 (bimodal) or 3 values. When this happen, we take the first occurence\n",
    "        data_location.loc[idx] = data_location.loc[idx][0][0]\n",
    "        #print(data_location.loc[idx][0][0])\n",
    "\n",
    "data_location = pd.DataFrame(data_location)\n",
    "data_location = data_location.reset_index() \n",
    "data_location"
   ]
  },
  {
   "cell_type": "code",
   "execution_count": 183,
   "metadata": {},
   "outputs": [
    {
     "name": "stdout",
     "output_type": "stream",
     "text": [
      "838561\n",
      "838561\n",
      "838561\n",
      "838561\n",
      "838561\n",
      "838561\n",
      "838561\n"
     ]
    },
    {
     "data": {
      "text/html": [
       "<div>\n",
       "<style scoped>\n",
       "    .dataframe tbody tr th:only-of-type {\n",
       "        vertical-align: middle;\n",
       "    }\n",
       "\n",
       "    .dataframe tbody tr th {\n",
       "        vertical-align: top;\n",
       "    }\n",
       "\n",
       "    .dataframe thead th {\n",
       "        text-align: right;\n",
       "    }\n",
       "</style>\n",
       "<table border=\"1\" class=\"dataframe\">\n",
       "  <thead>\n",
       "    <tr style=\"text-align: right;\">\n",
       "      <th></th>\n",
       "      <th>CustomerID</th>\n",
       "      <th>Number_Transactions</th>\n",
       "      <th>Number_Transactions&gt;100</th>\n",
       "      <th>Average_Amount_Transactions</th>\n",
       "      <th>Average_Balance</th>\n",
       "      <th>Utilisation</th>\n",
       "      <th>CustGender</th>\n",
       "      <th>CustLocation</th>\n",
       "    </tr>\n",
       "  </thead>\n",
       "  <tbody>\n",
       "    <tr>\n",
       "      <th>0</th>\n",
       "      <td>C1010011</td>\n",
       "      <td>2</td>\n",
       "      <td>2</td>\n",
       "      <td>2553.0</td>\n",
       "      <td>76340.635</td>\n",
       "      <td>73787.635</td>\n",
       "      <td>F</td>\n",
       "      <td>NEW DELHI</td>\n",
       "    </tr>\n",
       "    <tr>\n",
       "      <th>1</th>\n",
       "      <td>C1010012</td>\n",
       "      <td>1</td>\n",
       "      <td>1</td>\n",
       "      <td>1499.0</td>\n",
       "      <td>24204.490</td>\n",
       "      <td>22705.490</td>\n",
       "      <td>M</td>\n",
       "      <td>MUMBAI</td>\n",
       "    </tr>\n",
       "    <tr>\n",
       "      <th>2</th>\n",
       "      <td>C1010014</td>\n",
       "      <td>2</td>\n",
       "      <td>2</td>\n",
       "      <td>727.5</td>\n",
       "      <td>100112.950</td>\n",
       "      <td>99385.450</td>\n",
       "      <td>F</td>\n",
       "      <td>MUMBAI</td>\n",
       "    </tr>\n",
       "    <tr>\n",
       "      <th>3</th>\n",
       "      <td>C1010018</td>\n",
       "      <td>1</td>\n",
       "      <td>0</td>\n",
       "      <td>30.0</td>\n",
       "      <td>496.180</td>\n",
       "      <td>466.180</td>\n",
       "      <td>F</td>\n",
       "      <td>CHAMPARAN</td>\n",
       "    </tr>\n",
       "    <tr>\n",
       "      <th>4</th>\n",
       "      <td>C1010024</td>\n",
       "      <td>1</td>\n",
       "      <td>1</td>\n",
       "      <td>5000.0</td>\n",
       "      <td>87058.650</td>\n",
       "      <td>82058.650</td>\n",
       "      <td>M</td>\n",
       "      <td>KOLKATA</td>\n",
       "    </tr>\n",
       "  </tbody>\n",
       "</table>\n",
       "</div>"
      ],
      "text/plain": [
       "  CustomerID  Number_Transactions  Number_Transactions>100  \\\n",
       "0   C1010011                    2                        2   \n",
       "1   C1010012                    1                        1   \n",
       "2   C1010014                    2                        2   \n",
       "3   C1010018                    1                        0   \n",
       "4   C1010024                    1                        1   \n",
       "\n",
       "   Average_Amount_Transactions  Average_Balance  Utilisation CustGender  \\\n",
       "0                       2553.0        76340.635    73787.635          F   \n",
       "1                       1499.0        24204.490    22705.490          M   \n",
       "2                        727.5       100112.950    99385.450          F   \n",
       "3                         30.0          496.180      466.180          F   \n",
       "4                       5000.0        87058.650    82058.650          M   \n",
       "\n",
       "  CustLocation  \n",
       "0    NEW DELHI  \n",
       "1       MUMBAI  \n",
       "2       MUMBAI  \n",
       "3    CHAMPARAN  \n",
       "4      KOLKATA  "
      ]
     },
     "execution_count": 183,
     "metadata": {},
     "output_type": "execute_result"
    }
   ],
   "source": [
    "# Let's merge them togheter. We check they have the same number of rows:\n",
    "print(len(data_num_trans))\n",
    "print(len(data_100))\n",
    "print(len(data_average_trans))\n",
    "print(len(data_average_balance))\n",
    "print(len(data_utilisation))\n",
    "print(len(data_gender))\n",
    "print(len(data_location))\n",
    "\n",
    "# Perfect. Now we can merge them togheter:\n",
    "# First of all, we convert them in a pandas DataFrame:\n",
    "one_col_data = [data_num_trans, data_100, data_average_trans, data_average_balance, data_utilisation, data_gender, data_location]\n",
    "\n",
    "for dataset in one_col_data:\n",
    "    dataset = pd.DataFrame(dataset)\n",
    "\n",
    "# Now we create a new dataset:\n",
    "data_small['Number_Transactions>100'] = data_100['Number_Transactions>100']\n",
    "data_small['Average_Amount_Transactions'] = data_average_trans['Average_Amount_Transactions']\n",
    "data_small['Average_Balance'] = data_average_balance['Average_Balance']\n",
    "data_small['Utilisation'] = data_utilisation['Utilisation']\n",
    "data_small['CustGender'] = data_gender['CustGender']\n",
    "data_small['CustLocation'] = data_location['CustLocation']\n",
    "\n",
    "data_small.head()"
   ]
  },
  {
   "cell_type": "code",
   "execution_count": 184,
   "metadata": {},
   "outputs": [],
   "source": [
    "data_small.to_csv('/Users/simonefacchiano/Desktop/Data Science/ADM/data_small.csv') "
   ]
  },
  {
   "cell_type": "markdown",
   "metadata": {},
   "source": [
    "### 2.1.3. Add 20 more features"
   ]
  },
  {
   "cell_type": "code",
   "execution_count": 7,
   "metadata": {},
   "outputs": [
    {
     "data": {
      "text/html": [
       "<div>\n",
       "<style scoped>\n",
       "    .dataframe tbody tr th:only-of-type {\n",
       "        vertical-align: middle;\n",
       "    }\n",
       "\n",
       "    .dataframe tbody tr th {\n",
       "        vertical-align: top;\n",
       "    }\n",
       "\n",
       "    .dataframe thead th {\n",
       "        text-align: right;\n",
       "    }\n",
       "</style>\n",
       "<table border=\"1\" class=\"dataframe\">\n",
       "  <thead>\n",
       "    <tr style=\"text-align: right;\">\n",
       "      <th></th>\n",
       "      <th>CustomerID</th>\n",
       "      <th>Number_Transactions</th>\n",
       "      <th>Number_Transactions&gt;100</th>\n",
       "      <th>Average_Amount_Transactions</th>\n",
       "      <th>Average_Balance</th>\n",
       "      <th>Utilisation</th>\n",
       "      <th>CustGender</th>\n",
       "      <th>CustLocation</th>\n",
       "    </tr>\n",
       "  </thead>\n",
       "  <tbody>\n",
       "    <tr>\n",
       "      <th>0</th>\n",
       "      <td>C1010011</td>\n",
       "      <td>2</td>\n",
       "      <td>2</td>\n",
       "      <td>2553.0</td>\n",
       "      <td>76340.635</td>\n",
       "      <td>73787.635</td>\n",
       "      <td>F</td>\n",
       "      <td>NEW DELHI</td>\n",
       "    </tr>\n",
       "    <tr>\n",
       "      <th>1</th>\n",
       "      <td>C1010012</td>\n",
       "      <td>1</td>\n",
       "      <td>1</td>\n",
       "      <td>1499.0</td>\n",
       "      <td>24204.490</td>\n",
       "      <td>22705.490</td>\n",
       "      <td>M</td>\n",
       "      <td>MUMBAI</td>\n",
       "    </tr>\n",
       "    <tr>\n",
       "      <th>2</th>\n",
       "      <td>C1010014</td>\n",
       "      <td>2</td>\n",
       "      <td>2</td>\n",
       "      <td>727.5</td>\n",
       "      <td>100112.950</td>\n",
       "      <td>99385.450</td>\n",
       "      <td>F</td>\n",
       "      <td>MUMBAI</td>\n",
       "    </tr>\n",
       "    <tr>\n",
       "      <th>3</th>\n",
       "      <td>C1010018</td>\n",
       "      <td>1</td>\n",
       "      <td>0</td>\n",
       "      <td>30.0</td>\n",
       "      <td>496.180</td>\n",
       "      <td>466.180</td>\n",
       "      <td>F</td>\n",
       "      <td>CHAMPARAN</td>\n",
       "    </tr>\n",
       "    <tr>\n",
       "      <th>4</th>\n",
       "      <td>C1010024</td>\n",
       "      <td>1</td>\n",
       "      <td>1</td>\n",
       "      <td>5000.0</td>\n",
       "      <td>87058.650</td>\n",
       "      <td>82058.650</td>\n",
       "      <td>M</td>\n",
       "      <td>KOLKATA</td>\n",
       "    </tr>\n",
       "  </tbody>\n",
       "</table>\n",
       "</div>"
      ],
      "text/plain": [
       "  CustomerID  Number_Transactions  Number_Transactions>100  \\\n",
       "0   C1010011                    2                        2   \n",
       "1   C1010012                    1                        1   \n",
       "2   C1010014                    2                        2   \n",
       "3   C1010018                    1                        0   \n",
       "4   C1010024                    1                        1   \n",
       "\n",
       "   Average_Amount_Transactions  Average_Balance  Utilisation CustGender  \\\n",
       "0                       2553.0        76340.635    73787.635          F   \n",
       "1                       1499.0        24204.490    22705.490          M   \n",
       "2                        727.5       100112.950    99385.450          F   \n",
       "3                         30.0          496.180      466.180          F   \n",
       "4                       5000.0        87058.650    82058.650          M   \n",
       "\n",
       "  CustLocation  \n",
       "0    NEW DELHI  \n",
       "1       MUMBAI  \n",
       "2       MUMBAI  \n",
       "3    CHAMPARAN  \n",
       "4      KOLKATA  "
      ]
     },
     "execution_count": 7,
     "metadata": {},
     "output_type": "execute_result"
    }
   ],
   "source": [
    "data_small = pd.read_csv('/Users/simonefacchiano/Desktop/Data Science/ADM/ADM HW4/data_small.csv')\n",
    "data_small = data_small.drop('Unnamed: 0', axis=1)\n",
    "data_small.head()"
   ]
  },
  {
   "cell_type": "code",
   "execution_count": 8,
   "metadata": {},
   "outputs": [
    {
     "name": "stdout",
     "output_type": "stream",
     "text": [
      "<class 'pandas.core.frame.DataFrame'>\n",
      "RangeIndex: 838561 entries, 0 to 838560\n",
      "Data columns (total 8 columns):\n",
      " #   Column                       Non-Null Count   Dtype  \n",
      "---  ------                       --------------   -----  \n",
      " 0   CustomerID                   838561 non-null  object \n",
      " 1   Number_Transactions          838561 non-null  int64  \n",
      " 2   Number_Transactions>100      838561 non-null  int64  \n",
      " 3   Average_Amount_Transactions  838561 non-null  float64\n",
      " 4   Average_Balance              838561 non-null  float64\n",
      " 5   Utilisation                  838561 non-null  float64\n",
      " 6   CustGender                   838561 non-null  object \n",
      " 7   CustLocation                 838561 non-null  object \n",
      "dtypes: float64(3), int64(2), object(3)\n",
      "memory usage: 51.2+ MB\n"
     ]
    }
   ],
   "source": [
    "data_small.info()"
   ]
  },
  {
   "cell_type": "code",
   "execution_count": 30,
   "metadata": {},
   "outputs": [],
   "source": [
    "# Maximum transaction (1/20):\n",
    "data_small[\"Max_Amount_Transactions\"] = data.groupby([\"CustomerID\"])[\"TransactionAmount\"].max().reset_index(name=\"Max_Amount_Transactions\")['Max_Amount_Transactions']"
   ]
  },
  {
   "cell_type": "code",
   "execution_count": 31,
   "metadata": {},
   "outputs": [],
   "source": [
    "# Minimum transaction (2/20):\n",
    "data_small[\"Min_Amount_Transactions\"] = data.groupby([\"CustomerID\"])[\"TransactionAmount\"].min().reset_index(name=\"Min_Amount_Transactions\")['Min_Amount_Transactions']"
   ]
  },
  {
   "cell_type": "code",
   "execution_count": 32,
   "metadata": {},
   "outputs": [
    {
     "data": {
      "text/html": [
       "<div>\n",
       "<style scoped>\n",
       "    .dataframe tbody tr th:only-of-type {\n",
       "        vertical-align: middle;\n",
       "    }\n",
       "\n",
       "    .dataframe tbody tr th {\n",
       "        vertical-align: top;\n",
       "    }\n",
       "\n",
       "    .dataframe thead th {\n",
       "        text-align: right;\n",
       "    }\n",
       "</style>\n",
       "<table border=\"1\" class=\"dataframe\">\n",
       "  <thead>\n",
       "    <tr style=\"text-align: right;\">\n",
       "      <th></th>\n",
       "      <th>TransactionID</th>\n",
       "      <th>CustomerID</th>\n",
       "      <th>CustomerDOB</th>\n",
       "      <th>CustGender</th>\n",
       "      <th>CustLocation</th>\n",
       "      <th>CustAccountBalance</th>\n",
       "      <th>TransactionDate</th>\n",
       "      <th>TransactionTime</th>\n",
       "      <th>TransactionAmount</th>\n",
       "      <th>CustomerAge</th>\n",
       "    </tr>\n",
       "  </thead>\n",
       "  <tbody>\n",
       "    <tr>\n",
       "      <th>31336</th>\n",
       "      <td>T33671</td>\n",
       "      <td>C1010011</td>\n",
       "      <td>1992-08-19</td>\n",
       "      <td>F</td>\n",
       "      <td>NOIDA</td>\n",
       "      <td>32500.73</td>\n",
       "      <td>2016-09-26</td>\n",
       "      <td>1900-01-01 12:38:13</td>\n",
       "      <td>4750.0</td>\n",
       "      <td>30</td>\n",
       "    </tr>\n",
       "    <tr>\n",
       "      <th>162622</th>\n",
       "      <td>T173509</td>\n",
       "      <td>C1010011</td>\n",
       "      <td>1983-05-08</td>\n",
       "      <td>M</td>\n",
       "      <td>NEW DELHI</td>\n",
       "      <td>120180.54</td>\n",
       "      <td>2016-09-08</td>\n",
       "      <td>1900-01-01 01:12:29</td>\n",
       "      <td>356.0</td>\n",
       "      <td>40</td>\n",
       "    </tr>\n",
       "  </tbody>\n",
       "</table>\n",
       "</div>"
      ],
      "text/plain": [
       "       TransactionID CustomerID CustomerDOB CustGender CustLocation  \\\n",
       "31336         T33671   C1010011  1992-08-19          F        NOIDA   \n",
       "162622       T173509   C1010011  1983-05-08          M    NEW DELHI   \n",
       "\n",
       "        CustAccountBalance TransactionDate     TransactionTime  \\\n",
       "31336             32500.73      2016-09-26 1900-01-01 12:38:13   \n",
       "162622           120180.54      2016-09-08 1900-01-01 01:12:29   \n",
       "\n",
       "        TransactionAmount  CustomerAge  \n",
       "31336              4750.0           30  \n",
       "162622              356.0           40  "
      ]
     },
     "execution_count": 32,
     "metadata": {},
     "output_type": "execute_result"
    }
   ],
   "source": [
    "data[data['CustomerID'] == 'C1010011'] # C1010014"
   ]
  },
  {
   "cell_type": "code",
   "execution_count": 33,
   "metadata": {},
   "outputs": [],
   "source": [
    "# Customer Age (we consider the first value in the dataset) --> TODO: take the most common value, it takes too long (3/20):\n",
    "data_age = pd.DataFrame(data.groupby(['CustomerID'])['CustomerAge'].first())\n",
    "data_age = data_age.reset_index() \n",
    "data_small['Customer_Age'] = data_age['CustomerAge']"
   ]
  },
  {
   "cell_type": "code",
   "execution_count": 34,
   "metadata": {},
   "outputs": [],
   "source": [
    "# Max Percentage Transaction (4/20):\n",
    "data_small['Max_%_Transaction'] = round(data_small['Max_Amount_Transactions'] / data_small['Average_Balance'] * 100, 2)"
   ]
  },
  {
   "cell_type": "code",
   "execution_count": 35,
   "metadata": {},
   "outputs": [],
   "source": [
    "# Last Transaction Date (5/20):\n",
    "data_last_trans = pd.DataFrame(data.groupby(['CustomerID'])['TransactionDate'].max())\n",
    "data_last_trans = data_last_trans.reset_index()\n",
    "data_small['Last_Transaction'] = data_last_trans['TransactionDate']"
   ]
  },
  {
   "cell_type": "code",
   "execution_count": 36,
   "metadata": {},
   "outputs": [],
   "source": [
    "# Last Transaction Day (6/20):\n",
    "data_small['Last_Day_Transaction'] = data_small.Last_Transaction.dt.day_name()"
   ]
  },
  {
   "cell_type": "code",
   "execution_count": 43,
   "metadata": {},
   "outputs": [],
   "source": [
    "# Minimum Account Balance (7/20)\n",
    "data_min_balance = data.groupby([\"CustomerID\"])[\"CustAccountBalance\"].min().reset_index(name=\"Minimum_Balance\")\n",
    "data_small['Minimum_Balance'] = data_min_balance['Minimum_Balance']"
   ]
  },
  {
   "cell_type": "code",
   "execution_count": 45,
   "metadata": {},
   "outputs": [
    {
     "ename": "NameError",
     "evalue": "name 'data_100' is not defined",
     "output_type": "error",
     "traceback": [
      "\u001b[0;31m---------------------------------------------------------------------------\u001b[0m",
      "\u001b[0;31mNameError\u001b[0m                                 Traceback (most recent call last)",
      "\u001b[1;32m/Users/simonefacchiano/Desktop/Data Science/ADM/ADM HW4/HW4.ipynb Cella 64\u001b[0m in \u001b[0;36m<cell line: 4>\u001b[0;34m()\u001b[0m\n\u001b[1;32m      <a href='vscode-notebook-cell:/Users/simonefacchiano/Desktop/Data%20Science/ADM/ADM%20HW4/HW4.ipynb#Y235sZmlsZQ%3D%3D?line=0'>1</a>\u001b[0m \u001b[39m# Number of transactions with a balance bigger than 1000 USD (8/20)\u001b[39;00m\n\u001b[1;32m      <a href='vscode-notebook-cell:/Users/simonefacchiano/Desktop/Data%20Science/ADM/ADM%20HW4/HW4.ipynb#Y235sZmlsZQ%3D%3D?line=2'>3</a>\u001b[0m data_1000 \u001b[39m=\u001b[39m data\u001b[39m.\u001b[39mgroupby([\u001b[39m'\u001b[39m\u001b[39mCustomerID\u001b[39m\u001b[39m'\u001b[39m])\u001b[39m.\u001b[39mapply(  \u001b[39mlambda\u001b[39;00m x:  x[x[\u001b[39m'\u001b[39m\u001b[39mTransactionAmount\u001b[39m\u001b[39m'\u001b[39m] \u001b[39m>\u001b[39m \u001b[39m1000\u001b[39m][\u001b[39m'\u001b[39m\u001b[39mTransactionAmount\u001b[39m\u001b[39m'\u001b[39m]\u001b[39m.\u001b[39mcount()  )\u001b[39m.\u001b[39mreset_index(name\u001b[39m=\u001b[39m\u001b[39m\"\u001b[39m\u001b[39mNumber_Transactions>1000\u001b[39m\u001b[39m\"\u001b[39m)\n\u001b[0;32m----> <a href='vscode-notebook-cell:/Users/simonefacchiano/Desktop/Data%20Science/ADM/ADM%20HW4/HW4.ipynb#Y235sZmlsZQ%3D%3D?line=3'>4</a>\u001b[0m data_100\n",
      "\u001b[0;31mNameError\u001b[0m: name 'data_100' is not defined"
     ]
    }
   ],
   "source": [
    "# Number of transactions with a balance bigger than 1000 USD (8/20)\n",
    "\n",
    "data_1000 = data.groupby(['CustomerID']).apply(  lambda x:  x[x['TransactionAmount'] > 81638,50]['TransactionAmount'].count()  ).reset_index(name=\"Number_Transactions>1000\")\n",
    "\n",
    "# 3m 16s"
   ]
  },
  {
   "cell_type": "code",
   "execution_count": 47,
   "metadata": {},
   "outputs": [],
   "source": [
    "data_small['Number_Transactions>1000'] = data_1000['Number_Transactions>1000'] # TODO: metti nella cella sopra"
   ]
  },
  {
   "cell_type": "code",
   "execution_count": 112,
   "metadata": {},
   "outputs": [
    {
     "ename": "KeyboardInterrupt",
     "evalue": "",
     "output_type": "error",
     "traceback": [
      "\u001b[0;31m---------------------------------------------------------------------------\u001b[0m",
      "\u001b[0;31mKeyboardInterrupt\u001b[0m                         Traceback (most recent call last)",
      "\u001b[1;32m/Users/simonefacchiano/Desktop/Data Science/ADM/ADM HW4/HW4.ipynb Cella 66\u001b[0m in \u001b[0;36m<cell line: 6>\u001b[0;34m()\u001b[0m\n\u001b[1;32m      <a href='vscode-notebook-cell:/Users/simonefacchiano/Desktop/Data%20Science/ADM/ADM%20HW4/HW4.ipynb#Y114sZmlsZQ%3D%3D?line=3'>4</a>\u001b[0m last_hour_trans \u001b[39m=\u001b[39m []\n\u001b[1;32m      <a href='vscode-notebook-cell:/Users/simonefacchiano/Desktop/Data%20Science/ADM/ADM%20HW4/HW4.ipynb#Y114sZmlsZQ%3D%3D?line=5'>6</a>\u001b[0m \u001b[39mfor\u001b[39;00m \u001b[39mid\u001b[39m, date \u001b[39min\u001b[39;00m itertools\u001b[39m.\u001b[39mproduct(data_small[\u001b[39m'\u001b[39m\u001b[39mCustomerID\u001b[39m\u001b[39m'\u001b[39m], data_small[\u001b[39m'\u001b[39m\u001b[39mLast_Transaction\u001b[39m\u001b[39m'\u001b[39m]):\n\u001b[0;32m----> <a href='vscode-notebook-cell:/Users/simonefacchiano/Desktop/Data%20Science/ADM/ADM%20HW4/HW4.ipynb#Y114sZmlsZQ%3D%3D?line=6'>7</a>\u001b[0m     \u001b[39mif\u001b[39;00m((data[\u001b[39m'\u001b[39;49m\u001b[39mCustomerID\u001b[39;49m\u001b[39m'\u001b[39;49m] \u001b[39m==\u001b[39;49m \u001b[39mid\u001b[39;49m) \u001b[39m&\u001b[39m (data[\u001b[39m'\u001b[39m\u001b[39mTransactionDate\u001b[39m\u001b[39m'\u001b[39m] \u001b[39m==\u001b[39m date))\u001b[39m.\u001b[39many():\n\u001b[1;32m      <a href='vscode-notebook-cell:/Users/simonefacchiano/Desktop/Data%20Science/ADM/ADM%20HW4/HW4.ipynb#Y114sZmlsZQ%3D%3D?line=7'>8</a>\u001b[0m         last_hour_trans\u001b[39m.\u001b[39mappend(data[ (data[\u001b[39m'\u001b[39m\u001b[39mCustomerID\u001b[39m\u001b[39m'\u001b[39m] \u001b[39m==\u001b[39m \u001b[39mid\u001b[39m) \u001b[39m&\u001b[39m (data[\u001b[39m'\u001b[39m\u001b[39mTransactionDate\u001b[39m\u001b[39m'\u001b[39m] \u001b[39m==\u001b[39m date)][\u001b[39m'\u001b[39m\u001b[39mTransactionTime\u001b[39m\u001b[39m'\u001b[39m]\u001b[39m.\u001b[39mdt\u001b[39m.\u001b[39mhour\u001b[39m.\u001b[39mitem())\n\u001b[1;32m     <a href='vscode-notebook-cell:/Users/simonefacchiano/Desktop/Data%20Science/ADM/ADM%20HW4/HW4.ipynb#Y114sZmlsZQ%3D%3D?line=10'>11</a>\u001b[0m \u001b[39m'''\u001b[39;00m\n\u001b[1;32m     <a href='vscode-notebook-cell:/Users/simonefacchiano/Desktop/Data%20Science/ADM/ADM%20HW4/HW4.ipynb#Y114sZmlsZQ%3D%3D?line=11'>12</a>\u001b[0m \u001b[39mfor id in data_small['CustomerID']:\u001b[39;00m\n\u001b[1;32m     <a href='vscode-notebook-cell:/Users/simonefacchiano/Desktop/Data%20Science/ADM/ADM%20HW4/HW4.ipynb#Y114sZmlsZQ%3D%3D?line=12'>13</a>\u001b[0m \u001b[39m    #print(id)\u001b[39;00m\n\u001b[0;32m   (...)\u001b[0m\n\u001b[1;32m     <a href='vscode-notebook-cell:/Users/simonefacchiano/Desktop/Data%20Science/ADM/ADM%20HW4/HW4.ipynb#Y114sZmlsZQ%3D%3D?line=15'>16</a>\u001b[0m \u001b[39m        last_hour_trans.append( data[ (data['CustomerID'] == id) & (data['TransactionDate'] == date) ]['TransactionTime'].dt.hour)\u001b[39;00m\n\u001b[1;32m     <a href='vscode-notebook-cell:/Users/simonefacchiano/Desktop/Data%20Science/ADM/ADM%20HW4/HW4.ipynb#Y114sZmlsZQ%3D%3D?line=16'>17</a>\u001b[0m \u001b[39m        '''\u001b[39;00m\n",
      "File \u001b[0;32m~/opt/anaconda3/lib/python3.9/site-packages/pandas/core/ops/common.py:70\u001b[0m, in \u001b[0;36m_unpack_zerodim_and_defer.<locals>.new_method\u001b[0;34m(self, other)\u001b[0m\n\u001b[1;32m     66\u001b[0m             \u001b[39mreturn\u001b[39;00m \u001b[39mNotImplemented\u001b[39m\n\u001b[1;32m     68\u001b[0m other \u001b[39m=\u001b[39m item_from_zerodim(other)\n\u001b[0;32m---> 70\u001b[0m \u001b[39mreturn\u001b[39;00m method(\u001b[39mself\u001b[39;49m, other)\n",
      "File \u001b[0;32m~/opt/anaconda3/lib/python3.9/site-packages/pandas/core/arraylike.py:40\u001b[0m, in \u001b[0;36mOpsMixin.__eq__\u001b[0;34m(self, other)\u001b[0m\n\u001b[1;32m     38\u001b[0m \u001b[39m@unpack_zerodim_and_defer\u001b[39m(\u001b[39m\"\u001b[39m\u001b[39m__eq__\u001b[39m\u001b[39m\"\u001b[39m)\n\u001b[1;32m     39\u001b[0m \u001b[39mdef\u001b[39;00m \u001b[39m__eq__\u001b[39m(\u001b[39mself\u001b[39m, other):\n\u001b[0;32m---> 40\u001b[0m     \u001b[39mreturn\u001b[39;00m \u001b[39mself\u001b[39;49m\u001b[39m.\u001b[39;49m_cmp_method(other, operator\u001b[39m.\u001b[39;49meq)\n",
      "File \u001b[0;32m~/opt/anaconda3/lib/python3.9/site-packages/pandas/core/series.py:5623\u001b[0m, in \u001b[0;36mSeries._cmp_method\u001b[0;34m(self, other, op)\u001b[0m\n\u001b[1;32m   5620\u001b[0m rvalues \u001b[39m=\u001b[39m extract_array(other, extract_numpy\u001b[39m=\u001b[39m\u001b[39mTrue\u001b[39;00m, extract_range\u001b[39m=\u001b[39m\u001b[39mTrue\u001b[39;00m)\n\u001b[1;32m   5622\u001b[0m \u001b[39mwith\u001b[39;00m np\u001b[39m.\u001b[39merrstate(\u001b[39mall\u001b[39m\u001b[39m=\u001b[39m\u001b[39m\"\u001b[39m\u001b[39mignore\u001b[39m\u001b[39m\"\u001b[39m):\n\u001b[0;32m-> 5623\u001b[0m     res_values \u001b[39m=\u001b[39m ops\u001b[39m.\u001b[39;49mcomparison_op(lvalues, rvalues, op)\n\u001b[1;32m   5625\u001b[0m \u001b[39mreturn\u001b[39;00m \u001b[39mself\u001b[39m\u001b[39m.\u001b[39m_construct_result(res_values, name\u001b[39m=\u001b[39mres_name)\n",
      "File \u001b[0;32m~/opt/anaconda3/lib/python3.9/site-packages/pandas/core/ops/array_ops.py:283\u001b[0m, in \u001b[0;36mcomparison_op\u001b[0;34m(left, right, op)\u001b[0m\n\u001b[1;32m    280\u001b[0m     \u001b[39mreturn\u001b[39;00m invalid_comparison(lvalues, rvalues, op)\n\u001b[1;32m    282\u001b[0m \u001b[39melif\u001b[39;00m is_object_dtype(lvalues\u001b[39m.\u001b[39mdtype) \u001b[39mor\u001b[39;00m \u001b[39misinstance\u001b[39m(rvalues, \u001b[39mstr\u001b[39m):\n\u001b[0;32m--> 283\u001b[0m     res_values \u001b[39m=\u001b[39m comp_method_OBJECT_ARRAY(op, lvalues, rvalues)\n\u001b[1;32m    285\u001b[0m \u001b[39melse\u001b[39;00m:\n\u001b[1;32m    286\u001b[0m     res_values \u001b[39m=\u001b[39m _na_arithmetic_op(lvalues, rvalues, op, is_cmp\u001b[39m=\u001b[39m\u001b[39mTrue\u001b[39;00m)\n",
      "File \u001b[0;32m~/opt/anaconda3/lib/python3.9/site-packages/pandas/core/ops/array_ops.py:73\u001b[0m, in \u001b[0;36mcomp_method_OBJECT_ARRAY\u001b[0;34m(op, x, y)\u001b[0m\n\u001b[1;32m     71\u001b[0m     result \u001b[39m=\u001b[39m libops\u001b[39m.\u001b[39mvec_compare(x\u001b[39m.\u001b[39mravel(), y\u001b[39m.\u001b[39mravel(), op)\n\u001b[1;32m     72\u001b[0m \u001b[39melse\u001b[39;00m:\n\u001b[0;32m---> 73\u001b[0m     result \u001b[39m=\u001b[39m libops\u001b[39m.\u001b[39;49mscalar_compare(x\u001b[39m.\u001b[39;49mravel(), y, op)\n\u001b[1;32m     74\u001b[0m \u001b[39mreturn\u001b[39;00m result\u001b[39m.\u001b[39mreshape(x\u001b[39m.\u001b[39mshape)\n",
      "\u001b[0;31mKeyboardInterrupt\u001b[0m: "
     ]
    }
   ],
   "source": [
    "# Last Transaction Hour (//20):\n",
    "\n",
    "'''\n",
    "import itertools\n",
    "last_hour_trans = []\n",
    "\n",
    "for id, date in itertools.product(data_small['CustomerID'], data_small['Last_Transaction']):\n",
    "    if((data['CustomerID'] == id) & (data['TransactionDate'] == date)).any():\n",
    "        last_hour_trans.append(data[ (data['CustomerID'] == id) & (data['TransactionDate'] == date)]['TransactionTime'].dt.hour.item())\n",
    "\n",
    "\n",
    "\n",
    "for id in data_small['CustomerID']:\n",
    "    #print(id)\n",
    "    for date in data_small[data_small['CustomerID'] == id]['Last_Transaction']:\n",
    "        #print(date)\n",
    "        last_hour_trans.append( data[ (data['CustomerID'] == id) & (data['TransactionDate'] == date) ]['TransactionTime'].dt.hour)\n",
    "        \n",
    "\n",
    "data_small['Last_Hour_Trans'] = last_hour_trans\n",
    "'''"
   ]
  },
  {
   "cell_type": "code",
   "execution_count": 110,
   "metadata": {},
   "outputs": [
    {
     "data": {
      "text/plain": [
       "14"
      ]
     },
     "execution_count": 110,
     "metadata": {},
     "output_type": "execute_result"
    }
   ],
   "source": [
    "#if ((data['CustomerID'] == 'C1010024') & (data['TransactionDate'] == '2016-08-18')).any():\n",
    "    #print('YES')\n",
    "\n",
    "data[ (data['CustomerID'] == 'C1010024') & (data['TransactionDate'] == '2016-08-18') ]['TransactionTime'].dt.hour.item()"
   ]
  },
  {
   "cell_type": "code",
   "execution_count": 118,
   "metadata": {},
   "outputs": [],
   "source": [
    "# Last Transaction Month (9/20):\n",
    "\n",
    "data_small['Last_Month_Transaction'] = data_small.Last_Transaction.dt.month"
   ]
  },
  {
   "cell_type": "code",
   "execution_count": 120,
   "metadata": {},
   "outputs": [],
   "source": [
    "# Maximum Account Balance (10/20)\n",
    "data_min_balance = data.groupby([\"CustomerID\"])[\"CustAccountBalance\"].max().reset_index(name=\"Maximum_Balance\")\n",
    "data_small['Maximum_Balance'] = data_min_balance['Maximum_Balance']"
   ]
  },
  {
   "cell_type": "code",
   "execution_count": null,
   "metadata": {},
   "outputs": [],
   "source": [
    "''' \n",
    "# Day-Period Last Transaction (//20):\n",
    "fun = lambda x : 'Morning' if x.dt.hour in range(5, 15) elif ('AFternoon' if x in range(16, 19) else 'Night')\n",
    "'''"
   ]
  },
  {
   "cell_type": "code",
   "execution_count": 128,
   "metadata": {},
   "outputs": [],
   "source": [
    "# Minimum Utilisation (11/20):\n",
    "data_min_utilisation = data.groupby([\"CustomerID\"])[\"Utilisation\"].min().reset_index(name=\"Minimum_Utilisation\")\n",
    "data_small['Minimum_utilisation'] = data_min_utilisation[\"Minimum_Utilisation\"]"
   ]
  },
  {
   "cell_type": "code",
   "execution_count": 132,
   "metadata": {},
   "outputs": [
    {
     "data": {
      "text/html": [
       "<div>\n",
       "<style scoped>\n",
       "    .dataframe tbody tr th:only-of-type {\n",
       "        vertical-align: middle;\n",
       "    }\n",
       "\n",
       "    .dataframe tbody tr th {\n",
       "        vertical-align: top;\n",
       "    }\n",
       "\n",
       "    .dataframe thead th {\n",
       "        text-align: right;\n",
       "    }\n",
       "</style>\n",
       "<table border=\"1\" class=\"dataframe\">\n",
       "  <thead>\n",
       "    <tr style=\"text-align: right;\">\n",
       "      <th></th>\n",
       "      <th>CustomerID</th>\n",
       "      <th>Number_Transactions</th>\n",
       "      <th>Number_Transactions&gt;100</th>\n",
       "      <th>Average_Amount_Transactions</th>\n",
       "      <th>Average_Balance</th>\n",
       "      <th>Utilisation</th>\n",
       "      <th>CustGender</th>\n",
       "      <th>CustLocation</th>\n",
       "      <th>Max_Amount_Transactions</th>\n",
       "      <th>Min_Amount_Transactions</th>\n",
       "      <th>Customer_Age</th>\n",
       "      <th>Max_%_Transaction</th>\n",
       "      <th>Last_Transaction</th>\n",
       "      <th>Last_Day_Transaction</th>\n",
       "      <th>Minimum_Balance</th>\n",
       "      <th>Number_Transactions&gt;1000</th>\n",
       "      <th>Last_Month_Transaction</th>\n",
       "      <th>Maximum_Balance</th>\n",
       "      <th>Minimum_utilisation</th>\n",
       "      <th>Maximum_utilisation</th>\n",
       "    </tr>\n",
       "  </thead>\n",
       "  <tbody>\n",
       "    <tr>\n",
       "      <th>0</th>\n",
       "      <td>C1010011</td>\n",
       "      <td>2</td>\n",
       "      <td>2</td>\n",
       "      <td>2553.0</td>\n",
       "      <td>76340.635</td>\n",
       "      <td>73787.635</td>\n",
       "      <td>F</td>\n",
       "      <td>NEW DELHI</td>\n",
       "      <td>4750.0</td>\n",
       "      <td>356.0</td>\n",
       "      <td>30</td>\n",
       "      <td>6.22</td>\n",
       "      <td>2016-09-26</td>\n",
       "      <td>Monday</td>\n",
       "      <td>32500.73</td>\n",
       "      <td>1</td>\n",
       "      <td>9</td>\n",
       "      <td>120180.54</td>\n",
       "      <td>27750.73</td>\n",
       "      <td>119824.54</td>\n",
       "    </tr>\n",
       "    <tr>\n",
       "      <th>1</th>\n",
       "      <td>C1010012</td>\n",
       "      <td>1</td>\n",
       "      <td>1</td>\n",
       "      <td>1499.0</td>\n",
       "      <td>24204.490</td>\n",
       "      <td>22705.490</td>\n",
       "      <td>M</td>\n",
       "      <td>MUMBAI</td>\n",
       "      <td>1499.0</td>\n",
       "      <td>1499.0</td>\n",
       "      <td>28</td>\n",
       "      <td>6.19</td>\n",
       "      <td>2016-08-14</td>\n",
       "      <td>Sunday</td>\n",
       "      <td>24204.49</td>\n",
       "      <td>1</td>\n",
       "      <td>8</td>\n",
       "      <td>24204.49</td>\n",
       "      <td>22705.49</td>\n",
       "      <td>22705.49</td>\n",
       "    </tr>\n",
       "    <tr>\n",
       "      <th>2</th>\n",
       "      <td>C1010014</td>\n",
       "      <td>2</td>\n",
       "      <td>2</td>\n",
       "      <td>727.5</td>\n",
       "      <td>100112.950</td>\n",
       "      <td>99385.450</td>\n",
       "      <td>F</td>\n",
       "      <td>MUMBAI</td>\n",
       "      <td>1205.0</td>\n",
       "      <td>250.0</td>\n",
       "      <td>31</td>\n",
       "      <td>1.20</td>\n",
       "      <td>2016-07-08</td>\n",
       "      <td>Friday</td>\n",
       "      <td>38377.14</td>\n",
       "      <td>1</td>\n",
       "      <td>7</td>\n",
       "      <td>161848.76</td>\n",
       "      <td>37172.14</td>\n",
       "      <td>161598.76</td>\n",
       "    </tr>\n",
       "    <tr>\n",
       "      <th>3</th>\n",
       "      <td>C1010018</td>\n",
       "      <td>1</td>\n",
       "      <td>0</td>\n",
       "      <td>30.0</td>\n",
       "      <td>496.180</td>\n",
       "      <td>466.180</td>\n",
       "      <td>F</td>\n",
       "      <td>CHAMPARAN</td>\n",
       "      <td>30.0</td>\n",
       "      <td>30.0</td>\n",
       "      <td>33</td>\n",
       "      <td>6.05</td>\n",
       "      <td>2016-09-15</td>\n",
       "      <td>Thursday</td>\n",
       "      <td>496.18</td>\n",
       "      <td>0</td>\n",
       "      <td>9</td>\n",
       "      <td>496.18</td>\n",
       "      <td>466.18</td>\n",
       "      <td>466.18</td>\n",
       "    </tr>\n",
       "    <tr>\n",
       "      <th>4</th>\n",
       "      <td>C1010024</td>\n",
       "      <td>1</td>\n",
       "      <td>1</td>\n",
       "      <td>5000.0</td>\n",
       "      <td>87058.650</td>\n",
       "      <td>82058.650</td>\n",
       "      <td>M</td>\n",
       "      <td>KOLKATA</td>\n",
       "      <td>5000.0</td>\n",
       "      <td>5000.0</td>\n",
       "      <td>57</td>\n",
       "      <td>5.74</td>\n",
       "      <td>2016-08-18</td>\n",
       "      <td>Thursday</td>\n",
       "      <td>87058.65</td>\n",
       "      <td>1</td>\n",
       "      <td>8</td>\n",
       "      <td>87058.65</td>\n",
       "      <td>82058.65</td>\n",
       "      <td>82058.65</td>\n",
       "    </tr>\n",
       "  </tbody>\n",
       "</table>\n",
       "</div>"
      ],
      "text/plain": [
       "  CustomerID  Number_Transactions  Number_Transactions>100  \\\n",
       "0   C1010011                    2                        2   \n",
       "1   C1010012                    1                        1   \n",
       "2   C1010014                    2                        2   \n",
       "3   C1010018                    1                        0   \n",
       "4   C1010024                    1                        1   \n",
       "\n",
       "   Average_Amount_Transactions  Average_Balance  Utilisation CustGender  \\\n",
       "0                       2553.0        76340.635    73787.635          F   \n",
       "1                       1499.0        24204.490    22705.490          M   \n",
       "2                        727.5       100112.950    99385.450          F   \n",
       "3                         30.0          496.180      466.180          F   \n",
       "4                       5000.0        87058.650    82058.650          M   \n",
       "\n",
       "  CustLocation  Max_Amount_Transactions  Min_Amount_Transactions  \\\n",
       "0    NEW DELHI                   4750.0                    356.0   \n",
       "1       MUMBAI                   1499.0                   1499.0   \n",
       "2       MUMBAI                   1205.0                    250.0   \n",
       "3    CHAMPARAN                     30.0                     30.0   \n",
       "4      KOLKATA                   5000.0                   5000.0   \n",
       "\n",
       "   Customer_Age  Max_%_Transaction Last_Transaction Last_Day_Transaction  \\\n",
       "0            30               6.22       2016-09-26               Monday   \n",
       "1            28               6.19       2016-08-14               Sunday   \n",
       "2            31               1.20       2016-07-08               Friday   \n",
       "3            33               6.05       2016-09-15             Thursday   \n",
       "4            57               5.74       2016-08-18             Thursday   \n",
       "\n",
       "   Minimum_Balance  Number_Transactions>1000  Last_Month_Transaction  \\\n",
       "0         32500.73                         1                       9   \n",
       "1         24204.49                         1                       8   \n",
       "2         38377.14                         1                       7   \n",
       "3           496.18                         0                       9   \n",
       "4         87058.65                         1                       8   \n",
       "\n",
       "   Maximum_Balance  Minimum_utilisation  Maximum_utilisation  \n",
       "0        120180.54             27750.73            119824.54  \n",
       "1         24204.49             22705.49             22705.49  \n",
       "2        161848.76             37172.14            161598.76  \n",
       "3           496.18               466.18               466.18  \n",
       "4         87058.65             82058.65             82058.65  "
      ]
     },
     "execution_count": 132,
     "metadata": {},
     "output_type": "execute_result"
    }
   ],
   "source": [
    "data_small.head()"
   ]
  },
  {
   "cell_type": "code",
   "execution_count": 131,
   "metadata": {},
   "outputs": [],
   "source": [
    "# Maximum Utilisation (12/20):\n",
    "data_max_utilisation = data.groupby([\"CustomerID\"])[\"Utilisation\"].max().reset_index(name=\"Maximum_Utilisation\")\n",
    "data_small['Maximum_utilisation'] = data_max_utilisation['Maximum_Utilisation']"
   ]
  },
  {
   "cell_type": "code",
   "execution_count": 144,
   "metadata": {},
   "outputs": [
    {
     "data": {
      "text/plain": [
       "[1.98, 2.96, 3.94, 4.92, 5.9, 6.88, 7.86]"
      ]
     },
     "execution_count": 144,
     "metadata": {},
     "output_type": "execute_result"
    }
   ],
   "source": [
    "# Average Transaction Amount in USD (//20)\n",
    "\n"
   ]
  },
  {
   "cell_type": "code",
   "execution_count": 191,
   "metadata": {},
   "outputs": [
    {
     "data": {
      "text/html": [
       "<div>\n",
       "<style scoped>\n",
       "    .dataframe tbody tr th:only-of-type {\n",
       "        vertical-align: middle;\n",
       "    }\n",
       "\n",
       "    .dataframe tbody tr th {\n",
       "        vertical-align: top;\n",
       "    }\n",
       "\n",
       "    .dataframe thead th {\n",
       "        text-align: right;\n",
       "    }\n",
       "</style>\n",
       "<table border=\"1\" class=\"dataframe\">\n",
       "  <thead>\n",
       "    <tr style=\"text-align: right;\">\n",
       "      <th></th>\n",
       "      <th>CustomerID</th>\n",
       "      <th>Number_Transactions</th>\n",
       "      <th>Number_Transactions&gt;100</th>\n",
       "      <th>Average_Amount_Transactions</th>\n",
       "      <th>Average_Balance</th>\n",
       "      <th>Utilisation</th>\n",
       "      <th>CustGender</th>\n",
       "      <th>CustLocation</th>\n",
       "      <th>Max_Amount_Transactions</th>\n",
       "      <th>Min_Amount_Transactions</th>\n",
       "      <th>...</th>\n",
       "      <th>Last_Transaction</th>\n",
       "      <th>Last_Day_Transaction</th>\n",
       "      <th>Minimum_Balance</th>\n",
       "      <th>Number_Transactions&gt;1000</th>\n",
       "      <th>Last_Month_Transaction</th>\n",
       "      <th>Maximum_Balance</th>\n",
       "      <th>Minimum_utilisation</th>\n",
       "      <th>Maximum_utilisation</th>\n",
       "      <th>Percentile_Max_%_Transaction</th>\n",
       "      <th>PercentileBalance</th>\n",
       "    </tr>\n",
       "  </thead>\n",
       "  <tbody>\n",
       "    <tr>\n",
       "      <th>0</th>\n",
       "      <td>C1010011</td>\n",
       "      <td>2</td>\n",
       "      <td>2</td>\n",
       "      <td>2553.0</td>\n",
       "      <td>76340.635</td>\n",
       "      <td>73787.635</td>\n",
       "      <td>F</td>\n",
       "      <td>NEW DELHI</td>\n",
       "      <td>4750.0</td>\n",
       "      <td>356.0</td>\n",
       "      <td>...</td>\n",
       "      <td>2016-09-26</td>\n",
       "      <td>Monday</td>\n",
       "      <td>32500.73</td>\n",
       "      <td>1</td>\n",
       "      <td>9</td>\n",
       "      <td>120180.54</td>\n",
       "      <td>27750.73</td>\n",
       "      <td>119824.54</td>\n",
       "      <td>0.654310</td>\n",
       "      <td>0.796982</td>\n",
       "    </tr>\n",
       "    <tr>\n",
       "      <th>1</th>\n",
       "      <td>C1010012</td>\n",
       "      <td>1</td>\n",
       "      <td>1</td>\n",
       "      <td>1499.0</td>\n",
       "      <td>24204.490</td>\n",
       "      <td>22705.490</td>\n",
       "      <td>M</td>\n",
       "      <td>MUMBAI</td>\n",
       "      <td>1499.0</td>\n",
       "      <td>1499.0</td>\n",
       "      <td>...</td>\n",
       "      <td>2016-08-14</td>\n",
       "      <td>Sunday</td>\n",
       "      <td>24204.49</td>\n",
       "      <td>1</td>\n",
       "      <td>8</td>\n",
       "      <td>24204.49</td>\n",
       "      <td>22705.49</td>\n",
       "      <td>22705.49</td>\n",
       "      <td>0.653560</td>\n",
       "      <td>0.573716</td>\n",
       "    </tr>\n",
       "    <tr>\n",
       "      <th>2</th>\n",
       "      <td>C1010014</td>\n",
       "      <td>2</td>\n",
       "      <td>2</td>\n",
       "      <td>727.5</td>\n",
       "      <td>100112.950</td>\n",
       "      <td>99385.450</td>\n",
       "      <td>F</td>\n",
       "      <td>MUMBAI</td>\n",
       "      <td>1205.0</td>\n",
       "      <td>250.0</td>\n",
       "      <td>...</td>\n",
       "      <td>2016-07-08</td>\n",
       "      <td>Friday</td>\n",
       "      <td>38377.14</td>\n",
       "      <td>1</td>\n",
       "      <td>7</td>\n",
       "      <td>161848.76</td>\n",
       "      <td>37172.14</td>\n",
       "      <td>161598.76</td>\n",
       "      <td>0.338037</td>\n",
       "      <td>0.833322</td>\n",
       "    </tr>\n",
       "    <tr>\n",
       "      <th>3</th>\n",
       "      <td>C1010018</td>\n",
       "      <td>1</td>\n",
       "      <td>0</td>\n",
       "      <td>30.0</td>\n",
       "      <td>496.180</td>\n",
       "      <td>466.180</td>\n",
       "      <td>F</td>\n",
       "      <td>CHAMPARAN</td>\n",
       "      <td>30.0</td>\n",
       "      <td>30.0</td>\n",
       "      <td>...</td>\n",
       "      <td>2016-09-15</td>\n",
       "      <td>Thursday</td>\n",
       "      <td>496.18</td>\n",
       "      <td>0</td>\n",
       "      <td>9</td>\n",
       "      <td>496.18</td>\n",
       "      <td>466.18</td>\n",
       "      <td>466.18</td>\n",
       "      <td>0.649541</td>\n",
       "      <td>0.087697</td>\n",
       "    </tr>\n",
       "    <tr>\n",
       "      <th>4</th>\n",
       "      <td>C1010024</td>\n",
       "      <td>1</td>\n",
       "      <td>1</td>\n",
       "      <td>5000.0</td>\n",
       "      <td>87058.650</td>\n",
       "      <td>82058.650</td>\n",
       "      <td>M</td>\n",
       "      <td>KOLKATA</td>\n",
       "      <td>5000.0</td>\n",
       "      <td>5000.0</td>\n",
       "      <td>...</td>\n",
       "      <td>2016-08-18</td>\n",
       "      <td>Thursday</td>\n",
       "      <td>87058.65</td>\n",
       "      <td>1</td>\n",
       "      <td>8</td>\n",
       "      <td>87058.65</td>\n",
       "      <td>82058.65</td>\n",
       "      <td>82058.65</td>\n",
       "      <td>0.640320</td>\n",
       "      <td>0.814460</td>\n",
       "    </tr>\n",
       "  </tbody>\n",
       "</table>\n",
       "<p>5 rows × 22 columns</p>\n",
       "</div>"
      ],
      "text/plain": [
       "  CustomerID  Number_Transactions  Number_Transactions>100  \\\n",
       "0   C1010011                    2                        2   \n",
       "1   C1010012                    1                        1   \n",
       "2   C1010014                    2                        2   \n",
       "3   C1010018                    1                        0   \n",
       "4   C1010024                    1                        1   \n",
       "\n",
       "   Average_Amount_Transactions  Average_Balance  Utilisation CustGender  \\\n",
       "0                       2553.0        76340.635    73787.635          F   \n",
       "1                       1499.0        24204.490    22705.490          M   \n",
       "2                        727.5       100112.950    99385.450          F   \n",
       "3                         30.0          496.180      466.180          F   \n",
       "4                       5000.0        87058.650    82058.650          M   \n",
       "\n",
       "  CustLocation  Max_Amount_Transactions  Min_Amount_Transactions  ...  \\\n",
       "0    NEW DELHI                   4750.0                    356.0  ...   \n",
       "1       MUMBAI                   1499.0                   1499.0  ...   \n",
       "2       MUMBAI                   1205.0                    250.0  ...   \n",
       "3    CHAMPARAN                     30.0                     30.0  ...   \n",
       "4      KOLKATA                   5000.0                   5000.0  ...   \n",
       "\n",
       "   Last_Transaction  Last_Day_Transaction Minimum_Balance  \\\n",
       "0        2016-09-26                Monday        32500.73   \n",
       "1        2016-08-14                Sunday        24204.49   \n",
       "2        2016-07-08                Friday        38377.14   \n",
       "3        2016-09-15              Thursday          496.18   \n",
       "4        2016-08-18              Thursday        87058.65   \n",
       "\n",
       "  Number_Transactions>1000  Last_Month_Transaction  Maximum_Balance  \\\n",
       "0                        1                       9        120180.54   \n",
       "1                        1                       8         24204.49   \n",
       "2                        1                       7        161848.76   \n",
       "3                        0                       9           496.18   \n",
       "4                        1                       8         87058.65   \n",
       "\n",
       "   Minimum_utilisation  Maximum_utilisation  Percentile_Max_%_Transaction  \\\n",
       "0             27750.73            119824.54                      0.654310   \n",
       "1             22705.49             22705.49                      0.653560   \n",
       "2             37172.14            161598.76                      0.338037   \n",
       "3               466.18               466.18                      0.649541   \n",
       "4             82058.65             82058.65                      0.640320   \n",
       "\n",
       "   PercentileBalance  \n",
       "0           0.796982  \n",
       "1           0.573716  \n",
       "2           0.833322  \n",
       "3           0.087697  \n",
       "4           0.814460  \n",
       "\n",
       "[5 rows x 22 columns]"
      ]
     },
     "execution_count": 191,
     "metadata": {},
     "output_type": "execute_result"
    }
   ],
   "source": [
    "data_small.head()"
   ]
  },
  {
   "cell_type": "code",
   "execution_count": 188,
   "metadata": {},
   "outputs": [],
   "source": [
    "# % Max Transaction percentile (13/20)\n",
    "from scipy import stats\n",
    "\n",
    "max_perc_trans = [i for i in data_small['Max_%_Transaction']]\n",
    "percentiles = stats.rankdata(max_perc_trans, \"average\")/len(max_perc_trans)\n",
    "\n",
    "data_small['Percentile_Max_%_Transaction'] = percentiles"
   ]
  },
  {
   "cell_type": "code",
   "execution_count": 190,
   "metadata": {},
   "outputs": [],
   "source": [
    "# Balance Percentile (14/20)\n",
    "\n",
    "balance_perc = [i for i in data_small['Average_Balance']]\n",
    "percentiles = stats.rankdata(balance_perc, \"average\")/len(balance_perc)\n",
    "\n",
    "data_small['PercentileBalance'] = percentiles"
   ]
  },
  {
   "cell_type": "code",
   "execution_count": 200,
   "metadata": {},
   "outputs": [],
   "source": [
    "# Rich? (15/20):\n",
    "rich = []\n",
    "\n",
    "for i in data_small.index:\n",
    "    if data_small.loc[i, 'PercentileBalance'] >= 0.75:\n",
    "        rich.append('Yes')\n",
    "    else:\n",
    "        rich.append('No')    \n",
    "\n",
    "data_small['Rich'] = rich        "
   ]
  },
  {
   "cell_type": "code",
   "execution_count": 207,
   "metadata": {},
   "outputs": [],
   "source": [
    "# Minor? (16/20)\n",
    "minor = []\n",
    "\n",
    "for i in data_small.index:\n",
    "    if data_small.loc[i, 'Customer_Age'] < 18:\n",
    "        minor.append('Yes')\n",
    "    else:\n",
    "        minor.append('No')    \n",
    "\n",
    "data_small['Minor'] = minor "
   ]
  },
  {
   "cell_type": "code",
   "execution_count": 212,
   "metadata": {},
   "outputs": [],
   "source": [
    "# Youth, adult, elderly (17/20):\n",
    "life_phase = []\n",
    "\n",
    "for i in data_small.index:\n",
    "    if data_small.loc[i, 'Customer_Age'] <= 35:\n",
    "        life_phase.append('Young')\n",
    "    elif data_small.loc[i, 'Customer_Age'] > 35 and data_small.loc[i, 'Customer_Age'] <= 65:\n",
    "        life_phase.append('Adult')    \n",
    "    else:\n",
    "        life_phase.append('Elderly')    \n",
    "\n",
    "\n",
    "data_small['Age_Status'] = life_phase "
   ]
  },
  {
   "cell_type": "code",
   "execution_count": 214,
   "metadata": {},
   "outputs": [],
   "source": [
    "#  Poor (18/20)\n",
    "\n",
    "poor = []\n",
    "\n",
    "for i in data_small.index:\n",
    "    if data_small.loc[i, 'PercentileBalance'] <= 0.15:\n",
    "        poor.append('Yes')\n",
    "    else:\n",
    "        poor.append('No')    \n",
    "\n",
    "data_small['Poor'] = poor "
   ]
  },
  {
   "cell_type": "code",
   "execution_count": 225,
   "metadata": {},
   "outputs": [],
   "source": [
    "# Suspicious Account (19/20)\n",
    "# data_small['Max_%_Transaction'][data_small['Max_%_Transaction'] > 250] lots of suspicious accounts...\n",
    "\n",
    "suspicious = []\n",
    "\n",
    "for i in data_small.index:\n",
    "    if data_small.loc[i, 'Max_%_Transaction'] >= 250:\n",
    "        suspicious.append('Yes')\n",
    "    else:\n",
    "        suspicious.append('No')    \n",
    "\n",
    "data_small['Suspicious_Account'] = suspicious"
   ]
  },
  {
   "cell_type": "code",
   "execution_count": 245,
   "metadata": {},
   "outputs": [],
   "source": [
    "# (20/20)\n",
    "\n",
    "account_in_red = []\n",
    "\n",
    "for i in data_small.index:\n",
    "    if data_small.loc[i, 'Utilisation'] < 0:\n",
    "        account_in_red.append('Yes')\n",
    "    else:\n",
    "        account_in_red.append('No')    \n",
    "\n",
    "data_small['Account_in_red'] = account_in_red"
   ]
  },
  {
   "cell_type": "code",
   "execution_count": 248,
   "metadata": {},
   "outputs": [
    {
     "data": {
      "text/html": [
       "<div>\n",
       "<style scoped>\n",
       "    .dataframe tbody tr th:only-of-type {\n",
       "        vertical-align: middle;\n",
       "    }\n",
       "\n",
       "    .dataframe tbody tr th {\n",
       "        vertical-align: top;\n",
       "    }\n",
       "\n",
       "    .dataframe thead th {\n",
       "        text-align: right;\n",
       "    }\n",
       "</style>\n",
       "<table border=\"1\" class=\"dataframe\">\n",
       "  <thead>\n",
       "    <tr style=\"text-align: right;\">\n",
       "      <th></th>\n",
       "      <th>CustomerID</th>\n",
       "      <th>Number_Transactions</th>\n",
       "      <th>Number_Transactions&gt;100</th>\n",
       "      <th>Average_Amount_Transactions</th>\n",
       "      <th>Average_Balance</th>\n",
       "      <th>Utilisation</th>\n",
       "      <th>CustGender</th>\n",
       "      <th>CustLocation</th>\n",
       "      <th>Max_Amount_Transactions</th>\n",
       "      <th>Min_Amount_Transactions</th>\n",
       "      <th>...</th>\n",
       "      <th>Minimum_utilisation</th>\n",
       "      <th>Maximum_utilisation</th>\n",
       "      <th>Percentile_Max_%_Transaction</th>\n",
       "      <th>PercentileBalance</th>\n",
       "      <th>Rich</th>\n",
       "      <th>Minor</th>\n",
       "      <th>Age_Status</th>\n",
       "      <th>Poor</th>\n",
       "      <th>Suspicious_Account</th>\n",
       "      <th>Account_in_red</th>\n",
       "    </tr>\n",
       "  </thead>\n",
       "  <tbody>\n",
       "    <tr>\n",
       "      <th>0</th>\n",
       "      <td>C1010011</td>\n",
       "      <td>2</td>\n",
       "      <td>2</td>\n",
       "      <td>2553.0</td>\n",
       "      <td>76340.635</td>\n",
       "      <td>73787.635</td>\n",
       "      <td>F</td>\n",
       "      <td>NEW DELHI</td>\n",
       "      <td>4750.0</td>\n",
       "      <td>356.0</td>\n",
       "      <td>...</td>\n",
       "      <td>27750.73</td>\n",
       "      <td>119824.54</td>\n",
       "      <td>0.654310</td>\n",
       "      <td>0.796982</td>\n",
       "      <td>Yes</td>\n",
       "      <td>No</td>\n",
       "      <td>Young</td>\n",
       "      <td>No</td>\n",
       "      <td>No</td>\n",
       "      <td>No</td>\n",
       "    </tr>\n",
       "    <tr>\n",
       "      <th>1</th>\n",
       "      <td>C1010012</td>\n",
       "      <td>1</td>\n",
       "      <td>1</td>\n",
       "      <td>1499.0</td>\n",
       "      <td>24204.490</td>\n",
       "      <td>22705.490</td>\n",
       "      <td>M</td>\n",
       "      <td>MUMBAI</td>\n",
       "      <td>1499.0</td>\n",
       "      <td>1499.0</td>\n",
       "      <td>...</td>\n",
       "      <td>22705.49</td>\n",
       "      <td>22705.49</td>\n",
       "      <td>0.653560</td>\n",
       "      <td>0.573716</td>\n",
       "      <td>No</td>\n",
       "      <td>No</td>\n",
       "      <td>Young</td>\n",
       "      <td>No</td>\n",
       "      <td>No</td>\n",
       "      <td>No</td>\n",
       "    </tr>\n",
       "    <tr>\n",
       "      <th>2</th>\n",
       "      <td>C1010014</td>\n",
       "      <td>2</td>\n",
       "      <td>2</td>\n",
       "      <td>727.5</td>\n",
       "      <td>100112.950</td>\n",
       "      <td>99385.450</td>\n",
       "      <td>F</td>\n",
       "      <td>MUMBAI</td>\n",
       "      <td>1205.0</td>\n",
       "      <td>250.0</td>\n",
       "      <td>...</td>\n",
       "      <td>37172.14</td>\n",
       "      <td>161598.76</td>\n",
       "      <td>0.338037</td>\n",
       "      <td>0.833322</td>\n",
       "      <td>Yes</td>\n",
       "      <td>No</td>\n",
       "      <td>Young</td>\n",
       "      <td>No</td>\n",
       "      <td>No</td>\n",
       "      <td>No</td>\n",
       "    </tr>\n",
       "    <tr>\n",
       "      <th>3</th>\n",
       "      <td>C1010018</td>\n",
       "      <td>1</td>\n",
       "      <td>0</td>\n",
       "      <td>30.0</td>\n",
       "      <td>496.180</td>\n",
       "      <td>466.180</td>\n",
       "      <td>F</td>\n",
       "      <td>CHAMPARAN</td>\n",
       "      <td>30.0</td>\n",
       "      <td>30.0</td>\n",
       "      <td>...</td>\n",
       "      <td>466.18</td>\n",
       "      <td>466.18</td>\n",
       "      <td>0.649541</td>\n",
       "      <td>0.087697</td>\n",
       "      <td>No</td>\n",
       "      <td>No</td>\n",
       "      <td>Young</td>\n",
       "      <td>Yes</td>\n",
       "      <td>No</td>\n",
       "      <td>No</td>\n",
       "    </tr>\n",
       "    <tr>\n",
       "      <th>4</th>\n",
       "      <td>C1010024</td>\n",
       "      <td>1</td>\n",
       "      <td>1</td>\n",
       "      <td>5000.0</td>\n",
       "      <td>87058.650</td>\n",
       "      <td>82058.650</td>\n",
       "      <td>M</td>\n",
       "      <td>KOLKATA</td>\n",
       "      <td>5000.0</td>\n",
       "      <td>5000.0</td>\n",
       "      <td>...</td>\n",
       "      <td>82058.65</td>\n",
       "      <td>82058.65</td>\n",
       "      <td>0.640320</td>\n",
       "      <td>0.814460</td>\n",
       "      <td>Yes</td>\n",
       "      <td>No</td>\n",
       "      <td>Adult</td>\n",
       "      <td>No</td>\n",
       "      <td>No</td>\n",
       "      <td>No</td>\n",
       "    </tr>\n",
       "  </tbody>\n",
       "</table>\n",
       "<p>5 rows × 28 columns</p>\n",
       "</div>"
      ],
      "text/plain": [
       "  CustomerID  Number_Transactions  Number_Transactions>100  \\\n",
       "0   C1010011                    2                        2   \n",
       "1   C1010012                    1                        1   \n",
       "2   C1010014                    2                        2   \n",
       "3   C1010018                    1                        0   \n",
       "4   C1010024                    1                        1   \n",
       "\n",
       "   Average_Amount_Transactions  Average_Balance  Utilisation CustGender  \\\n",
       "0                       2553.0        76340.635    73787.635          F   \n",
       "1                       1499.0        24204.490    22705.490          M   \n",
       "2                        727.5       100112.950    99385.450          F   \n",
       "3                         30.0          496.180      466.180          F   \n",
       "4                       5000.0        87058.650    82058.650          M   \n",
       "\n",
       "  CustLocation  Max_Amount_Transactions  Min_Amount_Transactions  ...  \\\n",
       "0    NEW DELHI                   4750.0                    356.0  ...   \n",
       "1       MUMBAI                   1499.0                   1499.0  ...   \n",
       "2       MUMBAI                   1205.0                    250.0  ...   \n",
       "3    CHAMPARAN                     30.0                     30.0  ...   \n",
       "4      KOLKATA                   5000.0                   5000.0  ...   \n",
       "\n",
       "   Minimum_utilisation  Maximum_utilisation Percentile_Max_%_Transaction  \\\n",
       "0             27750.73            119824.54                     0.654310   \n",
       "1             22705.49             22705.49                     0.653560   \n",
       "2             37172.14            161598.76                     0.338037   \n",
       "3               466.18               466.18                     0.649541   \n",
       "4             82058.65             82058.65                     0.640320   \n",
       "\n",
       "  PercentileBalance  Rich  Minor  Age_Status  Poor  Suspicious_Account  \\\n",
       "0          0.796982   Yes     No       Young    No                  No   \n",
       "1          0.573716    No     No       Young    No                  No   \n",
       "2          0.833322   Yes     No       Young    No                  No   \n",
       "3          0.087697    No     No       Young   Yes                  No   \n",
       "4          0.814460   Yes     No       Adult    No                  No   \n",
       "\n",
       "   Account_in_red  \n",
       "0              No  \n",
       "1              No  \n",
       "2              No  \n",
       "3              No  \n",
       "4              No  \n",
       "\n",
       "[5 rows x 28 columns]"
      ]
     },
     "execution_count": 248,
     "metadata": {},
     "output_type": "execute_result"
    }
   ],
   "source": [
    "data_small.head()"
   ]
  },
  {
   "cell_type": "code",
   "execution_count": 249,
   "metadata": {},
   "outputs": [],
   "source": [
    "# We save it\n",
    "data_small.to_csv('/Users/simonefacchiano/Desktop/Data Science/ADM/data_small_20.csv') "
   ]
  },
  {
   "cell_type": "markdown",
   "metadata": {},
   "source": [
    "### Load the data:"
   ]
  },
  {
   "cell_type": "code",
   "execution_count": 9,
   "metadata": {},
   "outputs": [
    {
     "name": "stdout",
     "output_type": "stream",
     "text": [
      "<class 'pandas.core.frame.DataFrame'>\n",
      "RangeIndex: 984614 entries, 0 to 984613\n",
      "Data columns (total 10 columns):\n",
      " #   Column              Non-Null Count   Dtype  \n",
      "---  ------              --------------   -----  \n",
      " 0   TransactionID       984614 non-null  object \n",
      " 1   CustomerID          984614 non-null  object \n",
      " 2   CustomerDOB         984614 non-null  object \n",
      " 3   CustGender          984614 non-null  object \n",
      " 4   CustLocation        984614 non-null  object \n",
      " 5   CustAccountBalance  984614 non-null  float64\n",
      " 6   TransactionDate     984614 non-null  object \n",
      " 7   TransactionTime     984614 non-null  object \n",
      " 8   TransactionAmount   984614 non-null  float64\n",
      " 9   CustomerAge         984614 non-null  int64  \n",
      "dtypes: float64(2), int64(1), object(7)\n",
      "memory usage: 75.1+ MB\n"
     ]
    }
   ],
   "source": [
    "# Original (cleaned) data\n",
    "import pandas as pd \n",
    "\n",
    "data = pd.read_csv('/Users/simonefacchiano/Desktop/Data Science/ADM/ADM HW4/data.csv')\n",
    "data = data.drop('Unnamed: 0', axis=1)\n",
    "data.info()"
   ]
  },
  {
   "cell_type": "code",
   "execution_count": 10,
   "metadata": {},
   "outputs": [],
   "source": [
    "from datetime import datetime\n",
    "\n",
    "data.dropna(inplace=True)\n",
    "data.CustomerDOB = pd.to_datetime(data.CustomerDOB) \n",
    "data.TransactionDate = pd.to_datetime(data.TransactionDate) \n",
    "data.TransactionTime = pd.to_datetime(data.TransactionTime) "
   ]
  },
  {
   "cell_type": "code",
   "execution_count": 11,
   "metadata": {},
   "outputs": [
    {
     "data": {
      "text/html": [
       "<div>\n",
       "<style scoped>\n",
       "    .dataframe tbody tr th:only-of-type {\n",
       "        vertical-align: middle;\n",
       "    }\n",
       "\n",
       "    .dataframe tbody tr th {\n",
       "        vertical-align: top;\n",
       "    }\n",
       "\n",
       "    .dataframe thead th {\n",
       "        text-align: right;\n",
       "    }\n",
       "</style>\n",
       "<table border=\"1\" class=\"dataframe\">\n",
       "  <thead>\n",
       "    <tr style=\"text-align: right;\">\n",
       "      <th></th>\n",
       "      <th>CustomerID</th>\n",
       "      <th>Number_Transactions</th>\n",
       "      <th>Number_Transactions&gt;100</th>\n",
       "      <th>Average_Amount_Transactions</th>\n",
       "      <th>Average_Balance</th>\n",
       "      <th>Utilisation</th>\n",
       "      <th>CustGender</th>\n",
       "      <th>CustLocation</th>\n",
       "      <th>Max_Amount_Transactions</th>\n",
       "      <th>Min_Amount_Transactions</th>\n",
       "      <th>...</th>\n",
       "      <th>Minimum_utilisation</th>\n",
       "      <th>Maximum_utilisation</th>\n",
       "      <th>Percentile_Max_%_Transaction</th>\n",
       "      <th>PercentileBalance</th>\n",
       "      <th>Rich</th>\n",
       "      <th>Minor</th>\n",
       "      <th>Age_Status</th>\n",
       "      <th>Poor</th>\n",
       "      <th>Suspicious_Account</th>\n",
       "      <th>Account_in_red</th>\n",
       "    </tr>\n",
       "  </thead>\n",
       "  <tbody>\n",
       "    <tr>\n",
       "      <th>0</th>\n",
       "      <td>C1010011</td>\n",
       "      <td>2</td>\n",
       "      <td>2</td>\n",
       "      <td>2553.0</td>\n",
       "      <td>76340.635</td>\n",
       "      <td>73787.635</td>\n",
       "      <td>F</td>\n",
       "      <td>NEW DELHI</td>\n",
       "      <td>4750.0</td>\n",
       "      <td>356.0</td>\n",
       "      <td>...</td>\n",
       "      <td>27750.73</td>\n",
       "      <td>119824.54</td>\n",
       "      <td>0.654310</td>\n",
       "      <td>0.796982</td>\n",
       "      <td>Yes</td>\n",
       "      <td>No</td>\n",
       "      <td>Young</td>\n",
       "      <td>No</td>\n",
       "      <td>No</td>\n",
       "      <td>No</td>\n",
       "    </tr>\n",
       "    <tr>\n",
       "      <th>1</th>\n",
       "      <td>C1010012</td>\n",
       "      <td>1</td>\n",
       "      <td>1</td>\n",
       "      <td>1499.0</td>\n",
       "      <td>24204.490</td>\n",
       "      <td>22705.490</td>\n",
       "      <td>M</td>\n",
       "      <td>MUMBAI</td>\n",
       "      <td>1499.0</td>\n",
       "      <td>1499.0</td>\n",
       "      <td>...</td>\n",
       "      <td>22705.49</td>\n",
       "      <td>22705.49</td>\n",
       "      <td>0.653560</td>\n",
       "      <td>0.573716</td>\n",
       "      <td>No</td>\n",
       "      <td>No</td>\n",
       "      <td>Young</td>\n",
       "      <td>No</td>\n",
       "      <td>No</td>\n",
       "      <td>No</td>\n",
       "    </tr>\n",
       "    <tr>\n",
       "      <th>2</th>\n",
       "      <td>C1010014</td>\n",
       "      <td>2</td>\n",
       "      <td>2</td>\n",
       "      <td>727.5</td>\n",
       "      <td>100112.950</td>\n",
       "      <td>99385.450</td>\n",
       "      <td>F</td>\n",
       "      <td>MUMBAI</td>\n",
       "      <td>1205.0</td>\n",
       "      <td>250.0</td>\n",
       "      <td>...</td>\n",
       "      <td>37172.14</td>\n",
       "      <td>161598.76</td>\n",
       "      <td>0.338037</td>\n",
       "      <td>0.833322</td>\n",
       "      <td>Yes</td>\n",
       "      <td>No</td>\n",
       "      <td>Young</td>\n",
       "      <td>No</td>\n",
       "      <td>No</td>\n",
       "      <td>No</td>\n",
       "    </tr>\n",
       "    <tr>\n",
       "      <th>3</th>\n",
       "      <td>C1010018</td>\n",
       "      <td>1</td>\n",
       "      <td>0</td>\n",
       "      <td>30.0</td>\n",
       "      <td>496.180</td>\n",
       "      <td>466.180</td>\n",
       "      <td>F</td>\n",
       "      <td>CHAMPARAN</td>\n",
       "      <td>30.0</td>\n",
       "      <td>30.0</td>\n",
       "      <td>...</td>\n",
       "      <td>466.18</td>\n",
       "      <td>466.18</td>\n",
       "      <td>0.649541</td>\n",
       "      <td>0.087697</td>\n",
       "      <td>No</td>\n",
       "      <td>No</td>\n",
       "      <td>Young</td>\n",
       "      <td>Yes</td>\n",
       "      <td>No</td>\n",
       "      <td>No</td>\n",
       "    </tr>\n",
       "    <tr>\n",
       "      <th>4</th>\n",
       "      <td>C1010024</td>\n",
       "      <td>1</td>\n",
       "      <td>1</td>\n",
       "      <td>5000.0</td>\n",
       "      <td>87058.650</td>\n",
       "      <td>82058.650</td>\n",
       "      <td>M</td>\n",
       "      <td>KOLKATA</td>\n",
       "      <td>5000.0</td>\n",
       "      <td>5000.0</td>\n",
       "      <td>...</td>\n",
       "      <td>82058.65</td>\n",
       "      <td>82058.65</td>\n",
       "      <td>0.640320</td>\n",
       "      <td>0.814460</td>\n",
       "      <td>Yes</td>\n",
       "      <td>No</td>\n",
       "      <td>Adult</td>\n",
       "      <td>No</td>\n",
       "      <td>No</td>\n",
       "      <td>No</td>\n",
       "    </tr>\n",
       "  </tbody>\n",
       "</table>\n",
       "<p>5 rows × 28 columns</p>\n",
       "</div>"
      ],
      "text/plain": [
       "  CustomerID  Number_Transactions  Number_Transactions>100  \\\n",
       "0   C1010011                    2                        2   \n",
       "1   C1010012                    1                        1   \n",
       "2   C1010014                    2                        2   \n",
       "3   C1010018                    1                        0   \n",
       "4   C1010024                    1                        1   \n",
       "\n",
       "   Average_Amount_Transactions  Average_Balance  Utilisation CustGender  \\\n",
       "0                       2553.0        76340.635    73787.635          F   \n",
       "1                       1499.0        24204.490    22705.490          M   \n",
       "2                        727.5       100112.950    99385.450          F   \n",
       "3                         30.0          496.180      466.180          F   \n",
       "4                       5000.0        87058.650    82058.650          M   \n",
       "\n",
       "  CustLocation  Max_Amount_Transactions  Min_Amount_Transactions  ...  \\\n",
       "0    NEW DELHI                   4750.0                    356.0  ...   \n",
       "1       MUMBAI                   1499.0                   1499.0  ...   \n",
       "2       MUMBAI                   1205.0                    250.0  ...   \n",
       "3    CHAMPARAN                     30.0                     30.0  ...   \n",
       "4      KOLKATA                   5000.0                   5000.0  ...   \n",
       "\n",
       "   Minimum_utilisation  Maximum_utilisation Percentile_Max_%_Transaction  \\\n",
       "0             27750.73            119824.54                     0.654310   \n",
       "1             22705.49             22705.49                     0.653560   \n",
       "2             37172.14            161598.76                     0.338037   \n",
       "3               466.18               466.18                     0.649541   \n",
       "4             82058.65             82058.65                     0.640320   \n",
       "\n",
       "  PercentileBalance  Rich  Minor  Age_Status  Poor  Suspicious_Account  \\\n",
       "0          0.796982   Yes     No       Young    No                  No   \n",
       "1          0.573716    No     No       Young    No                  No   \n",
       "2          0.833322   Yes     No       Young    No                  No   \n",
       "3          0.087697    No     No       Young   Yes                  No   \n",
       "4          0.814460   Yes     No       Adult    No                  No   \n",
       "\n",
       "   Account_in_red  \n",
       "0              No  \n",
       "1              No  \n",
       "2              No  \n",
       "3              No  \n",
       "4              No  \n",
       "\n",
       "[5 rows x 28 columns]"
      ]
     },
     "execution_count": 11,
     "metadata": {},
     "output_type": "execute_result"
    }
   ],
   "source": [
    "# Data_set with the 20 additional features (and one row for each ID)\n",
    "data_small = pd.read_csv('/Users/simonefacchiano/Desktop/Data Science/ADM/ADM HW4/data_small_20.csv')\n",
    "data_small = data_small.drop('Unnamed: 0', axis=1) \n",
    "data_small.head()"
   ]
  },
  {
   "cell_type": "code",
   "execution_count": 88,
   "metadata": {},
   "outputs": [],
   "source": [
    "data_small.columns\n",
    "\n",
    "# We convert (again) dates in the right format:\n",
    "data_small.Last_Transaction = pd.to_datetime(data_small.Last_Transaction) "
   ]
  },
  {
   "cell_type": "markdown",
   "metadata": {},
   "source": [
    "## 2.2: Choose you feature + Dimensionality Reduction"
   ]
  },
  {
   "cell_type": "markdown",
   "metadata": {},
   "source": [
    "### 2.2.1: Standardization"
   ]
  },
  {
   "cell_type": "code",
   "execution_count": 25,
   "metadata": {},
   "outputs": [
    {
     "data": {
      "text/plain": [
       "['CustomerID',\n",
       " 'Number_Transactions',\n",
       " 'Number_Transactions>100',\n",
       " 'Average_Amount_Transactions',\n",
       " 'Average_Balance',\n",
       " 'Utilisation',\n",
       " 'CustGender',\n",
       " 'CustLocation',\n",
       " 'Max_Amount_Transactions',\n",
       " 'Min_Amount_Transactions',\n",
       " 'Customer_Age',\n",
       " 'Max_%_Transaction',\n",
       " 'Last_Transaction',\n",
       " 'Last_Day_Transaction',\n",
       " 'Minimum_Balance',\n",
       " 'Number_Transactions>1000',\n",
       " 'Last_Month_Transaction',\n",
       " 'Maximum_Balance',\n",
       " 'Minimum_utilisation',\n",
       " 'Maximum_utilisation',\n",
       " 'Percentile_Max_%_Transaction',\n",
       " 'PercentileBalance',\n",
       " 'Rich',\n",
       " 'Minor',\n",
       " 'Age_Status',\n",
       " 'Poor',\n",
       " 'Suspicious_Account',\n",
       " 'Account_in_red']"
      ]
     },
     "execution_count": 25,
     "metadata": {},
     "output_type": "execute_result"
    }
   ],
   "source": [
    "data_small.columns.tolist()"
   ]
  },
  {
   "cell_type": "code",
   "execution_count": 72,
   "metadata": {},
   "outputs": [
    {
     "data": {
      "text/html": [
       "<div>\n",
       "<style scoped>\n",
       "    .dataframe tbody tr th:only-of-type {\n",
       "        vertical-align: middle;\n",
       "    }\n",
       "\n",
       "    .dataframe tbody tr th {\n",
       "        vertical-align: top;\n",
       "    }\n",
       "\n",
       "    .dataframe thead th {\n",
       "        text-align: right;\n",
       "    }\n",
       "</style>\n",
       "<table border=\"1\" class=\"dataframe\">\n",
       "  <thead>\n",
       "    <tr style=\"text-align: right;\">\n",
       "      <th></th>\n",
       "      <th>Number_Transactions</th>\n",
       "      <th>Number_Transactions&gt;100</th>\n",
       "      <th>Average_Amount_Transactions</th>\n",
       "      <th>Average_Balance</th>\n",
       "      <th>Utilisation</th>\n",
       "      <th>Max_Amount_Transactions</th>\n",
       "      <th>Min_Amount_Transactions</th>\n",
       "      <th>Customer_Age</th>\n",
       "      <th>Max_%_Transaction</th>\n",
       "      <th>Minimum_Balance</th>\n",
       "      <th>Number_Transactions&gt;1000</th>\n",
       "      <th>Last_Month_Transaction</th>\n",
       "      <th>Maximum_Balance</th>\n",
       "      <th>Minimum_utilisation</th>\n",
       "      <th>Maximum_utilisation</th>\n",
       "      <th>Percentile_Max_%_Transaction</th>\n",
       "      <th>PercentileBalance</th>\n",
       "    </tr>\n",
       "  </thead>\n",
       "  <tbody>\n",
       "    <tr>\n",
       "      <th>count</th>\n",
       "      <td>838561.000000</td>\n",
       "      <td>838561.000000</td>\n",
       "      <td>8.385610e+05</td>\n",
       "      <td>8.385610e+05</td>\n",
       "      <td>8.385610e+05</td>\n",
       "      <td>8.385610e+05</td>\n",
       "      <td>8.385610e+05</td>\n",
       "      <td>838561.000000</td>\n",
       "      <td>838561.00</td>\n",
       "      <td>8.385610e+05</td>\n",
       "      <td>838561.000000</td>\n",
       "      <td>838561.000000</td>\n",
       "      <td>8.385610e+05</td>\n",
       "      <td>8.385610e+05</td>\n",
       "      <td>8.385610e+05</td>\n",
       "      <td>838561.000000</td>\n",
       "      <td>838561.000000</td>\n",
       "    </tr>\n",
       "    <tr>\n",
       "      <th>mean</th>\n",
       "      <td>1.174171</td>\n",
       "      <td>0.943818</td>\n",
       "      <td>1.454668e+03</td>\n",
       "      <td>1.057968e+05</td>\n",
       "      <td>1.043422e+05</td>\n",
       "      <td>1.637947e+03</td>\n",
       "      <td>1.286970e+03</td>\n",
       "      <td>37.462566</td>\n",
       "      <td>inf</td>\n",
       "      <td>9.191426e+04</td>\n",
       "      <td>0.318726</td>\n",
       "      <td>7.572490</td>\n",
       "      <td>1.210962e+05</td>\n",
       "      <td>9.049288e+04</td>\n",
       "      <td>1.196022e+05</td>\n",
       "      <td>0.500001</td>\n",
       "      <td>0.500001</td>\n",
       "    </tr>\n",
       "    <tr>\n",
       "      <th>std</th>\n",
       "      <td>0.434989</td>\n",
       "      <td>0.553886</td>\n",
       "      <td>6.047087e+03</td>\n",
       "      <td>7.860466e+05</td>\n",
       "      <td>7.857385e+05</td>\n",
       "      <td>6.629639e+03</td>\n",
       "      <td>5.886269e+03</td>\n",
       "      <td>8.822770</td>\n",
       "      <td>NaN</td>\n",
       "      <td>7.560236e+05</td>\n",
       "      <td>0.495759</td>\n",
       "      <td>2.570373</td>\n",
       "      <td>8.800205e+05</td>\n",
       "      <td>7.557363e+05</td>\n",
       "      <td>8.796452e+05</td>\n",
       "      <td>0.288675</td>\n",
       "      <td>0.288675</td>\n",
       "    </tr>\n",
       "    <tr>\n",
       "      <th>min</th>\n",
       "      <td>1.000000</td>\n",
       "      <td>0.000000</td>\n",
       "      <td>1.000000e-02</td>\n",
       "      <td>0.000000e+00</td>\n",
       "      <td>-1.517547e+06</td>\n",
       "      <td>1.000000e-02</td>\n",
       "      <td>1.000000e-02</td>\n",
       "      <td>16.000000</td>\n",
       "      <td>0.00</td>\n",
       "      <td>0.000000e+00</td>\n",
       "      <td>0.000000</td>\n",
       "      <td>1.000000</td>\n",
       "      <td>0.000000e+00</td>\n",
       "      <td>-1.517547e+06</td>\n",
       "      <td>-1.517547e+06</td>\n",
       "      <td>0.001815</td>\n",
       "      <td>0.000887</td>\n",
       "    </tr>\n",
       "    <tr>\n",
       "      <th>25%</th>\n",
       "      <td>1.000000</td>\n",
       "      <td>1.000000</td>\n",
       "      <td>1.800000e+02</td>\n",
       "      <td>5.366190e+03</td>\n",
       "      <td>4.562160e+03</td>\n",
       "      <td>1.950000e+02</td>\n",
       "      <td>1.251800e+02</td>\n",
       "      <td>32.000000</td>\n",
       "      <td>0.72</td>\n",
       "      <td>3.675200e+03</td>\n",
       "      <td>0.000000</td>\n",
       "      <td>7.000000</td>\n",
       "      <td>5.641660e+03</td>\n",
       "      <td>2.887510e+03</td>\n",
       "      <td>4.848720e+03</td>\n",
       "      <td>0.249468</td>\n",
       "      <td>0.249989</td>\n",
       "    </tr>\n",
       "    <tr>\n",
       "      <th>50%</th>\n",
       "      <td>1.000000</td>\n",
       "      <td>1.000000</td>\n",
       "      <td>4.750000e+02</td>\n",
       "      <td>1.767975e+04</td>\n",
       "      <td>1.663121e+04</td>\n",
       "      <td>5.000000e+02</td>\n",
       "      <td>3.595200e+02</td>\n",
       "      <td>35.000000</td>\n",
       "      <td>2.73</td>\n",
       "      <td>1.335720e+04</td>\n",
       "      <td>0.000000</td>\n",
       "      <td>8.000000</td>\n",
       "      <td>1.917630e+04</td>\n",
       "      <td>1.244278e+04</td>\n",
       "      <td>1.807334e+04</td>\n",
       "      <td>0.500137</td>\n",
       "      <td>0.500001</td>\n",
       "    </tr>\n",
       "    <tr>\n",
       "      <th>75%</th>\n",
       "      <td>1.000000</td>\n",
       "      <td>1.000000</td>\n",
       "      <td>1.177200e+03</td>\n",
       "      <td>5.721561e+04</td>\n",
       "      <td>5.570298e+04</td>\n",
       "      <td>1.316000e+03</td>\n",
       "      <td>1.000000e+03</td>\n",
       "      <td>41.000000</td>\n",
       "      <td>11.80</td>\n",
       "      <td>4.478136e+04</td>\n",
       "      <td>1.000000</td>\n",
       "      <td>9.000000</td>\n",
       "      <td>6.378637e+04</td>\n",
       "      <td>4.321868e+04</td>\n",
       "      <td>6.219455e+04</td>\n",
       "      <td>0.750037</td>\n",
       "      <td>0.750000</td>\n",
       "    </tr>\n",
       "    <tr>\n",
       "      <th>max</th>\n",
       "      <td>6.000000</td>\n",
       "      <td>6.000000</td>\n",
       "      <td>1.560035e+06</td>\n",
       "      <td>1.150355e+08</td>\n",
       "      <td>1.150339e+08</td>\n",
       "      <td>1.560035e+06</td>\n",
       "      <td>1.560035e+06</td>\n",
       "      <td>116.000000</td>\n",
       "      <td>inf</td>\n",
       "      <td>1.150355e+08</td>\n",
       "      <td>4.000000</td>\n",
       "      <td>12.000000</td>\n",
       "      <td>1.150355e+08</td>\n",
       "      <td>1.150339e+08</td>\n",
       "      <td>1.150349e+08</td>\n",
       "      <td>0.999114</td>\n",
       "      <td>0.999996</td>\n",
       "    </tr>\n",
       "  </tbody>\n",
       "</table>\n",
       "</div>"
      ],
      "text/plain": [
       "       Number_Transactions  Number_Transactions>100  \\\n",
       "count        838561.000000            838561.000000   \n",
       "mean              1.174171                 0.943818   \n",
       "std               0.434989                 0.553886   \n",
       "min               1.000000                 0.000000   \n",
       "25%               1.000000                 1.000000   \n",
       "50%               1.000000                 1.000000   \n",
       "75%               1.000000                 1.000000   \n",
       "max               6.000000                 6.000000   \n",
       "\n",
       "       Average_Amount_Transactions  Average_Balance   Utilisation  \\\n",
       "count                 8.385610e+05     8.385610e+05  8.385610e+05   \n",
       "mean                  1.454668e+03     1.057968e+05  1.043422e+05   \n",
       "std                   6.047087e+03     7.860466e+05  7.857385e+05   \n",
       "min                   1.000000e-02     0.000000e+00 -1.517547e+06   \n",
       "25%                   1.800000e+02     5.366190e+03  4.562160e+03   \n",
       "50%                   4.750000e+02     1.767975e+04  1.663121e+04   \n",
       "75%                   1.177200e+03     5.721561e+04  5.570298e+04   \n",
       "max                   1.560035e+06     1.150355e+08  1.150339e+08   \n",
       "\n",
       "       Max_Amount_Transactions  Min_Amount_Transactions   Customer_Age  \\\n",
       "count             8.385610e+05             8.385610e+05  838561.000000   \n",
       "mean              1.637947e+03             1.286970e+03      37.462566   \n",
       "std               6.629639e+03             5.886269e+03       8.822770   \n",
       "min               1.000000e-02             1.000000e-02      16.000000   \n",
       "25%               1.950000e+02             1.251800e+02      32.000000   \n",
       "50%               5.000000e+02             3.595200e+02      35.000000   \n",
       "75%               1.316000e+03             1.000000e+03      41.000000   \n",
       "max               1.560035e+06             1.560035e+06     116.000000   \n",
       "\n",
       "       Max_%_Transaction  Minimum_Balance  Number_Transactions>1000  \\\n",
       "count          838561.00     8.385610e+05             838561.000000   \n",
       "mean                 inf     9.191426e+04                  0.318726   \n",
       "std                  NaN     7.560236e+05                  0.495759   \n",
       "min                 0.00     0.000000e+00                  0.000000   \n",
       "25%                 0.72     3.675200e+03                  0.000000   \n",
       "50%                 2.73     1.335720e+04                  0.000000   \n",
       "75%                11.80     4.478136e+04                  1.000000   \n",
       "max                  inf     1.150355e+08                  4.000000   \n",
       "\n",
       "       Last_Month_Transaction  Maximum_Balance  Minimum_utilisation  \\\n",
       "count           838561.000000     8.385610e+05         8.385610e+05   \n",
       "mean                 7.572490     1.210962e+05         9.049288e+04   \n",
       "std                  2.570373     8.800205e+05         7.557363e+05   \n",
       "min                  1.000000     0.000000e+00        -1.517547e+06   \n",
       "25%                  7.000000     5.641660e+03         2.887510e+03   \n",
       "50%                  8.000000     1.917630e+04         1.244278e+04   \n",
       "75%                  9.000000     6.378637e+04         4.321868e+04   \n",
       "max                 12.000000     1.150355e+08         1.150339e+08   \n",
       "\n",
       "       Maximum_utilisation  Percentile_Max_%_Transaction  PercentileBalance  \n",
       "count         8.385610e+05                 838561.000000      838561.000000  \n",
       "mean          1.196022e+05                      0.500001           0.500001  \n",
       "std           8.796452e+05                      0.288675           0.288675  \n",
       "min          -1.517547e+06                      0.001815           0.000887  \n",
       "25%           4.848720e+03                      0.249468           0.249989  \n",
       "50%           1.807334e+04                      0.500137           0.500001  \n",
       "75%           6.219455e+04                      0.750037           0.750000  \n",
       "max           1.150349e+08                      0.999114           0.999996  "
      ]
     },
     "execution_count": 72,
     "metadata": {},
     "output_type": "execute_result"
    }
   ],
   "source": [
    "data_small.describe()"
   ]
  },
  {
   "cell_type": "code",
   "execution_count": 12,
   "metadata": {},
   "outputs": [],
   "source": [
    "# First problem:\n",
    "import numpy as np\n",
    "\n",
    "max(data_small['Max_%_Transaction'])  # --> inf!\n",
    "data_small[data_small['Max_%_Transaction'] == max(data_small['Max_%_Transaction'])][['CustomerID', 'Maximum_Balance' , 'Max_%_Transaction', 'Suspicious_Account']]  # --> 1487 rows have infinite % of transaction wrt the corresponding balance. This can happend when the Customer has a balance of 0 INR.\n",
    "# How to deal with that?\n",
    "# Obviously, if the maximum value of a certain column is infinite, we can't normalise that feature... \n",
    "# ... so we create a copy of the original dataset to keep track of the original data:\n",
    "\n",
    "normalised_variables = pd.DataFrame(data_small.copy())\n",
    "\n",
    "# and then we drop those rows who have 'infinite' in Max_%_Transaction:\n",
    "normalised_variables = normalised_variables.replace([np.inf, -np.inf], np.nan, inplace=False)\n",
    "normalised_variables = normalised_variables.dropna()\n",
    "\n",
    "# Now, we can go on"
   ]
  },
  {
   "cell_type": "code",
   "execution_count": 13,
   "metadata": {},
   "outputs": [],
   "source": [
    "from sklearn.preprocessing import StandardScaler\n",
    "# Many learning algorithms assume that all featured are centered around zero and have a variance of the same order. So, we want to normalise our varibales.\n",
    "# Of course, not all variables need to be normalised.\n",
    "# For example, we will not normalise binary features of date-columns. We are not going to standardize location or percentiles variables either.\n",
    "#  But we need to pay attention at the variances of real-valued variables, because they can confound our analysis\n",
    "\n",
    "# First of all, we decide which features have to be transformed:\n",
    "\n",
    "variables_names = ['Number_Transactions',\n",
    " 'Number_Transactions>100',\n",
    " 'Average_Amount_Transactions',\n",
    " 'Average_Balance',\n",
    " 'Utilisation',\n",
    " 'Max_Amount_Transactions',\n",
    " 'Min_Amount_Transactions',\n",
    " 'Customer_Age',\n",
    " 'Max_%_Transaction',\n",
    " 'Minimum_Balance',\n",
    " 'Number_Transactions>1000',\n",
    " 'Maximum_Balance',\n",
    " 'Minimum_utilisation',\n",
    " 'Maximum_utilisation']\n",
    "\n",
    "variables = normalised_variables[variables_names]\n",
    "\n",
    "scaler = StandardScaler().fit(variables.values)\n",
    "variables = scaler.transform(variables.values)\n",
    "\n",
    "# Now, we assign the scaled variables to our copy of the original dataframe:\n",
    "normalised_variables[variables_names] = variables"
   ]
  },
  {
   "cell_type": "code",
   "execution_count": 14,
   "metadata": {},
   "outputs": [
    {
     "data": {
      "text/html": [
       "<div>\n",
       "<style scoped>\n",
       "    .dataframe tbody tr th:only-of-type {\n",
       "        vertical-align: middle;\n",
       "    }\n",
       "\n",
       "    .dataframe tbody tr th {\n",
       "        vertical-align: top;\n",
       "    }\n",
       "\n",
       "    .dataframe thead th {\n",
       "        text-align: right;\n",
       "    }\n",
       "</style>\n",
       "<table border=\"1\" class=\"dataframe\">\n",
       "  <thead>\n",
       "    <tr style=\"text-align: right;\">\n",
       "      <th></th>\n",
       "      <th>Number_Transactions</th>\n",
       "      <th>Number_Transactions&gt;100</th>\n",
       "      <th>Average_Amount_Transactions</th>\n",
       "      <th>Average_Balance</th>\n",
       "      <th>Utilisation</th>\n",
       "      <th>Max_Amount_Transactions</th>\n",
       "      <th>Min_Amount_Transactions</th>\n",
       "      <th>Customer_Age</th>\n",
       "      <th>Max_%_Transaction</th>\n",
       "      <th>Minimum_Balance</th>\n",
       "      <th>Number_Transactions&gt;1000</th>\n",
       "      <th>Last_Month_Transaction</th>\n",
       "      <th>Maximum_Balance</th>\n",
       "      <th>Minimum_utilisation</th>\n",
       "      <th>Maximum_utilisation</th>\n",
       "      <th>Percentile_Max_%_Transaction</th>\n",
       "      <th>PercentileBalance</th>\n",
       "    </tr>\n",
       "  </thead>\n",
       "  <tbody>\n",
       "    <tr>\n",
       "      <th>count</th>\n",
       "      <td>8.370740e+05</td>\n",
       "      <td>8.370740e+05</td>\n",
       "      <td>8.370740e+05</td>\n",
       "      <td>8.370740e+05</td>\n",
       "      <td>8.370740e+05</td>\n",
       "      <td>8.370740e+05</td>\n",
       "      <td>8.370740e+05</td>\n",
       "      <td>8.370740e+05</td>\n",
       "      <td>8.370740e+05</td>\n",
       "      <td>8.370740e+05</td>\n",
       "      <td>8.370740e+05</td>\n",
       "      <td>837074.000000</td>\n",
       "      <td>8.370740e+05</td>\n",
       "      <td>8.370740e+05</td>\n",
       "      <td>8.370740e+05</td>\n",
       "      <td>837074.000000</td>\n",
       "      <td>837074.000000</td>\n",
       "    </tr>\n",
       "    <tr>\n",
       "      <th>mean</th>\n",
       "      <td>1.618838e-15</td>\n",
       "      <td>-8.579592e-15</td>\n",
       "      <td>2.078569e-16</td>\n",
       "      <td>4.431640e-17</td>\n",
       "      <td>-6.550035e-18</td>\n",
       "      <td>3.361825e-16</td>\n",
       "      <td>1.229964e-16</td>\n",
       "      <td>1.037966e-15</td>\n",
       "      <td>5.073226e-17</td>\n",
       "      <td>-2.588924e-17</td>\n",
       "      <td>3.808076e-15</td>\n",
       "      <td>7.572808</td>\n",
       "      <td>6.213636e-17</td>\n",
       "      <td>3.636969e-18</td>\n",
       "      <td>1.523504e-17</td>\n",
       "      <td>0.499114</td>\n",
       "      <td>0.500887</td>\n",
       "    </tr>\n",
       "    <tr>\n",
       "      <th>std</th>\n",
       "      <td>1.000001e+00</td>\n",
       "      <td>1.000001e+00</td>\n",
       "      <td>1.000001e+00</td>\n",
       "      <td>1.000001e+00</td>\n",
       "      <td>1.000001e+00</td>\n",
       "      <td>1.000001e+00</td>\n",
       "      <td>1.000001e+00</td>\n",
       "      <td>1.000001e+00</td>\n",
       "      <td>1.000001e+00</td>\n",
       "      <td>1.000001e+00</td>\n",
       "      <td>1.000001e+00</td>\n",
       "      <td>2.570167</td>\n",
       "      <td>1.000001e+00</td>\n",
       "      <td>1.000001e+00</td>\n",
       "      <td>1.000001e+00</td>\n",
       "      <td>0.288163</td>\n",
       "      <td>0.288163</td>\n",
       "    </tr>\n",
       "    <tr>\n",
       "      <th>min</th>\n",
       "      <td>-4.008118e-01</td>\n",
       "      <td>-1.703386e+00</td>\n",
       "      <td>-2.404272e-01</td>\n",
       "      <td>-1.347153e-01</td>\n",
       "      <td>-2.062604e+00</td>\n",
       "      <td>-2.469516e-01</td>\n",
       "      <td>-2.184630e-01</td>\n",
       "      <td>-2.436155e+00</td>\n",
       "      <td>-7.751933e-03</td>\n",
       "      <td>-1.216855e-01</td>\n",
       "      <td>-6.427419e-01</td>\n",
       "      <td>1.000000</td>\n",
       "      <td>-1.377307e-01</td>\n",
       "      <td>-2.126139e+00</td>\n",
       "      <td>-1.859775e+00</td>\n",
       "      <td>0.001815</td>\n",
       "      <td>0.001906</td>\n",
       "    </tr>\n",
       "    <tr>\n",
       "      <th>25%</th>\n",
       "      <td>-4.008118e-01</td>\n",
       "      <td>1.011119e-01</td>\n",
       "      <td>-2.106520e-01</td>\n",
       "      <td>-1.278329e-01</td>\n",
       "      <td>-1.270608e-01</td>\n",
       "      <td>-2.175355e-01</td>\n",
       "      <td>-1.972197e-01</td>\n",
       "      <td>-6.190139e-01</td>\n",
       "      <td>-7.750831e-03</td>\n",
       "      <td>-1.167766e-01</td>\n",
       "      <td>-6.427419e-01</td>\n",
       "      <td>7.000000</td>\n",
       "      <td>-1.312619e-01</td>\n",
       "      <td>-1.159840e-01</td>\n",
       "      <td>-1.305324e-01</td>\n",
       "      <td>0.249468</td>\n",
       "      <td>0.251334</td>\n",
       "    </tr>\n",
       "    <tr>\n",
       "      <th>50%</th>\n",
       "      <td>-4.008118e-01</td>\n",
       "      <td>1.011119e-01</td>\n",
       "      <td>-1.618509e-01</td>\n",
       "      <td>-1.121527e-01</td>\n",
       "      <td>-1.116841e-01</td>\n",
       "      <td>-1.715235e-01</td>\n",
       "      <td>-1.574491e-01</td>\n",
       "      <td>-2.782998e-01</td>\n",
       "      <td>-7.747770e-03</td>\n",
       "      <td>-1.039718e-01</td>\n",
       "      <td>-6.427419e-01</td>\n",
       "      <td>8.000000</td>\n",
       "      <td>-1.158854e-01</td>\n",
       "      <td>-1.033406e-01</td>\n",
       "      <td>-1.154717e-01</td>\n",
       "      <td>0.499426</td>\n",
       "      <td>0.500888</td>\n",
       "    </tr>\n",
       "    <tr>\n",
       "      <th>75%</th>\n",
       "      <td>-4.008118e-01</td>\n",
       "      <td>1.011119e-01</td>\n",
       "      <td>-4.588622e-02</td>\n",
       "      <td>-6.178561e-02</td>\n",
       "      <td>-6.194446e-02</td>\n",
       "      <td>-4.843754e-02</td>\n",
       "      <td>-4.850477e-02</td>\n",
       "      <td>4.031283e-01</td>\n",
       "      <td>-7.734057e-03</td>\n",
       "      <td>-6.233410e-02</td>\n",
       "      <td>1.374265e+00</td>\n",
       "      <td>9.000000</td>\n",
       "      <td>-6.510013e-02</td>\n",
       "      <td>-6.255530e-02</td>\n",
       "      <td>-6.530117e-02</td>\n",
       "      <td>0.748720</td>\n",
       "      <td>0.750444</td>\n",
       "    </tr>\n",
       "    <tr>\n",
       "      <th>max</th>\n",
       "      <td>1.108521e+01</td>\n",
       "      <td>9.123601e+00</td>\n",
       "      <td>2.578322e+02</td>\n",
       "      <td>1.460848e+02</td>\n",
       "      <td>1.461420e+02</td>\n",
       "      <td>2.350986e+02</td>\n",
       "      <td>2.649249e+02</td>\n",
       "      <td>8.920979e+00</td>\n",
       "      <td>6.488880e+02</td>\n",
       "      <td>1.519040e+02</td>\n",
       "      <td>7.425286e+00</td>\n",
       "      <td>12.000000</td>\n",
       "      <td>1.304677e+02</td>\n",
       "      <td>1.519616e+02</td>\n",
       "      <td>1.305244e+02</td>\n",
       "      <td>0.998227</td>\n",
       "      <td>0.999996</td>\n",
       "    </tr>\n",
       "  </tbody>\n",
       "</table>\n",
       "</div>"
      ],
      "text/plain": [
       "       Number_Transactions  Number_Transactions>100  \\\n",
       "count         8.370740e+05             8.370740e+05   \n",
       "mean          1.618838e-15            -8.579592e-15   \n",
       "std           1.000001e+00             1.000001e+00   \n",
       "min          -4.008118e-01            -1.703386e+00   \n",
       "25%          -4.008118e-01             1.011119e-01   \n",
       "50%          -4.008118e-01             1.011119e-01   \n",
       "75%          -4.008118e-01             1.011119e-01   \n",
       "max           1.108521e+01             9.123601e+00   \n",
       "\n",
       "       Average_Amount_Transactions  Average_Balance   Utilisation  \\\n",
       "count                 8.370740e+05     8.370740e+05  8.370740e+05   \n",
       "mean                  2.078569e-16     4.431640e-17 -6.550035e-18   \n",
       "std                   1.000001e+00     1.000001e+00  1.000001e+00   \n",
       "min                  -2.404272e-01    -1.347153e-01 -2.062604e+00   \n",
       "25%                  -2.106520e-01    -1.278329e-01 -1.270608e-01   \n",
       "50%                  -1.618509e-01    -1.121527e-01 -1.116841e-01   \n",
       "75%                  -4.588622e-02    -6.178561e-02 -6.194446e-02   \n",
       "max                   2.578322e+02     1.460848e+02  1.461420e+02   \n",
       "\n",
       "       Max_Amount_Transactions  Min_Amount_Transactions  Customer_Age  \\\n",
       "count             8.370740e+05             8.370740e+05  8.370740e+05   \n",
       "mean              3.361825e-16             1.229964e-16  1.037966e-15   \n",
       "std               1.000001e+00             1.000001e+00  1.000001e+00   \n",
       "min              -2.469516e-01            -2.184630e-01 -2.436155e+00   \n",
       "25%              -2.175355e-01            -1.972197e-01 -6.190139e-01   \n",
       "50%              -1.715235e-01            -1.574491e-01 -2.782998e-01   \n",
       "75%              -4.843754e-02            -4.850477e-02  4.031283e-01   \n",
       "max               2.350986e+02             2.649249e+02  8.920979e+00   \n",
       "\n",
       "       Max_%_Transaction  Minimum_Balance  Number_Transactions>1000  \\\n",
       "count       8.370740e+05     8.370740e+05              8.370740e+05   \n",
       "mean        5.073226e-17    -2.588924e-17              3.808076e-15   \n",
       "std         1.000001e+00     1.000001e+00              1.000001e+00   \n",
       "min        -7.751933e-03    -1.216855e-01             -6.427419e-01   \n",
       "25%        -7.750831e-03    -1.167766e-01             -6.427419e-01   \n",
       "50%        -7.747770e-03    -1.039718e-01             -6.427419e-01   \n",
       "75%        -7.734057e-03    -6.233410e-02              1.374265e+00   \n",
       "max         6.488880e+02     1.519040e+02              7.425286e+00   \n",
       "\n",
       "       Last_Month_Transaction  Maximum_Balance  Minimum_utilisation  \\\n",
       "count           837074.000000     8.370740e+05         8.370740e+05   \n",
       "mean                 7.572808     6.213636e-17         3.636969e-18   \n",
       "std                  2.570167     1.000001e+00         1.000001e+00   \n",
       "min                  1.000000    -1.377307e-01        -2.126139e+00   \n",
       "25%                  7.000000    -1.312619e-01        -1.159840e-01   \n",
       "50%                  8.000000    -1.158854e-01        -1.033406e-01   \n",
       "75%                  9.000000    -6.510013e-02        -6.255530e-02   \n",
       "max                 12.000000     1.304677e+02         1.519616e+02   \n",
       "\n",
       "       Maximum_utilisation  Percentile_Max_%_Transaction  PercentileBalance  \n",
       "count         8.370740e+05                 837074.000000      837074.000000  \n",
       "mean          1.523504e-17                      0.499114           0.500887  \n",
       "std           1.000001e+00                      0.288163           0.288163  \n",
       "min          -1.859775e+00                      0.001815           0.001906  \n",
       "25%          -1.305324e-01                      0.249468           0.251334  \n",
       "50%          -1.154717e-01                      0.499426           0.500888  \n",
       "75%          -6.530117e-02                      0.748720           0.750444  \n",
       "max           1.305244e+02                      0.998227           0.999996  "
      ]
     },
     "execution_count": 14,
     "metadata": {},
     "output_type": "execute_result"
    }
   ],
   "source": [
    "# Now look at the following table! All the means are equal to 0 (calculation accuracy permitting) and all the standard deviations are 1!\n",
    "# Now that we standardized our features, we can go on\n",
    "normalised_variables.describe()"
   ]
  },
  {
   "cell_type": "code",
   "execution_count": 15,
   "metadata": {},
   "outputs": [
    {
     "data": {
      "text/html": [
       "<div>\n",
       "<style scoped>\n",
       "    .dataframe tbody tr th:only-of-type {\n",
       "        vertical-align: middle;\n",
       "    }\n",
       "\n",
       "    .dataframe tbody tr th {\n",
       "        vertical-align: top;\n",
       "    }\n",
       "\n",
       "    .dataframe thead th {\n",
       "        text-align: right;\n",
       "    }\n",
       "</style>\n",
       "<table border=\"1\" class=\"dataframe\">\n",
       "  <thead>\n",
       "    <tr style=\"text-align: right;\">\n",
       "      <th></th>\n",
       "      <th>CustomerID</th>\n",
       "      <th>Number_Transactions</th>\n",
       "      <th>Number_Transactions&gt;100</th>\n",
       "      <th>Average_Amount_Transactions</th>\n",
       "      <th>Average_Balance</th>\n",
       "      <th>Utilisation</th>\n",
       "      <th>CustGender</th>\n",
       "      <th>CustLocation</th>\n",
       "      <th>Max_Amount_Transactions</th>\n",
       "      <th>Min_Amount_Transactions</th>\n",
       "      <th>...</th>\n",
       "      <th>Minimum_utilisation</th>\n",
       "      <th>Maximum_utilisation</th>\n",
       "      <th>Percentile_Max_%_Transaction</th>\n",
       "      <th>PercentileBalance</th>\n",
       "      <th>Rich</th>\n",
       "      <th>Minor</th>\n",
       "      <th>Age_Status</th>\n",
       "      <th>Poor</th>\n",
       "      <th>Suspicious_Account</th>\n",
       "      <th>Account_in_red</th>\n",
       "    </tr>\n",
       "  </thead>\n",
       "  <tbody>\n",
       "    <tr>\n",
       "      <th>0</th>\n",
       "      <td>C1010011</td>\n",
       "      <td>1.896393</td>\n",
       "      <td>1.905610</td>\n",
       "      <td>0.181907</td>\n",
       "      <td>-0.037680</td>\n",
       "      <td>-0.039093</td>\n",
       "      <td>F</td>\n",
       "      <td>NEW DELHI</td>\n",
       "      <td>0.469628</td>\n",
       "      <td>-0.157959</td>\n",
       "      <td>...</td>\n",
       "      <td>-0.083166</td>\n",
       "      <td>0.000007</td>\n",
       "      <td>0.654310</td>\n",
       "      <td>0.796982</td>\n",
       "      <td>Yes</td>\n",
       "      <td>No</td>\n",
       "      <td>Young</td>\n",
       "      <td>No</td>\n",
       "      <td>No</td>\n",
       "      <td>No</td>\n",
       "    </tr>\n",
       "    <tr>\n",
       "      <th>1</th>\n",
       "      <td>C1010012</td>\n",
       "      <td>-0.400812</td>\n",
       "      <td>0.101112</td>\n",
       "      <td>0.007547</td>\n",
       "      <td>-0.103949</td>\n",
       "      <td>-0.104048</td>\n",
       "      <td>M</td>\n",
       "      <td>MUMBAI</td>\n",
       "      <td>-0.020815</td>\n",
       "      <td>0.036305</td>\n",
       "      <td>...</td>\n",
       "      <td>-0.089836</td>\n",
       "      <td>-0.110304</td>\n",
       "      <td>0.653560</td>\n",
       "      <td>0.573716</td>\n",
       "      <td>No</td>\n",
       "      <td>No</td>\n",
       "      <td>Young</td>\n",
       "      <td>No</td>\n",
       "      <td>No</td>\n",
       "      <td>No</td>\n",
       "    </tr>\n",
       "    <tr>\n",
       "      <th>2</th>\n",
       "      <td>C1010014</td>\n",
       "      <td>1.896393</td>\n",
       "      <td>1.905610</td>\n",
       "      <td>-0.120080</td>\n",
       "      <td>-0.007464</td>\n",
       "      <td>-0.006543</td>\n",
       "      <td>F</td>\n",
       "      <td>MUMBAI</td>\n",
       "      <td>-0.065168</td>\n",
       "      <td>-0.175975</td>\n",
       "      <td>...</td>\n",
       "      <td>-0.070711</td>\n",
       "      <td>0.047455</td>\n",
       "      <td>0.338037</td>\n",
       "      <td>0.833322</td>\n",
       "      <td>Yes</td>\n",
       "      <td>No</td>\n",
       "      <td>Young</td>\n",
       "      <td>No</td>\n",
       "      <td>No</td>\n",
       "      <td>No</td>\n",
       "    </tr>\n",
       "    <tr>\n",
       "      <th>3</th>\n",
       "      <td>C1010018</td>\n",
       "      <td>-0.400812</td>\n",
       "      <td>-1.703386</td>\n",
       "      <td>-0.235466</td>\n",
       "      <td>-0.134085</td>\n",
       "      <td>-0.132327</td>\n",
       "      <td>F</td>\n",
       "      <td>CHAMPARAN</td>\n",
       "      <td>-0.242427</td>\n",
       "      <td>-0.213366</td>\n",
       "      <td>...</td>\n",
       "      <td>-0.119238</td>\n",
       "      <td>-0.135564</td>\n",
       "      <td>0.649541</td>\n",
       "      <td>0.087697</td>\n",
       "      <td>No</td>\n",
       "      <td>No</td>\n",
       "      <td>Young</td>\n",
       "      <td>Yes</td>\n",
       "      <td>No</td>\n",
       "      <td>No</td>\n",
       "    </tr>\n",
       "    <tr>\n",
       "      <th>4</th>\n",
       "      <td>C1010024</td>\n",
       "      <td>-0.400812</td>\n",
       "      <td>0.101112</td>\n",
       "      <td>0.586708</td>\n",
       "      <td>-0.024057</td>\n",
       "      <td>-0.028576</td>\n",
       "      <td>M</td>\n",
       "      <td>KOLKATA</td>\n",
       "      <td>0.507343</td>\n",
       "      <td>0.631335</td>\n",
       "      <td>...</td>\n",
       "      <td>-0.011368</td>\n",
       "      <td>-0.042889</td>\n",
       "      <td>0.640320</td>\n",
       "      <td>0.814460</td>\n",
       "      <td>Yes</td>\n",
       "      <td>No</td>\n",
       "      <td>Adult</td>\n",
       "      <td>No</td>\n",
       "      <td>No</td>\n",
       "      <td>No</td>\n",
       "    </tr>\n",
       "  </tbody>\n",
       "</table>\n",
       "<p>5 rows × 28 columns</p>\n",
       "</div>"
      ],
      "text/plain": [
       "  CustomerID  Number_Transactions  Number_Transactions>100  \\\n",
       "0   C1010011             1.896393                 1.905610   \n",
       "1   C1010012            -0.400812                 0.101112   \n",
       "2   C1010014             1.896393                 1.905610   \n",
       "3   C1010018            -0.400812                -1.703386   \n",
       "4   C1010024            -0.400812                 0.101112   \n",
       "\n",
       "   Average_Amount_Transactions  Average_Balance  Utilisation CustGender  \\\n",
       "0                     0.181907        -0.037680    -0.039093          F   \n",
       "1                     0.007547        -0.103949    -0.104048          M   \n",
       "2                    -0.120080        -0.007464    -0.006543          F   \n",
       "3                    -0.235466        -0.134085    -0.132327          F   \n",
       "4                     0.586708        -0.024057    -0.028576          M   \n",
       "\n",
       "  CustLocation  Max_Amount_Transactions  Min_Amount_Transactions  ...  \\\n",
       "0    NEW DELHI                 0.469628                -0.157959  ...   \n",
       "1       MUMBAI                -0.020815                 0.036305  ...   \n",
       "2       MUMBAI                -0.065168                -0.175975  ...   \n",
       "3    CHAMPARAN                -0.242427                -0.213366  ...   \n",
       "4      KOLKATA                 0.507343                 0.631335  ...   \n",
       "\n",
       "   Minimum_utilisation  Maximum_utilisation Percentile_Max_%_Transaction  \\\n",
       "0            -0.083166             0.000007                     0.654310   \n",
       "1            -0.089836            -0.110304                     0.653560   \n",
       "2            -0.070711             0.047455                     0.338037   \n",
       "3            -0.119238            -0.135564                     0.649541   \n",
       "4            -0.011368            -0.042889                     0.640320   \n",
       "\n",
       "  PercentileBalance  Rich  Minor  Age_Status  Poor  Suspicious_Account  \\\n",
       "0          0.796982   Yes     No       Young    No                  No   \n",
       "1          0.573716    No     No       Young    No                  No   \n",
       "2          0.833322   Yes     No       Young    No                  No   \n",
       "3          0.087697    No     No       Young   Yes                  No   \n",
       "4          0.814460   Yes     No       Adult    No                  No   \n",
       "\n",
       "   Account_in_red  \n",
       "0              No  \n",
       "1              No  \n",
       "2              No  \n",
       "3              No  \n",
       "4              No  \n",
       "\n",
       "[5 rows x 28 columns]"
      ]
     },
     "execution_count": 15,
     "metadata": {},
     "output_type": "execute_result"
    }
   ],
   "source": [
    "normalised_variables.head()"
   ]
  },
  {
   "cell_type": "code",
   "execution_count": 85,
   "metadata": {},
   "outputs": [
    {
     "data": {
      "text/html": [
       "<div>\n",
       "<style scoped>\n",
       "    .dataframe tbody tr th:only-of-type {\n",
       "        vertical-align: middle;\n",
       "    }\n",
       "\n",
       "    .dataframe tbody tr th {\n",
       "        vertical-align: top;\n",
       "    }\n",
       "\n",
       "    .dataframe thead th {\n",
       "        text-align: right;\n",
       "    }\n",
       "</style>\n",
       "<table border=\"1\" class=\"dataframe\">\n",
       "  <thead>\n",
       "    <tr style=\"text-align: right;\">\n",
       "      <th></th>\n",
       "      <th>CustomerID</th>\n",
       "      <th>Number_Transactions</th>\n",
       "      <th>Number_Transactions&gt;100</th>\n",
       "      <th>Average_Amount_Transactions</th>\n",
       "      <th>Average_Balance</th>\n",
       "      <th>Utilisation</th>\n",
       "      <th>CustGender</th>\n",
       "      <th>CustLocation</th>\n",
       "      <th>Max_Amount_Transactions</th>\n",
       "      <th>Min_Amount_Transactions</th>\n",
       "      <th>...</th>\n",
       "      <th>Minimum_utilisation_scaled</th>\n",
       "      <th>Maximum_utilisation_scaled</th>\n",
       "      <th>Percentile_Max_%_Transaction_scaled</th>\n",
       "      <th>PercentileBalance_scaled</th>\n",
       "      <th>Rich_scaled</th>\n",
       "      <th>Minor_scaled</th>\n",
       "      <th>Age_Status_scaled</th>\n",
       "      <th>Poor_scaled</th>\n",
       "      <th>Suspicious_Account_scaled</th>\n",
       "      <th>Account_in_red_scaled</th>\n",
       "    </tr>\n",
       "  </thead>\n",
       "  <tbody>\n",
       "    <tr>\n",
       "      <th>0</th>\n",
       "      <td>C1010011</td>\n",
       "      <td>2</td>\n",
       "      <td>2</td>\n",
       "      <td>2553.0</td>\n",
       "      <td>76340.635</td>\n",
       "      <td>73787.635</td>\n",
       "      <td>F</td>\n",
       "      <td>NEW DELHI</td>\n",
       "      <td>4750.0</td>\n",
       "      <td>356.0</td>\n",
       "      <td>...</td>\n",
       "      <td>-0.083166</td>\n",
       "      <td>0.000007</td>\n",
       "      <td>0.654310</td>\n",
       "      <td>0.796982</td>\n",
       "      <td>Yes</td>\n",
       "      <td>No</td>\n",
       "      <td>Young</td>\n",
       "      <td>No</td>\n",
       "      <td>No</td>\n",
       "      <td>No</td>\n",
       "    </tr>\n",
       "    <tr>\n",
       "      <th>1</th>\n",
       "      <td>C1010012</td>\n",
       "      <td>1</td>\n",
       "      <td>1</td>\n",
       "      <td>1499.0</td>\n",
       "      <td>24204.490</td>\n",
       "      <td>22705.490</td>\n",
       "      <td>M</td>\n",
       "      <td>MUMBAI</td>\n",
       "      <td>1499.0</td>\n",
       "      <td>1499.0</td>\n",
       "      <td>...</td>\n",
       "      <td>-0.089836</td>\n",
       "      <td>-0.110304</td>\n",
       "      <td>0.653560</td>\n",
       "      <td>0.573716</td>\n",
       "      <td>No</td>\n",
       "      <td>No</td>\n",
       "      <td>Young</td>\n",
       "      <td>No</td>\n",
       "      <td>No</td>\n",
       "      <td>No</td>\n",
       "    </tr>\n",
       "    <tr>\n",
       "      <th>2</th>\n",
       "      <td>C1010014</td>\n",
       "      <td>2</td>\n",
       "      <td>2</td>\n",
       "      <td>727.5</td>\n",
       "      <td>100112.950</td>\n",
       "      <td>99385.450</td>\n",
       "      <td>F</td>\n",
       "      <td>MUMBAI</td>\n",
       "      <td>1205.0</td>\n",
       "      <td>250.0</td>\n",
       "      <td>...</td>\n",
       "      <td>-0.070711</td>\n",
       "      <td>0.047455</td>\n",
       "      <td>0.338037</td>\n",
       "      <td>0.833322</td>\n",
       "      <td>Yes</td>\n",
       "      <td>No</td>\n",
       "      <td>Young</td>\n",
       "      <td>No</td>\n",
       "      <td>No</td>\n",
       "      <td>No</td>\n",
       "    </tr>\n",
       "    <tr>\n",
       "      <th>3</th>\n",
       "      <td>C1010018</td>\n",
       "      <td>1</td>\n",
       "      <td>0</td>\n",
       "      <td>30.0</td>\n",
       "      <td>496.180</td>\n",
       "      <td>466.180</td>\n",
       "      <td>F</td>\n",
       "      <td>CHAMPARAN</td>\n",
       "      <td>30.0</td>\n",
       "      <td>30.0</td>\n",
       "      <td>...</td>\n",
       "      <td>-0.119238</td>\n",
       "      <td>-0.135564</td>\n",
       "      <td>0.649541</td>\n",
       "      <td>0.087697</td>\n",
       "      <td>No</td>\n",
       "      <td>No</td>\n",
       "      <td>Young</td>\n",
       "      <td>Yes</td>\n",
       "      <td>No</td>\n",
       "      <td>No</td>\n",
       "    </tr>\n",
       "    <tr>\n",
       "      <th>4</th>\n",
       "      <td>C1010024</td>\n",
       "      <td>1</td>\n",
       "      <td>1</td>\n",
       "      <td>5000.0</td>\n",
       "      <td>87058.650</td>\n",
       "      <td>82058.650</td>\n",
       "      <td>M</td>\n",
       "      <td>KOLKATA</td>\n",
       "      <td>5000.0</td>\n",
       "      <td>5000.0</td>\n",
       "      <td>...</td>\n",
       "      <td>-0.011368</td>\n",
       "      <td>-0.042889</td>\n",
       "      <td>0.640320</td>\n",
       "      <td>0.814460</td>\n",
       "      <td>Yes</td>\n",
       "      <td>No</td>\n",
       "      <td>Adult</td>\n",
       "      <td>No</td>\n",
       "      <td>No</td>\n",
       "      <td>No</td>\n",
       "    </tr>\n",
       "  </tbody>\n",
       "</table>\n",
       "<p>5 rows × 56 columns</p>\n",
       "</div>"
      ],
      "text/plain": [
       "  CustomerID  Number_Transactions  Number_Transactions>100  \\\n",
       "0   C1010011                    2                        2   \n",
       "1   C1010012                    1                        1   \n",
       "2   C1010014                    2                        2   \n",
       "3   C1010018                    1                        0   \n",
       "4   C1010024                    1                        1   \n",
       "\n",
       "   Average_Amount_Transactions  Average_Balance  Utilisation CustGender  \\\n",
       "0                       2553.0        76340.635    73787.635          F   \n",
       "1                       1499.0        24204.490    22705.490          M   \n",
       "2                        727.5       100112.950    99385.450          F   \n",
       "3                         30.0          496.180      466.180          F   \n",
       "4                       5000.0        87058.650    82058.650          M   \n",
       "\n",
       "  CustLocation  Max_Amount_Transactions  Min_Amount_Transactions  ...  \\\n",
       "0    NEW DELHI                   4750.0                    356.0  ...   \n",
       "1       MUMBAI                   1499.0                   1499.0  ...   \n",
       "2       MUMBAI                   1205.0                    250.0  ...   \n",
       "3    CHAMPARAN                     30.0                     30.0  ...   \n",
       "4      KOLKATA                   5000.0                   5000.0  ...   \n",
       "\n",
       "   Minimum_utilisation_scaled  Maximum_utilisation_scaled  \\\n",
       "0                   -0.083166                    0.000007   \n",
       "1                   -0.089836                   -0.110304   \n",
       "2                   -0.070711                    0.047455   \n",
       "3                   -0.119238                   -0.135564   \n",
       "4                   -0.011368                   -0.042889   \n",
       "\n",
       "  Percentile_Max_%_Transaction_scaled PercentileBalance_scaled  Rich_scaled  \\\n",
       "0                            0.654310                 0.796982          Yes   \n",
       "1                            0.653560                 0.573716           No   \n",
       "2                            0.338037                 0.833322          Yes   \n",
       "3                            0.649541                 0.087697           No   \n",
       "4                            0.640320                 0.814460          Yes   \n",
       "\n",
       "   Minor_scaled  Age_Status_scaled  Poor_scaled  Suspicious_Account_scaled  \\\n",
       "0            No              Young           No                         No   \n",
       "1            No              Young           No                         No   \n",
       "2            No              Young           No                         No   \n",
       "3            No              Young          Yes                         No   \n",
       "4            No              Adult           No                         No   \n",
       "\n",
       "   Account_in_red_scaled  \n",
       "0                     No  \n",
       "1                     No  \n",
       "2                     No  \n",
       "3                     No  \n",
       "4                     No  \n",
       "\n",
       "[5 rows x 56 columns]"
      ]
     },
     "execution_count": 85,
     "metadata": {},
     "output_type": "execute_result"
    }
   ],
   "source": [
    "# We would like to work with a single dataset that contains all the variables we need, that are the ones we just scaled, and the binary/location/datetime in the original data_small...\n",
    "# For simplicity, we add all the new variables in the first dataset. So we will have [non_scaled_features, binary/datatime/location, scaled_feature]\n",
    "\n",
    "# We start from adding a suffix to all the normalised columns, in order not to confuse us in future analyses.\n",
    "\n",
    "#  normalised_variables = normalised_variables.add_suffix('_scaled')      # ------->  DO NOT RUN AGAIN AND AGAIN  <-------\n",
    "\n",
    "# Then we merge with the original dataset:\n",
    "'''\n",
    "big_data  = pd.merge(data_small , normalised_variables, left_on = 'CustomerID', right_on = 'CustomerID_scaled')\n",
    "big_data.head()\n",
    "'''"
   ]
  },
  {
   "cell_type": "markdown",
   "metadata": {},
   "source": [
    "### 2.2.2 & 2.2.3: Dimensionality Reduction with PCA"
   ]
  },
  {
   "cell_type": "code",
   "execution_count": null,
   "metadata": {},
   "outputs": [],
   "source": [
    "# Inspired by: https://github.com/Nolanole/Misc/blob/master/pca_scree/PCA_%2B_Scree_Chart_Function_Notebook.ipynb\n",
    "\n",
    "# First, notice we have bith numerical and categorical variables.\n",
    "# But on closer analysis, we find that categorical variables are often obtained from numerical ones. Think for example of 'Poor' or 'Account_in_red_scaled'... are directly obtained from 'Balance'!\n",
    "# We can then think of focusing our attention exclusively on numerical variables, and this allows us to be able to perform dimensionality reduction with PCA (which does not support qualitative variables)."
   ]
  },
  {
   "cell_type": "code",
   "execution_count": 16,
   "metadata": {},
   "outputs": [
    {
     "data": {
      "text/html": [
       "<div>\n",
       "<style scoped>\n",
       "    .dataframe tbody tr th:only-of-type {\n",
       "        vertical-align: middle;\n",
       "    }\n",
       "\n",
       "    .dataframe tbody tr th {\n",
       "        vertical-align: top;\n",
       "    }\n",
       "\n",
       "    .dataframe thead th {\n",
       "        text-align: right;\n",
       "    }\n",
       "</style>\n",
       "<table border=\"1\" class=\"dataframe\">\n",
       "  <thead>\n",
       "    <tr style=\"text-align: right;\">\n",
       "      <th></th>\n",
       "      <th>Number_Transactions</th>\n",
       "      <th>Number_Transactions&gt;100</th>\n",
       "      <th>Average_Amount_Transactions</th>\n",
       "      <th>Average_Balance</th>\n",
       "      <th>Utilisation</th>\n",
       "      <th>Max_Amount_Transactions</th>\n",
       "      <th>Min_Amount_Transactions</th>\n",
       "      <th>Customer_Age</th>\n",
       "      <th>Max_%_Transaction</th>\n",
       "      <th>Minimum_Balance</th>\n",
       "      <th>Number_Transactions&gt;1000</th>\n",
       "      <th>Last_Month_Transaction</th>\n",
       "      <th>Maximum_Balance</th>\n",
       "      <th>Minimum_utilisation</th>\n",
       "      <th>Maximum_utilisation</th>\n",
       "      <th>Percentile_Max_%_Transaction</th>\n",
       "      <th>PercentileBalance</th>\n",
       "    </tr>\n",
       "  </thead>\n",
       "  <tbody>\n",
       "    <tr>\n",
       "      <th>0</th>\n",
       "      <td>1.896393</td>\n",
       "      <td>1.905610</td>\n",
       "      <td>0.181907</td>\n",
       "      <td>-0.037680</td>\n",
       "      <td>-0.039093</td>\n",
       "      <td>0.469628</td>\n",
       "      <td>-0.157959</td>\n",
       "      <td>-0.846157</td>\n",
       "      <td>-0.007742</td>\n",
       "      <td>-0.078734</td>\n",
       "      <td>1.374265</td>\n",
       "      <td>9</td>\n",
       "      <td>-0.001284</td>\n",
       "      <td>-0.083166</td>\n",
       "      <td>0.000007</td>\n",
       "      <td>0.654310</td>\n",
       "      <td>0.796982</td>\n",
       "    </tr>\n",
       "    <tr>\n",
       "      <th>1</th>\n",
       "      <td>-0.400812</td>\n",
       "      <td>0.101112</td>\n",
       "      <td>0.007547</td>\n",
       "      <td>-0.103949</td>\n",
       "      <td>-0.104048</td>\n",
       "      <td>-0.020815</td>\n",
       "      <td>0.036305</td>\n",
       "      <td>-1.073299</td>\n",
       "      <td>-0.007742</td>\n",
       "      <td>-0.089698</td>\n",
       "      <td>1.374265</td>\n",
       "      <td>8</td>\n",
       "      <td>-0.110250</td>\n",
       "      <td>-0.089836</td>\n",
       "      <td>-0.110304</td>\n",
       "      <td>0.653560</td>\n",
       "      <td>0.573716</td>\n",
       "    </tr>\n",
       "    <tr>\n",
       "      <th>2</th>\n",
       "      <td>1.896393</td>\n",
       "      <td>1.905610</td>\n",
       "      <td>-0.120080</td>\n",
       "      <td>-0.007464</td>\n",
       "      <td>-0.006543</td>\n",
       "      <td>-0.065168</td>\n",
       "      <td>-0.175975</td>\n",
       "      <td>-0.732585</td>\n",
       "      <td>-0.007750</td>\n",
       "      <td>-0.070968</td>\n",
       "      <td>1.374265</td>\n",
       "      <td>7</td>\n",
       "      <td>0.046024</td>\n",
       "      <td>-0.070711</td>\n",
       "      <td>0.047455</td>\n",
       "      <td>0.338037</td>\n",
       "      <td>0.833322</td>\n",
       "    </tr>\n",
       "    <tr>\n",
       "      <th>3</th>\n",
       "      <td>-0.400812</td>\n",
       "      <td>-1.703386</td>\n",
       "      <td>-0.235466</td>\n",
       "      <td>-0.134085</td>\n",
       "      <td>-0.132327</td>\n",
       "      <td>-0.242427</td>\n",
       "      <td>-0.213366</td>\n",
       "      <td>-0.505443</td>\n",
       "      <td>-0.007743</td>\n",
       "      <td>-0.121030</td>\n",
       "      <td>-0.642742</td>\n",
       "      <td>9</td>\n",
       "      <td>-0.137167</td>\n",
       "      <td>-0.119238</td>\n",
       "      <td>-0.135564</td>\n",
       "      <td>0.649541</td>\n",
       "      <td>0.087697</td>\n",
       "    </tr>\n",
       "    <tr>\n",
       "      <th>4</th>\n",
       "      <td>-0.400812</td>\n",
       "      <td>0.101112</td>\n",
       "      <td>0.586708</td>\n",
       "      <td>-0.024057</td>\n",
       "      <td>-0.028576</td>\n",
       "      <td>0.507343</td>\n",
       "      <td>0.631335</td>\n",
       "      <td>2.220270</td>\n",
       "      <td>-0.007743</td>\n",
       "      <td>-0.006633</td>\n",
       "      <td>1.374265</td>\n",
       "      <td>8</td>\n",
       "      <td>-0.038889</td>\n",
       "      <td>-0.011368</td>\n",
       "      <td>-0.042889</td>\n",
       "      <td>0.640320</td>\n",
       "      <td>0.814460</td>\n",
       "    </tr>\n",
       "    <tr>\n",
       "      <th>...</th>\n",
       "      <td>...</td>\n",
       "      <td>...</td>\n",
       "      <td>...</td>\n",
       "      <td>...</td>\n",
       "      <td>...</td>\n",
       "      <td>...</td>\n",
       "      <td>...</td>\n",
       "      <td>...</td>\n",
       "      <td>...</td>\n",
       "      <td>...</td>\n",
       "      <td>...</td>\n",
       "      <td>...</td>\n",
       "      <td>...</td>\n",
       "      <td>...</td>\n",
       "      <td>...</td>\n",
       "      <td>...</td>\n",
       "      <td>...</td>\n",
       "    </tr>\n",
       "    <tr>\n",
       "      <th>838556</th>\n",
       "      <td>-0.400812</td>\n",
       "      <td>0.101112</td>\n",
       "      <td>-0.126119</td>\n",
       "      <td>0.034424</td>\n",
       "      <td>0.035407</td>\n",
       "      <td>-0.142709</td>\n",
       "      <td>-0.101022</td>\n",
       "      <td>-0.619014</td>\n",
       "      <td>-0.007751</td>\n",
       "      <td>0.054170</td>\n",
       "      <td>-0.642742</td>\n",
       "      <td>7</td>\n",
       "      <td>0.013347</td>\n",
       "      <td>0.055155</td>\n",
       "      <td>0.014263</td>\n",
       "      <td>0.200886</td>\n",
       "      <td>0.867328</td>\n",
       "    </tr>\n",
       "    <tr>\n",
       "      <th>838557</th>\n",
       "      <td>-0.400812</td>\n",
       "      <td>0.101112</td>\n",
       "      <td>-0.203704</td>\n",
       "      <td>-0.012611</td>\n",
       "      <td>-0.011050</td>\n",
       "      <td>-0.213462</td>\n",
       "      <td>-0.180734</td>\n",
       "      <td>-1.300442</td>\n",
       "      <td>-0.007752</td>\n",
       "      <td>0.005268</td>\n",
       "      <td>-0.642742</td>\n",
       "      <td>9</td>\n",
       "      <td>-0.028665</td>\n",
       "      <td>0.006853</td>\n",
       "      <td>-0.027234</td>\n",
       "      <td>0.108322</td>\n",
       "      <td>0.827681</td>\n",
       "    </tr>\n",
       "    <tr>\n",
       "      <th>838558</th>\n",
       "      <td>-0.400812</td>\n",
       "      <td>0.101112</td>\n",
       "      <td>-0.219585</td>\n",
       "      <td>-0.127648</td>\n",
       "      <td>-0.126011</td>\n",
       "      <td>-0.227945</td>\n",
       "      <td>-0.197050</td>\n",
       "      <td>-0.959728</td>\n",
       "      <td>-0.007748</td>\n",
       "      <td>-0.114338</td>\n",
       "      <td>-0.642742</td>\n",
       "      <td>8</td>\n",
       "      <td>-0.131418</td>\n",
       "      <td>-0.112671</td>\n",
       "      <td>-0.129922</td>\n",
       "      <td>0.463031</td>\n",
       "      <td>0.255503</td>\n",
       "    </tr>\n",
       "    <tr>\n",
       "      <th>838559</th>\n",
       "      <td>-0.400812</td>\n",
       "      <td>-1.703386</td>\n",
       "      <td>-0.232158</td>\n",
       "      <td>-0.089851</td>\n",
       "      <td>-0.088102</td>\n",
       "      <td>-0.239410</td>\n",
       "      <td>-0.209967</td>\n",
       "      <td>-1.073299</td>\n",
       "      <td>-0.007752</td>\n",
       "      <td>-0.075040</td>\n",
       "      <td>-0.642742</td>\n",
       "      <td>8</td>\n",
       "      <td>-0.097658</td>\n",
       "      <td>-0.073257</td>\n",
       "      <td>-0.096060</td>\n",
       "      <td>0.071071</td>\n",
       "      <td>0.657828</td>\n",
       "    </tr>\n",
       "    <tr>\n",
       "      <th>838560</th>\n",
       "      <td>-0.400812</td>\n",
       "      <td>0.101112</td>\n",
       "      <td>-0.098988</td>\n",
       "      <td>-0.125857</td>\n",
       "      <td>-0.125146</td>\n",
       "      <td>-0.117969</td>\n",
       "      <td>-0.073149</td>\n",
       "      <td>0.289557</td>\n",
       "      <td>-0.007733</td>\n",
       "      <td>-0.112476</td>\n",
       "      <td>-0.642742</td>\n",
       "      <td>9</td>\n",
       "      <td>-0.129819</td>\n",
       "      <td>-0.111771</td>\n",
       "      <td>-0.129149</td>\n",
       "      <td>0.755193</td>\n",
       "      <td>0.293425</td>\n",
       "    </tr>\n",
       "  </tbody>\n",
       "</table>\n",
       "<p>837074 rows × 17 columns</p>\n",
       "</div>"
      ],
      "text/plain": [
       "        Number_Transactions  Number_Transactions>100  \\\n",
       "0                  1.896393                 1.905610   \n",
       "1                 -0.400812                 0.101112   \n",
       "2                  1.896393                 1.905610   \n",
       "3                 -0.400812                -1.703386   \n",
       "4                 -0.400812                 0.101112   \n",
       "...                     ...                      ...   \n",
       "838556            -0.400812                 0.101112   \n",
       "838557            -0.400812                 0.101112   \n",
       "838558            -0.400812                 0.101112   \n",
       "838559            -0.400812                -1.703386   \n",
       "838560            -0.400812                 0.101112   \n",
       "\n",
       "        Average_Amount_Transactions  Average_Balance  Utilisation  \\\n",
       "0                          0.181907        -0.037680    -0.039093   \n",
       "1                          0.007547        -0.103949    -0.104048   \n",
       "2                         -0.120080        -0.007464    -0.006543   \n",
       "3                         -0.235466        -0.134085    -0.132327   \n",
       "4                          0.586708        -0.024057    -0.028576   \n",
       "...                             ...              ...          ...   \n",
       "838556                    -0.126119         0.034424     0.035407   \n",
       "838557                    -0.203704        -0.012611    -0.011050   \n",
       "838558                    -0.219585        -0.127648    -0.126011   \n",
       "838559                    -0.232158        -0.089851    -0.088102   \n",
       "838560                    -0.098988        -0.125857    -0.125146   \n",
       "\n",
       "        Max_Amount_Transactions  Min_Amount_Transactions  Customer_Age  \\\n",
       "0                      0.469628                -0.157959     -0.846157   \n",
       "1                     -0.020815                 0.036305     -1.073299   \n",
       "2                     -0.065168                -0.175975     -0.732585   \n",
       "3                     -0.242427                -0.213366     -0.505443   \n",
       "4                      0.507343                 0.631335      2.220270   \n",
       "...                         ...                      ...           ...   \n",
       "838556                -0.142709                -0.101022     -0.619014   \n",
       "838557                -0.213462                -0.180734     -1.300442   \n",
       "838558                -0.227945                -0.197050     -0.959728   \n",
       "838559                -0.239410                -0.209967     -1.073299   \n",
       "838560                -0.117969                -0.073149      0.289557   \n",
       "\n",
       "        Max_%_Transaction  Minimum_Balance  Number_Transactions>1000  \\\n",
       "0               -0.007742        -0.078734                  1.374265   \n",
       "1               -0.007742        -0.089698                  1.374265   \n",
       "2               -0.007750        -0.070968                  1.374265   \n",
       "3               -0.007743        -0.121030                 -0.642742   \n",
       "4               -0.007743        -0.006633                  1.374265   \n",
       "...                   ...              ...                       ...   \n",
       "838556          -0.007751         0.054170                 -0.642742   \n",
       "838557          -0.007752         0.005268                 -0.642742   \n",
       "838558          -0.007748        -0.114338                 -0.642742   \n",
       "838559          -0.007752        -0.075040                 -0.642742   \n",
       "838560          -0.007733        -0.112476                 -0.642742   \n",
       "\n",
       "        Last_Month_Transaction  Maximum_Balance  Minimum_utilisation  \\\n",
       "0                            9        -0.001284            -0.083166   \n",
       "1                            8        -0.110250            -0.089836   \n",
       "2                            7         0.046024            -0.070711   \n",
       "3                            9        -0.137167            -0.119238   \n",
       "4                            8        -0.038889            -0.011368   \n",
       "...                        ...              ...                  ...   \n",
       "838556                       7         0.013347             0.055155   \n",
       "838557                       9        -0.028665             0.006853   \n",
       "838558                       8        -0.131418            -0.112671   \n",
       "838559                       8        -0.097658            -0.073257   \n",
       "838560                       9        -0.129819            -0.111771   \n",
       "\n",
       "        Maximum_utilisation  Percentile_Max_%_Transaction  PercentileBalance  \n",
       "0                  0.000007                      0.654310           0.796982  \n",
       "1                 -0.110304                      0.653560           0.573716  \n",
       "2                  0.047455                      0.338037           0.833322  \n",
       "3                 -0.135564                      0.649541           0.087697  \n",
       "4                 -0.042889                      0.640320           0.814460  \n",
       "...                     ...                           ...                ...  \n",
       "838556             0.014263                      0.200886           0.867328  \n",
       "838557            -0.027234                      0.108322           0.827681  \n",
       "838558            -0.129922                      0.463031           0.255503  \n",
       "838559            -0.096060                      0.071071           0.657828  \n",
       "838560            -0.129149                      0.755193           0.293425  \n",
       "\n",
       "[837074 rows x 17 columns]"
      ]
     },
     "execution_count": 16,
     "metadata": {},
     "output_type": "execute_result"
    }
   ],
   "source": [
    "# First of all, we need to select only numerical feature.\n",
    "\n",
    "X = normalised_variables.copy() # we create a copy of the dataset\n",
    "    \n",
    "# We drop non-numerical columns:\n",
    "numeric_cols = X.select_dtypes(include = 'number' ).columns.tolist()\n",
    "X = X[numeric_cols]\n",
    "X"
   ]
  },
  {
   "cell_type": "code",
   "execution_count": null,
   "metadata": {},
   "outputs": [],
   "source": [
    "## TODO: Correlation Matrix"
   ]
  },
  {
   "cell_type": "code",
   "execution_count": 17,
   "metadata": {},
   "outputs": [
    {
     "name": "stderr",
     "output_type": "stream",
     "text": [
      "/Users/simonefacchiano/opt/anaconda3/lib/python3.9/site-packages/seaborn/_decorators.py:36: FutureWarning: Pass the following variables as keyword args: x, y. From version 0.12, the only valid positional argument will be `data`, and passing other arguments without an explicit keyword will result in an error or misinterpretation.\n",
      "  warnings.warn(\n"
     ]
    },
    {
     "data": {
      "image/png": "[encoded data removed]",
      "text/plain": [
       "<Figure size 792x468 with 1 Axes>"
      ]
     },
     "metadata": {
      "needs_background": "light"
     },
     "output_type": "display_data"
    },
    {
     "name": "stdout",
     "output_type": "stream",
     "text": [
      "*********************************************************************************************************\n",
      "\n",
      "Our 3 principal components:\n"
     ]
    },
    {
     "data": {
      "text/plain": [
       "array([[ 1.77067007, -0.06273376,  0.9067211 ],\n",
       "       [ 0.41589738, -0.26556426,  0.26514403],\n",
       "       [-0.21615943,  0.03967785,  0.48024651],\n",
       "       ...,\n",
       "       [ 0.35635928, -0.43661978, -0.60364831],\n",
       "       [ 0.23867051, -0.37246686, -0.89085847],\n",
       "       [ 1.35673523, -0.37143011, -0.30767482]])"
      ]
     },
     "execution_count": 17,
     "metadata": {},
     "output_type": "execute_result"
    }
   ],
   "source": [
    "# Now that we have our new dataset ready, we search the optimal number of principal components:\n",
    "\n",
    "def pca_hw4(X, treshold = 70):\n",
    "    \n",
    "    # Part 1: Import the packages\n",
    "    # --------------------------------------------------------------------------------------------------------------------------------------------\n",
    "\n",
    "    from sklearn.decomposition import PCA                                                                                                        \n",
    "    import matplotlib.pyplot as plt\n",
    "    import seaborn as sns\n",
    "\n",
    "    # Part 2: We find the optimal number of components\n",
    "    # --------------------------------------------------------------------------------------------------------------------------------------------\n",
    "\n",
    "    n = len(X.axes[1]) # number of columns of X\n",
    "    covar_matrix = PCA(n_components = n).fit(X)\n",
    "  \n",
    "    ## Variance explained for each of the principal components\n",
    "    variance = covar_matrix.explained_variance_ratio_\n",
    "    cumulative_var = np.cumsum( np.round(variance, decimals = 3) * 100 )\n",
    "\n",
    "    ## Find the number of components you need to go over your treshold:\n",
    "    num_components = len(cumulative_var) # default value\n",
    "    for i in range(len(cumulative_var)):\n",
    "        if cumulative_var[i] >= treshold:\n",
    "            num_components = i+1\n",
    "            break     \n",
    "\n",
    "    # Part 3: Plot to find the number of principal components you need\n",
    "    # --------------------------------------------------------------------------------------------------------------------------------------------\n",
    "\n",
    "    tot_num_components = len(cumulative_var)\n",
    "    \n",
    "    x = [x for x in range(1, tot_num_components + 1)] # numbers from 1 to maximum number of components\n",
    "    y = [var for var in cumulative_var] # value of the cumulative variance\n",
    "\n",
    "    customized_col = ['#f57b5f' if c == num_components else '#38c1fc' for c in x]\n",
    "\n",
    "    fig, ax = plt.subplots(figsize=(11, 6.5))\n",
    "\n",
    "    ax.set_title('Principal Components Cum. Variance', fontsize = 20)\n",
    "    ax.set_ylabel('Cumulative Variance % Explained', fontsize = 15)\n",
    "    ax.set_xlabel('Principal Components', fontsize = 15)\n",
    "\n",
    "    ax.axhline(treshold, color = '#177e89', linewidth = 1.75, linestyle = \"--\")\n",
    "\n",
    "    sns.barplot(x, y, palette = customized_col) \n",
    "    ax.bar_label(ax.containers[0])\n",
    "    plt.show()\n",
    "\n",
    "    # Part 4: we perform the PCA with the chosen number of principal components\n",
    "    # --------------------------------------------------------------------------------------------------------------------------------------------\n",
    "\n",
    "    pca = PCA(n_components = num_components)\n",
    "    principal_components = pca.fit_transform(X)\n",
    "\n",
    "    # Part 5: Just the print of the dataframe containing the principal components\n",
    "    # --------------------------------------------------------------------------------------------------------------------------------------------\n",
    "\n",
    "    print('*' * 105)\n",
    "    print('')\n",
    "    print('Our', num_components, 'principal components:')\n",
    "\n",
    "    return principal_components\n",
    "    \n",
    "\n",
    "pca = pca_hw4(X, treshold = 70)\n",
    "pca"
   ]
  },
  {
   "cell_type": "markdown",
   "metadata": {},
   "source": [
    "## 2.3: Clustering & K-means"
   ]
  },
  {
   "cell_type": "markdown",
   "metadata": {},
   "source": [
    "### 2.3.1: K-Means from scratch"
   ]
  },
  {
   "cell_type": "code",
   "execution_count": null,
   "metadata": {},
   "outputs": [],
   "source": []
  },
  {
   "cell_type": "markdown",
   "metadata": {},
   "source": [
    "### 2.3.2: Find an optimal number of clusters"
   ]
  },
  {
   "cell_type": "code",
   "execution_count": 18,
   "metadata": {},
   "outputs": [
    {
     "data": {
      "text/plain": [
       "array([[ 1.77067007, -0.06273376,  0.9067211 ],\n",
       "       [ 0.41589738, -0.26556426,  0.26514403],\n",
       "       [-0.21615943,  0.03967785,  0.48024651],\n",
       "       ...,\n",
       "       [ 0.35635928, -0.43661978, -0.60364831],\n",
       "       [ 0.23867051, -0.37246686, -0.89085847],\n",
       "       [ 1.35673523, -0.37143011, -0.30767482]])"
      ]
     },
     "execution_count": 18,
     "metadata": {},
     "output_type": "execute_result"
    }
   ],
   "source": [
    "pca"
   ]
  },
  {
   "cell_type": "code",
   "execution_count": 19,
   "metadata": {},
   "outputs": [
    {
     "data": {
      "image/png": "[encoded data removed]",
      "text/plain": [
       "<Figure size 460.8x345.6 with 1 Axes>"
      ]
     },
     "metadata": {},
     "output_type": "display_data"
    }
   ],
   "source": [
    "import matplotlib.pyplot as plt\n",
    "from kneed import KneeLocator\n",
    "from sklearn.datasets import make_blobs\n",
    "from sklearn.cluster import KMeans\n",
    "from sklearn.metrics import silhouette_score\n",
    "from sklearn.preprocessing import StandardScaler\n",
    "\n",
    "# First Method for the choice of the optimal number of clusters: Elbow Method\n",
    "\n",
    "kmeans_kwargs = { \"init\": \"random\", \"n_init\": 10, \"max_iter\": 300, \"random_state\": 42}\n",
    "\n",
    "sse = []\n",
    "\n",
    "for k in range(1, 11):\n",
    "    kmeans = KMeans(n_clusters=k, **kmeans_kwargs)\n",
    "    kmeans.fit(pca)\n",
    "    sse.append(kmeans.inertia_)\n",
    "\n",
    "plt.style.use(\"ggplot\")\n",
    "plt.figure(figsize = [6.4, 4.8])\n",
    "plt.plot(range(1, 11), sse)\n",
    "plt.xticks(range(1, 11))\n",
    "plt.xlabel(\"Number of Clusters\")\n",
    "plt.ylabel(\"SSE\")\n",
    "plt.title(\"Elbow Method for the choice of the \\n number of clusters\")\n",
    "plt.show()"
   ]
  },
  {
   "cell_type": "code",
   "execution_count": 22,
   "metadata": {},
   "outputs": [],
   "source": [
    "import tqdm"
   ]
  },
  {
   "cell_type": "code",
   "execution_count": 46,
   "metadata": {},
   "outputs": [
    {
     "name": "stdout",
     "output_type": "stream",
     "text": [
      "2 ... ... done\n",
      "3 ... ... done\n",
      "4 ... ... done\n",
      "5 ... ... done\n",
      "6 ... ... done\n"
     ]
    }
   ],
   "source": [
    "# Second Method for the choice of the optimal number of clusters: Silhouette Score\n",
    "\n",
    "# The Silhouette method is usually used togheter with the Elbow Method for a more precise decision.\n",
    "# The Silhouette coefficient varies from -1 to +1: the closer it is to 1, the more accurate the cluster partitioning is.\n",
    "# The advantage of this procedure is that it makes the choice of the number of clusters k more graphically clear (there is no elbow to look for in the graph...) and more accurate, but it has a major drawback. \n",
    "# In fact, in order to calculate this index, we need to calculate the coefficient for each of the possible values of k, and this substantially increases the computational complexity.\n",
    "\n",
    "range_n_clusters = [2, 3, 4, 5, 6]\n",
    "silhouette_avg = []\n",
    "for num_clusters in range_n_clusters:\n",
    " kmeans = KMeans(n_clusters = num_clusters)\n",
    " kmeans.fit(pca)\n",
    " cluster_labels = kmeans.labels_\n",
    " silhouette_avg.append(silhouette_score(pca[1:100000], cluster_labels[1:100000]))\n",
    " print(num_clusters, '... ... done')"
   ]
  },
  {
   "cell_type": "code",
   "execution_count": 60,
   "metadata": {},
   "outputs": [
    {
     "data": {
      "image/png": "[encoded data removed]",
      "text/plain": [
       "<Figure size 432x288 with 1 Axes>"
      ]
     },
     "metadata": {},
     "output_type": "display_data"
    }
   ],
   "source": [
    "plt.plot(range_n_clusters, silhouette_avg, 'green')\n",
    "plt.xlabel(\"Values of K\") \n",
    "plt.ylabel(\"Silhouette score\") \n",
    "plt.title(\"Silhouette analysis For Optimal k\")\n",
    "plt.show()"
   ]
  },
  {
   "cell_type": "markdown",
   "metadata": {},
   "source": [
    "We note that the silhouette index recommends choosing a number of clusters equal to k.\n",
    "However, it can be seen that the index calculated in k=3 and k=4 is very similar. In addition, we used a sample of only 100000 units (just over 10% of the total) to calculate this score.\n",
    "Therefore, also to make the algorithm computationally lighter in the next step, we choose to adopt a number of clusters equal to 3."
   ]
  },
  {
   "cell_type": "markdown",
   "metadata": {},
   "source": [
    "### 2.3.3: Algorithm on the data"
   ]
  },
  {
   "cell_type": "code",
   "execution_count": 296,
   "metadata": {},
   "outputs": [
    {
     "data": {
      "text/plain": [
       "array([0, 1, 2], dtype=int32)"
      ]
     },
     "execution_count": 296,
     "metadata": {},
     "output_type": "execute_result"
    }
   ],
   "source": [
    "# Now that we know how many clusters we need, we assign the labels:\n",
    "\n",
    "#Initialize the class object\n",
    "kmeans = KMeans(n_clusters= 3) #, init = 'k-means++', random_state=42\n",
    " \n",
    "labels = kmeans.fit_predict(pca)\n",
    "np.unique(labels)"
   ]
  },
  {
   "cell_type": "code",
   "execution_count": 346,
   "metadata": {},
   "outputs": [
    {
     "data": {
      "image/png": "[encoded data removed]",
      "text/plain": [
       "<Figure size 720x504 with 1 Axes>"
      ]
     },
     "metadata": {},
     "output_type": "display_data"
    }
   ],
   "source": [
    "# Our points look like this:\n",
    "\n",
    "pca_df = pd.DataFrame(pca)\n",
    "pca_df = pca_df.set_axis(['1PC', '2PC', '3PC'], axis=1, inplace=False)\n",
    "\n",
    "fig = plt.figure(figsize = (10, 7))\n",
    "ax = plt.axes(projection = \"3d\")\n",
    " \n",
    "# Creating plot\n",
    "ax.scatter3D(pca_df['1PC'], pca_df['2PC'], pca_df['3PC'])\n",
    "plt.title(\"simple 3D scatter plot\")\n",
    " \n",
    "# show plot\n",
    "plt.show()"
   ]
  },
  {
   "cell_type": "code",
   "execution_count": 353,
   "metadata": {},
   "outputs": [
    {
     "data": {
      "text/plain": [
       "<matplotlib.collections.PathCollection at 0x7fe0b595ac70>"
      ]
     },
     "execution_count": 353,
     "metadata": {},
     "output_type": "execute_result"
    },
    {
     "data": {
      "image/png": "[encoded data removed]",
      "text/plain": [
       "<Figure size 612x468 with 1 Axes>"
      ]
     },
     "metadata": {},
     "output_type": "display_data"
    }
   ],
   "source": [
    "# Of course it's not easy to visualize almost 1 million points... se we will go for a 2D representation.\n",
    "\n",
    "plt.figure(figsize=[8.5, 6.5])\n",
    "plt.scatter(pca[labels==0, 0], pca[labels==0, 1], s=60, c='red')\n",
    "plt.scatter(pca[labels==1, 0], pca[labels==1, 1], s=60, c='blue')\n",
    "plt.scatter(pca[labels==2, 0], pca[labels==2, 1], s=60, c='green')"
   ]
  },
  {
   "cell_type": "markdown",
   "metadata": {},
   "source": [
    "### 2.3.4: K-Means++"
   ]
  },
  {
   "cell_type": "code",
   "execution_count": 305,
   "metadata": {},
   "outputs": [
    {
     "data": {
      "image/png": "[encoded data removed]",
      "text/plain": [
       "<Figure size 460.8x345.6 with 1 Axes>"
      ]
     },
     "metadata": {},
     "output_type": "display_data"
    }
   ],
   "source": [
    "# Now we do the same thing using kmeans++\n",
    "\n",
    "sse = []\n",
    "\n",
    "for k in range(1, 11):\n",
    "    kmeans = KMeans(n_clusters = k, init = 'k-means++', random_state = 42)\n",
    "    kmeans.fit(pca)\n",
    "    sse.append(kmeans.inertia_)\n",
    "\n",
    "plt.style.use(\"ggplot\")\n",
    "plt.figure(figsize = [6.4, 4.8])\n",
    "plt.plot(range(1, 11), sse)\n",
    "plt.xticks(range(1, 11))\n",
    "plt.xlabel(\"Number of Clusters\")\n",
    "plt.ylabel(\"SSE\")\n",
    "plt.title(\"Elbow Method for the choice of the \\n number of clusters\")\n",
    "plt.show()"
   ]
  },
  {
   "cell_type": "code",
   "execution_count": 306,
   "metadata": {},
   "outputs": [
    {
     "data": {
      "text/plain": [
       "array([0, 1, 2], dtype=int32)"
      ]
     },
     "execution_count": 306,
     "metadata": {},
     "output_type": "execute_result"
    }
   ],
   "source": [
    "kmeans = KMeans(n_clusters= 3, init = 'k-means++', random_state = 42) #, init = 'k-means++', random_state=42\n",
    " \n",
    "labels = kmeans.fit_predict(pca)\n",
    "np.unique(labels)"
   ]
  },
  {
   "cell_type": "code",
   "execution_count": 354,
   "metadata": {},
   "outputs": [
    {
     "data": {
      "text/plain": [
       "<matplotlib.collections.PathCollection at 0x7fe037a83160>"
      ]
     },
     "execution_count": 354,
     "metadata": {},
     "output_type": "execute_result"
    },
    {
     "data": {
      "image/png": "[encoded data removed]",
      "text/plain": [
       "<Figure size 576x432 with 1 Axes>"
      ]
     },
     "metadata": {},
     "output_type": "display_data"
    }
   ],
   "source": [
    "plt.figure(figsize=[8, 6])\n",
    "plt.scatter(pca[labels==0, 0], pca[labels==0, 1], s=60, c='red')\n",
    "plt.scatter(pca[labels==1, 0], pca[labels==1, 1], s=60, c='blue')\n",
    "plt.scatter(pca[labels==2, 0], pca[labels==2, 1], s=60, c='green')\n",
    "\n",
    "# Exactly the same"
   ]
  },
  {
   "cell_type": "markdown",
   "metadata": {},
   "source": [
    "### 2.4 Analysing your results!"
   ]
  },
  {
   "cell_type": "code",
   "execution_count": 355,
   "metadata": {},
   "outputs": [
    {
     "data": {
      "text/plain": [
       "['CustomerID',\n",
       " 'Number_Transactions',\n",
       " 'Number_Transactions>100',\n",
       " 'Average_Amount_Transactions',\n",
       " 'Average_Balance',\n",
       " 'Utilisation',\n",
       " 'CustGender',\n",
       " 'CustLocation',\n",
       " 'Max_Amount_Transactions',\n",
       " 'Min_Amount_Transactions',\n",
       " 'Customer_Age',\n",
       " 'Max_%_Transaction',\n",
       " 'Last_Transaction',\n",
       " 'Last_Day_Transaction',\n",
       " 'Minimum_Balance',\n",
       " 'Number_Transactions>1000',\n",
       " 'Last_Month_Transaction',\n",
       " 'Maximum_Balance',\n",
       " 'Minimum_utilisation',\n",
       " 'Maximum_utilisation',\n",
       " 'Percentile_Max_%_Transaction',\n",
       " 'PercentileBalance',\n",
       " 'Rich',\n",
       " 'Minor',\n",
       " 'Age_Status',\n",
       " 'Poor',\n",
       " 'Suspicious_Account',\n",
       " 'Account_in_red']"
      ]
     },
     "execution_count": 355,
     "metadata": {},
     "output_type": "execute_result"
    }
   ],
   "source": [
    "normalised_variables.columns.tolist()"
   ]
  },
  {
   "cell_type": "markdown",
   "metadata": {},
   "source": [
    "### 2.4.1: Choice of the features"
   ]
  },
  {
   "cell_type": "code",
   "execution_count": 584,
   "metadata": {},
   "outputs": [
    {
     "data": {
      "text/html": [
       "<div>\n",
       "<style scoped>\n",
       "    .dataframe tbody tr th:only-of-type {\n",
       "        vertical-align: middle;\n",
       "    }\n",
       "\n",
       "    .dataframe tbody tr th {\n",
       "        vertical-align: top;\n",
       "    }\n",
       "\n",
       "    .dataframe thead th {\n",
       "        text-align: right;\n",
       "    }\n",
       "</style>\n",
       "<table border=\"1\" class=\"dataframe\">\n",
       "  <thead>\n",
       "    <tr style=\"text-align: right;\">\n",
       "      <th></th>\n",
       "      <th>Average_Balance</th>\n",
       "      <th>Age_Status</th>\n",
       "      <th>Average_Amount_Transactions</th>\n",
       "      <th>CustGender</th>\n",
       "      <th>Label</th>\n",
       "    </tr>\n",
       "  </thead>\n",
       "  <tbody>\n",
       "    <tr>\n",
       "      <th>0</th>\n",
       "      <td>76340.635</td>\n",
       "      <td>Young</td>\n",
       "      <td>2553.0</td>\n",
       "      <td>F</td>\n",
       "      <td>0</td>\n",
       "    </tr>\n",
       "    <tr>\n",
       "      <th>1</th>\n",
       "      <td>24204.490</td>\n",
       "      <td>Young</td>\n",
       "      <td>1499.0</td>\n",
       "      <td>M</td>\n",
       "      <td>0</td>\n",
       "    </tr>\n",
       "    <tr>\n",
       "      <th>2</th>\n",
       "      <td>100112.950</td>\n",
       "      <td>Young</td>\n",
       "      <td>727.5</td>\n",
       "      <td>F</td>\n",
       "      <td>0</td>\n",
       "    </tr>\n",
       "    <tr>\n",
       "      <th>3</th>\n",
       "      <td>496.180</td>\n",
       "      <td>Young</td>\n",
       "      <td>30.0</td>\n",
       "      <td>F</td>\n",
       "      <td>0</td>\n",
       "    </tr>\n",
       "    <tr>\n",
       "      <th>4</th>\n",
       "      <td>87058.650</td>\n",
       "      <td>Adult</td>\n",
       "      <td>5000.0</td>\n",
       "      <td>M</td>\n",
       "      <td>0</td>\n",
       "    </tr>\n",
       "  </tbody>\n",
       "</table>\n",
       "</div>"
      ],
      "text/plain": [
       "   Average_Balance Age_Status  Average_Amount_Transactions CustGender  Label\n",
       "0        76340.635      Young                       2553.0          F      0\n",
       "1        24204.490      Young                       1499.0          M      0\n",
       "2       100112.950      Young                        727.5          F      0\n",
       "3          496.180      Young                         30.0          F      0\n",
       "4        87058.650      Adult                       5000.0          M      0"
      ]
     },
     "execution_count": 584,
     "metadata": {},
     "output_type": "execute_result"
    }
   ],
   "source": [
    "# Average_Balance  -> rich/poor\n",
    "# Age_Status\n",
    "# Average_Amount_Transactions\n",
    "# Cust_Gender\n",
    "\n",
    "# We have to categorise these variables. We perform this operation on the original variables, not the transformed ones.\n",
    "# First, we create a copy of the dataset containing transformed variables:\n",
    "\n",
    "data_small_2 = data_small.copy()\n",
    "\n",
    "# Then we remove the +inf and -inf values, so that the lenght of this dataset will correspond to the lenght of the standardized dataset\n",
    "data_small_2 = data_small_2.replace([np.inf, -np.inf], np.nan, inplace=False) \n",
    "data_small_2 = data_small_2.dropna()\n",
    "#data_small_2.head()\n",
    "\n",
    "# Now we select only the variables we are interested in:\n",
    "data_small_2 = data_small_2[['Average_Balance', 'Age_Status', 'Average_Amount_Transactions', 'CustGender']]\n",
    "\n",
    "# Notice: we will keep the Age_Status variable categorized in 3 gruops, not in 4, because otherwise there would be an imbalance due to a strong presence of people between 31 and 33 that would negatively impact the analysis \n",
    "\n",
    "# Finally we add the label of the cluster to each customer:\n",
    "data_small_2['Label'] = labels\n",
    "\n",
    "# A quick look\n",
    "data_small_2.head()"
   ]
  },
  {
   "cell_type": "code",
   "execution_count": null,
   "metadata": {},
   "outputs": [],
   "source": [
    "# Pivot Table\n",
    "# https://pandas.pydata.org/docs/user_guide/reshaping.html"
   ]
  },
  {
   "cell_type": "code",
   "execution_count": 585,
   "metadata": {},
   "outputs": [
    {
     "data": {
      "text/html": [
       "<div>\n",
       "<style scoped>\n",
       "    .dataframe tbody tr th:only-of-type {\n",
       "        vertical-align: middle;\n",
       "    }\n",
       "\n",
       "    .dataframe tbody tr th {\n",
       "        vertical-align: top;\n",
       "    }\n",
       "\n",
       "    .dataframe thead tr th {\n",
       "        text-align: left;\n",
       "    }\n",
       "\n",
       "    .dataframe thead tr:last-of-type th {\n",
       "        text-align: right;\n",
       "    }\n",
       "</style>\n",
       "<table border=\"1\" class=\"dataframe\">\n",
       "  <thead>\n",
       "    <tr>\n",
       "      <th></th>\n",
       "      <th colspan=\"2\" halign=\"left\">Average_Amount_Transactions</th>\n",
       "      <th colspan=\"2\" halign=\"left\">Average_Balance</th>\n",
       "    </tr>\n",
       "    <tr>\n",
       "      <th>CustGender</th>\n",
       "      <th>F</th>\n",
       "      <th>M</th>\n",
       "      <th>F</th>\n",
       "      <th>M</th>\n",
       "    </tr>\n",
       "    <tr>\n",
       "      <th>Label</th>\n",
       "      <th></th>\n",
       "      <th></th>\n",
       "      <th></th>\n",
       "      <th></th>\n",
       "    </tr>\n",
       "  </thead>\n",
       "  <tbody>\n",
       "    <tr>\n",
       "      <th>0</th>\n",
       "      <td>1564.694922</td>\n",
       "      <td>1372.473722</td>\n",
       "      <td>9.795951e+04</td>\n",
       "      <td>1.030088e+05</td>\n",
       "    </tr>\n",
       "    <tr>\n",
       "      <th>1</th>\n",
       "      <td>1634.694483</td>\n",
       "      <td>1477.415967</td>\n",
       "      <td>8.630168e+04</td>\n",
       "      <td>9.390705e+04</td>\n",
       "    </tr>\n",
       "    <tr>\n",
       "      <th>2</th>\n",
       "      <td>3288.924844</td>\n",
       "      <td>14819.501165</td>\n",
       "      <td>5.584985e+07</td>\n",
       "      <td>4.629187e+07</td>\n",
       "    </tr>\n",
       "  </tbody>\n",
       "</table>\n",
       "</div>"
      ],
      "text/plain": [
       "           Average_Amount_Transactions               Average_Balance  \\\n",
       "CustGender                           F             M               F   \n",
       "Label                                                                  \n",
       "0                          1564.694922   1372.473722    9.795951e+04   \n",
       "1                          1634.694483   1477.415967    8.630168e+04   \n",
       "2                          3288.924844  14819.501165    5.584985e+07   \n",
       "\n",
       "                          \n",
       "CustGender             M  \n",
       "Label                     \n",
       "0           1.030088e+05  \n",
       "1           9.390705e+04  \n",
       "2           4.629187e+07  "
      ]
     },
     "metadata": {},
     "output_type": "display_data"
    },
    {
     "data": {
      "text/plain": [
       "'***************************************************************************'"
      ]
     },
     "metadata": {},
     "output_type": "display_data"
    },
    {
     "data": {
      "text/plain": [
       "'***************************************************************************'"
      ]
     },
     "metadata": {},
     "output_type": "display_data"
    },
    {
     "data": {
      "text/html": [
       "<div>\n",
       "<style scoped>\n",
       "    .dataframe tbody tr th:only-of-type {\n",
       "        vertical-align: middle;\n",
       "    }\n",
       "\n",
       "    .dataframe tbody tr th {\n",
       "        vertical-align: top;\n",
       "    }\n",
       "\n",
       "    .dataframe thead tr th {\n",
       "        text-align: left;\n",
       "    }\n",
       "\n",
       "    .dataframe thead tr:last-of-type th {\n",
       "        text-align: right;\n",
       "    }\n",
       "</style>\n",
       "<table border=\"1\" class=\"dataframe\">\n",
       "  <thead>\n",
       "    <tr>\n",
       "      <th></th>\n",
       "      <th colspan=\"3\" halign=\"left\">Average_Amount_Transactions</th>\n",
       "      <th colspan=\"3\" halign=\"left\">Average_Balance</th>\n",
       "    </tr>\n",
       "    <tr>\n",
       "      <th>Age_Status</th>\n",
       "      <th>Adult</th>\n",
       "      <th>Elderly</th>\n",
       "      <th>Young</th>\n",
       "      <th>Adult</th>\n",
       "      <th>Elderly</th>\n",
       "      <th>Young</th>\n",
       "    </tr>\n",
       "    <tr>\n",
       "      <th>Label</th>\n",
       "      <th></th>\n",
       "      <th></th>\n",
       "      <th></th>\n",
       "      <th></th>\n",
       "      <th></th>\n",
       "      <th></th>\n",
       "    </tr>\n",
       "  </thead>\n",
       "  <tbody>\n",
       "    <tr>\n",
       "      <th>0</th>\n",
       "      <td>1819.593895</td>\n",
       "      <td>3277.148738</td>\n",
       "      <td>1018.815350</td>\n",
       "      <td>1.447471e+05</td>\n",
       "      <td>3.402137e+05</td>\n",
       "      <td>5.424615e+04</td>\n",
       "    </tr>\n",
       "    <tr>\n",
       "      <th>1</th>\n",
       "      <td>1967.037295</td>\n",
       "      <td>3394.677068</td>\n",
       "      <td>1072.404139</td>\n",
       "      <td>1.375119e+05</td>\n",
       "      <td>3.304308e+05</td>\n",
       "      <td>4.418432e+04</td>\n",
       "    </tr>\n",
       "    <tr>\n",
       "      <th>2</th>\n",
       "      <td>19206.286232</td>\n",
       "      <td>6655.795833</td>\n",
       "      <td>4164.166667</td>\n",
       "      <td>4.950065e+07</td>\n",
       "      <td>4.867478e+07</td>\n",
       "      <td>4.661847e+07</td>\n",
       "    </tr>\n",
       "  </tbody>\n",
       "</table>\n",
       "</div>"
      ],
      "text/plain": [
       "           Average_Amount_Transactions                            \\\n",
       "Age_Status                       Adult      Elderly        Young   \n",
       "Label                                                              \n",
       "0                          1819.593895  3277.148738  1018.815350   \n",
       "1                          1967.037295  3394.677068  1072.404139   \n",
       "2                         19206.286232  6655.795833  4164.166667   \n",
       "\n",
       "           Average_Balance                              \n",
       "Age_Status           Adult       Elderly         Young  \n",
       "Label                                                   \n",
       "0             1.447471e+05  3.402137e+05  5.424615e+04  \n",
       "1             1.375119e+05  3.304308e+05  4.418432e+04  \n",
       "2             4.950065e+07  4.867478e+07  4.661847e+07  "
      ]
     },
     "metadata": {},
     "output_type": "display_data"
    }
   ],
   "source": [
    "# Before we categorize, look at the following two tables:\n",
    "\n",
    "display(\n",
    "    data_small_2.pivot_table(index=['Label'], columns=['CustGender'], aggfunc='mean'),\n",
    "    '*' * 75,\n",
    "    '*' * 75,\n",
    "    data_small_2.pivot_table(index=['Label'], columns=['Age_Status'], aggfunc='mean')\n",
    ")\n",
    "\n",
    "# What immediately jumps out is that there does not seem to be a 'gender effect'.\n",
    "# The difference between the two variables (and thus also in the cluster division...) seems to depend more on age!\n",
    "# The older one gets, the larger the bank account grows, and consequently larger transactions can be made. For example, look at the difference in Average_Amount_Transactions between young and old, especially in the first two clusters: the ratio is almost 3:1!\n",
    "# Viceversa, this difference is not evident if we divide customers by gender. We conclude that the gender of clients is not a discriminating variable.\n"
   ]
  },
  {
   "cell_type": "markdown",
   "metadata": {},
   "source": [
    "### 2.4.2, 2.4.3, 2.4.4, 2.4.5: Categorization & Pivot Tables"
   ]
  },
  {
   "cell_type": "code",
   "execution_count": 586,
   "metadata": {},
   "outputs": [],
   "source": [
    "# Now we have to categorise our variables. Age_status and Cust_Gender are already categorised, so we have to transform Average_balance and Average_Amount_Transactions.\n",
    "# We need to divide into 4 categories, and we want to balance the dimension of each class we are going to create, in order not to introduce some sort of bias --> 200k for each class\n",
    "\n",
    "# Part 1: categorize Average_balance\n",
    "\n",
    "data_small_2.loc[(data_small_2['Average_Balance'] >= 0) & (data_small_2['Average_Balance'] <= 5500) , 'Average_Balance'] = 1\n",
    "data_small_2.loc[(data_small_2['Average_Balance'] > 5500) & (data_small_2['Average_Balance'] <= 18000), 'Average_Balance' ] = 2\n",
    "data_small_2.loc[(data_small_2['Average_Balance'] > 18000) & (data_small_2['Average_Balance'] <= 60000), 'Average_Balance' ] = 3\n",
    "data_small_2.loc[data_small_2['Average_Balance'] > 60000, 'Average_Balance'] = 4\n",
    "\n",
    "data_small_2['Average_Balance'] = data_small_2['Average_Balance'].astype('int')\n",
    "\n",
    "# Part 2: categorize Average_Amount_Transactions\n",
    "\n",
    "data_small_2.loc[(data_small_2['Average_Amount_Transactions'] >= 0) & (data_small_2['Average_Amount_Transactions'] <= 175) , 'Average_Amount_Transactions'] = 1\n",
    "data_small_2.loc[(data_small_2['Average_Amount_Transactions'] > 175) & (data_small_2['Average_Amount_Transactions'] <= 450), 'Average_Amount_Transactions' ] = 2\n",
    "data_small_2.loc[(data_small_2['Average_Amount_Transactions'] > 450) & (data_small_2['Average_Amount_Transactions'] <= 1100), 'Average_Amount_Transactions' ] = 3\n",
    "data_small_2.loc[data_small_2['Average_Amount_Transactions'] > 1100, 'Average_Amount_Transactions'] = 4\n",
    "\n",
    "data_small_2['Average_Amount_Transactions'] = data_small_2['Average_Amount_Transactions'].astype('int')\n",
    "\n",
    "# So we set 1 for low balances and low average transactions, 4 for the high values end the middle numbers for middle values"
   ]
  },
  {
   "cell_type": "code",
   "execution_count": 520,
   "metadata": {},
   "outputs": [
    {
     "data": {
      "text/html": [
       "<div>\n",
       "<style scoped>\n",
       "    .dataframe tbody tr th:only-of-type {\n",
       "        vertical-align: middle;\n",
       "    }\n",
       "\n",
       "    .dataframe tbody tr th {\n",
       "        vertical-align: top;\n",
       "    }\n",
       "\n",
       "    .dataframe thead th {\n",
       "        text-align: right;\n",
       "    }\n",
       "</style>\n",
       "<table border=\"1\" class=\"dataframe\">\n",
       "  <thead>\n",
       "    <tr style=\"text-align: right;\">\n",
       "      <th></th>\n",
       "      <th>Average_Balance</th>\n",
       "      <th>Age_Status</th>\n",
       "      <th>Average_Amount_Transactions</th>\n",
       "      <th>CustGender</th>\n",
       "      <th>Label</th>\n",
       "    </tr>\n",
       "  </thead>\n",
       "  <tbody>\n",
       "    <tr>\n",
       "      <th>0</th>\n",
       "      <td>4</td>\n",
       "      <td>Young</td>\n",
       "      <td>4</td>\n",
       "      <td>F</td>\n",
       "      <td>0</td>\n",
       "    </tr>\n",
       "    <tr>\n",
       "      <th>1</th>\n",
       "      <td>3</td>\n",
       "      <td>Young</td>\n",
       "      <td>4</td>\n",
       "      <td>M</td>\n",
       "      <td>0</td>\n",
       "    </tr>\n",
       "    <tr>\n",
       "      <th>2</th>\n",
       "      <td>4</td>\n",
       "      <td>Young</td>\n",
       "      <td>3</td>\n",
       "      <td>F</td>\n",
       "      <td>0</td>\n",
       "    </tr>\n",
       "    <tr>\n",
       "      <th>3</th>\n",
       "      <td>1</td>\n",
       "      <td>Young</td>\n",
       "      <td>1</td>\n",
       "      <td>F</td>\n",
       "      <td>0</td>\n",
       "    </tr>\n",
       "    <tr>\n",
       "      <th>4</th>\n",
       "      <td>4</td>\n",
       "      <td>Adult</td>\n",
       "      <td>4</td>\n",
       "      <td>M</td>\n",
       "      <td>0</td>\n",
       "    </tr>\n",
       "    <tr>\n",
       "      <th>5</th>\n",
       "      <td>4</td>\n",
       "      <td>Young</td>\n",
       "      <td>3</td>\n",
       "      <td>F</td>\n",
       "      <td>0</td>\n",
       "    </tr>\n",
       "    <tr>\n",
       "      <th>6</th>\n",
       "      <td>1</td>\n",
       "      <td>Adult</td>\n",
       "      <td>3</td>\n",
       "      <td>M</td>\n",
       "      <td>1</td>\n",
       "    </tr>\n",
       "    <tr>\n",
       "      <th>7</th>\n",
       "      <td>4</td>\n",
       "      <td>Young</td>\n",
       "      <td>2</td>\n",
       "      <td>M</td>\n",
       "      <td>0</td>\n",
       "    </tr>\n",
       "    <tr>\n",
       "      <th>8</th>\n",
       "      <td>4</td>\n",
       "      <td>Young</td>\n",
       "      <td>2</td>\n",
       "      <td>M</td>\n",
       "      <td>0</td>\n",
       "    </tr>\n",
       "    <tr>\n",
       "      <th>9</th>\n",
       "      <td>4</td>\n",
       "      <td>Adult</td>\n",
       "      <td>4</td>\n",
       "      <td>M</td>\n",
       "      <td>0</td>\n",
       "    </tr>\n",
       "  </tbody>\n",
       "</table>\n",
       "</div>"
      ],
      "text/plain": [
       "   Average_Balance Age_Status  Average_Amount_Transactions CustGender  Label\n",
       "0                4      Young                            4          F      0\n",
       "1                3      Young                            4          M      0\n",
       "2                4      Young                            3          F      0\n",
       "3                1      Young                            1          F      0\n",
       "4                4      Adult                            4          M      0\n",
       "5                4      Young                            3          F      0\n",
       "6                1      Adult                            3          M      1\n",
       "7                4      Young                            2          M      0\n",
       "8                4      Young                            2          M      0\n",
       "9                4      Adult                            4          M      0"
      ]
     },
     "execution_count": 520,
     "metadata": {},
     "output_type": "execute_result"
    }
   ],
   "source": [
    "data_small_2.head(10)"
   ]
  },
  {
   "cell_type": "code",
   "execution_count": 610,
   "metadata": {},
   "outputs": [
    {
     "name": "stdout",
     "output_type": "stream",
     "text": [
      "In cluster 0 there are 199958 F\n",
      "In cluster 0 there are 448909 M\n",
      "In cluster 1 there are 53230 F\n",
      "In cluster 1 there are 134862 M\n",
      "In cluster 2 there are 32 F\n",
      "In cluster 2 there are 83 M\n",
      "[0, 0, 1, 1, 2, 2]\n",
      "[199958, 448909, 53230, 134862, 32, 83]\n",
      "['F', 'M', 'F', 'M', 'F', 'M']\n"
     ]
    }
   ],
   "source": [
    "# We now turn to calculating percentages in pivot tables.\n",
    "\n",
    "#def pivot_table_percentage(dataset, group):\n",
    "    #columns = dataset.columns.tolist()\n",
    "\n",
    "    #group = dataset[group]\n",
    "\n",
    "    #for col in columns:\n",
    "        #for cat in np.unique(dataset[col]).tolist():\n",
    "            #for gr in np.unique(dataset[col]).tolist():\n",
    "                \n",
    "\n",
    "##\n",
    "\n",
    "pivot_table_cluster = []\n",
    "pivot_table_gender1 = []\n",
    "pivot_table_gender2 = []\n",
    "\n",
    "for cluster in np.unique(data_small_2.Label).tolist():\n",
    "    pivot_table_cluster.append(cluster)\n",
    "    pivot_table_cluster.append(cluster)\n",
    "    for gender in np.unique(data_small_2.CustGender).tolist():\n",
    "        pivot_table_gender1.append(len( data_small_2[(data_small_2['Label'] == cluster) & (data_small_2['CustGender'] == gender)] ))\n",
    "        pivot_table_gender2.append(gender)\n",
    "        print( 'In cluster', cluster, 'there are', len( data_small_2[(data_small_2['Label'] == cluster) & (data_small_2['CustGender'] == gender)] ), gender )\n",
    "        #print('So we create some new pivot tables')\n",
    "        #print('')\n",
    "\n",
    "print(pivot_table_cluster)\n",
    "print(pivot_table_gender1)\n",
    "print(pivot_table_gender2)"
   ]
  },
  {
   "cell_type": "code",
   "execution_count": 640,
   "metadata": {},
   "outputs": [
    {
     "data": {
      "text/html": [
       "<div>\n",
       "<style scoped>\n",
       "    .dataframe tbody tr th:only-of-type {\n",
       "        vertical-align: middle;\n",
       "    }\n",
       "\n",
       "    .dataframe tbody tr th {\n",
       "        vertical-align: top;\n",
       "    }\n",
       "\n",
       "    .dataframe thead th {\n",
       "        text-align: right;\n",
       "    }\n",
       "</style>\n",
       "<table border=\"1\" class=\"dataframe\">\n",
       "  <thead>\n",
       "    <tr style=\"text-align: right;\">\n",
       "      <th></th>\n",
       "      <th>F</th>\n",
       "      <th>M</th>\n",
       "    </tr>\n",
       "  </thead>\n",
       "  <tbody>\n",
       "    <tr>\n",
       "      <th>0</th>\n",
       "      <td>30.816485</td>\n",
       "      <td>69.183515</td>\n",
       "    </tr>\n",
       "    <tr>\n",
       "      <th>1</th>\n",
       "      <td>28.299981</td>\n",
       "      <td>71.700019</td>\n",
       "    </tr>\n",
       "    <tr>\n",
       "      <th>2</th>\n",
       "      <td>27.826087</td>\n",
       "      <td>72.173913</td>\n",
       "    </tr>\n",
       "  </tbody>\n",
       "</table>\n",
       "</div>"
      ],
      "text/plain": [
       "           F          M\n",
       "0  30.816485  69.183515\n",
       "1  28.299981  71.700019\n",
       "2  27.826087  72.173913"
      ]
     },
     "metadata": {},
     "output_type": "display_data"
    },
    {
     "data": {
      "text/plain": [
       "'***********************************'"
      ]
     },
     "metadata": {},
     "output_type": "display_data"
    },
    {
     "data": {
      "text/html": [
       "<div>\n",
       "<style scoped>\n",
       "    .dataframe tbody tr th:only-of-type {\n",
       "        vertical-align: middle;\n",
       "    }\n",
       "\n",
       "    .dataframe tbody tr th {\n",
       "        vertical-align: top;\n",
       "    }\n",
       "\n",
       "    .dataframe thead th {\n",
       "        text-align: right;\n",
       "    }\n",
       "</style>\n",
       "<table border=\"1\" class=\"dataframe\">\n",
       "  <thead>\n",
       "    <tr style=\"text-align: right;\">\n",
       "      <th></th>\n",
       "      <th>Young</th>\n",
       "      <th>Adult</th>\n",
       "      <th>Elderly</th>\n",
       "    </tr>\n",
       "  </thead>\n",
       "  <tbody>\n",
       "    <tr>\n",
       "      <th>0</th>\n",
       "      <td>51.653112</td>\n",
       "      <td>46.580732</td>\n",
       "      <td>1.766155</td>\n",
       "    </tr>\n",
       "    <tr>\n",
       "      <th>1</th>\n",
       "      <td>52.207962</td>\n",
       "      <td>46.253961</td>\n",
       "      <td>1.538077</td>\n",
       "    </tr>\n",
       "    <tr>\n",
       "      <th>2</th>\n",
       "      <td>2.608696</td>\n",
       "      <td>40.000000</td>\n",
       "      <td>57.391304</td>\n",
       "    </tr>\n",
       "  </tbody>\n",
       "</table>\n",
       "</div>"
      ],
      "text/plain": [
       "       Young      Adult    Elderly\n",
       "0  51.653112  46.580732   1.766155\n",
       "1  52.207962  46.253961   1.538077\n",
       "2   2.608696  40.000000  57.391304"
      ]
     },
     "metadata": {},
     "output_type": "display_data"
    }
   ],
   "source": [
    "n_0 = len( data_small_2[data_small_2['Label'] == 0] ) \n",
    "n_1 = len( data_small_2[data_small_2['Label'] == 1] ) \n",
    "n_2 = len( data_small_2[data_small_2['Label'] == 2] )\n",
    "\n",
    "f_0 = len( data_small_2[ (data_small_2['Label'] == 0) & (data_small_2['CustGender'] == 'F') ] ) \n",
    "m_0 = len( data_small_2[ (data_small_2['Label'] == 0) & (data_small_2['CustGender'] == 'M') ] )\n",
    "f_1 = len( data_small_2[ (data_small_2['Label'] == 1) & (data_small_2['CustGender'] == 'F') ] ) \n",
    "m_1 = len( data_small_2[ (data_small_2['Label'] == 1) & (data_small_2['CustGender'] == 'M') ] )\n",
    "f_2 = len( data_small_2[ (data_small_2['Label'] == 2) & (data_small_2['CustGender'] == 'F') ] ) \n",
    "m_2 = len( data_small_2[ (data_small_2['Label'] == 2) & (data_small_2['CustGender'] == 'M') ] )\n",
    "\n",
    "piv_t_gender = pd.DataFrame([ [f_0/n_0, m_0/n_0], [f_1/n_1, m_1/n_1], [f_2/n_2, m_2/n_2]]).set_axis(['F', 'M'], axis=1, inplace=False) * 100\n",
    "\n",
    "##############################################################################################################################################\n",
    "\n",
    "y_0 = len( data_small_2[ (data_small_2['Label'] == 0) & (data_small_2['Age_Status'] == 'Young') ] ) \n",
    "a_0 = len( data_small_2[ (data_small_2['Label'] == 0) & (data_small_2['Age_Status'] == 'Adult') ] )\n",
    "e_0  = len( data_small_2[ (data_small_2['Label'] == 0) & (data_small_2['Age_Status'] == 'Elderly') ] )\n",
    "\n",
    "y_1 = len( data_small_2[ (data_small_2['Label'] == 1) & (data_small_2['Age_Status'] == 'Young') ] ) \n",
    "a_1 = len( data_small_2[ (data_small_2['Label'] == 1) & (data_small_2['Age_Status'] == 'Adult') ] )\n",
    "e_1  = len( data_small_2[ (data_small_2['Label'] == 1) & (data_small_2['Age_Status'] == 'Elderly') ] )\n",
    "\n",
    "y_2 = len( data_small_2[ (data_small_2['Label'] == 2) & (data_small_2['Age_Status'] == 'Young') ] ) \n",
    "a_2 = len( data_small_2[ (data_small_2['Label'] == 2) & (data_small_2['Age_Status'] == 'Adult') ] )\n",
    "e_2  = len( data_small_2[ (data_small_2['Label'] == 2) & (data_small_2['Age_Status'] == 'Elderly') ] )\n",
    "\n",
    "piv_t_age = pd.DataFrame([ [y_0/n_0, a_0/n_0, e_0/n_0], [y_1/n_1, a_1/n_1, e_1/n_1], [y_2/n_2, a_2/n_2, e_2/n_2]]).set_axis(['Young', 'Adult', 'Elderly'], axis=1, inplace=False) * 100\n",
    "\n",
    "###############################################################################################################################################\n",
    "\n",
    "display(piv_t_gender, '*'*35, piv_t_age)\n"
   ]
  },
  {
   "cell_type": "markdown",
   "metadata": {},
   "source": [
    "### 2.4.6: Metrics to estimate clustering algorithm performance"
   ]
  },
  {
   "cell_type": "code",
   "execution_count": null,
   "metadata": {},
   "outputs": [],
   "source": []
  },
  {
   "cell_type": "markdown",
   "metadata": {},
   "source": [
    "# Ioannis"
   ]
  },
  {
   "cell_type": "code",
   "execution_count": 54,
   "metadata": {},
   "outputs": [],
   "source": [
    "age_balance = data[['CustomerID', 'CustomerAge', 'CustAccountBalance']].groupby('CustomerID').last()"
   ]
  },
  {
   "cell_type": "code",
   "execution_count": 55,
   "metadata": {},
   "outputs": [
    {
     "data": {
      "text/html": [
       "<div>\n",
       "<style scoped>\n",
       "    .dataframe tbody tr th:only-of-type {\n",
       "        vertical-align: middle;\n",
       "    }\n",
       "\n",
       "    .dataframe tbody tr th {\n",
       "        vertical-align: top;\n",
       "    }\n",
       "\n",
       "    .dataframe thead th {\n",
       "        text-align: right;\n",
       "    }\n",
       "</style>\n",
       "<table border=\"1\" class=\"dataframe\">\n",
       "  <thead>\n",
       "    <tr style=\"text-align: right;\">\n",
       "      <th></th>\n",
       "      <th>CustomerAge</th>\n",
       "      <th>CustAccountBalance</th>\n",
       "    </tr>\n",
       "    <tr>\n",
       "      <th>CustomerID</th>\n",
       "      <th></th>\n",
       "      <th></th>\n",
       "    </tr>\n",
       "  </thead>\n",
       "  <tbody>\n",
       "    <tr>\n",
       "      <th>C1010011</th>\n",
       "      <td>40</td>\n",
       "      <td>120180.54</td>\n",
       "    </tr>\n",
       "    <tr>\n",
       "      <th>C1010012</th>\n",
       "      <td>28</td>\n",
       "      <td>24204.49</td>\n",
       "    </tr>\n",
       "    <tr>\n",
       "      <th>C1010014</th>\n",
       "      <td>38</td>\n",
       "      <td>161848.76</td>\n",
       "    </tr>\n",
       "    <tr>\n",
       "      <th>C1010018</th>\n",
       "      <td>32</td>\n",
       "      <td>496.18</td>\n",
       "    </tr>\n",
       "    <tr>\n",
       "      <th>C1010024</th>\n",
       "      <td>57</td>\n",
       "      <td>87058.65</td>\n",
       "    </tr>\n",
       "    <tr>\n",
       "      <th>...</th>\n",
       "      <td>...</td>\n",
       "      <td>...</td>\n",
       "    </tr>\n",
       "    <tr>\n",
       "      <th>C9099836</th>\n",
       "      <td>32</td>\n",
       "      <td>133067.23</td>\n",
       "    </tr>\n",
       "    <tr>\n",
       "      <th>C9099877</th>\n",
       "      <td>26</td>\n",
       "      <td>96063.46</td>\n",
       "    </tr>\n",
       "    <tr>\n",
       "      <th>C9099919</th>\n",
       "      <td>29</td>\n",
       "      <td>5559.75</td>\n",
       "    </tr>\n",
       "    <tr>\n",
       "      <th>C9099941</th>\n",
       "      <td>28</td>\n",
       "      <td>35295.92</td>\n",
       "    </tr>\n",
       "    <tr>\n",
       "      <th>C9099956</th>\n",
       "      <td>40</td>\n",
       "      <td>6968.93</td>\n",
       "    </tr>\n",
       "  </tbody>\n",
       "</table>\n",
       "<p>839081 rows × 2 columns</p>\n",
       "</div>"
      ],
      "text/plain": [
       "            CustomerAge  CustAccountBalance\n",
       "CustomerID                                 \n",
       "C1010011             40           120180.54\n",
       "C1010012             28            24204.49\n",
       "C1010014             38           161848.76\n",
       "C1010018             32              496.18\n",
       "C1010024             57            87058.65\n",
       "...                 ...                 ...\n",
       "C9099836             32           133067.23\n",
       "C9099877             26            96063.46\n",
       "C9099919             29             5559.75\n",
       "C9099941             28            35295.92\n",
       "C9099956             40             6968.93\n",
       "\n",
       "[839081 rows x 2 columns]"
      ]
     },
     "execution_count": 55,
     "metadata": {},
     "output_type": "execute_result"
    },
    {
     "data": {
      "image/png": "[encoded data removed]",
      "text/plain": [
       "<Figure size 432x288 with 1 Axes>"
      ]
     },
     "metadata": {
      "needs_background": "light"
     },
     "output_type": "display_data"
    }
   ],
   "source": [
    "import seaborn as sns\n",
    "\n",
    "sns.scatterplot(x = age_balance.CustomerAge, y = age_balance.CustAccountBalance)\n",
    "age_balance"
   ]
  },
  {
   "cell_type": "markdown",
   "metadata": {},
   "source": [
    "## Hierarchical Clustering"
   ]
  },
  {
   "cell_type": "code",
   "execution_count": 58,
   "metadata": {},
   "outputs": [],
   "source": [
    "from scipy.cluster.hierarchy import dendrogram, linkage"
   ]
  },
  {
   "cell_type": "code",
   "execution_count": 56,
   "metadata": {},
   "outputs": [
    {
     "data": {
      "text/plain": [
       "<AxesSubplot:xlabel='CustomerAge', ylabel='CustAccountBalance'>"
      ]
     },
     "execution_count": 56,
     "metadata": {},
     "output_type": "execute_result"
    },
    {
     "data": {
      "image/png": "[encoded data removed]",
      "text/plain": [
       "<Figure size 432x288 with 1 Axes>"
      ]
     },
     "metadata": {
      "needs_background": "light"
     },
     "output_type": "display_data"
    }
   ],
   "source": [
    "age_balance_sample = age_balance.sample(1000)\n",
    "\n",
    "sns.scatterplot(x = age_balance_sample.CustomerAge, y = age_balance_sample.CustAccountBalance)"
   ]
  },
  {
   "cell_type": "code",
   "execution_count": 59,
   "metadata": {},
   "outputs": [
    {
     "data": {
      "image/png": "[encoded data removed]",
      "text/plain": [
       "<Figure size 432x288 with 1 Axes>"
      ]
     },
     "metadata": {
      "needs_background": "light"
     },
     "output_type": "display_data"
    }
   ],
   "source": [
    "dend = dendrogram(linkage(age_balance_sample, method = 'ward'))"
   ]
  },
  {
   "cell_type": "code",
   "execution_count": 60,
   "metadata": {},
   "outputs": [],
   "source": [
    "from sklearn.cluster import AgglomerativeClustering\n",
    "\n",
    "model = AgglomerativeClustering(n_clusters=8, affinity='euclidean', linkage = 'single')"
   ]
  },
  {
   "cell_type": "code",
   "execution_count": 61,
   "metadata": {},
   "outputs": [],
   "source": [
    "age_balance_sample['cluster'] = model.fit_predict(age_balance_sample)\n",
    "\n",
    "unique_values = len(age_balance_sample.cluster.unique())"
   ]
  },
  {
   "cell_type": "code",
   "execution_count": 62,
   "metadata": {},
   "outputs": [
    {
     "data": {
      "text/plain": [
       "<AxesSubplot:xlabel='CustomerAge', ylabel='CustAccountBalance'>"
      ]
     },
     "execution_count": 62,
     "metadata": {},
     "output_type": "execute_result"
    },
    {
     "data": {
      "image/png": "[encoded data removed]",
      "text/plain": [
       "<Figure size 432x288 with 1 Axes>"
      ]
     },
     "metadata": {
      "needs_background": "light"
     },
     "output_type": "display_data"
    }
   ],
   "source": [
    "sns.scatterplot(x = age_balance_sample.CustomerAge, y = age_balance_sample.CustAccountBalance, hue = age_balance_sample.cluster, palette = sns.color_palette('hls', unique_values))"
   ]
  },
  {
   "cell_type": "code",
   "execution_count": 135,
   "metadata": {},
   "outputs": [
    {
     "data": {
      "text/html": [
       "<svg  width=\"440\" height=\"55\"><rect x=\"0\" y=\"0\" width=\"55\" height=\"55\" style=\"fill:#db5f57;stroke-width:2;stroke:rgb(255,255,255)\"/><rect x=\"55\" y=\"0\" width=\"55\" height=\"55\" style=\"fill:#dbc257;stroke-width:2;stroke:rgb(255,255,255)\"/><rect x=\"110\" y=\"0\" width=\"55\" height=\"55\" style=\"fill:#91db57;stroke-width:2;stroke:rgb(255,255,255)\"/><rect x=\"165\" y=\"0\" width=\"55\" height=\"55\" style=\"fill:#57db80;stroke-width:2;stroke:rgb(255,255,255)\"/><rect x=\"220\" y=\"0\" width=\"55\" height=\"55\" style=\"fill:#57d3db;stroke-width:2;stroke:rgb(255,255,255)\"/><rect x=\"275\" y=\"0\" width=\"55\" height=\"55\" style=\"fill:#5770db;stroke-width:2;stroke:rgb(255,255,255)\"/><rect x=\"330\" y=\"0\" width=\"55\" height=\"55\" style=\"fill:#a157db;stroke-width:2;stroke:rgb(255,255,255)\"/><rect x=\"385\" y=\"0\" width=\"55\" height=\"55\" style=\"fill:#db57b2;stroke-width:2;stroke:rgb(255,255,255)\"/></svg>"
      ],
      "text/plain": [
       "[(0.86, 0.3712, 0.33999999999999997),\n",
       " (0.86, 0.7612000000000001, 0.33999999999999997),\n",
       " (0.5688000000000001, 0.86, 0.33999999999999997),\n",
       " (0.33999999999999997, 0.86, 0.5012000000000001),\n",
       " (0.33999999999999997, 0.8287999999999999, 0.86),\n",
       " (0.33999999999999997, 0.43879999999999986, 0.86),\n",
       " (0.6311999999999998, 0.33999999999999997, 0.86),\n",
       " (0.86, 0.33999999999999997, 0.6987999999999996)]"
      ]
     },
     "execution_count": 135,
     "metadata": {},
     "output_type": "execute_result"
    }
   ],
   "source": [
    "sns.color_palette('hls', 8)"
   ]
  },
  {
   "cell_type": "code",
   "execution_count": 144,
   "metadata": {},
   "outputs": [
    {
     "data": {
      "application/vnd.jupyter.widget-view+json": {
       "model_id": "e6ac8e2b8e3e48b093fca4ef96d35b33",
       "version_major": 2,
       "version_minor": 0
      },
      "text/plain": [
       "interactive(children=(Dropdown(description='name', options=('Greys', 'Reds', 'Greens', 'Blues', 'Oranges', 'Pu…"
      ]
     },
     "metadata": {},
     "output_type": "display_data"
    },
    {
     "data": {
      "text/plain": [
       "[(0.9575547866205305, 0.9575547866205305, 0.9575547866205305),\n",
       " (0.9012072279892349, 0.9012072279892349, 0.9012072279892349),\n",
       " (0.8328950403690888, 0.8328950403690888, 0.8328950403690888),\n",
       " (0.7502191464821223, 0.7502191464821223, 0.7502191464821223),\n",
       " (0.6434140715109573, 0.6434140715109573, 0.6434140715109573),\n",
       " (0.5387158785082661, 0.5387158785082661, 0.5387158785082661),\n",
       " (0.440322952710496, 0.440322952710496, 0.440322952710496),\n",
       " (0.342883506343714, 0.342883506343714, 0.342883506343714),\n",
       " (0.22329873125720878, 0.22329873125720878, 0.22329873125720878),\n",
       " (0.10469819300269129, 0.10469819300269129, 0.10469819300269129)]"
      ]
     },
     "execution_count": 144,
     "metadata": {},
     "output_type": "execute_result"
    }
   ],
   "source": [
    "sns.choose_colorbrewer_palette('sequential')"
   ]
  },
  {
   "cell_type": "code",
   "execution_count": 151,
   "metadata": {},
   "outputs": [],
   "source": [
    "'''\n",
    "# Now we use the entire dataset:\n",
    "\n",
    "from sklearn.cluster import AgglomerativeClustering\n",
    "\n",
    "model = AgglomerativeClustering(n_clusters=8, affinity='euclidean', linkage = 'single')\n",
    "\n",
    "age_balance['cluster'] = model.fit_predict(age_balance)\n",
    "\n",
    "unique_values = len(age_balance.cluster.unique())\n",
    "\n",
    "sns.scatterplot(x = age_balance.CustomerAge, y = age_balance.CustAccountBalance, hue = age_balance.cluster, palette = sns.color_palette('hls', unique_values))\n",
    "'''"
   ]
  },
  {
   "cell_type": "code",
   "execution_count": null,
   "metadata": {},
   "outputs": [],
   "source": [
    "### Normalization"
   ]
  },
  {
   "cell_type": "code",
   "execution_count": 65,
   "metadata": {},
   "outputs": [],
   "source": [
    "from sklearn import preprocessing"
   ]
  },
  {
   "cell_type": "code",
   "execution_count": 66,
   "metadata": {},
   "outputs": [],
   "source": [
    "scaler = preprocessing.MinMaxScaler()"
   ]
  },
  {
   "cell_type": "code",
   "execution_count": 67,
   "metadata": {},
   "outputs": [],
   "source": [
    "age_balance_norm = scaler.fit_transform(age_balance)"
   ]
  },
  {
   "cell_type": "code",
   "execution_count": null,
   "metadata": {},
   "outputs": [],
   "source": [
    "# doesn't work, let's try with something else:"
   ]
  },
  {
   "cell_type": "markdown",
   "metadata": {},
   "source": [
    "### Maximum amount"
   ]
  },
  {
   "cell_type": "code",
   "execution_count": 69,
   "metadata": {},
   "outputs": [
    {
     "data": {
      "text/plain": [
       "<AxesSubplot:xlabel='CustomerAge', ylabel='CustAccountBalance'>"
      ]
     },
     "execution_count": 69,
     "metadata": {},
     "output_type": "execute_result"
    },
    {
     "data": {
      "image/png": "[encoded data removed]",
      "text/plain": [
       "<Figure size 432x288 with 1 Axes>"
      ]
     },
     "metadata": {
      "needs_background": "light"
     },
     "output_type": "display_data"
    }
   ],
   "source": [
    "data.drop(data.loc[data['TransactionAmount (INR)'] > 500].index, axis = 0, inplace = True)\n",
    "\n",
    "age_balance = age_balance = data[['CustomerID', 'CustomerAge', 'CustAccountBalance']].groupby('CustomerID').last()\n",
    "age_balance_sample = age_balance.sample(1000)\n",
    "\n",
    "sns.scatterplot(x=age_balance.CustomerAge, y=age_balance.CustAccountBalance)\n",
    "\n",
    "# doesn't work"
   ]
  },
  {
   "cell_type": "markdown",
   "metadata": {},
   "source": [
    "### Log of "
   ]
  },
  {
   "cell_type": "code",
   "execution_count": 76,
   "metadata": {},
   "outputs": [
    {
     "name": "stderr",
     "output_type": "stream",
     "text": [
      "/Users/simonefacchiano/opt/anaconda3/lib/python3.9/site-packages/pandas/core/arraylike.py:397: RuntimeWarning: divide by zero encountered in log10\n",
      "  result = getattr(ufunc, method)(*inputs, **kwargs)\n"
     ]
    }
   ],
   "source": [
    "data['CustAccountBalanceLog'] = np.log10(data.CustAccountBalance)\n",
    "data.loc[data['CustAccountBalanceLog'] == -np.inf, 'CustAccountBalanceLog'] = -1\n",
    "age_balance = data[['CustomerID', 'CustomerAge', 'CustAccountBalanceLog']].groupby('CustomerID').last()"
   ]
  },
  {
   "cell_type": "code",
   "execution_count": null,
   "metadata": {},
   "outputs": [],
   "source": [
    "data.loc[]"
   ]
  },
  {
   "cell_type": "code",
   "execution_count": 80,
   "metadata": {},
   "outputs": [],
   "source": [
    "age_balance = data[['CustomerID', 'CustomerAge', 'CustAccountBalanceLog']].groupby('CustomerID').last()\n",
    "age_balance_sample = age_balance.sample(2000)"
   ]
  },
  {
   "cell_type": "code",
   "execution_count": null,
   "metadata": {},
   "outputs": [],
   "source": [
    "model = AgglomerativeClustering(n_clusters = 8, affinity='euclidean', linkage = 'single')\n",
    "age_balance_sample['cluster'] = model.fit_predict(age_balance_sample)"
   ]
  },
  {
   "cell_type": "code",
   "execution_count": null,
   "metadata": {},
   "outputs": [],
   "source": []
  },
  {
   "cell_type": "markdown",
   "metadata": {},
   "source": [
    "## Centroid-based clustering"
   ]
  },
  {
   "cell_type": "code",
   "execution_count": 82,
   "metadata": {},
   "outputs": [],
   "source": [
    "from sklearn.cluster import KMeans\n",
    "\n",
    "model = KMeans(n_clusters=8)\n",
    "age_balance_sample['cluster'] = model.fit_predict(age_balance_sample)"
   ]
  },
  {
   "cell_type": "code",
   "execution_count": 83,
   "metadata": {},
   "outputs": [
    {
     "data": {
      "text/plain": [
       "<AxesSubplot:xlabel='CustomerAge', ylabel='CustAccountBalanceLog'>"
      ]
     },
     "execution_count": 83,
     "metadata": {},
     "output_type": "execute_result"
    },
    {
     "data": {
      "image/png": "[encoded data removed]",
      "text/plain": [
       "<Figure size 432x288 with 1 Axes>"
      ]
     },
     "metadata": {
      "needs_background": "light"
     },
     "output_type": "display_data"
    }
   ],
   "source": [
    "unique_values = len(age_balance_sample.cluster.unique())\n",
    "\n",
    "sns.scatterplot(x=age_balance_sample.CustomerAge,\n",
    "                y=age_balance_sample.CustAccountBalanceLog,\n",
    "                palette=sns.color_palette('hls', unique_values),\n",
    "                hue = age_balance_sample.cluster)"
   ]
  },
  {
   "cell_type": "code",
   "execution_count": 84,
   "metadata": {},
   "outputs": [
    {
     "data": {
      "text/plain": [
       "array([[ 28.51380042,   3.61106329],\n",
       "       [ 36.36778846,   4.01898687],\n",
       "       [ 56.25806452,   4.33053902],\n",
       "       [ 32.4628483 ,   3.83825428],\n",
       "       [120.5       ,   1.45421935],\n",
       "       [ 73.61111111,   3.98888314],\n",
       "       [ 46.3649635 ,   4.18768858],\n",
       "       [ 40.55241935,   4.04894634]])"
      ]
     },
     "execution_count": 84,
     "metadata": {},
     "output_type": "execute_result"
    }
   ],
   "source": [
    "model.cluster_centers_"
   ]
  },
  {
   "cell_type": "code",
   "execution_count": 85,
   "metadata": {},
   "outputs": [
    {
     "data": {
      "text/plain": [
       "7114.124750267791"
      ]
     },
     "execution_count": 85,
     "metadata": {},
     "output_type": "execute_result"
    }
   ],
   "source": [
    "model.inertia_"
   ]
  },
  {
   "cell_type": "code",
   "execution_count": 87,
   "metadata": {},
   "outputs": [],
   "source": [
    "import tqdm\n",
    "\n",
    "sd = {}\n",
    "for k in tqdm(range(10, 50)):\n",
    "    model = KMeans(n_clusters = k)\n",
    "    model.fit(age_balance_sample)\n",
    "    sd[k] = model.inertia_"
   ]
  },
  {
   "cell_type": "code",
   "execution_count": 88,
   "metadata": {},
   "outputs": [
    {
     "data": {
      "text/plain": [
       "{10: 5788.981141503041,\n",
       " 11: 5191.531359437309,\n",
       " 12: 4586.365055726127,\n",
       " 13: 4047.2743595946426,\n",
       " 14: 3642.4451455182652,\n",
       " 15: 3279.3662781146613,\n",
       " 16: 3010.2480502652325,\n",
       " 17: 2775.9340461507923,\n",
       " 18: 2598.2572790765716,\n",
       " 19: 2407.932717887393,\n",
       " 20: 2250.4008366806884,\n",
       " 21: 2198.0171960172383,\n",
       " 22: 2097.8692018178845,\n",
       " 23: 2021.6899889006672,\n",
       " 24: 1915.3722082587217,\n",
       " 25: 1864.4868243126834,\n",
       " 26: 1786.2421231264461,\n",
       " 27: 1706.2092666173207,\n",
       " 28: 1685.3987872821606,\n",
       " 29: 1609.4721436857321,\n",
       " 30: 1566.2352096061343,\n",
       " 31: 1523.6807759997434,\n",
       " 32: 1457.477750731793,\n",
       " 33: 1385.6574210059325,\n",
       " 34: 1378.498410081055,\n",
       " 35: 1305.1598503084635,\n",
       " 36: 1281.6803555164252,\n",
       " 37: 1221.9309113602503,\n",
       " 38: 1194.468758224564,\n",
       " 39: 1166.4804059709736,\n",
       " 40: 1147.0706693901475,\n",
       " 41: 1123.9624240956875,\n",
       " 42: 1075.5325853540664,\n",
       " 43: 1041.6676415137874,\n",
       " 44: 1014.554725883095,\n",
       " 45: 994.2670945963102,\n",
       " 46: 969.6583109026033,\n",
       " 47: 941.8605418468674,\n",
       " 48: 920.2964777135185,\n",
       " 49: 905.1262657757654}"
      ]
     },
     "execution_count": 88,
     "metadata": {},
     "output_type": "execute_result"
    }
   ],
   "source": [
    "sd"
   ]
  },
  {
   "cell_type": "code",
   "execution_count": 99,
   "metadata": {},
   "outputs": [
    {
     "ename": "TypeError",
     "evalue": "'str' object is not callable",
     "output_type": "error",
     "traceback": [
      "\u001b[0;31m---------------------------------------------------------------------------\u001b[0m",
      "\u001b[0;31mTypeError\u001b[0m                                 Traceback (most recent call last)",
      "\u001b[1;32mUntitled-1.ipynb Cella 70\u001b[0m in \u001b[0;36m<cell line: 4>\u001b[0;34m()\u001b[0m\n\u001b[1;32m      <a href='vscode-notebook-cell:Untitled-1.ipynb?jupyter-notebook#Y203sdW50aXRsZWQ%3D?line=0'>1</a>\u001b[0m \u001b[39mimport\u001b[39;00m \u001b[39mmatplotlib\u001b[39;00m\u001b[39m.\u001b[39;00m\u001b[39mpyplot\u001b[39;00m \u001b[39mas\u001b[39;00m \u001b[39mplt\u001b[39;00m\n\u001b[1;32m      <a href='vscode-notebook-cell:Untitled-1.ipynb?jupyter-notebook#Y203sdW50aXRsZWQ%3D?line=2'>3</a>\u001b[0m plt\u001b[39m.\u001b[39mplot(\u001b[39mlist\u001b[39m(sd\u001b[39m.\u001b[39mkeys()), \u001b[39mlist\u001b[39m(sd\u001b[39m.\u001b[39mvalues()))\n\u001b[0;32m----> <a href='vscode-notebook-cell:Untitled-1.ipynb?jupyter-notebook#Y203sdW50aXRsZWQ%3D?line=3'>4</a>\u001b[0m plt\u001b[39m.\u001b[39;49mxlabel(\u001b[39m'\u001b[39;49m\u001b[39mNumber of clusters\u001b[39;49m\u001b[39m'\u001b[39;49m)\n\u001b[1;32m      <a href='vscode-notebook-cell:Untitled-1.ipynb?jupyter-notebook#Y203sdW50aXRsZWQ%3D?line=4'>5</a>\u001b[0m plt\u001b[39m.\u001b[39mylabel(\u001b[39m'\u001b[39m\u001b[39mCost function\u001b[39m\u001b[39m'\u001b[39m)\n\u001b[1;32m      <a href='vscode-notebook-cell:Untitled-1.ipynb?jupyter-notebook#Y203sdW50aXRsZWQ%3D?line=5'>6</a>\u001b[0m plt\u001b[39m.\u001b[39mtitle(\u001b[39m'\u001b[39m\u001b[39mElbow method\u001b[39m\u001b[39m'\u001b[39m)\n",
      "\u001b[0;31mTypeError\u001b[0m: 'str' object is not callable"
     ]
    },
    {
     "data": {
      "image/png": "[encoded data removed]",
      "text/plain": [
       "<Figure size 576x396 with 1 Axes>"
      ]
     },
     "metadata": {},
     "output_type": "display_data"
    }
   ],
   "source": [
    "import matplotlib.pyplot as plt\n",
    "\n",
    "plt.plot(list(sd.keys()), list(sd.values()))\n",
    "plt.xlabel('Number of clusters')\n",
    "plt.ylabel('Cost function')\n",
    "plt.title('Elbow method')\n",
    "plt.show()"
   ]
  },
  {
   "cell_type": "code",
   "execution_count": 100,
   "metadata": {},
   "outputs": [
    {
     "data": {
      "image/png": "[encoded data removed]",
      "text/plain": [
       "<Figure size 576x396 with 2 Axes>"
      ]
     },
     "metadata": {},
     "output_type": "display_data"
    },
    {
     "data": {
      "text/plain": [
       "<AxesSubplot:title={'center':'Distortion Score Elbow for KMeans Clustering'}, xlabel='k', ylabel='distortion score'>"
      ]
     },
     "execution_count": 100,
     "metadata": {},
     "output_type": "execute_result"
    }
   ],
   "source": [
    "# Yellowbrick\n",
    "from yellowbrick.cluster import KElbowVisualizer\n",
    "\n",
    "model = KMeans()\n",
    "visualizer = KElbowVisualizer(model, k = (10, 50), methods = 'silhouette')\n",
    "\n",
    "visualizer.fit(age_balance_sample)\n",
    "visualizer.show()"
   ]
  },
  {
   "cell_type": "code",
   "execution_count": 104,
   "metadata": {},
   "outputs": [
    {
     "data": {
      "image/png": "[encoded data removed]",
      "text/plain": [
       "<Figure size 576x396 with 1 Axes>"
      ]
     },
     "metadata": {},
     "output_type": "display_data"
    },
    {
     "data": {
      "text/plain": [
       "<AxesSubplot:title={'center':'Silhouette Plot of KMeans Clustering for 2000 Samples in 40 Centers'}, xlabel='silhouette coefficient values', ylabel='cluster label'>"
      ]
     },
     "execution_count": 104,
     "metadata": {},
     "output_type": "execute_result"
    }
   ],
   "source": [
    "from yellowbrick.cluster import SilhouetteVisualizer\n",
    "\n",
    "model = KMeans(40, random_state=42)\n",
    "visualizer = SilhouetteVisualizer(model, colors = 'yellowbrick')\n",
    "\n",
    "visualizer.fit(age_balance_sample)\n",
    "visualizer.show()"
   ]
  },
  {
   "cell_type": "code",
   "execution_count": 105,
   "metadata": {},
   "outputs": [
    {
     "data": {
      "image/png": "[encoded data removed]",
      "text/plain": [
       "<Figure size 576x396 with 2 Axes>"
      ]
     },
     "metadata": {},
     "output_type": "display_data"
    },
    {
     "data": {
      "text/plain": [
       "<AxesSubplot:title={'center':'KMeans Intercluster Distance Map (via MDS)'}, xlabel='PC2', ylabel='PC1'>"
      ]
     },
     "execution_count": 105,
     "metadata": {},
     "output_type": "execute_result"
    }
   ],
   "source": [
    "from yellowbrick.cluster import InterclusterDistance\n",
    "\n",
    "model = KMeans(11)\n",
    "visualizer = InterclusterDistance(model)\n",
    "\n",
    "visualizer.fit(age_balance_sample)\n",
    "visualizer.show()"
   ]
  },
  {
   "cell_type": "markdown",
   "metadata": {},
   "source": [
    "### Multiple Features"
   ]
  },
  {
   "cell_type": "code",
   "execution_count": 107,
   "metadata": {},
   "outputs": [
    {
     "ename": "KeyError",
     "evalue": "'CustomerID'",
     "output_type": "error",
     "traceback": [
      "\u001b[0;31m---------------------------------------------------------------------------\u001b[0m",
      "\u001b[0;31mKeyError\u001b[0m                                  Traceback (most recent call last)",
      "\u001b[1;32mUntitled-1.ipynb Cella 75\u001b[0m in \u001b[0;36m<cell line: 1>\u001b[0;34m()\u001b[0m\n\u001b[0;32m----> <a href='vscode-notebook-cell:Untitled-1.ipynb?jupyter-notebook#Y211sdW50aXRsZWQ%3D?line=0'>1</a>\u001b[0m age_balance \u001b[39m=\u001b[39m data[\u001b[39m'\u001b[39;49m\u001b[39mTransactionAmount (INR)\u001b[39;49m\u001b[39m'\u001b[39;49m]\u001b[39m.\u001b[39;49mgroupby(\u001b[39m'\u001b[39;49m\u001b[39mCustomerID\u001b[39;49m\u001b[39m'\u001b[39;49m)\u001b[39m.\u001b[39mmean()\n",
      "File \u001b[0;32m~/opt/anaconda3/lib/python3.9/site-packages/pandas/core/series.py:1922\u001b[0m, in \u001b[0;36mSeries.groupby\u001b[0;34m(self, by, axis, level, as_index, sort, group_keys, squeeze, observed, dropna)\u001b[0m\n\u001b[1;32m   1918\u001b[0m axis \u001b[39m=\u001b[39m \u001b[39mself\u001b[39m\u001b[39m.\u001b[39m_get_axis_number(axis)\n\u001b[1;32m   1920\u001b[0m \u001b[39m# error: Argument \"squeeze\" to \"SeriesGroupBy\" has incompatible type\u001b[39;00m\n\u001b[1;32m   1921\u001b[0m \u001b[39m# \"Union[bool, NoDefault]\"; expected \"bool\"\u001b[39;00m\n\u001b[0;32m-> 1922\u001b[0m \u001b[39mreturn\u001b[39;00m SeriesGroupBy(\n\u001b[1;32m   1923\u001b[0m     obj\u001b[39m=\u001b[39;49m\u001b[39mself\u001b[39;49m,\n\u001b[1;32m   1924\u001b[0m     keys\u001b[39m=\u001b[39;49mby,\n\u001b[1;32m   1925\u001b[0m     axis\u001b[39m=\u001b[39;49maxis,\n\u001b[1;32m   1926\u001b[0m     level\u001b[39m=\u001b[39;49mlevel,\n\u001b[1;32m   1927\u001b[0m     as_index\u001b[39m=\u001b[39;49mas_index,\n\u001b[1;32m   1928\u001b[0m     sort\u001b[39m=\u001b[39;49msort,\n\u001b[1;32m   1929\u001b[0m     group_keys\u001b[39m=\u001b[39;49mgroup_keys,\n\u001b[1;32m   1930\u001b[0m     squeeze\u001b[39m=\u001b[39;49msqueeze,  \u001b[39m# type: ignore[arg-type]\u001b[39;49;00m\n\u001b[1;32m   1931\u001b[0m     observed\u001b[39m=\u001b[39;49mobserved,\n\u001b[1;32m   1932\u001b[0m     dropna\u001b[39m=\u001b[39;49mdropna,\n\u001b[1;32m   1933\u001b[0m )\n",
      "File \u001b[0;32m~/opt/anaconda3/lib/python3.9/site-packages/pandas/core/groupby/groupby.py:882\u001b[0m, in \u001b[0;36mGroupBy.__init__\u001b[0;34m(self, obj, keys, axis, level, grouper, exclusions, selection, as_index, sort, group_keys, squeeze, observed, mutated, dropna)\u001b[0m\n\u001b[1;32m    879\u001b[0m \u001b[39mif\u001b[39;00m grouper \u001b[39mis\u001b[39;00m \u001b[39mNone\u001b[39;00m:\n\u001b[1;32m    880\u001b[0m     \u001b[39mfrom\u001b[39;00m \u001b[39mpandas\u001b[39;00m\u001b[39m.\u001b[39;00m\u001b[39mcore\u001b[39;00m\u001b[39m.\u001b[39;00m\u001b[39mgroupby\u001b[39;00m\u001b[39m.\u001b[39;00m\u001b[39mgrouper\u001b[39;00m \u001b[39mimport\u001b[39;00m get_grouper\n\u001b[0;32m--> 882\u001b[0m     grouper, exclusions, obj \u001b[39m=\u001b[39m get_grouper(\n\u001b[1;32m    883\u001b[0m         obj,\n\u001b[1;32m    884\u001b[0m         keys,\n\u001b[1;32m    885\u001b[0m         axis\u001b[39m=\u001b[39;49maxis,\n\u001b[1;32m    886\u001b[0m         level\u001b[39m=\u001b[39;49mlevel,\n\u001b[1;32m    887\u001b[0m         sort\u001b[39m=\u001b[39;49msort,\n\u001b[1;32m    888\u001b[0m         observed\u001b[39m=\u001b[39;49mobserved,\n\u001b[1;32m    889\u001b[0m         mutated\u001b[39m=\u001b[39;49m\u001b[39mself\u001b[39;49m\u001b[39m.\u001b[39;49mmutated,\n\u001b[1;32m    890\u001b[0m         dropna\u001b[39m=\u001b[39;49m\u001b[39mself\u001b[39;49m\u001b[39m.\u001b[39;49mdropna,\n\u001b[1;32m    891\u001b[0m     )\n\u001b[1;32m    893\u001b[0m \u001b[39mself\u001b[39m\u001b[39m.\u001b[39mobj \u001b[39m=\u001b[39m obj\n\u001b[1;32m    894\u001b[0m \u001b[39mself\u001b[39m\u001b[39m.\u001b[39maxis \u001b[39m=\u001b[39m obj\u001b[39m.\u001b[39m_get_axis_number(axis)\n",
      "File \u001b[0;32m~/opt/anaconda3/lib/python3.9/site-packages/pandas/core/groupby/grouper.py:882\u001b[0m, in \u001b[0;36mget_grouper\u001b[0;34m(obj, key, axis, level, sort, observed, mutated, validate, dropna)\u001b[0m\n\u001b[1;32m    880\u001b[0m         in_axis, level, gpr \u001b[39m=\u001b[39m \u001b[39mFalse\u001b[39;00m, gpr, \u001b[39mNone\u001b[39;00m\n\u001b[1;32m    881\u001b[0m     \u001b[39melse\u001b[39;00m:\n\u001b[0;32m--> 882\u001b[0m         \u001b[39mraise\u001b[39;00m \u001b[39mKeyError\u001b[39;00m(gpr)\n\u001b[1;32m    883\u001b[0m \u001b[39melif\u001b[39;00m \u001b[39misinstance\u001b[39m(gpr, Grouper) \u001b[39mand\u001b[39;00m gpr\u001b[39m.\u001b[39mkey \u001b[39mis\u001b[39;00m \u001b[39mnot\u001b[39;00m \u001b[39mNone\u001b[39;00m:\n\u001b[1;32m    884\u001b[0m     \u001b[39m# Add key to exclusions\u001b[39;00m\n\u001b[1;32m    885\u001b[0m     exclusions\u001b[39m.\u001b[39madd(gpr\u001b[39m.\u001b[39mkey)\n",
      "\u001b[0;31mKeyError\u001b[0m: 'CustomerID'"
     ]
    }
   ],
   "source": [
    "age_balance = data['TransactionAmount (INR)', 'Customer Age', 'CustAccountBalanceLog'].groupby('CustomerID').mean()"
   ]
  },
  {
   "cell_type": "code",
   "execution_count": null,
   "metadata": {},
   "outputs": [],
   "source": []
  },
  {
   "cell_type": "code",
   "execution_count": null,
   "metadata": {},
   "outputs": [],
   "source": []
  }
 ],
 "metadata": {
  "kernelspec": {
   "display_name": "Python 3.9.12 ('base')",
   "language": "python",
   "name": "python3"
  },
  "language_info": {
   "codemirror_mode": {
    "name": "ipython",
    "version": 3
   },
   "file_extension": ".py",
   "mimetype": "text/x-python",
   "name": "python",
   "nbconvert_exporter": "python",
   "pygments_lexer": "ipython3",
   "version": "3.9.12"
  },
  "orig_nbformat": 4,
  "vscode": {
   "interpreter": {
    "hash": "8922abe8a2f354f864dd8097bc99cbc9988d6260d5a3250d7fc0c8c4274840cd"
   }
  }
 },
 "nbformat": 4,
 "nbformat_minor": 2
}
