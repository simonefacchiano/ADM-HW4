{
 "cells": [
  {
   "cell_type": "markdown",
   "metadata": {},
   "source": [
    "## Point 2"
   ]
  },
  {
   "cell_type": "code",
   "execution_count": 2,
   "metadata": {},
   "outputs": [],
   "source": [
    "import pandas as pd\n",
    "import numpy as np\n",
    "from datetime import datetime\n",
    "import matplotlib.pyplot as plt\n",
    "import os\n",
    "from scipy import stats"
   ]
  },
  {
   "cell_type": "code",
   "execution_count": 13,
   "metadata": {},
   "outputs": [],
   "source": [
    "data = pd.read_csv('/Users/simonefacchiano/Desktop/Data Science/ADM/ADM HW4/bank_transactions.csv')"
   ]
  },
  {
   "cell_type": "code",
   "execution_count": 14,
   "metadata": {},
   "outputs": [
    {
     "data": {
      "text/html": [
       "<div>\n",
       "<style scoped>\n",
       "    .dataframe tbody tr th:only-of-type {\n",
       "        vertical-align: middle;\n",
       "    }\n",
       "\n",
       "    .dataframe tbody tr th {\n",
       "        vertical-align: top;\n",
       "    }\n",
       "\n",
       "    .dataframe thead th {\n",
       "        text-align: right;\n",
       "    }\n",
       "</style>\n",
       "<table border=\"1\" class=\"dataframe\">\n",
       "  <thead>\n",
       "    <tr style=\"text-align: right;\">\n",
       "      <th></th>\n",
       "      <th>TransactionID</th>\n",
       "      <th>CustomerID</th>\n",
       "      <th>CustomerDOB</th>\n",
       "      <th>CustGender</th>\n",
       "      <th>CustLocation</th>\n",
       "      <th>CustAccountBalance</th>\n",
       "      <th>TransactionDate</th>\n",
       "      <th>TransactionTime</th>\n",
       "      <th>TransactionAmount (INR)</th>\n",
       "    </tr>\n",
       "  </thead>\n",
       "  <tbody>\n",
       "    <tr>\n",
       "      <th>0</th>\n",
       "      <td>T1</td>\n",
       "      <td>C5841053</td>\n",
       "      <td>10/1/94</td>\n",
       "      <td>F</td>\n",
       "      <td>JAMSHEDPUR</td>\n",
       "      <td>17819.05</td>\n",
       "      <td>2/8/16</td>\n",
       "      <td>143207</td>\n",
       "      <td>25.0</td>\n",
       "    </tr>\n",
       "    <tr>\n",
       "      <th>1</th>\n",
       "      <td>T2</td>\n",
       "      <td>C2142763</td>\n",
       "      <td>4/4/57</td>\n",
       "      <td>M</td>\n",
       "      <td>JHAJJAR</td>\n",
       "      <td>2270.69</td>\n",
       "      <td>2/8/16</td>\n",
       "      <td>141858</td>\n",
       "      <td>27999.0</td>\n",
       "    </tr>\n",
       "    <tr>\n",
       "      <th>2</th>\n",
       "      <td>T3</td>\n",
       "      <td>C4417068</td>\n",
       "      <td>26/11/96</td>\n",
       "      <td>F</td>\n",
       "      <td>MUMBAI</td>\n",
       "      <td>17874.44</td>\n",
       "      <td>2/8/16</td>\n",
       "      <td>142712</td>\n",
       "      <td>459.0</td>\n",
       "    </tr>\n",
       "    <tr>\n",
       "      <th>3</th>\n",
       "      <td>T4</td>\n",
       "      <td>C5342380</td>\n",
       "      <td>14/9/73</td>\n",
       "      <td>F</td>\n",
       "      <td>MUMBAI</td>\n",
       "      <td>866503.21</td>\n",
       "      <td>2/8/16</td>\n",
       "      <td>142714</td>\n",
       "      <td>2060.0</td>\n",
       "    </tr>\n",
       "    <tr>\n",
       "      <th>4</th>\n",
       "      <td>T5</td>\n",
       "      <td>C9031234</td>\n",
       "      <td>24/3/88</td>\n",
       "      <td>F</td>\n",
       "      <td>NAVI MUMBAI</td>\n",
       "      <td>6714.43</td>\n",
       "      <td>2/8/16</td>\n",
       "      <td>181156</td>\n",
       "      <td>1762.5</td>\n",
       "    </tr>\n",
       "  </tbody>\n",
       "</table>\n",
       "</div>"
      ],
      "text/plain": [
       "  TransactionID CustomerID CustomerDOB CustGender CustLocation  \\\n",
       "0            T1   C5841053     10/1/94          F   JAMSHEDPUR   \n",
       "1            T2   C2142763      4/4/57          M      JHAJJAR   \n",
       "2            T3   C4417068    26/11/96          F       MUMBAI   \n",
       "3            T4   C5342380     14/9/73          F       MUMBAI   \n",
       "4            T5   C9031234     24/3/88          F  NAVI MUMBAI   \n",
       "\n",
       "   CustAccountBalance TransactionDate  TransactionTime  \\\n",
       "0            17819.05          2/8/16           143207   \n",
       "1             2270.69          2/8/16           141858   \n",
       "2            17874.44          2/8/16           142712   \n",
       "3           866503.21          2/8/16           142714   \n",
       "4             6714.43          2/8/16           181156   \n",
       "\n",
       "   TransactionAmount (INR)  \n",
       "0                     25.0  \n",
       "1                  27999.0  \n",
       "2                    459.0  \n",
       "3                   2060.0  \n",
       "4                   1762.5  "
      ]
     },
     "execution_count": 14,
     "metadata": {},
     "output_type": "execute_result"
    }
   ],
   "source": [
    "data.head()"
   ]
  },
  {
   "cell_type": "markdown",
   "metadata": {},
   "source": [
    "### Data Cleaning"
   ]
  },
  {
   "cell_type": "code",
   "execution_count": 15,
   "metadata": {},
   "outputs": [
    {
     "name": "stdout",
     "output_type": "stream",
     "text": [
      "<class 'pandas.core.frame.DataFrame'>\n",
      "RangeIndex: 1048567 entries, 0 to 1048566\n",
      "Data columns (total 9 columns):\n",
      " #   Column                   Non-Null Count    Dtype  \n",
      "---  ------                   --------------    -----  \n",
      " 0   TransactionID            1048567 non-null  object \n",
      " 1   CustomerID               1048567 non-null  object \n",
      " 2   CustomerDOB              1045170 non-null  object \n",
      " 3   CustGender               1047467 non-null  object \n",
      " 4   CustLocation             1048416 non-null  object \n",
      " 5   CustAccountBalance       1046198 non-null  float64\n",
      " 6   TransactionDate          1048567 non-null  object \n",
      " 7   TransactionTime          1048567 non-null  int64  \n",
      " 8   TransactionAmount (INR)  1048567 non-null  float64\n",
      "dtypes: float64(2), int64(1), object(6)\n",
      "memory usage: 72.0+ MB\n"
     ]
    }
   ],
   "source": [
    "data.info()\n",
    "\n",
    "# We need to convert the DateOfBirth and the TransactionData as date objects, same for TransactionTime"
   ]
  },
  {
   "cell_type": "code",
   "execution_count": 16,
   "metadata": {},
   "outputs": [],
   "source": [
    "# We rename the last column to simplify:\n",
    "\n",
    "data.rename(columns = {'TransactionAmount (INR)':'TransactionAmount'}, inplace = True)"
   ]
  },
  {
   "cell_type": "markdown",
   "metadata": {},
   "source": [
    "### Missing values"
   ]
  },
  {
   "cell_type": "code",
   "execution_count": 17,
   "metadata": {},
   "outputs": [
    {
     "name": "stdout",
     "output_type": "stream",
     "text": [
      "TransactionID            0\n",
      "CustomerID               0\n",
      "CustomerDOB           3397\n",
      "CustGender            1100\n",
      "CustLocation           151\n",
      "CustAccountBalance    2369\n",
      "TransactionDate          0\n",
      "TransactionTime          0\n",
      "TransactionAmount        0\n",
      "dtype: int64\n",
      "*********************************\n",
      "*********************************\n",
      "The total number of rows is:  1048567\n"
     ]
    }
   ],
   "source": [
    "print(data.isna().sum())\n",
    "print('*********************************')\n",
    "print('*********************************')\n",
    "print('The total number of rows is: ',len(data))"
   ]
  },
  {
   "cell_type": "markdown",
   "metadata": {},
   "source": [
    "Since the number of NaN's is pretty low, we can drop the rows containing missing values:"
   ]
  },
  {
   "cell_type": "code",
   "execution_count": 18,
   "metadata": {},
   "outputs": [],
   "source": [
    "data.dropna(inplace = True) # tanto sono poche"
   ]
  },
  {
   "cell_type": "code",
   "execution_count": 19,
   "metadata": {},
   "outputs": [
    {
     "name": "stdout",
     "output_type": "stream",
     "text": [
      "Index(['TransactionID', 'CustomerID', 'CustomerDOB', 'CustGender',\n",
      "       'CustLocation', 'CustAccountBalance', 'TransactionDate',\n",
      "       'TransactionTime', 'TransactionAmount'],\n",
      "      dtype='object')\n"
     ]
    },
    {
     "data": {
      "text/html": [
       "<div>\n",
       "<style scoped>\n",
       "    .dataframe tbody tr th:only-of-type {\n",
       "        vertical-align: middle;\n",
       "    }\n",
       "\n",
       "    .dataframe tbody tr th {\n",
       "        vertical-align: top;\n",
       "    }\n",
       "\n",
       "    .dataframe thead th {\n",
       "        text-align: right;\n",
       "    }\n",
       "</style>\n",
       "<table border=\"1\" class=\"dataframe\">\n",
       "  <thead>\n",
       "    <tr style=\"text-align: right;\">\n",
       "      <th></th>\n",
       "      <th>CustAccountBalance</th>\n",
       "      <th>TransactionAmount</th>\n",
       "    </tr>\n",
       "  </thead>\n",
       "  <tbody>\n",
       "    <tr>\n",
       "      <th>count</th>\n",
       "      <td>1.041614e+06</td>\n",
       "      <td>1.041614e+06</td>\n",
       "    </tr>\n",
       "    <tr>\n",
       "      <th>mean</th>\n",
       "      <td>1.149986e+05</td>\n",
       "      <td>1.566096e+03</td>\n",
       "    </tr>\n",
       "    <tr>\n",
       "      <th>std</th>\n",
       "      <td>8.467609e+05</td>\n",
       "      <td>6.561464e+03</td>\n",
       "    </tr>\n",
       "    <tr>\n",
       "      <th>min</th>\n",
       "      <td>0.000000e+00</td>\n",
       "      <td>0.000000e+00</td>\n",
       "    </tr>\n",
       "    <tr>\n",
       "      <th>25%</th>\n",
       "      <td>4.728140e+03</td>\n",
       "      <td>1.600000e+02</td>\n",
       "    </tr>\n",
       "    <tr>\n",
       "      <th>50%</th>\n",
       "      <td>1.676852e+04</td>\n",
       "      <td>4.575000e+02</td>\n",
       "    </tr>\n",
       "    <tr>\n",
       "      <th>75%</th>\n",
       "      <td>5.742885e+04</td>\n",
       "      <td>1.200000e+03</td>\n",
       "    </tr>\n",
       "    <tr>\n",
       "      <th>max</th>\n",
       "      <td>1.150355e+08</td>\n",
       "      <td>1.560035e+06</td>\n",
       "    </tr>\n",
       "  </tbody>\n",
       "</table>\n",
       "</div>"
      ],
      "text/plain": [
       "       CustAccountBalance  TransactionAmount\n",
       "count        1.041614e+06       1.041614e+06\n",
       "mean         1.149986e+05       1.566096e+03\n",
       "std          8.467609e+05       6.561464e+03\n",
       "min          0.000000e+00       0.000000e+00\n",
       "25%          4.728140e+03       1.600000e+02\n",
       "50%          1.676852e+04       4.575000e+02\n",
       "75%          5.742885e+04       1.200000e+03\n",
       "max          1.150355e+08       1.560035e+06"
      ]
     },
     "execution_count": 19,
     "metadata": {},
     "output_type": "execute_result"
    }
   ],
   "source": [
    "print(data.columns)\n",
    "\n",
    "data[['CustAccountBalance', 'TransactionAmount']].describe()"
   ]
  },
  {
   "cell_type": "markdown",
   "metadata": {},
   "source": [
    "There are Transactions of 0! This makes no sense, so we want to delete them:"
   ]
  },
  {
   "cell_type": "code",
   "execution_count": 20,
   "metadata": {},
   "outputs": [],
   "source": [
    "data = data[data['TransactionAmount'] != 0]"
   ]
  },
  {
   "cell_type": "code",
   "execution_count": 21,
   "metadata": {},
   "outputs": [
    {
     "name": "stdout",
     "output_type": "stream",
     "text": [
      "878763\n",
      "1040794\n",
      "There are 162031 values that are present more than one time\n"
     ]
    }
   ],
   "source": [
    "# I want to know if CustomerID has some repetead values:\n",
    "print(data['CustomerID'].nunique())\n",
    "print(len(data))\n",
    "print('There are', len(data) - data['CustomerID'].nunique(), 'values that are present more than one time')"
   ]
  },
  {
   "cell_type": "markdown",
   "metadata": {},
   "source": [
    "### Date"
   ]
  },
  {
   "cell_type": "code",
   "execution_count": 22,
   "metadata": {},
   "outputs": [],
   "source": [
    "# We want to convert DateOfBirth, TransactionDate and TransactionTime in a datetime format\n",
    "\n",
    "data.dropna(inplace=True)\n",
    "data.CustomerDOB = pd.to_datetime(data.CustomerDOB) \n",
    "data.TransactionDate = pd.to_datetime(data.TransactionDate) \n",
    "#data.TransactionTime = data.TransactionTime.apply(lambda x: datetime.strptime(str(x).zfill(6), '%H%M%S'))\n",
    "data.TransactionTime = pd.to_datetime(data.TransactionTime) "
   ]
  },
  {
   "cell_type": "code",
   "execution_count": 23,
   "metadata": {},
   "outputs": [
    {
     "data": {
      "text/plain": [
       "<AxesSubplot:>"
      ]
     },
     "execution_count": 23,
     "metadata": {},
     "output_type": "execute_result"
    },
    {
     "data": {
      "image/png": "[encoded data removed]",
      "text/plain": [
       "<Figure size 432x288 with 1 Axes>"
      ]
     },
     "metadata": {
      "needs_background": "light"
     },
     "output_type": "display_data"
    }
   ],
   "source": [
    "data.CustomerDOB.dt.year.hist(bins = 50)"
   ]
  },
  {
   "cell_type": "code",
   "execution_count": 24,
   "metadata": {},
   "outputs": [
    {
     "name": "stdout",
     "output_type": "stream",
     "text": [
      "Years of births are up to 2071\n",
      "For people born in the XX century, dates start from 1972-01-01 00:00:00\n"
     ]
    }
   ],
   "source": [
    "# This is obviously very strange, but let's see:\n",
    "print('Years of births are up to', max(data.CustomerDOB.dt.year))\n",
    "\n",
    "print('For people born in the XX century, dates start from', min(data['CustomerDOB'][data.CustomerDOB.dt.year > 1850]))\n",
    "\n",
    "# Therefore, it would appear that people born before 1972 were reported as born after 2000. "
   ]
  },
  {
   "cell_type": "code",
   "execution_count": 25,
   "metadata": {},
   "outputs": [
    {
     "data": {
      "text/plain": [
       "<AxesSubplot:>"
      ]
     },
     "execution_count": 25,
     "metadata": {},
     "output_type": "execute_result"
    },
    {
     "data": {
      "image/png": "[encoded data removed]",
      "text/plain": [
       "<Figure size 432x288 with 1 Axes>"
      ]
     },
     "metadata": {
      "needs_background": "light"
     },
     "output_type": "display_data"
    }
   ],
   "source": [
    "# To fix this error, we execute:\n",
    "data.loc[data.CustomerDOB.dt.year > 2000, 'CustomerDOB'] = data.loc[data.CustomerDOB.dt.year > 2000, 'CustomerDOB'] - pd.DateOffset(years = 100)\n",
    "\n",
    "# Then, we remove observations from 1800's:\n",
    "data.drop(data[data.CustomerDOB.dt.year <= 1805].index, axis = 0, inplace = True)\n",
    "\n",
    "# and finally we have:\n",
    "data.CustomerDOB.dt.year.hist(bins = 50)"
   ]
  },
  {
   "cell_type": "code",
   "execution_count": 26,
   "metadata": {},
   "outputs": [
    {
     "name": "stdout",
     "output_type": "stream",
     "text": [
      "Years of births stops in 2000 ...\n",
      "But note that we have some very early observstions, starting from 1901-01-01 00:00:00 !\n",
      "So, we move those observations like we did before!\n"
     ]
    }
   ],
   "source": [
    "# Now, we have some data regardin the early 1900's, while the life expectancy at birth in India is 69 years for women and 68 years for men. Somethins is not working... Also, see how the shape of the histogram abruptly stops at the beginning of the new millennium. Making similar reasoning to that seen above:\n",
    "\n",
    "print('Years of births stops in', max(data.CustomerDOB.dt.year), '...')\n",
    "print('But note that we have some very early observstions, starting from', min(data['CustomerDOB'][data.CustomerDOB.dt.year < 1915]), '!')\n",
    "print('So, we move those observations like we did before!')"
   ]
  },
  {
   "cell_type": "code",
   "execution_count": 27,
   "metadata": {},
   "outputs": [
    {
     "data": {
      "text/plain": [
       "<BarContainer object of 16 artists>"
      ]
     },
     "execution_count": 27,
     "metadata": {},
     "output_type": "execute_result"
    },
    {
     "data": {
      "image/png": "[encoded data removed]",
      "text/plain": [
       "<Figure size 432x288 with 1 Axes>"
      ]
     },
     "metadata": {
      "needs_background": "light"
     },
     "output_type": "display_data"
    }
   ],
   "source": [
    "years = []\n",
    "number = []\n",
    "for i in range(1900, 1916):\n",
    "    years.append(i)\n",
    "    number.append(len(data[data.CustomerDOB.dt.year == i]))\n",
    "\n",
    "plt.bar(years, number)\n",
    "\n",
    "# sembrerebbe che fino al 1906 ci siano degli errori, e guarda caso in india sopra i 10 anni puoi aprire un conto! quindi ha senso che ci siano persone nate tra il 2000 e il 2006!"
   ]
  },
  {
   "cell_type": "markdown",
   "metadata": {},
   "source": [
    "This trend makes us think that there are probably errors here as well....\n",
    "The number of people born at the beginning of the last century declines, until it reaches a low in 1906, and then begins to rise again.\n",
    "This leads us to think that perhaps the observations of people born between 1900 and 1906 are actually referring to the 2000s"
   ]
  },
  {
   "cell_type": "code",
   "execution_count": 28,
   "metadata": {},
   "outputs": [],
   "source": [
    "data.loc[data.CustomerDOB.dt.year <= 1906, 'CustomerDOB'] = data.loc[data.CustomerDOB.dt.year <= 1906, 'CustomerDOB'] + pd.DateOffset(years = 100)"
   ]
  },
  {
   "cell_type": "code",
   "execution_count": 29,
   "metadata": {},
   "outputs": [
    {
     "data": {
      "text/plain": [
       "<AxesSubplot:>"
      ]
     },
     "execution_count": 29,
     "metadata": {},
     "output_type": "execute_result"
    },
    {
     "data": {
      "image/png": "[encoded data removed]",
      "text/plain": [
       "<Figure size 432x288 with 1 Axes>"
      ]
     },
     "metadata": {
      "needs_background": "light"
     },
     "output_type": "display_data"
    }
   ],
   "source": [
    "# Now the distribution of age looks like this:\n",
    "data.CustomerDOB.dt.year.hist(bins = 40)"
   ]
  },
  {
   "cell_type": "code",
   "execution_count": 33,
   "metadata": {},
   "outputs": [
    {
     "name": "stdout",
     "output_type": "stream",
     "text": [
      "The youngest customer in our dataset was born in: 2006-08-11 00:00:00\n",
      "So, he/she is 10 !\n"
     ]
    }
   ],
   "source": [
    "print('The youngest customer in our dataset was born in:', max(data.CustomerDOB))\n",
    "print('So, he/she is', 2016 - max(data.CustomerDOB.dt.year), '!')"
   ]
  },
  {
   "cell_type": "markdown",
   "metadata": {},
   "source": [
    "This makes perfect sense!\n",
    "In fact, the dataset we are working on is from 2016. The youngest people among those registered are 10 years old, and in India the minimum age to open a bank account is precisely 10 years old!\n",
    "This leads us to believe that our analysis is correct"
   ]
  },
  {
   "cell_type": "code",
   "execution_count": 7,
   "metadata": {},
   "outputs": [
    {
     "data": {
      "image/png": "[encoded data removed]",
      "text/plain": [
       "<Figure size 432x288 with 1 Axes>"
      ]
     },
     "metadata": {
      "needs_background": "light"
     },
     "output_type": "display_data"
    }
   ],
   "source": [
    "# Now the distribution of age looks like this (with a nicer plot):\n",
    "\n",
    "n, bins, patches = plt.hist(data.CustomerDOB.dt.year, bins=100, facecolor='#2ab0ff', edgecolor='#e0e0e0', linewidth=0.5, alpha=0.7)\n",
    "\n",
    "n = n.astype('int') # it MUST be integer\n",
    "# Good old loop. Choose colormap of your taste\n",
    "for i in range(len(patches)):\n",
    "    patches[i].set_facecolor(plt.cm.plasma(n[i]/max(n)))\n",
    "\n",
    "plt.title('Year of Birth Distribution', fontsize=12)\n",
    "plt.xlabel('Years of Birth', fontsize=12)\n",
    "plt.ylabel('Frequencies', fontsize=12)\n",
    "plt.show()"
   ]
  },
  {
   "attachments": {},
   "cell_type": "markdown",
   "metadata": {},
   "source": [
    "##### Transactions"
   ]
  },
  {
   "cell_type": "code",
   "execution_count": 148,
   "metadata": {},
   "outputs": [
    {
     "data": {
      "text/plain": [
       "<AxesSubplot:ylabel='Frequency'>"
      ]
     },
     "execution_count": 148,
     "metadata": {},
     "output_type": "execute_result"
    },
    {
     "data": {
      "image/png": "[encoded data removed]",
      "text/plain": [
       "<Figure size 432x288 with 1 Axes>"
      ]
     },
     "metadata": {
      "needs_background": "light"
     },
     "output_type": "display_data"
    }
   ],
   "source": [
    "data.groupby('CustomerID').TransactionID.count().plot.hist()"
   ]
  },
  {
   "cell_type": "markdown",
   "metadata": {},
   "source": [
    "### Age"
   ]
  },
  {
   "cell_type": "code",
   "execution_count": 16,
   "metadata": {},
   "outputs": [
    {
     "data": {
      "text/html": [
       "<div>\n",
       "<style scoped>\n",
       "    .dataframe tbody tr th:only-of-type {\n",
       "        vertical-align: middle;\n",
       "    }\n",
       "\n",
       "    .dataframe tbody tr th {\n",
       "        vertical-align: top;\n",
       "    }\n",
       "\n",
       "    .dataframe thead th {\n",
       "        text-align: right;\n",
       "    }\n",
       "</style>\n",
       "<table border=\"1\" class=\"dataframe\">\n",
       "  <thead>\n",
       "    <tr style=\"text-align: right;\">\n",
       "      <th></th>\n",
       "      <th>TransactionID</th>\n",
       "      <th>CustomerID</th>\n",
       "      <th>CustomerDOB</th>\n",
       "      <th>CustGender</th>\n",
       "      <th>CustLocation</th>\n",
       "      <th>CustAccountBalance</th>\n",
       "      <th>TransactionDate</th>\n",
       "      <th>TransactionTime</th>\n",
       "      <th>TransactionAmount</th>\n",
       "      <th>CustomerAge</th>\n",
       "    </tr>\n",
       "  </thead>\n",
       "  <tbody>\n",
       "    <tr>\n",
       "      <th>0</th>\n",
       "      <td>T1</td>\n",
       "      <td>C5841053</td>\n",
       "      <td>1994-10-01</td>\n",
       "      <td>F</td>\n",
       "      <td>JAMSHEDPUR</td>\n",
       "      <td>17819.05</td>\n",
       "      <td>2016-02-08</td>\n",
       "      <td>1900-01-01 14:32:07</td>\n",
       "      <td>25.0</td>\n",
       "      <td>28</td>\n",
       "    </tr>\n",
       "    <tr>\n",
       "      <th>1</th>\n",
       "      <td>T2</td>\n",
       "      <td>C2142763</td>\n",
       "      <td>1957-04-04</td>\n",
       "      <td>M</td>\n",
       "      <td>JHAJJAR</td>\n",
       "      <td>2270.69</td>\n",
       "      <td>2016-02-08</td>\n",
       "      <td>1900-01-01 14:18:58</td>\n",
       "      <td>27999.0</td>\n",
       "      <td>66</td>\n",
       "    </tr>\n",
       "    <tr>\n",
       "      <th>2</th>\n",
       "      <td>T3</td>\n",
       "      <td>C4417068</td>\n",
       "      <td>1996-11-26</td>\n",
       "      <td>F</td>\n",
       "      <td>MUMBAI</td>\n",
       "      <td>17874.44</td>\n",
       "      <td>2016-02-08</td>\n",
       "      <td>1900-01-01 14:27:12</td>\n",
       "      <td>459.0</td>\n",
       "      <td>26</td>\n",
       "    </tr>\n",
       "    <tr>\n",
       "      <th>3</th>\n",
       "      <td>T4</td>\n",
       "      <td>C5342380</td>\n",
       "      <td>1973-09-14</td>\n",
       "      <td>F</td>\n",
       "      <td>MUMBAI</td>\n",
       "      <td>866503.21</td>\n",
       "      <td>2016-02-08</td>\n",
       "      <td>1900-01-01 14:27:14</td>\n",
       "      <td>2060.0</td>\n",
       "      <td>49</td>\n",
       "    </tr>\n",
       "    <tr>\n",
       "      <th>4</th>\n",
       "      <td>T5</td>\n",
       "      <td>C9031234</td>\n",
       "      <td>1988-03-24</td>\n",
       "      <td>F</td>\n",
       "      <td>NAVI MUMBAI</td>\n",
       "      <td>6714.43</td>\n",
       "      <td>2016-02-08</td>\n",
       "      <td>1900-01-01 18:11:56</td>\n",
       "      <td>1762.5</td>\n",
       "      <td>35</td>\n",
       "    </tr>\n",
       "  </tbody>\n",
       "</table>\n",
       "</div>"
      ],
      "text/plain": [
       "  TransactionID CustomerID CustomerDOB CustGender CustLocation  \\\n",
       "0            T1   C5841053  1994-10-01          F   JAMSHEDPUR   \n",
       "1            T2   C2142763  1957-04-04          M      JHAJJAR   \n",
       "2            T3   C4417068  1996-11-26          F       MUMBAI   \n",
       "3            T4   C5342380  1973-09-14          F       MUMBAI   \n",
       "4            T5   C9031234  1988-03-24          F  NAVI MUMBAI   \n",
       "\n",
       "   CustAccountBalance TransactionDate     TransactionTime  TransactionAmount  \\\n",
       "0            17819.05      2016-02-08 1900-01-01 14:32:07               25.0   \n",
       "1             2270.69      2016-02-08 1900-01-01 14:18:58            27999.0   \n",
       "2            17874.44      2016-02-08 1900-01-01 14:27:12              459.0   \n",
       "3           866503.21      2016-02-08 1900-01-01 14:27:14             2060.0   \n",
       "4             6714.43      2016-02-08 1900-01-01 18:11:56             1762.5   \n",
       "\n",
       "   CustomerAge  \n",
       "0           28  \n",
       "1           66  \n",
       "2           26  \n",
       "3           49  \n",
       "4           35  "
      ]
     },
     "execution_count": 16,
     "metadata": {},
     "output_type": "execute_result"
    }
   ],
   "source": [
    "data['CustomerAge'] = (round((pd.to_datetime('today') - data.CustomerDOB)/np.timedelta64(1, 'Y'), 0)).astype(int)\n",
    "data.head()"
   ]
  },
  {
   "cell_type": "code",
   "execution_count": 118,
   "metadata": {},
   "outputs": [
    {
     "data": {
      "text/plain": [
       "98"
      ]
     },
     "execution_count": 118,
     "metadata": {},
     "output_type": "execute_result"
    }
   ],
   "source": [
    "data['CustomerAge'].nunique()"
   ]
  },
  {
   "cell_type": "code",
   "execution_count": 150,
   "metadata": {},
   "outputs": [
    {
     "data": {
      "image/png": "[encoded data removed]",
      "text/plain": [
       "<Figure size 432x288 with 1 Axes>"
      ]
     },
     "metadata": {
      "needs_background": "light"
     },
     "output_type": "display_data"
    }
   ],
   "source": [
    "n, bins, patches = plt.hist(data.CustomerAge, bins=100, facecolor='#2ab0ff', edgecolor='#e0e0e0', linewidth=0.5, alpha=0.7)\n",
    "\n",
    "n = n.astype('int') # it MUST be integer\n",
    "\n",
    "for i in range(len(patches)):\n",
    "    patches[i].set_facecolor(plt.cm.plasma(n[i]/max(n)))\n",
    "\n",
    "plt.title('Year of Birth Distribution', fontsize=12)\n",
    "plt.xlabel('Years of Birth', fontsize=12)\n",
    "plt.ylabel('Frequencies', fontsize=12)\n",
    "plt.show()\n",
    "\n",
    "# This distribution seems reasonable, since the average age in India is 29! \n",
    "# https://www.worlddata.info/average-age.php"
   ]
  },
  {
   "cell_type": "code",
   "execution_count": 151,
   "metadata": {},
   "outputs": [
    {
     "name": "stdout",
     "output_type": "stream",
     "text": [
      "<class 'pandas.core.frame.DataFrame'>\n",
      "Int64Index: 984614 entries, 0 to 1048566\n",
      "Data columns (total 10 columns):\n",
      " #   Column              Non-Null Count   Dtype         \n",
      "---  ------              --------------   -----         \n",
      " 0   TransactionID       984614 non-null  object        \n",
      " 1   CustomerID          984614 non-null  object        \n",
      " 2   CustomerDOB         984614 non-null  datetime64[ns]\n",
      " 3   CustGender          984614 non-null  object        \n",
      " 4   CustLocation        984614 non-null  object        \n",
      " 5   CustAccountBalance  984614 non-null  float64       \n",
      " 6   TransactionDate     984614 non-null  datetime64[ns]\n",
      " 7   TransactionTime     984614 non-null  datetime64[ns]\n",
      " 8   TransactionAmount   984614 non-null  float64       \n",
      " 9   CustomerAge         984614 non-null  int64         \n",
      "dtypes: datetime64[ns](3), float64(2), int64(1), object(4)\n",
      "memory usage: 82.6+ MB\n"
     ]
    }
   ],
   "source": [
    "data.info()"
   ]
  },
  {
   "cell_type": "code",
   "execution_count": 17,
   "metadata": {},
   "outputs": [],
   "source": [
    "# Now we save it, to simplify the loading for the next runs\n",
    "\n",
    "data.to_csv('/Users/simonefacchiano/Desktop/Data Science/ADM/ADM HW4/data.csv') "
   ]
  },
  {
   "cell_type": "markdown",
   "metadata": {},
   "source": [
    "# 2. Grouping customers together!"
   ]
  },
  {
   "cell_type": "markdown",
   "metadata": {},
   "source": [
    "## 2.1 Getting your data + feature engineering"
   ]
  },
  {
   "cell_type": "code",
   "execution_count": 3,
   "metadata": {},
   "outputs": [
    {
     "name": "stdout",
     "output_type": "stream",
     "text": [
      "<class 'pandas.core.frame.DataFrame'>\n",
      "RangeIndex: 984614 entries, 0 to 984613\n",
      "Data columns (total 10 columns):\n",
      " #   Column              Non-Null Count   Dtype  \n",
      "---  ------              --------------   -----  \n",
      " 0   TransactionID       984614 non-null  object \n",
      " 1   CustomerID          984614 non-null  object \n",
      " 2   CustomerDOB         984614 non-null  object \n",
      " 3   CustGender          984614 non-null  object \n",
      " 4   CustLocation        984614 non-null  object \n",
      " 5   CustAccountBalance  984614 non-null  float64\n",
      " 6   TransactionDate     984614 non-null  object \n",
      " 7   TransactionTime     984614 non-null  object \n",
      " 8   TransactionAmount   984614 non-null  float64\n",
      " 9   CustomerAge         984614 non-null  int64  \n",
      "dtypes: float64(2), int64(1), object(7)\n",
      "memory usage: 75.1+ MB\n"
     ]
    }
   ],
   "source": [
    "data = pd.read_csv('/Users/simonefacchiano/Desktop/Data Science/ADM/ADM HW4/data.csv')\n",
    "data = data.drop('Unnamed: 0', axis=1)\n",
    "data.info()"
   ]
  },
  {
   "cell_type": "code",
   "execution_count": 4,
   "metadata": {},
   "outputs": [],
   "source": [
    "data.CustomerDOB = pd.to_datetime(data.CustomerDOB) \n",
    "data.TransactionDate = pd.to_datetime(data.TransactionDate) \n",
    "data.TransactionTime = pd.to_datetime(data.TransactionTime) "
   ]
  },
  {
   "cell_type": "markdown",
   "metadata": {},
   "source": [
    "### 2.1.1 & 2.1.2: 2.1 Getting your data + feature engineering"
   ]
  },
  {
   "cell_type": "code",
   "execution_count": 5,
   "metadata": {},
   "outputs": [],
   "source": [
    "# Number of transactions\n",
    "\n",
    "data_num_trans = pd.DataFrame(data.groupby([\"CustomerID\"])[\"TransactionID\"].count().reset_index(name=\"Number_Transactions\"))\n",
    "data_small = data_num_trans"
   ]
  },
  {
   "cell_type": "code",
   "execution_count": null,
   "metadata": {},
   "outputs": [],
   "source": [
    "# Number of transactions with a balance bigger than 100 USD\n",
    "# Since we have the transaction amount in INR (indian rupies) we have to search the transaction > 8163,85 INR\n",
    "\n",
    "data_100 = data.groupby(['CustomerID']).apply(  lambda x:  x[x['TransactionAmount'] > 81638,50]['TransactionAmount'].count()  ).reset_index(name=\"Number_Transactions>100\")"
   ]
  },
  {
   "cell_type": "code",
   "execution_count": null,
   "metadata": {},
   "outputs": [],
   "source": [
    "# Average amount of transaction\n",
    "\n",
    "data_average_trans = data.groupby([\"CustomerID\"])[\"TransactionAmount\"].mean().reset_index(name=\"Average_Amount_Transactions\")"
   ]
  },
  {
   "cell_type": "code",
   "execution_count": null,
   "metadata": {},
   "outputs": [],
   "source": [
    "# Average balance\n",
    "\n",
    "data_average_balance = data.groupby([\"CustomerID\"])[\"CustAccountBalance\"].mean().reset_index(name=\"Average_Balance\")"
   ]
  },
  {
   "cell_type": "code",
   "execution_count": null,
   "metadata": {},
   "outputs": [],
   "source": [
    "# Average difference between the balance and the transaction amount for each customer (Utilisation)\n",
    "\n",
    "data['Utilisation'] = data['CustAccountBalance'] - data['TransactionAmount']\n",
    "data_utilisation = pd.DataFrame(data.groupby(['CustomerID'])['Utilisation'].mean())\n",
    "data_utilisation = data_utilisation.reset_index() "
   ]
  },
  {
   "cell_type": "code",
   "execution_count": 160,
   "metadata": {},
   "outputs": [],
   "source": [
    "# Most common gender of the customer\n",
    "data_gender = pd.DataFrame(data.groupby(['CustomerID'])['CustGender'].agg(lambda x: pd.Series.mode(x)))\n",
    "\n",
    "for idx in data_gender.index:\n",
    "    data_gender.loc[idx] = data_gender.loc[idx][0][0]\n",
    "\n",
    "data_gender = data_gender.reset_index() "
   ]
  },
  {
   "cell_type": "code",
   "execution_count": 163,
   "metadata": {},
   "outputs": [],
   "source": [
    "# Most common location of the customer\n",
    "data_location = data.groupby(['CustomerID'])['CustLocation'].agg(lambda x: pd.Series.mode(x)) # group by \n",
    "\n",
    "data_location = pd.DataFrame(data_location)"
   ]
  },
  {
   "cell_type": "code",
   "execution_count": null,
   "metadata": {},
   "outputs": [],
   "source": [
    "for idx in data_location.index:\n",
    "    if (len(data_location.loc[idx][0]) == 2 or len(data_location.loc[idx][0]) == 3 or len(data_location.loc[idx][0]) == 4): # 2 or 3 because there are examples where the mode has 2 (bimodal) or 3 values. When this happen, we take the first occurence\n",
    "        data_location.loc[idx] = data_location.loc[idx][0][0]\n",
    "\n",
    "data_location = pd.DataFrame(data_location)\n",
    "data_location = data_location.reset_index() "
   ]
  },
  {
   "cell_type": "code",
   "execution_count": 183,
   "metadata": {},
   "outputs": [
    {
     "name": "stdout",
     "output_type": "stream",
     "text": [
      "838561\n",
      "838561\n",
      "838561\n",
      "838561\n",
      "838561\n",
      "838561\n",
      "838561\n"
     ]
    },
    {
     "data": {
      "text/html": [
       "<div>\n",
       "<style scoped>\n",
       "    .dataframe tbody tr th:only-of-type {\n",
       "        vertical-align: middle;\n",
       "    }\n",
       "\n",
       "    .dataframe tbody tr th {\n",
       "        vertical-align: top;\n",
       "    }\n",
       "\n",
       "    .dataframe thead th {\n",
       "        text-align: right;\n",
       "    }\n",
       "</style>\n",
       "<table border=\"1\" class=\"dataframe\">\n",
       "  <thead>\n",
       "    <tr style=\"text-align: right;\">\n",
       "      <th></th>\n",
       "      <th>CustomerID</th>\n",
       "      <th>Number_Transactions</th>\n",
       "      <th>Number_Transactions&gt;100</th>\n",
       "      <th>Average_Amount_Transactions</th>\n",
       "      <th>Average_Balance</th>\n",
       "      <th>Utilisation</th>\n",
       "      <th>CustGender</th>\n",
       "      <th>CustLocation</th>\n",
       "    </tr>\n",
       "  </thead>\n",
       "  <tbody>\n",
       "    <tr>\n",
       "      <th>0</th>\n",
       "      <td>C1010011</td>\n",
       "      <td>2</td>\n",
       "      <td>2</td>\n",
       "      <td>2553.0</td>\n",
       "      <td>76340.635</td>\n",
       "      <td>73787.635</td>\n",
       "      <td>F</td>\n",
       "      <td>NEW DELHI</td>\n",
       "    </tr>\n",
       "    <tr>\n",
       "      <th>1</th>\n",
       "      <td>C1010012</td>\n",
       "      <td>1</td>\n",
       "      <td>1</td>\n",
       "      <td>1499.0</td>\n",
       "      <td>24204.490</td>\n",
       "      <td>22705.490</td>\n",
       "      <td>M</td>\n",
       "      <td>MUMBAI</td>\n",
       "    </tr>\n",
       "    <tr>\n",
       "      <th>2</th>\n",
       "      <td>C1010014</td>\n",
       "      <td>2</td>\n",
       "      <td>2</td>\n",
       "      <td>727.5</td>\n",
       "      <td>100112.950</td>\n",
       "      <td>99385.450</td>\n",
       "      <td>F</td>\n",
       "      <td>MUMBAI</td>\n",
       "    </tr>\n",
       "    <tr>\n",
       "      <th>3</th>\n",
       "      <td>C1010018</td>\n",
       "      <td>1</td>\n",
       "      <td>0</td>\n",
       "      <td>30.0</td>\n",
       "      <td>496.180</td>\n",
       "      <td>466.180</td>\n",
       "      <td>F</td>\n",
       "      <td>CHAMPARAN</td>\n",
       "    </tr>\n",
       "    <tr>\n",
       "      <th>4</th>\n",
       "      <td>C1010024</td>\n",
       "      <td>1</td>\n",
       "      <td>1</td>\n",
       "      <td>5000.0</td>\n",
       "      <td>87058.650</td>\n",
       "      <td>82058.650</td>\n",
       "      <td>M</td>\n",
       "      <td>KOLKATA</td>\n",
       "    </tr>\n",
       "  </tbody>\n",
       "</table>\n",
       "</div>"
      ],
      "text/plain": [
       "  CustomerID  Number_Transactions  Number_Transactions>100  \\\n",
       "0   C1010011                    2                        2   \n",
       "1   C1010012                    1                        1   \n",
       "2   C1010014                    2                        2   \n",
       "3   C1010018                    1                        0   \n",
       "4   C1010024                    1                        1   \n",
       "\n",
       "   Average_Amount_Transactions  Average_Balance  Utilisation CustGender  \\\n",
       "0                       2553.0        76340.635    73787.635          F   \n",
       "1                       1499.0        24204.490    22705.490          M   \n",
       "2                        727.5       100112.950    99385.450          F   \n",
       "3                         30.0          496.180      466.180          F   \n",
       "4                       5000.0        87058.650    82058.650          M   \n",
       "\n",
       "  CustLocation  \n",
       "0    NEW DELHI  \n",
       "1       MUMBAI  \n",
       "2       MUMBAI  \n",
       "3    CHAMPARAN  \n",
       "4      KOLKATA  "
      ]
     },
     "execution_count": 183,
     "metadata": {},
     "output_type": "execute_result"
    }
   ],
   "source": [
    "# Let's merge them togheter. We check they have the same number of rows:\n",
    "print(len(data_num_trans))\n",
    "print(len(data_100))\n",
    "print(len(data_average_trans))\n",
    "print(len(data_average_balance))\n",
    "print(len(data_utilisation))\n",
    "print(len(data_gender))\n",
    "print(len(data_location))\n",
    "\n",
    "# Perfect. Now we can merge them togheter:\n",
    "# First of all, we convert them in a pandas DataFrame:\n",
    "one_col_data = [data_num_trans, data_100, data_average_trans, data_average_balance, data_utilisation, data_gender, data_location]\n",
    "\n",
    "for dataset in one_col_data:\n",
    "    dataset = pd.DataFrame(dataset)\n",
    "\n",
    "# Now we create a new dataset:\n",
    "data_small['Number_Transactions>100'] = data_100['Number_Transactions>100']\n",
    "data_small['Average_Amount_Transactions'] = data_average_trans['Average_Amount_Transactions']\n",
    "data_small['Average_Balance'] = data_average_balance['Average_Balance']\n",
    "data_small['Utilisation'] = data_utilisation['Utilisation']\n",
    "data_small['CustGender'] = data_gender['CustGender']\n",
    "data_small['CustLocation'] = data_location['CustLocation']\n",
    "\n",
    "data_small.head()"
   ]
  },
  {
   "cell_type": "code",
   "execution_count": 184,
   "metadata": {},
   "outputs": [],
   "source": [
    "data_small.to_csv('/Users/simonefacchiano/Desktop/Data Science/ADM/data_small.csv') "
   ]
  },
  {
   "cell_type": "markdown",
   "metadata": {},
   "source": [
    "### 2.1.3. Add 20 more features"
   ]
  },
  {
   "cell_type": "code",
   "execution_count": 7,
   "metadata": {},
   "outputs": [
    {
     "data": {
      "text/html": [
       "<div>\n",
       "<style scoped>\n",
       "    .dataframe tbody tr th:only-of-type {\n",
       "        vertical-align: middle;\n",
       "    }\n",
       "\n",
       "    .dataframe tbody tr th {\n",
       "        vertical-align: top;\n",
       "    }\n",
       "\n",
       "    .dataframe thead th {\n",
       "        text-align: right;\n",
       "    }\n",
       "</style>\n",
       "<table border=\"1\" class=\"dataframe\">\n",
       "  <thead>\n",
       "    <tr style=\"text-align: right;\">\n",
       "      <th></th>\n",
       "      <th>CustomerID</th>\n",
       "      <th>Number_Transactions</th>\n",
       "      <th>Number_Transactions&gt;100</th>\n",
       "      <th>Average_Amount_Transactions</th>\n",
       "      <th>Average_Balance</th>\n",
       "      <th>Utilisation</th>\n",
       "      <th>CustGender</th>\n",
       "      <th>CustLocation</th>\n",
       "    </tr>\n",
       "  </thead>\n",
       "  <tbody>\n",
       "    <tr>\n",
       "      <th>0</th>\n",
       "      <td>C1010011</td>\n",
       "      <td>2</td>\n",
       "      <td>2</td>\n",
       "      <td>2553.0</td>\n",
       "      <td>76340.635</td>\n",
       "      <td>73787.635</td>\n",
       "      <td>F</td>\n",
       "      <td>NEW DELHI</td>\n",
       "    </tr>\n",
       "    <tr>\n",
       "      <th>1</th>\n",
       "      <td>C1010012</td>\n",
       "      <td>1</td>\n",
       "      <td>1</td>\n",
       "      <td>1499.0</td>\n",
       "      <td>24204.490</td>\n",
       "      <td>22705.490</td>\n",
       "      <td>M</td>\n",
       "      <td>MUMBAI</td>\n",
       "    </tr>\n",
       "    <tr>\n",
       "      <th>2</th>\n",
       "      <td>C1010014</td>\n",
       "      <td>2</td>\n",
       "      <td>2</td>\n",
       "      <td>727.5</td>\n",
       "      <td>100112.950</td>\n",
       "      <td>99385.450</td>\n",
       "      <td>F</td>\n",
       "      <td>MUMBAI</td>\n",
       "    </tr>\n",
       "    <tr>\n",
       "      <th>3</th>\n",
       "      <td>C1010018</td>\n",
       "      <td>1</td>\n",
       "      <td>0</td>\n",
       "      <td>30.0</td>\n",
       "      <td>496.180</td>\n",
       "      <td>466.180</td>\n",
       "      <td>F</td>\n",
       "      <td>CHAMPARAN</td>\n",
       "    </tr>\n",
       "    <tr>\n",
       "      <th>4</th>\n",
       "      <td>C1010024</td>\n",
       "      <td>1</td>\n",
       "      <td>1</td>\n",
       "      <td>5000.0</td>\n",
       "      <td>87058.650</td>\n",
       "      <td>82058.650</td>\n",
       "      <td>M</td>\n",
       "      <td>KOLKATA</td>\n",
       "    </tr>\n",
       "  </tbody>\n",
       "</table>\n",
       "</div>"
      ],
      "text/plain": [
       "  CustomerID  Number_Transactions  Number_Transactions>100  \\\n",
       "0   C1010011                    2                        2   \n",
       "1   C1010012                    1                        1   \n",
       "2   C1010014                    2                        2   \n",
       "3   C1010018                    1                        0   \n",
       "4   C1010024                    1                        1   \n",
       "\n",
       "   Average_Amount_Transactions  Average_Balance  Utilisation CustGender  \\\n",
       "0                       2553.0        76340.635    73787.635          F   \n",
       "1                       1499.0        24204.490    22705.490          M   \n",
       "2                        727.5       100112.950    99385.450          F   \n",
       "3                         30.0          496.180      466.180          F   \n",
       "4                       5000.0        87058.650    82058.650          M   \n",
       "\n",
       "  CustLocation  \n",
       "0    NEW DELHI  \n",
       "1       MUMBAI  \n",
       "2       MUMBAI  \n",
       "3    CHAMPARAN  \n",
       "4      KOLKATA  "
      ]
     },
     "execution_count": 7,
     "metadata": {},
     "output_type": "execute_result"
    }
   ],
   "source": [
    "data_small = pd.read_csv('/Users/simonefacchiano/Desktop/Data Science/ADM/ADM HW4/data_small.csv')\n",
    "data_small = data_small.drop('Unnamed: 0', axis=1)\n",
    "data_small.head()"
   ]
  },
  {
   "cell_type": "code",
   "execution_count": 8,
   "metadata": {},
   "outputs": [
    {
     "name": "stdout",
     "output_type": "stream",
     "text": [
      "<class 'pandas.core.frame.DataFrame'>\n",
      "RangeIndex: 838561 entries, 0 to 838560\n",
      "Data columns (total 8 columns):\n",
      " #   Column                       Non-Null Count   Dtype  \n",
      "---  ------                       --------------   -----  \n",
      " 0   CustomerID                   838561 non-null  object \n",
      " 1   Number_Transactions          838561 non-null  int64  \n",
      " 2   Number_Transactions>100      838561 non-null  int64  \n",
      " 3   Average_Amount_Transactions  838561 non-null  float64\n",
      " 4   Average_Balance              838561 non-null  float64\n",
      " 5   Utilisation                  838561 non-null  float64\n",
      " 6   CustGender                   838561 non-null  object \n",
      " 7   CustLocation                 838561 non-null  object \n",
      "dtypes: float64(3), int64(2), object(3)\n",
      "memory usage: 51.2+ MB\n"
     ]
    }
   ],
   "source": [
    "data_small.info()"
   ]
  },
  {
   "cell_type": "code",
   "execution_count": 30,
   "metadata": {},
   "outputs": [],
   "source": [
    "# Maximum transaction (1/20):\n",
    "data_small[\"Max_Amount_Transactions\"] = data.groupby([\"CustomerID\"])[\"TransactionAmount\"].max().reset_index(name=\"Max_Amount_Transactions\")['Max_Amount_Transactions']"
   ]
  },
  {
   "cell_type": "code",
   "execution_count": 31,
   "metadata": {},
   "outputs": [],
   "source": [
    "# Minimum transaction (2/20):\n",
    "data_small[\"Min_Amount_Transactions\"] = data.groupby([\"CustomerID\"])[\"TransactionAmount\"].min().reset_index(name=\"Min_Amount_Transactions\")['Min_Amount_Transactions']"
   ]
  },
  {
   "cell_type": "code",
   "execution_count": 33,
   "metadata": {},
   "outputs": [],
   "source": [
    "# Customer Age (we consider the first value in the dataset) --> TODO: take the most common value, it takes too long (3/20):\n",
    "data_age = pd.DataFrame(data.groupby(['CustomerID'])['CustomerAge'].first())\n",
    "data_age = data_age.reset_index() \n",
    "data_small['Customer_Age'] = data_age['CustomerAge']"
   ]
  },
  {
   "cell_type": "code",
   "execution_count": 34,
   "metadata": {},
   "outputs": [],
   "source": [
    "# Max Percentage Transaction (4/20):\n",
    "data_small['Max_%_Transaction'] = round(data_small['Max_Amount_Transactions'] / data_small['Average_Balance'] * 100, 2)"
   ]
  },
  {
   "cell_type": "code",
   "execution_count": 35,
   "metadata": {},
   "outputs": [],
   "source": [
    "# Last Transaction Date (5/20):\n",
    "data_last_trans = pd.DataFrame(data.groupby(['CustomerID'])['TransactionDate'].max())\n",
    "data_last_trans = data_last_trans.reset_index()\n",
    "data_small['Last_Transaction'] = data_last_trans['TransactionDate']"
   ]
  },
  {
   "cell_type": "code",
   "execution_count": 36,
   "metadata": {},
   "outputs": [],
   "source": [
    "# Last Transaction Day (6/20):\n",
    "data_small['Last_Day_Transaction'] = data_small.Last_Transaction.dt.day_name()"
   ]
  },
  {
   "cell_type": "code",
   "execution_count": 43,
   "metadata": {},
   "outputs": [],
   "source": [
    "# Minimum Account Balance (7/20)\n",
    "data_min_balance = data.groupby([\"CustomerID\"])[\"CustAccountBalance\"].min().reset_index(name=\"Minimum_Balance\")\n",
    "data_small['Minimum_Balance'] = data_min_balance['Minimum_Balance']"
   ]
  },
  {
   "cell_type": "code",
   "execution_count": null,
   "metadata": {},
   "outputs": [],
   "source": [
    "# Number of transactions with a balance bigger than 1000 USD (8/20)\n",
    "\n",
    "data_1000 = data.groupby(['CustomerID']).apply(  lambda x:  x[x['TransactionAmount'] > 81638,50]['TransactionAmount'].count()  ).reset_index(name=\"Number_Transactions>1000\")"
   ]
  },
  {
   "cell_type": "code",
   "execution_count": 47,
   "metadata": {},
   "outputs": [],
   "source": [
    "data_small['Number_Transactions>1000'] = data_1000['Number_Transactions>1000'] # TODO: metti nella cella sopra"
   ]
  },
  {
   "cell_type": "code",
   "execution_count": 118,
   "metadata": {},
   "outputs": [],
   "source": [
    "# Last Transaction Month (9/20):\n",
    "\n",
    "data_small['Last_Month_Transaction'] = data_small.Last_Transaction.dt.month"
   ]
  },
  {
   "cell_type": "code",
   "execution_count": 120,
   "metadata": {},
   "outputs": [],
   "source": [
    "# Maximum Account Balance (10/20)\n",
    "data_min_balance = data.groupby([\"CustomerID\"])[\"CustAccountBalance\"].max().reset_index(name=\"Maximum_Balance\")\n",
    "data_small['Maximum_Balance'] = data_min_balance['Maximum_Balance']"
   ]
  },
  {
   "cell_type": "code",
   "execution_count": 128,
   "metadata": {},
   "outputs": [],
   "source": [
    "# Minimum Utilisation (11/20):\n",
    "data_min_utilisation = data.groupby([\"CustomerID\"])[\"Utilisation\"].min().reset_index(name=\"Minimum_Utilisation\")\n",
    "data_small['Minimum_utilisation'] = data_min_utilisation[\"Minimum_Utilisation\"]"
   ]
  },
  {
   "cell_type": "code",
   "execution_count": 131,
   "metadata": {},
   "outputs": [],
   "source": [
    "# Maximum Utilisation (12/20):\n",
    "data_max_utilisation = data.groupby([\"CustomerID\"])[\"Utilisation\"].max().reset_index(name=\"Maximum_Utilisation\")\n",
    "data_small['Maximum_utilisation'] = data_max_utilisation['Maximum_Utilisation']"
   ]
  },
  {
   "cell_type": "code",
   "execution_count": 188,
   "metadata": {},
   "outputs": [],
   "source": [
    "# % Max Transaction percentile (13/20)\n",
    "\n",
    "max_perc_trans = [i for i in data_small['Max_%_Transaction']]\n",
    "percentiles = stats.rankdata(max_perc_trans, \"average\")/len(max_perc_trans)\n",
    "\n",
    "data_small['Percentile_Max_%_Transaction'] = percentiles"
   ]
  },
  {
   "cell_type": "code",
   "execution_count": 190,
   "metadata": {},
   "outputs": [],
   "source": [
    "# Balance Percentile (14/20)\n",
    "\n",
    "balance_perc = [i for i in data_small['Average_Balance']]\n",
    "percentiles = stats.rankdata(balance_perc, \"average\")/len(balance_perc)\n",
    "\n",
    "data_small['PercentileBalance'] = percentiles"
   ]
  },
  {
   "cell_type": "code",
   "execution_count": 200,
   "metadata": {},
   "outputs": [],
   "source": [
    "# Rich? (15/20):\n",
    "rich = []\n",
    "\n",
    "for i in data_small.index:\n",
    "    if data_small.loc[i, 'PercentileBalance'] >= 0.75:\n",
    "        rich.append('Yes')\n",
    "    else:\n",
    "        rich.append('No')    \n",
    "\n",
    "data_small['Rich'] = rich        "
   ]
  },
  {
   "cell_type": "code",
   "execution_count": 207,
   "metadata": {},
   "outputs": [],
   "source": [
    "# Minor? (16/20)\n",
    "minor = []\n",
    "\n",
    "for i in data_small.index:\n",
    "    if data_small.loc[i, 'Customer_Age'] < 18:\n",
    "        minor.append('Yes')\n",
    "    else:\n",
    "        minor.append('No')    \n",
    "\n",
    "data_small['Minor'] = minor "
   ]
  },
  {
   "cell_type": "code",
   "execution_count": 212,
   "metadata": {},
   "outputs": [],
   "source": [
    "# Youth, adult, elderly (17/20):\n",
    "life_phase = []\n",
    "\n",
    "for i in data_small.index:\n",
    "    if data_small.loc[i, 'Customer_Age'] <= 35:\n",
    "        life_phase.append('Young')\n",
    "    elif data_small.loc[i, 'Customer_Age'] > 35 and data_small.loc[i, 'Customer_Age'] <= 65:\n",
    "        life_phase.append('Adult')    \n",
    "    else:\n",
    "        life_phase.append('Elderly')    \n",
    "\n",
    "\n",
    "data_small['Age_Status'] = life_phase "
   ]
  },
  {
   "cell_type": "code",
   "execution_count": 214,
   "metadata": {},
   "outputs": [],
   "source": [
    "#  Poor (18/20)\n",
    "\n",
    "poor = []\n",
    "\n",
    "for i in data_small.index:\n",
    "    if data_small.loc[i, 'PercentileBalance'] <= 0.15:\n",
    "        poor.append('Yes')\n",
    "    else:\n",
    "        poor.append('No')    \n",
    "\n",
    "data_small['Poor'] = poor "
   ]
  },
  {
   "cell_type": "code",
   "execution_count": 225,
   "metadata": {},
   "outputs": [],
   "source": [
    "# Suspicious Account (19/20)\n",
    "# data_small['Max_%_Transaction'][data_small['Max_%_Transaction'] > 250] lots of suspicious accounts...\n",
    "\n",
    "suspicious = []\n",
    "\n",
    "for i in data_small.index:\n",
    "    if data_small.loc[i, 'Max_%_Transaction'] >= 250:\n",
    "        suspicious.append('Yes')\n",
    "    else:\n",
    "        suspicious.append('No')    \n",
    "\n",
    "data_small['Suspicious_Account'] = suspicious"
   ]
  },
  {
   "cell_type": "code",
   "execution_count": 245,
   "metadata": {},
   "outputs": [],
   "source": [
    "# Account in red (20/20)\n",
    "\n",
    "account_in_red = []\n",
    "\n",
    "for i in data_small.index:\n",
    "    if data_small.loc[i, 'Utilisation'] < 0:\n",
    "        account_in_red.append('Yes')\n",
    "    else:\n",
    "        account_in_red.append('No')    \n",
    "\n",
    "data_small['Account_in_red'] = account_in_red"
   ]
  },
  {
   "cell_type": "code",
   "execution_count": 248,
   "metadata": {},
   "outputs": [
    {
     "data": {
      "text/html": [
       "<div>\n",
       "<style scoped>\n",
       "    .dataframe tbody tr th:only-of-type {\n",
       "        vertical-align: middle;\n",
       "    }\n",
       "\n",
       "    .dataframe tbody tr th {\n",
       "        vertical-align: top;\n",
       "    }\n",
       "\n",
       "    .dataframe thead th {\n",
       "        text-align: right;\n",
       "    }\n",
       "</style>\n",
       "<table border=\"1\" class=\"dataframe\">\n",
       "  <thead>\n",
       "    <tr style=\"text-align: right;\">\n",
       "      <th></th>\n",
       "      <th>CustomerID</th>\n",
       "      <th>Number_Transactions</th>\n",
       "      <th>Number_Transactions&gt;100</th>\n",
       "      <th>Average_Amount_Transactions</th>\n",
       "      <th>Average_Balance</th>\n",
       "      <th>Utilisation</th>\n",
       "      <th>CustGender</th>\n",
       "      <th>CustLocation</th>\n",
       "      <th>Max_Amount_Transactions</th>\n",
       "      <th>Min_Amount_Transactions</th>\n",
       "      <th>...</th>\n",
       "      <th>Minimum_utilisation</th>\n",
       "      <th>Maximum_utilisation</th>\n",
       "      <th>Percentile_Max_%_Transaction</th>\n",
       "      <th>PercentileBalance</th>\n",
       "      <th>Rich</th>\n",
       "      <th>Minor</th>\n",
       "      <th>Age_Status</th>\n",
       "      <th>Poor</th>\n",
       "      <th>Suspicious_Account</th>\n",
       "      <th>Account_in_red</th>\n",
       "    </tr>\n",
       "  </thead>\n",
       "  <tbody>\n",
       "    <tr>\n",
       "      <th>0</th>\n",
       "      <td>C1010011</td>\n",
       "      <td>2</td>\n",
       "      <td>2</td>\n",
       "      <td>2553.0</td>\n",
       "      <td>76340.635</td>\n",
       "      <td>73787.635</td>\n",
       "      <td>F</td>\n",
       "      <td>NEW DELHI</td>\n",
       "      <td>4750.0</td>\n",
       "      <td>356.0</td>\n",
       "      <td>...</td>\n",
       "      <td>27750.73</td>\n",
       "      <td>119824.54</td>\n",
       "      <td>0.654310</td>\n",
       "      <td>0.796982</td>\n",
       "      <td>Yes</td>\n",
       "      <td>No</td>\n",
       "      <td>Young</td>\n",
       "      <td>No</td>\n",
       "      <td>No</td>\n",
       "      <td>No</td>\n",
       "    </tr>\n",
       "    <tr>\n",
       "      <th>1</th>\n",
       "      <td>C1010012</td>\n",
       "      <td>1</td>\n",
       "      <td>1</td>\n",
       "      <td>1499.0</td>\n",
       "      <td>24204.490</td>\n",
       "      <td>22705.490</td>\n",
       "      <td>M</td>\n",
       "      <td>MUMBAI</td>\n",
       "      <td>1499.0</td>\n",
       "      <td>1499.0</td>\n",
       "      <td>...</td>\n",
       "      <td>22705.49</td>\n",
       "      <td>22705.49</td>\n",
       "      <td>0.653560</td>\n",
       "      <td>0.573716</td>\n",
       "      <td>No</td>\n",
       "      <td>No</td>\n",
       "      <td>Young</td>\n",
       "      <td>No</td>\n",
       "      <td>No</td>\n",
       "      <td>No</td>\n",
       "    </tr>\n",
       "    <tr>\n",
       "      <th>2</th>\n",
       "      <td>C1010014</td>\n",
       "      <td>2</td>\n",
       "      <td>2</td>\n",
       "      <td>727.5</td>\n",
       "      <td>100112.950</td>\n",
       "      <td>99385.450</td>\n",
       "      <td>F</td>\n",
       "      <td>MUMBAI</td>\n",
       "      <td>1205.0</td>\n",
       "      <td>250.0</td>\n",
       "      <td>...</td>\n",
       "      <td>37172.14</td>\n",
       "      <td>161598.76</td>\n",
       "      <td>0.338037</td>\n",
       "      <td>0.833322</td>\n",
       "      <td>Yes</td>\n",
       "      <td>No</td>\n",
       "      <td>Young</td>\n",
       "      <td>No</td>\n",
       "      <td>No</td>\n",
       "      <td>No</td>\n",
       "    </tr>\n",
       "    <tr>\n",
       "      <th>3</th>\n",
       "      <td>C1010018</td>\n",
       "      <td>1</td>\n",
       "      <td>0</td>\n",
       "      <td>30.0</td>\n",
       "      <td>496.180</td>\n",
       "      <td>466.180</td>\n",
       "      <td>F</td>\n",
       "      <td>CHAMPARAN</td>\n",
       "      <td>30.0</td>\n",
       "      <td>30.0</td>\n",
       "      <td>...</td>\n",
       "      <td>466.18</td>\n",
       "      <td>466.18</td>\n",
       "      <td>0.649541</td>\n",
       "      <td>0.087697</td>\n",
       "      <td>No</td>\n",
       "      <td>No</td>\n",
       "      <td>Young</td>\n",
       "      <td>Yes</td>\n",
       "      <td>No</td>\n",
       "      <td>No</td>\n",
       "    </tr>\n",
       "    <tr>\n",
       "      <th>4</th>\n",
       "      <td>C1010024</td>\n",
       "      <td>1</td>\n",
       "      <td>1</td>\n",
       "      <td>5000.0</td>\n",
       "      <td>87058.650</td>\n",
       "      <td>82058.650</td>\n",
       "      <td>M</td>\n",
       "      <td>KOLKATA</td>\n",
       "      <td>5000.0</td>\n",
       "      <td>5000.0</td>\n",
       "      <td>...</td>\n",
       "      <td>82058.65</td>\n",
       "      <td>82058.65</td>\n",
       "      <td>0.640320</td>\n",
       "      <td>0.814460</td>\n",
       "      <td>Yes</td>\n",
       "      <td>No</td>\n",
       "      <td>Adult</td>\n",
       "      <td>No</td>\n",
       "      <td>No</td>\n",
       "      <td>No</td>\n",
       "    </tr>\n",
       "  </tbody>\n",
       "</table>\n",
       "<p>5 rows × 28 columns</p>\n",
       "</div>"
      ],
      "text/plain": [
       "  CustomerID  Number_Transactions  Number_Transactions>100  \\\n",
       "0   C1010011                    2                        2   \n",
       "1   C1010012                    1                        1   \n",
       "2   C1010014                    2                        2   \n",
       "3   C1010018                    1                        0   \n",
       "4   C1010024                    1                        1   \n",
       "\n",
       "   Average_Amount_Transactions  Average_Balance  Utilisation CustGender  \\\n",
       "0                       2553.0        76340.635    73787.635          F   \n",
       "1                       1499.0        24204.490    22705.490          M   \n",
       "2                        727.5       100112.950    99385.450          F   \n",
       "3                         30.0          496.180      466.180          F   \n",
       "4                       5000.0        87058.650    82058.650          M   \n",
       "\n",
       "  CustLocation  Max_Amount_Transactions  Min_Amount_Transactions  ...  \\\n",
       "0    NEW DELHI                   4750.0                    356.0  ...   \n",
       "1       MUMBAI                   1499.0                   1499.0  ...   \n",
       "2       MUMBAI                   1205.0                    250.0  ...   \n",
       "3    CHAMPARAN                     30.0                     30.0  ...   \n",
       "4      KOLKATA                   5000.0                   5000.0  ...   \n",
       "\n",
       "   Minimum_utilisation  Maximum_utilisation Percentile_Max_%_Transaction  \\\n",
       "0             27750.73            119824.54                     0.654310   \n",
       "1             22705.49             22705.49                     0.653560   \n",
       "2             37172.14            161598.76                     0.338037   \n",
       "3               466.18               466.18                     0.649541   \n",
       "4             82058.65             82058.65                     0.640320   \n",
       "\n",
       "  PercentileBalance  Rich  Minor  Age_Status  Poor  Suspicious_Account  \\\n",
       "0          0.796982   Yes     No       Young    No                  No   \n",
       "1          0.573716    No     No       Young    No                  No   \n",
       "2          0.833322   Yes     No       Young    No                  No   \n",
       "3          0.087697    No     No       Young   Yes                  No   \n",
       "4          0.814460   Yes     No       Adult    No                  No   \n",
       "\n",
       "   Account_in_red  \n",
       "0              No  \n",
       "1              No  \n",
       "2              No  \n",
       "3              No  \n",
       "4              No  \n",
       "\n",
       "[5 rows x 28 columns]"
      ]
     },
     "execution_count": 248,
     "metadata": {},
     "output_type": "execute_result"
    }
   ],
   "source": [
    "data_small.head()"
   ]
  },
  {
   "cell_type": "code",
   "execution_count": 249,
   "metadata": {},
   "outputs": [],
   "source": [
    "# We save it\n",
    "data_small.to_csv('/Users/simonefacchiano/Desktop/Data Science/ADM/data_small_20.csv') "
   ]
  },
  {
   "cell_type": "markdown",
   "metadata": {},
   "source": [
    "### Load the data:"
   ]
  },
  {
   "cell_type": "code",
   "execution_count": 3,
   "metadata": {},
   "outputs": [
    {
     "name": "stdout",
     "output_type": "stream",
     "text": [
      "<class 'pandas.core.frame.DataFrame'>\n",
      "RangeIndex: 984614 entries, 0 to 984613\n",
      "Data columns (total 10 columns):\n",
      " #   Column              Non-Null Count   Dtype  \n",
      "---  ------              --------------   -----  \n",
      " 0   TransactionID       984614 non-null  object \n",
      " 1   CustomerID          984614 non-null  object \n",
      " 2   CustomerDOB         984614 non-null  object \n",
      " 3   CustGender          984614 non-null  object \n",
      " 4   CustLocation        984614 non-null  object \n",
      " 5   CustAccountBalance  984614 non-null  float64\n",
      " 6   TransactionDate     984614 non-null  object \n",
      " 7   TransactionTime     984614 non-null  object \n",
      " 8   TransactionAmount   984614 non-null  float64\n",
      " 9   CustomerAge         984614 non-null  int64  \n",
      "dtypes: float64(2), int64(1), object(7)\n",
      "memory usage: 75.1+ MB\n"
     ]
    }
   ],
   "source": [
    "# Original (cleaned) data\n",
    "data = pd.read_csv('/Users/simonefacchiano/Desktop/Data Science/ADM/ADM HW4/data.csv')\n",
    "data = data.drop('Unnamed: 0', axis=1)\n",
    "data.info()"
   ]
  },
  {
   "cell_type": "code",
   "execution_count": 4,
   "metadata": {},
   "outputs": [],
   "source": [
    "data.dropna(inplace=True)\n",
    "data.CustomerDOB = pd.to_datetime(data.CustomerDOB) \n",
    "data.TransactionDate = pd.to_datetime(data.TransactionDate) \n",
    "data.TransactionTime = pd.to_datetime(data.TransactionTime) "
   ]
  },
  {
   "cell_type": "code",
   "execution_count": 5,
   "metadata": {},
   "outputs": [
    {
     "data": {
      "text/html": [
       "<div>\n",
       "<style scoped>\n",
       "    .dataframe tbody tr th:only-of-type {\n",
       "        vertical-align: middle;\n",
       "    }\n",
       "\n",
       "    .dataframe tbody tr th {\n",
       "        vertical-align: top;\n",
       "    }\n",
       "\n",
       "    .dataframe thead th {\n",
       "        text-align: right;\n",
       "    }\n",
       "</style>\n",
       "<table border=\"1\" class=\"dataframe\">\n",
       "  <thead>\n",
       "    <tr style=\"text-align: right;\">\n",
       "      <th></th>\n",
       "      <th>CustomerID</th>\n",
       "      <th>Number_Transactions</th>\n",
       "      <th>Number_Transactions&gt;100</th>\n",
       "      <th>Average_Amount_Transactions</th>\n",
       "      <th>Average_Balance</th>\n",
       "      <th>Utilisation</th>\n",
       "      <th>CustGender</th>\n",
       "      <th>CustLocation</th>\n",
       "      <th>Max_Amount_Transactions</th>\n",
       "      <th>Min_Amount_Transactions</th>\n",
       "      <th>...</th>\n",
       "      <th>Minimum_utilisation</th>\n",
       "      <th>Maximum_utilisation</th>\n",
       "      <th>Percentile_Max_%_Transaction</th>\n",
       "      <th>PercentileBalance</th>\n",
       "      <th>Rich</th>\n",
       "      <th>Minor</th>\n",
       "      <th>Age_Status</th>\n",
       "      <th>Poor</th>\n",
       "      <th>Suspicious_Account</th>\n",
       "      <th>Account_in_red</th>\n",
       "    </tr>\n",
       "  </thead>\n",
       "  <tbody>\n",
       "    <tr>\n",
       "      <th>0</th>\n",
       "      <td>C1010011</td>\n",
       "      <td>2</td>\n",
       "      <td>2</td>\n",
       "      <td>2553.0</td>\n",
       "      <td>76340.635</td>\n",
       "      <td>73787.635</td>\n",
       "      <td>F</td>\n",
       "      <td>NEW DELHI</td>\n",
       "      <td>4750.0</td>\n",
       "      <td>356.0</td>\n",
       "      <td>...</td>\n",
       "      <td>27750.73</td>\n",
       "      <td>119824.54</td>\n",
       "      <td>0.654310</td>\n",
       "      <td>0.796982</td>\n",
       "      <td>Yes</td>\n",
       "      <td>No</td>\n",
       "      <td>Young</td>\n",
       "      <td>No</td>\n",
       "      <td>No</td>\n",
       "      <td>No</td>\n",
       "    </tr>\n",
       "    <tr>\n",
       "      <th>1</th>\n",
       "      <td>C1010012</td>\n",
       "      <td>1</td>\n",
       "      <td>1</td>\n",
       "      <td>1499.0</td>\n",
       "      <td>24204.490</td>\n",
       "      <td>22705.490</td>\n",
       "      <td>M</td>\n",
       "      <td>MUMBAI</td>\n",
       "      <td>1499.0</td>\n",
       "      <td>1499.0</td>\n",
       "      <td>...</td>\n",
       "      <td>22705.49</td>\n",
       "      <td>22705.49</td>\n",
       "      <td>0.653560</td>\n",
       "      <td>0.573716</td>\n",
       "      <td>No</td>\n",
       "      <td>No</td>\n",
       "      <td>Young</td>\n",
       "      <td>No</td>\n",
       "      <td>No</td>\n",
       "      <td>No</td>\n",
       "    </tr>\n",
       "    <tr>\n",
       "      <th>2</th>\n",
       "      <td>C1010014</td>\n",
       "      <td>2</td>\n",
       "      <td>2</td>\n",
       "      <td>727.5</td>\n",
       "      <td>100112.950</td>\n",
       "      <td>99385.450</td>\n",
       "      <td>F</td>\n",
       "      <td>MUMBAI</td>\n",
       "      <td>1205.0</td>\n",
       "      <td>250.0</td>\n",
       "      <td>...</td>\n",
       "      <td>37172.14</td>\n",
       "      <td>161598.76</td>\n",
       "      <td>0.338037</td>\n",
       "      <td>0.833322</td>\n",
       "      <td>Yes</td>\n",
       "      <td>No</td>\n",
       "      <td>Young</td>\n",
       "      <td>No</td>\n",
       "      <td>No</td>\n",
       "      <td>No</td>\n",
       "    </tr>\n",
       "    <tr>\n",
       "      <th>3</th>\n",
       "      <td>C1010018</td>\n",
       "      <td>1</td>\n",
       "      <td>0</td>\n",
       "      <td>30.0</td>\n",
       "      <td>496.180</td>\n",
       "      <td>466.180</td>\n",
       "      <td>F</td>\n",
       "      <td>CHAMPARAN</td>\n",
       "      <td>30.0</td>\n",
       "      <td>30.0</td>\n",
       "      <td>...</td>\n",
       "      <td>466.18</td>\n",
       "      <td>466.18</td>\n",
       "      <td>0.649541</td>\n",
       "      <td>0.087697</td>\n",
       "      <td>No</td>\n",
       "      <td>No</td>\n",
       "      <td>Young</td>\n",
       "      <td>Yes</td>\n",
       "      <td>No</td>\n",
       "      <td>No</td>\n",
       "    </tr>\n",
       "    <tr>\n",
       "      <th>4</th>\n",
       "      <td>C1010024</td>\n",
       "      <td>1</td>\n",
       "      <td>1</td>\n",
       "      <td>5000.0</td>\n",
       "      <td>87058.650</td>\n",
       "      <td>82058.650</td>\n",
       "      <td>M</td>\n",
       "      <td>KOLKATA</td>\n",
       "      <td>5000.0</td>\n",
       "      <td>5000.0</td>\n",
       "      <td>...</td>\n",
       "      <td>82058.65</td>\n",
       "      <td>82058.65</td>\n",
       "      <td>0.640320</td>\n",
       "      <td>0.814460</td>\n",
       "      <td>Yes</td>\n",
       "      <td>No</td>\n",
       "      <td>Adult</td>\n",
       "      <td>No</td>\n",
       "      <td>No</td>\n",
       "      <td>No</td>\n",
       "    </tr>\n",
       "  </tbody>\n",
       "</table>\n",
       "<p>5 rows × 28 columns</p>\n",
       "</div>"
      ],
      "text/plain": [
       "  CustomerID  Number_Transactions  Number_Transactions>100  \\\n",
       "0   C1010011                    2                        2   \n",
       "1   C1010012                    1                        1   \n",
       "2   C1010014                    2                        2   \n",
       "3   C1010018                    1                        0   \n",
       "4   C1010024                    1                        1   \n",
       "\n",
       "   Average_Amount_Transactions  Average_Balance  Utilisation CustGender  \\\n",
       "0                       2553.0        76340.635    73787.635          F   \n",
       "1                       1499.0        24204.490    22705.490          M   \n",
       "2                        727.5       100112.950    99385.450          F   \n",
       "3                         30.0          496.180      466.180          F   \n",
       "4                       5000.0        87058.650    82058.650          M   \n",
       "\n",
       "  CustLocation  Max_Amount_Transactions  Min_Amount_Transactions  ...  \\\n",
       "0    NEW DELHI                   4750.0                    356.0  ...   \n",
       "1       MUMBAI                   1499.0                   1499.0  ...   \n",
       "2       MUMBAI                   1205.0                    250.0  ...   \n",
       "3    CHAMPARAN                     30.0                     30.0  ...   \n",
       "4      KOLKATA                   5000.0                   5000.0  ...   \n",
       "\n",
       "   Minimum_utilisation  Maximum_utilisation Percentile_Max_%_Transaction  \\\n",
       "0             27750.73            119824.54                     0.654310   \n",
       "1             22705.49             22705.49                     0.653560   \n",
       "2             37172.14            161598.76                     0.338037   \n",
       "3               466.18               466.18                     0.649541   \n",
       "4             82058.65             82058.65                     0.640320   \n",
       "\n",
       "  PercentileBalance  Rich  Minor  Age_Status  Poor  Suspicious_Account  \\\n",
       "0          0.796982   Yes     No       Young    No                  No   \n",
       "1          0.573716    No     No       Young    No                  No   \n",
       "2          0.833322   Yes     No       Young    No                  No   \n",
       "3          0.087697    No     No       Young   Yes                  No   \n",
       "4          0.814460   Yes     No       Adult    No                  No   \n",
       "\n",
       "   Account_in_red  \n",
       "0              No  \n",
       "1              No  \n",
       "2              No  \n",
       "3              No  \n",
       "4              No  \n",
       "\n",
       "[5 rows x 28 columns]"
      ]
     },
     "execution_count": 5,
     "metadata": {},
     "output_type": "execute_result"
    }
   ],
   "source": [
    "# Data_set with the 20 additional features (and one row for each ID)\n",
    "data_small = pd.read_csv('/Users/simonefacchiano/Desktop/Data Science/ADM/ADM HW4/data_small_20.csv')\n",
    "data_small = data_small.drop('Unnamed: 0', axis=1) \n",
    "data_small.head()"
   ]
  },
  {
   "cell_type": "code",
   "execution_count": 6,
   "metadata": {},
   "outputs": [],
   "source": [
    "# We convert (again) dates in the right format:\n",
    "data_small.Last_Transaction = pd.to_datetime(data_small.Last_Transaction) "
   ]
  },
  {
   "cell_type": "markdown",
   "metadata": {},
   "source": [
    "## 2.2: Choose you feature + Dimensionality Reduction"
   ]
  },
  {
   "cell_type": "markdown",
   "metadata": {},
   "source": [
    "### 2.2.1: Standardization"
   ]
  },
  {
   "cell_type": "code",
   "execution_count": 7,
   "metadata": {},
   "outputs": [
    {
     "data": {
      "text/html": [
       "<div>\n",
       "<style scoped>\n",
       "    .dataframe tbody tr th:only-of-type {\n",
       "        vertical-align: middle;\n",
       "    }\n",
       "\n",
       "    .dataframe tbody tr th {\n",
       "        vertical-align: top;\n",
       "    }\n",
       "\n",
       "    .dataframe thead th {\n",
       "        text-align: right;\n",
       "    }\n",
       "</style>\n",
       "<table border=\"1\" class=\"dataframe\">\n",
       "  <thead>\n",
       "    <tr style=\"text-align: right;\">\n",
       "      <th></th>\n",
       "      <th>Number_Transactions</th>\n",
       "      <th>Number_Transactions&gt;100</th>\n",
       "      <th>Average_Amount_Transactions</th>\n",
       "      <th>Average_Balance</th>\n",
       "      <th>Utilisation</th>\n",
       "      <th>Max_Amount_Transactions</th>\n",
       "      <th>Min_Amount_Transactions</th>\n",
       "      <th>Customer_Age</th>\n",
       "      <th>Max_%_Transaction</th>\n",
       "      <th>Minimum_Balance</th>\n",
       "      <th>Number_Transactions&gt;1000</th>\n",
       "      <th>Last_Month_Transaction</th>\n",
       "      <th>Maximum_Balance</th>\n",
       "      <th>Minimum_utilisation</th>\n",
       "      <th>Maximum_utilisation</th>\n",
       "      <th>Percentile_Max_%_Transaction</th>\n",
       "      <th>PercentileBalance</th>\n",
       "    </tr>\n",
       "  </thead>\n",
       "  <tbody>\n",
       "    <tr>\n",
       "      <th>count</th>\n",
       "      <td>838561.000000</td>\n",
       "      <td>838561.000000</td>\n",
       "      <td>8.385610e+05</td>\n",
       "      <td>8.385610e+05</td>\n",
       "      <td>8.385610e+05</td>\n",
       "      <td>8.385610e+05</td>\n",
       "      <td>8.385610e+05</td>\n",
       "      <td>838561.000000</td>\n",
       "      <td>838561.00</td>\n",
       "      <td>8.385610e+05</td>\n",
       "      <td>838561.000000</td>\n",
       "      <td>838561.000000</td>\n",
       "      <td>8.385610e+05</td>\n",
       "      <td>8.385610e+05</td>\n",
       "      <td>8.385610e+05</td>\n",
       "      <td>838561.000000</td>\n",
       "      <td>838561.000000</td>\n",
       "    </tr>\n",
       "    <tr>\n",
       "      <th>mean</th>\n",
       "      <td>1.174171</td>\n",
       "      <td>0.943818</td>\n",
       "      <td>1.454668e+03</td>\n",
       "      <td>1.057968e+05</td>\n",
       "      <td>1.043422e+05</td>\n",
       "      <td>1.637947e+03</td>\n",
       "      <td>1.286970e+03</td>\n",
       "      <td>37.462566</td>\n",
       "      <td>inf</td>\n",
       "      <td>9.191426e+04</td>\n",
       "      <td>0.318726</td>\n",
       "      <td>7.572490</td>\n",
       "      <td>1.210962e+05</td>\n",
       "      <td>9.049288e+04</td>\n",
       "      <td>1.196022e+05</td>\n",
       "      <td>0.500001</td>\n",
       "      <td>0.500001</td>\n",
       "    </tr>\n",
       "    <tr>\n",
       "      <th>std</th>\n",
       "      <td>0.434989</td>\n",
       "      <td>0.553886</td>\n",
       "      <td>6.047087e+03</td>\n",
       "      <td>7.860466e+05</td>\n",
       "      <td>7.857385e+05</td>\n",
       "      <td>6.629639e+03</td>\n",
       "      <td>5.886269e+03</td>\n",
       "      <td>8.822770</td>\n",
       "      <td>NaN</td>\n",
       "      <td>7.560236e+05</td>\n",
       "      <td>0.495759</td>\n",
       "      <td>2.570373</td>\n",
       "      <td>8.800205e+05</td>\n",
       "      <td>7.557363e+05</td>\n",
       "      <td>8.796452e+05</td>\n",
       "      <td>0.288675</td>\n",
       "      <td>0.288675</td>\n",
       "    </tr>\n",
       "    <tr>\n",
       "      <th>min</th>\n",
       "      <td>1.000000</td>\n",
       "      <td>0.000000</td>\n",
       "      <td>1.000000e-02</td>\n",
       "      <td>0.000000e+00</td>\n",
       "      <td>-1.517547e+06</td>\n",
       "      <td>1.000000e-02</td>\n",
       "      <td>1.000000e-02</td>\n",
       "      <td>16.000000</td>\n",
       "      <td>0.00</td>\n",
       "      <td>0.000000e+00</td>\n",
       "      <td>0.000000</td>\n",
       "      <td>1.000000</td>\n",
       "      <td>0.000000e+00</td>\n",
       "      <td>-1.517547e+06</td>\n",
       "      <td>-1.517547e+06</td>\n",
       "      <td>0.001815</td>\n",
       "      <td>0.000887</td>\n",
       "    </tr>\n",
       "    <tr>\n",
       "      <th>25%</th>\n",
       "      <td>1.000000</td>\n",
       "      <td>1.000000</td>\n",
       "      <td>1.800000e+02</td>\n",
       "      <td>5.366190e+03</td>\n",
       "      <td>4.562160e+03</td>\n",
       "      <td>1.950000e+02</td>\n",
       "      <td>1.251800e+02</td>\n",
       "      <td>32.000000</td>\n",
       "      <td>0.72</td>\n",
       "      <td>3.675200e+03</td>\n",
       "      <td>0.000000</td>\n",
       "      <td>7.000000</td>\n",
       "      <td>5.641660e+03</td>\n",
       "      <td>2.887510e+03</td>\n",
       "      <td>4.848720e+03</td>\n",
       "      <td>0.249468</td>\n",
       "      <td>0.249989</td>\n",
       "    </tr>\n",
       "    <tr>\n",
       "      <th>50%</th>\n",
       "      <td>1.000000</td>\n",
       "      <td>1.000000</td>\n",
       "      <td>4.750000e+02</td>\n",
       "      <td>1.767975e+04</td>\n",
       "      <td>1.663121e+04</td>\n",
       "      <td>5.000000e+02</td>\n",
       "      <td>3.595200e+02</td>\n",
       "      <td>35.000000</td>\n",
       "      <td>2.73</td>\n",
       "      <td>1.335720e+04</td>\n",
       "      <td>0.000000</td>\n",
       "      <td>8.000000</td>\n",
       "      <td>1.917630e+04</td>\n",
       "      <td>1.244278e+04</td>\n",
       "      <td>1.807334e+04</td>\n",
       "      <td>0.500137</td>\n",
       "      <td>0.500001</td>\n",
       "    </tr>\n",
       "    <tr>\n",
       "      <th>75%</th>\n",
       "      <td>1.000000</td>\n",
       "      <td>1.000000</td>\n",
       "      <td>1.177200e+03</td>\n",
       "      <td>5.721561e+04</td>\n",
       "      <td>5.570298e+04</td>\n",
       "      <td>1.316000e+03</td>\n",
       "      <td>1.000000e+03</td>\n",
       "      <td>41.000000</td>\n",
       "      <td>11.80</td>\n",
       "      <td>4.478136e+04</td>\n",
       "      <td>1.000000</td>\n",
       "      <td>9.000000</td>\n",
       "      <td>6.378637e+04</td>\n",
       "      <td>4.321868e+04</td>\n",
       "      <td>6.219455e+04</td>\n",
       "      <td>0.750037</td>\n",
       "      <td>0.750000</td>\n",
       "    </tr>\n",
       "    <tr>\n",
       "      <th>max</th>\n",
       "      <td>6.000000</td>\n",
       "      <td>6.000000</td>\n",
       "      <td>1.560035e+06</td>\n",
       "      <td>1.150355e+08</td>\n",
       "      <td>1.150339e+08</td>\n",
       "      <td>1.560035e+06</td>\n",
       "      <td>1.560035e+06</td>\n",
       "      <td>116.000000</td>\n",
       "      <td>inf</td>\n",
       "      <td>1.150355e+08</td>\n",
       "      <td>4.000000</td>\n",
       "      <td>12.000000</td>\n",
       "      <td>1.150355e+08</td>\n",
       "      <td>1.150339e+08</td>\n",
       "      <td>1.150349e+08</td>\n",
       "      <td>0.999114</td>\n",
       "      <td>0.999996</td>\n",
       "    </tr>\n",
       "  </tbody>\n",
       "</table>\n",
       "</div>"
      ],
      "text/plain": [
       "       Number_Transactions  Number_Transactions>100  \\\n",
       "count        838561.000000            838561.000000   \n",
       "mean              1.174171                 0.943818   \n",
       "std               0.434989                 0.553886   \n",
       "min               1.000000                 0.000000   \n",
       "25%               1.000000                 1.000000   \n",
       "50%               1.000000                 1.000000   \n",
       "75%               1.000000                 1.000000   \n",
       "max               6.000000                 6.000000   \n",
       "\n",
       "       Average_Amount_Transactions  Average_Balance   Utilisation  \\\n",
       "count                 8.385610e+05     8.385610e+05  8.385610e+05   \n",
       "mean                  1.454668e+03     1.057968e+05  1.043422e+05   \n",
       "std                   6.047087e+03     7.860466e+05  7.857385e+05   \n",
       "min                   1.000000e-02     0.000000e+00 -1.517547e+06   \n",
       "25%                   1.800000e+02     5.366190e+03  4.562160e+03   \n",
       "50%                   4.750000e+02     1.767975e+04  1.663121e+04   \n",
       "75%                   1.177200e+03     5.721561e+04  5.570298e+04   \n",
       "max                   1.560035e+06     1.150355e+08  1.150339e+08   \n",
       "\n",
       "       Max_Amount_Transactions  Min_Amount_Transactions   Customer_Age  \\\n",
       "count             8.385610e+05             8.385610e+05  838561.000000   \n",
       "mean              1.637947e+03             1.286970e+03      37.462566   \n",
       "std               6.629639e+03             5.886269e+03       8.822770   \n",
       "min               1.000000e-02             1.000000e-02      16.000000   \n",
       "25%               1.950000e+02             1.251800e+02      32.000000   \n",
       "50%               5.000000e+02             3.595200e+02      35.000000   \n",
       "75%               1.316000e+03             1.000000e+03      41.000000   \n",
       "max               1.560035e+06             1.560035e+06     116.000000   \n",
       "\n",
       "       Max_%_Transaction  Minimum_Balance  Number_Transactions>1000  \\\n",
       "count          838561.00     8.385610e+05             838561.000000   \n",
       "mean                 inf     9.191426e+04                  0.318726   \n",
       "std                  NaN     7.560236e+05                  0.495759   \n",
       "min                 0.00     0.000000e+00                  0.000000   \n",
       "25%                 0.72     3.675200e+03                  0.000000   \n",
       "50%                 2.73     1.335720e+04                  0.000000   \n",
       "75%                11.80     4.478136e+04                  1.000000   \n",
       "max                  inf     1.150355e+08                  4.000000   \n",
       "\n",
       "       Last_Month_Transaction  Maximum_Balance  Minimum_utilisation  \\\n",
       "count           838561.000000     8.385610e+05         8.385610e+05   \n",
       "mean                 7.572490     1.210962e+05         9.049288e+04   \n",
       "std                  2.570373     8.800205e+05         7.557363e+05   \n",
       "min                  1.000000     0.000000e+00        -1.517547e+06   \n",
       "25%                  7.000000     5.641660e+03         2.887510e+03   \n",
       "50%                  8.000000     1.917630e+04         1.244278e+04   \n",
       "75%                  9.000000     6.378637e+04         4.321868e+04   \n",
       "max                 12.000000     1.150355e+08         1.150339e+08   \n",
       "\n",
       "       Maximum_utilisation  Percentile_Max_%_Transaction  PercentileBalance  \n",
       "count         8.385610e+05                 838561.000000      838561.000000  \n",
       "mean          1.196022e+05                      0.500001           0.500001  \n",
       "std           8.796452e+05                      0.288675           0.288675  \n",
       "min          -1.517547e+06                      0.001815           0.000887  \n",
       "25%           4.848720e+03                      0.249468           0.249989  \n",
       "50%           1.807334e+04                      0.500137           0.500001  \n",
       "75%           6.219455e+04                      0.750037           0.750000  \n",
       "max           1.150349e+08                      0.999114           0.999996  "
      ]
     },
     "execution_count": 7,
     "metadata": {},
     "output_type": "execute_result"
    }
   ],
   "source": [
    "data_small.describe()"
   ]
  },
  {
   "cell_type": "code",
   "execution_count": 8,
   "metadata": {},
   "outputs": [
    {
     "data": {
      "text/html": [
       "<div>\n",
       "<style scoped>\n",
       "    .dataframe tbody tr th:only-of-type {\n",
       "        vertical-align: middle;\n",
       "    }\n",
       "\n",
       "    .dataframe tbody tr th {\n",
       "        vertical-align: top;\n",
       "    }\n",
       "\n",
       "    .dataframe thead th {\n",
       "        text-align: right;\n",
       "    }\n",
       "</style>\n",
       "<table border=\"1\" class=\"dataframe\">\n",
       "  <thead>\n",
       "    <tr style=\"text-align: right;\">\n",
       "      <th></th>\n",
       "      <th>CustomerID</th>\n",
       "      <th>Maximum_Balance</th>\n",
       "      <th>Max_%_Transaction</th>\n",
       "      <th>Suspicious_Account</th>\n",
       "    </tr>\n",
       "  </thead>\n",
       "  <tbody>\n",
       "    <tr>\n",
       "      <th>660</th>\n",
       "      <td>C1012617</td>\n",
       "      <td>0.0</td>\n",
       "      <td>inf</td>\n",
       "      <td>Yes</td>\n",
       "    </tr>\n",
       "    <tr>\n",
       "      <th>694</th>\n",
       "      <td>C1012689</td>\n",
       "      <td>0.0</td>\n",
       "      <td>inf</td>\n",
       "      <td>Yes</td>\n",
       "    </tr>\n",
       "    <tr>\n",
       "      <th>1514</th>\n",
       "      <td>C1015951</td>\n",
       "      <td>0.0</td>\n",
       "      <td>inf</td>\n",
       "      <td>Yes</td>\n",
       "    </tr>\n",
       "    <tr>\n",
       "      <th>1922</th>\n",
       "      <td>C1017554</td>\n",
       "      <td>0.0</td>\n",
       "      <td>inf</td>\n",
       "      <td>Yes</td>\n",
       "    </tr>\n",
       "    <tr>\n",
       "      <th>2040</th>\n",
       "      <td>C1017934</td>\n",
       "      <td>0.0</td>\n",
       "      <td>inf</td>\n",
       "      <td>Yes</td>\n",
       "    </tr>\n",
       "    <tr>\n",
       "      <th>...</th>\n",
       "      <td>...</td>\n",
       "      <td>...</td>\n",
       "      <td>...</td>\n",
       "      <td>...</td>\n",
       "    </tr>\n",
       "    <tr>\n",
       "      <th>836215</th>\n",
       "      <td>C9040670</td>\n",
       "      <td>0.0</td>\n",
       "      <td>inf</td>\n",
       "      <td>Yes</td>\n",
       "    </tr>\n",
       "    <tr>\n",
       "      <th>837544</th>\n",
       "      <td>C9067428</td>\n",
       "      <td>0.0</td>\n",
       "      <td>inf</td>\n",
       "      <td>Yes</td>\n",
       "    </tr>\n",
       "    <tr>\n",
       "      <th>838055</th>\n",
       "      <td>C9083786</td>\n",
       "      <td>0.0</td>\n",
       "      <td>inf</td>\n",
       "      <td>Yes</td>\n",
       "    </tr>\n",
       "    <tr>\n",
       "      <th>838133</th>\n",
       "      <td>C9086537</td>\n",
       "      <td>0.0</td>\n",
       "      <td>inf</td>\n",
       "      <td>Yes</td>\n",
       "    </tr>\n",
       "    <tr>\n",
       "      <th>838164</th>\n",
       "      <td>C9087471</td>\n",
       "      <td>0.0</td>\n",
       "      <td>inf</td>\n",
       "      <td>Yes</td>\n",
       "    </tr>\n",
       "  </tbody>\n",
       "</table>\n",
       "<p>1487 rows × 4 columns</p>\n",
       "</div>"
      ],
      "text/plain": [
       "       CustomerID  Maximum_Balance  Max_%_Transaction Suspicious_Account\n",
       "660      C1012617              0.0                inf                Yes\n",
       "694      C1012689              0.0                inf                Yes\n",
       "1514     C1015951              0.0                inf                Yes\n",
       "1922     C1017554              0.0                inf                Yes\n",
       "2040     C1017934              0.0                inf                Yes\n",
       "...           ...              ...                ...                ...\n",
       "836215   C9040670              0.0                inf                Yes\n",
       "837544   C9067428              0.0                inf                Yes\n",
       "838055   C9083786              0.0                inf                Yes\n",
       "838133   C9086537              0.0                inf                Yes\n",
       "838164   C9087471              0.0                inf                Yes\n",
       "\n",
       "[1487 rows x 4 columns]"
      ]
     },
     "execution_count": 8,
     "metadata": {},
     "output_type": "execute_result"
    }
   ],
   "source": [
    "# First problem:\n",
    "max(data_small['Max_%_Transaction'])  # --> inf!\n",
    "data_small[data_small['Max_%_Transaction'] == max(data_small['Max_%_Transaction'])][['CustomerID', 'Maximum_Balance' , 'Max_%_Transaction', 'Suspicious_Account']]\n"
   ]
  },
  {
   "cell_type": "markdown",
   "metadata": {},
   "source": [
    "1487 rows have infinite % of transaction with respect to the corresponding balance! This can happend when the Customer has a balance of 0 INR\n",
    "How to deal with that?\n",
    "Obviously, if the maximum value of a certain column is infinite, we can't normalise that feature... \n",
    "... so we create a copy of the original dataset to keep track of the original data:"
   ]
  },
  {
   "cell_type": "code",
   "execution_count": 9,
   "metadata": {},
   "outputs": [],
   "source": [
    "normalised_variables = pd.DataFrame(data_small.copy())\n",
    "\n",
    "# and then we drop those rows who have 'infinite' in Max_%_Transaction:\n",
    "normalised_variables = normalised_variables.replace([np.inf, -np.inf], np.nan, inplace=False)\n",
    "normalised_variables = normalised_variables.dropna()\n",
    "\n",
    "# Now, we can go on"
   ]
  },
  {
   "cell_type": "markdown",
   "metadata": {},
   "source": [
    "Many learning algorithms assume that all featured are centered around zero and have a variance of the same order. So, we want to normalise our varibales.\n",
    "Of course, not all variables need to be normalised.\n",
    "For example, we will not normalise binary features of date-columns. We are not going to standardize location or percentiles variables either.\n",
    "But we need to pay attention at the variances of real-valued variables, because they can confound our analysis"
   ]
  },
  {
   "cell_type": "code",
   "execution_count": 10,
   "metadata": {},
   "outputs": [],
   "source": [
    "from sklearn.preprocessing import StandardScaler\n",
    "\n",
    "# First of all, we decide which features have to be transformed:\n",
    "\n",
    "variables_names = ['Number_Transactions',\n",
    " 'Number_Transactions>100',\n",
    " 'Average_Amount_Transactions',\n",
    " 'Average_Balance',\n",
    " 'Utilisation',\n",
    " 'Max_Amount_Transactions',\n",
    " 'Min_Amount_Transactions',\n",
    " 'Customer_Age',\n",
    " 'Max_%_Transaction',\n",
    " 'Minimum_Balance',\n",
    " 'Number_Transactions>1000',\n",
    " 'Maximum_Balance',\n",
    " 'Minimum_utilisation',\n",
    " 'Maximum_utilisation']\n",
    "\n",
    "variables = normalised_variables[variables_names]\n",
    "\n",
    "scaler = StandardScaler().fit(variables.values)\n",
    "variables = scaler.transform(variables.values)\n",
    "\n",
    "# Now, we assign the scaled variables to our copy of the original dataframe:\n",
    "normalised_variables[variables_names] = variables"
   ]
  },
  {
   "cell_type": "markdown",
   "metadata": {},
   "source": [
    "Now look at the following table. All the means are equal to 0 (calculation accuracy permitting) and all the standard deviations are 1!"
   ]
  },
  {
   "cell_type": "code",
   "execution_count": 10,
   "metadata": {},
   "outputs": [
    {
     "data": {
      "text/html": [
       "<div>\n",
       "<style scoped>\n",
       "    .dataframe tbody tr th:only-of-type {\n",
       "        vertical-align: middle;\n",
       "    }\n",
       "\n",
       "    .dataframe tbody tr th {\n",
       "        vertical-align: top;\n",
       "    }\n",
       "\n",
       "    .dataframe thead th {\n",
       "        text-align: right;\n",
       "    }\n",
       "</style>\n",
       "<table border=\"1\" class=\"dataframe\">\n",
       "  <thead>\n",
       "    <tr style=\"text-align: right;\">\n",
       "      <th></th>\n",
       "      <th>Number_Transactions</th>\n",
       "      <th>Number_Transactions&gt;100</th>\n",
       "      <th>Average_Amount_Transactions</th>\n",
       "      <th>Average_Balance</th>\n",
       "      <th>Utilisation</th>\n",
       "      <th>Max_Amount_Transactions</th>\n",
       "      <th>Min_Amount_Transactions</th>\n",
       "      <th>Customer_Age</th>\n",
       "      <th>Max_%_Transaction</th>\n",
       "      <th>Minimum_Balance</th>\n",
       "      <th>Number_Transactions&gt;1000</th>\n",
       "      <th>Last_Month_Transaction</th>\n",
       "      <th>Maximum_Balance</th>\n",
       "      <th>Minimum_utilisation</th>\n",
       "      <th>Maximum_utilisation</th>\n",
       "      <th>Percentile_Max_%_Transaction</th>\n",
       "      <th>PercentileBalance</th>\n",
       "    </tr>\n",
       "  </thead>\n",
       "  <tbody>\n",
       "    <tr>\n",
       "      <th>count</th>\n",
       "      <td>8.370740e+05</td>\n",
       "      <td>8.370740e+05</td>\n",
       "      <td>8.370740e+05</td>\n",
       "      <td>8.370740e+05</td>\n",
       "      <td>8.370740e+05</td>\n",
       "      <td>8.370740e+05</td>\n",
       "      <td>8.370740e+05</td>\n",
       "      <td>8.370740e+05</td>\n",
       "      <td>8.370740e+05</td>\n",
       "      <td>8.370740e+05</td>\n",
       "      <td>8.370740e+05</td>\n",
       "      <td>837074.000000</td>\n",
       "      <td>8.370740e+05</td>\n",
       "      <td>8.370740e+05</td>\n",
       "      <td>8.370740e+05</td>\n",
       "      <td>837074.000000</td>\n",
       "      <td>837074.000000</td>\n",
       "    </tr>\n",
       "    <tr>\n",
       "      <th>mean</th>\n",
       "      <td>1.618838e-15</td>\n",
       "      <td>-8.579592e-15</td>\n",
       "      <td>2.078569e-16</td>\n",
       "      <td>4.431640e-17</td>\n",
       "      <td>-6.550035e-18</td>\n",
       "      <td>3.361825e-16</td>\n",
       "      <td>1.229964e-16</td>\n",
       "      <td>1.037966e-15</td>\n",
       "      <td>5.073226e-17</td>\n",
       "      <td>-2.588924e-17</td>\n",
       "      <td>3.808076e-15</td>\n",
       "      <td>7.572808</td>\n",
       "      <td>6.213636e-17</td>\n",
       "      <td>3.636969e-18</td>\n",
       "      <td>1.523504e-17</td>\n",
       "      <td>0.499114</td>\n",
       "      <td>0.500887</td>\n",
       "    </tr>\n",
       "    <tr>\n",
       "      <th>std</th>\n",
       "      <td>1.000001e+00</td>\n",
       "      <td>1.000001e+00</td>\n",
       "      <td>1.000001e+00</td>\n",
       "      <td>1.000001e+00</td>\n",
       "      <td>1.000001e+00</td>\n",
       "      <td>1.000001e+00</td>\n",
       "      <td>1.000001e+00</td>\n",
       "      <td>1.000001e+00</td>\n",
       "      <td>1.000001e+00</td>\n",
       "      <td>1.000001e+00</td>\n",
       "      <td>1.000001e+00</td>\n",
       "      <td>2.570167</td>\n",
       "      <td>1.000001e+00</td>\n",
       "      <td>1.000001e+00</td>\n",
       "      <td>1.000001e+00</td>\n",
       "      <td>0.288163</td>\n",
       "      <td>0.288163</td>\n",
       "    </tr>\n",
       "    <tr>\n",
       "      <th>min</th>\n",
       "      <td>-4.008118e-01</td>\n",
       "      <td>-1.703386e+00</td>\n",
       "      <td>-2.404272e-01</td>\n",
       "      <td>-1.347153e-01</td>\n",
       "      <td>-2.062604e+00</td>\n",
       "      <td>-2.469516e-01</td>\n",
       "      <td>-2.184630e-01</td>\n",
       "      <td>-2.436155e+00</td>\n",
       "      <td>-7.751933e-03</td>\n",
       "      <td>-1.216855e-01</td>\n",
       "      <td>-6.427419e-01</td>\n",
       "      <td>1.000000</td>\n",
       "      <td>-1.377307e-01</td>\n",
       "      <td>-2.126139e+00</td>\n",
       "      <td>-1.859775e+00</td>\n",
       "      <td>0.001815</td>\n",
       "      <td>0.001906</td>\n",
       "    </tr>\n",
       "    <tr>\n",
       "      <th>25%</th>\n",
       "      <td>-4.008118e-01</td>\n",
       "      <td>1.011119e-01</td>\n",
       "      <td>-2.106520e-01</td>\n",
       "      <td>-1.278329e-01</td>\n",
       "      <td>-1.270608e-01</td>\n",
       "      <td>-2.175355e-01</td>\n",
       "      <td>-1.972197e-01</td>\n",
       "      <td>-6.190139e-01</td>\n",
       "      <td>-7.750831e-03</td>\n",
       "      <td>-1.167766e-01</td>\n",
       "      <td>-6.427419e-01</td>\n",
       "      <td>7.000000</td>\n",
       "      <td>-1.312619e-01</td>\n",
       "      <td>-1.159840e-01</td>\n",
       "      <td>-1.305324e-01</td>\n",
       "      <td>0.249468</td>\n",
       "      <td>0.251334</td>\n",
       "    </tr>\n",
       "    <tr>\n",
       "      <th>50%</th>\n",
       "      <td>-4.008118e-01</td>\n",
       "      <td>1.011119e-01</td>\n",
       "      <td>-1.618509e-01</td>\n",
       "      <td>-1.121527e-01</td>\n",
       "      <td>-1.116841e-01</td>\n",
       "      <td>-1.715235e-01</td>\n",
       "      <td>-1.574491e-01</td>\n",
       "      <td>-2.782998e-01</td>\n",
       "      <td>-7.747770e-03</td>\n",
       "      <td>-1.039718e-01</td>\n",
       "      <td>-6.427419e-01</td>\n",
       "      <td>8.000000</td>\n",
       "      <td>-1.158854e-01</td>\n",
       "      <td>-1.033406e-01</td>\n",
       "      <td>-1.154717e-01</td>\n",
       "      <td>0.499426</td>\n",
       "      <td>0.500888</td>\n",
       "    </tr>\n",
       "    <tr>\n",
       "      <th>75%</th>\n",
       "      <td>-4.008118e-01</td>\n",
       "      <td>1.011119e-01</td>\n",
       "      <td>-4.588622e-02</td>\n",
       "      <td>-6.178561e-02</td>\n",
       "      <td>-6.194446e-02</td>\n",
       "      <td>-4.843754e-02</td>\n",
       "      <td>-4.850477e-02</td>\n",
       "      <td>4.031283e-01</td>\n",
       "      <td>-7.734057e-03</td>\n",
       "      <td>-6.233410e-02</td>\n",
       "      <td>1.374265e+00</td>\n",
       "      <td>9.000000</td>\n",
       "      <td>-6.510013e-02</td>\n",
       "      <td>-6.255530e-02</td>\n",
       "      <td>-6.530117e-02</td>\n",
       "      <td>0.748720</td>\n",
       "      <td>0.750444</td>\n",
       "    </tr>\n",
       "    <tr>\n",
       "      <th>max</th>\n",
       "      <td>1.108521e+01</td>\n",
       "      <td>9.123601e+00</td>\n",
       "      <td>2.578322e+02</td>\n",
       "      <td>1.460848e+02</td>\n",
       "      <td>1.461420e+02</td>\n",
       "      <td>2.350986e+02</td>\n",
       "      <td>2.649249e+02</td>\n",
       "      <td>8.920979e+00</td>\n",
       "      <td>6.488880e+02</td>\n",
       "      <td>1.519040e+02</td>\n",
       "      <td>7.425286e+00</td>\n",
       "      <td>12.000000</td>\n",
       "      <td>1.304677e+02</td>\n",
       "      <td>1.519616e+02</td>\n",
       "      <td>1.305244e+02</td>\n",
       "      <td>0.998227</td>\n",
       "      <td>0.999996</td>\n",
       "    </tr>\n",
       "  </tbody>\n",
       "</table>\n",
       "</div>"
      ],
      "text/plain": [
       "       Number_Transactions  Number_Transactions>100  \\\n",
       "count         8.370740e+05             8.370740e+05   \n",
       "mean          1.618838e-15            -8.579592e-15   \n",
       "std           1.000001e+00             1.000001e+00   \n",
       "min          -4.008118e-01            -1.703386e+00   \n",
       "25%          -4.008118e-01             1.011119e-01   \n",
       "50%          -4.008118e-01             1.011119e-01   \n",
       "75%          -4.008118e-01             1.011119e-01   \n",
       "max           1.108521e+01             9.123601e+00   \n",
       "\n",
       "       Average_Amount_Transactions  Average_Balance   Utilisation  \\\n",
       "count                 8.370740e+05     8.370740e+05  8.370740e+05   \n",
       "mean                  2.078569e-16     4.431640e-17 -6.550035e-18   \n",
       "std                   1.000001e+00     1.000001e+00  1.000001e+00   \n",
       "min                  -2.404272e-01    -1.347153e-01 -2.062604e+00   \n",
       "25%                  -2.106520e-01    -1.278329e-01 -1.270608e-01   \n",
       "50%                  -1.618509e-01    -1.121527e-01 -1.116841e-01   \n",
       "75%                  -4.588622e-02    -6.178561e-02 -6.194446e-02   \n",
       "max                   2.578322e+02     1.460848e+02  1.461420e+02   \n",
       "\n",
       "       Max_Amount_Transactions  Min_Amount_Transactions  Customer_Age  \\\n",
       "count             8.370740e+05             8.370740e+05  8.370740e+05   \n",
       "mean              3.361825e-16             1.229964e-16  1.037966e-15   \n",
       "std               1.000001e+00             1.000001e+00  1.000001e+00   \n",
       "min              -2.469516e-01            -2.184630e-01 -2.436155e+00   \n",
       "25%              -2.175355e-01            -1.972197e-01 -6.190139e-01   \n",
       "50%              -1.715235e-01            -1.574491e-01 -2.782998e-01   \n",
       "75%              -4.843754e-02            -4.850477e-02  4.031283e-01   \n",
       "max               2.350986e+02             2.649249e+02  8.920979e+00   \n",
       "\n",
       "       Max_%_Transaction  Minimum_Balance  Number_Transactions>1000  \\\n",
       "count       8.370740e+05     8.370740e+05              8.370740e+05   \n",
       "mean        5.073226e-17    -2.588924e-17              3.808076e-15   \n",
       "std         1.000001e+00     1.000001e+00              1.000001e+00   \n",
       "min        -7.751933e-03    -1.216855e-01             -6.427419e-01   \n",
       "25%        -7.750831e-03    -1.167766e-01             -6.427419e-01   \n",
       "50%        -7.747770e-03    -1.039718e-01             -6.427419e-01   \n",
       "75%        -7.734057e-03    -6.233410e-02              1.374265e+00   \n",
       "max         6.488880e+02     1.519040e+02              7.425286e+00   \n",
       "\n",
       "       Last_Month_Transaction  Maximum_Balance  Minimum_utilisation  \\\n",
       "count           837074.000000     8.370740e+05         8.370740e+05   \n",
       "mean                 7.572808     6.213636e-17         3.636969e-18   \n",
       "std                  2.570167     1.000001e+00         1.000001e+00   \n",
       "min                  1.000000    -1.377307e-01        -2.126139e+00   \n",
       "25%                  7.000000    -1.312619e-01        -1.159840e-01   \n",
       "50%                  8.000000    -1.158854e-01        -1.033406e-01   \n",
       "75%                  9.000000    -6.510013e-02        -6.255530e-02   \n",
       "max                 12.000000     1.304677e+02         1.519616e+02   \n",
       "\n",
       "       Maximum_utilisation  Percentile_Max_%_Transaction  PercentileBalance  \n",
       "count         8.370740e+05                 837074.000000      837074.000000  \n",
       "mean          1.523504e-17                      0.499114           0.500887  \n",
       "std           1.000001e+00                      0.288163           0.288163  \n",
       "min          -1.859775e+00                      0.001815           0.001906  \n",
       "25%          -1.305324e-01                      0.249468           0.251334  \n",
       "50%          -1.154717e-01                      0.499426           0.500888  \n",
       "75%          -6.530117e-02                      0.748720           0.750444  \n",
       "max           1.305244e+02                      0.998227           0.999996  "
      ]
     },
     "execution_count": 10,
     "metadata": {},
     "output_type": "execute_result"
    }
   ],
   "source": [
    "normalised_variables.describe()\n",
    "\n",
    "# Now that we standardized our features, we can go on"
   ]
  },
  {
   "cell_type": "code",
   "execution_count": 13,
   "metadata": {},
   "outputs": [
    {
     "data": {
      "text/html": [
       "<div>\n",
       "<style scoped>\n",
       "    .dataframe tbody tr th:only-of-type {\n",
       "        vertical-align: middle;\n",
       "    }\n",
       "\n",
       "    .dataframe tbody tr th {\n",
       "        vertical-align: top;\n",
       "    }\n",
       "\n",
       "    .dataframe thead th {\n",
       "        text-align: right;\n",
       "    }\n",
       "</style>\n",
       "<table border=\"1\" class=\"dataframe\">\n",
       "  <thead>\n",
       "    <tr style=\"text-align: right;\">\n",
       "      <th></th>\n",
       "      <th>CustomerID</th>\n",
       "      <th>Number_Transactions</th>\n",
       "      <th>Number_Transactions&gt;100</th>\n",
       "      <th>Average_Amount_Transactions</th>\n",
       "      <th>Average_Balance</th>\n",
       "      <th>Utilisation</th>\n",
       "      <th>CustGender</th>\n",
       "      <th>CustLocation</th>\n",
       "      <th>Max_Amount_Transactions</th>\n",
       "      <th>Min_Amount_Transactions</th>\n",
       "      <th>...</th>\n",
       "      <th>Minimum_utilisation</th>\n",
       "      <th>Maximum_utilisation</th>\n",
       "      <th>Percentile_Max_%_Transaction</th>\n",
       "      <th>PercentileBalance</th>\n",
       "      <th>Rich</th>\n",
       "      <th>Minor</th>\n",
       "      <th>Age_Status</th>\n",
       "      <th>Poor</th>\n",
       "      <th>Suspicious_Account</th>\n",
       "      <th>Account_in_red</th>\n",
       "    </tr>\n",
       "  </thead>\n",
       "  <tbody>\n",
       "    <tr>\n",
       "      <th>0</th>\n",
       "      <td>C1010011</td>\n",
       "      <td>1.896393</td>\n",
       "      <td>1.905610</td>\n",
       "      <td>0.181907</td>\n",
       "      <td>-0.037680</td>\n",
       "      <td>-0.039093</td>\n",
       "      <td>F</td>\n",
       "      <td>NEW DELHI</td>\n",
       "      <td>0.469628</td>\n",
       "      <td>-0.157959</td>\n",
       "      <td>...</td>\n",
       "      <td>-0.083166</td>\n",
       "      <td>0.000007</td>\n",
       "      <td>0.654310</td>\n",
       "      <td>0.796982</td>\n",
       "      <td>Yes</td>\n",
       "      <td>No</td>\n",
       "      <td>Young</td>\n",
       "      <td>No</td>\n",
       "      <td>No</td>\n",
       "      <td>No</td>\n",
       "    </tr>\n",
       "    <tr>\n",
       "      <th>1</th>\n",
       "      <td>C1010012</td>\n",
       "      <td>-0.400812</td>\n",
       "      <td>0.101112</td>\n",
       "      <td>0.007547</td>\n",
       "      <td>-0.103949</td>\n",
       "      <td>-0.104048</td>\n",
       "      <td>M</td>\n",
       "      <td>MUMBAI</td>\n",
       "      <td>-0.020815</td>\n",
       "      <td>0.036305</td>\n",
       "      <td>...</td>\n",
       "      <td>-0.089836</td>\n",
       "      <td>-0.110304</td>\n",
       "      <td>0.653560</td>\n",
       "      <td>0.573716</td>\n",
       "      <td>No</td>\n",
       "      <td>No</td>\n",
       "      <td>Young</td>\n",
       "      <td>No</td>\n",
       "      <td>No</td>\n",
       "      <td>No</td>\n",
       "    </tr>\n",
       "    <tr>\n",
       "      <th>2</th>\n",
       "      <td>C1010014</td>\n",
       "      <td>1.896393</td>\n",
       "      <td>1.905610</td>\n",
       "      <td>-0.120080</td>\n",
       "      <td>-0.007464</td>\n",
       "      <td>-0.006543</td>\n",
       "      <td>F</td>\n",
       "      <td>MUMBAI</td>\n",
       "      <td>-0.065168</td>\n",
       "      <td>-0.175975</td>\n",
       "      <td>...</td>\n",
       "      <td>-0.070711</td>\n",
       "      <td>0.047455</td>\n",
       "      <td>0.338037</td>\n",
       "      <td>0.833322</td>\n",
       "      <td>Yes</td>\n",
       "      <td>No</td>\n",
       "      <td>Young</td>\n",
       "      <td>No</td>\n",
       "      <td>No</td>\n",
       "      <td>No</td>\n",
       "    </tr>\n",
       "    <tr>\n",
       "      <th>3</th>\n",
       "      <td>C1010018</td>\n",
       "      <td>-0.400812</td>\n",
       "      <td>-1.703386</td>\n",
       "      <td>-0.235466</td>\n",
       "      <td>-0.134085</td>\n",
       "      <td>-0.132327</td>\n",
       "      <td>F</td>\n",
       "      <td>CHAMPARAN</td>\n",
       "      <td>-0.242427</td>\n",
       "      <td>-0.213366</td>\n",
       "      <td>...</td>\n",
       "      <td>-0.119238</td>\n",
       "      <td>-0.135564</td>\n",
       "      <td>0.649541</td>\n",
       "      <td>0.087697</td>\n",
       "      <td>No</td>\n",
       "      <td>No</td>\n",
       "      <td>Young</td>\n",
       "      <td>Yes</td>\n",
       "      <td>No</td>\n",
       "      <td>No</td>\n",
       "    </tr>\n",
       "    <tr>\n",
       "      <th>4</th>\n",
       "      <td>C1010024</td>\n",
       "      <td>-0.400812</td>\n",
       "      <td>0.101112</td>\n",
       "      <td>0.586708</td>\n",
       "      <td>-0.024057</td>\n",
       "      <td>-0.028576</td>\n",
       "      <td>M</td>\n",
       "      <td>KOLKATA</td>\n",
       "      <td>0.507343</td>\n",
       "      <td>0.631335</td>\n",
       "      <td>...</td>\n",
       "      <td>-0.011368</td>\n",
       "      <td>-0.042889</td>\n",
       "      <td>0.640320</td>\n",
       "      <td>0.814460</td>\n",
       "      <td>Yes</td>\n",
       "      <td>No</td>\n",
       "      <td>Adult</td>\n",
       "      <td>No</td>\n",
       "      <td>No</td>\n",
       "      <td>No</td>\n",
       "    </tr>\n",
       "  </tbody>\n",
       "</table>\n",
       "<p>5 rows × 28 columns</p>\n",
       "</div>"
      ],
      "text/plain": [
       "  CustomerID  Number_Transactions  Number_Transactions>100  \\\n",
       "0   C1010011             1.896393                 1.905610   \n",
       "1   C1010012            -0.400812                 0.101112   \n",
       "2   C1010014             1.896393                 1.905610   \n",
       "3   C1010018            -0.400812                -1.703386   \n",
       "4   C1010024            -0.400812                 0.101112   \n",
       "\n",
       "   Average_Amount_Transactions  Average_Balance  Utilisation CustGender  \\\n",
       "0                     0.181907        -0.037680    -0.039093          F   \n",
       "1                     0.007547        -0.103949    -0.104048          M   \n",
       "2                    -0.120080        -0.007464    -0.006543          F   \n",
       "3                    -0.235466        -0.134085    -0.132327          F   \n",
       "4                     0.586708        -0.024057    -0.028576          M   \n",
       "\n",
       "  CustLocation  Max_Amount_Transactions  Min_Amount_Transactions  ...  \\\n",
       "0    NEW DELHI                 0.469628                -0.157959  ...   \n",
       "1       MUMBAI                -0.020815                 0.036305  ...   \n",
       "2       MUMBAI                -0.065168                -0.175975  ...   \n",
       "3    CHAMPARAN                -0.242427                -0.213366  ...   \n",
       "4      KOLKATA                 0.507343                 0.631335  ...   \n",
       "\n",
       "   Minimum_utilisation  Maximum_utilisation Percentile_Max_%_Transaction  \\\n",
       "0            -0.083166             0.000007                     0.654310   \n",
       "1            -0.089836            -0.110304                     0.653560   \n",
       "2            -0.070711             0.047455                     0.338037   \n",
       "3            -0.119238            -0.135564                     0.649541   \n",
       "4            -0.011368            -0.042889                     0.640320   \n",
       "\n",
       "  PercentileBalance  Rich  Minor  Age_Status  Poor  Suspicious_Account  \\\n",
       "0          0.796982   Yes     No       Young    No                  No   \n",
       "1          0.573716    No     No       Young    No                  No   \n",
       "2          0.833322   Yes     No       Young    No                  No   \n",
       "3          0.087697    No     No       Young   Yes                  No   \n",
       "4          0.814460   Yes     No       Adult    No                  No   \n",
       "\n",
       "   Account_in_red  \n",
       "0              No  \n",
       "1              No  \n",
       "2              No  \n",
       "3              No  \n",
       "4              No  \n",
       "\n",
       "[5 rows x 28 columns]"
      ]
     },
     "execution_count": 13,
     "metadata": {},
     "output_type": "execute_result"
    }
   ],
   "source": [
    "normalised_variables.head()"
   ]
  },
  {
   "cell_type": "markdown",
   "metadata": {},
   "source": [
    "IMPORTANT: don't run the following cell more tahn once!"
   ]
  },
  {
   "cell_type": "code",
   "execution_count": 12,
   "metadata": {},
   "outputs": [
    {
     "data": {
      "text/html": [
       "<div>\n",
       "<style scoped>\n",
       "    .dataframe tbody tr th:only-of-type {\n",
       "        vertical-align: middle;\n",
       "    }\n",
       "\n",
       "    .dataframe tbody tr th {\n",
       "        vertical-align: top;\n",
       "    }\n",
       "\n",
       "    .dataframe thead th {\n",
       "        text-align: right;\n",
       "    }\n",
       "</style>\n",
       "<table border=\"1\" class=\"dataframe\">\n",
       "  <thead>\n",
       "    <tr style=\"text-align: right;\">\n",
       "      <th></th>\n",
       "      <th>CustomerID</th>\n",
       "      <th>Number_Transactions</th>\n",
       "      <th>Number_Transactions&gt;100</th>\n",
       "      <th>Average_Amount_Transactions</th>\n",
       "      <th>Average_Balance</th>\n",
       "      <th>Utilisation</th>\n",
       "      <th>CustGender</th>\n",
       "      <th>CustLocation</th>\n",
       "      <th>Max_Amount_Transactions</th>\n",
       "      <th>Min_Amount_Transactions</th>\n",
       "      <th>...</th>\n",
       "      <th>Minimum_utilisation_scaled</th>\n",
       "      <th>Maximum_utilisation_scaled</th>\n",
       "      <th>Percentile_Max_%_Transaction_scaled</th>\n",
       "      <th>PercentileBalance_scaled</th>\n",
       "      <th>Rich_scaled</th>\n",
       "      <th>Minor_scaled</th>\n",
       "      <th>Age_Status_scaled</th>\n",
       "      <th>Poor_scaled</th>\n",
       "      <th>Suspicious_Account_scaled</th>\n",
       "      <th>Account_in_red_scaled</th>\n",
       "    </tr>\n",
       "  </thead>\n",
       "  <tbody>\n",
       "    <tr>\n",
       "      <th>0</th>\n",
       "      <td>C1010011</td>\n",
       "      <td>2</td>\n",
       "      <td>2</td>\n",
       "      <td>2553.0</td>\n",
       "      <td>76340.635</td>\n",
       "      <td>73787.635</td>\n",
       "      <td>F</td>\n",
       "      <td>NEW DELHI</td>\n",
       "      <td>4750.0</td>\n",
       "      <td>356.0</td>\n",
       "      <td>...</td>\n",
       "      <td>-0.083166</td>\n",
       "      <td>0.000007</td>\n",
       "      <td>0.654310</td>\n",
       "      <td>0.796982</td>\n",
       "      <td>Yes</td>\n",
       "      <td>No</td>\n",
       "      <td>Young</td>\n",
       "      <td>No</td>\n",
       "      <td>No</td>\n",
       "      <td>No</td>\n",
       "    </tr>\n",
       "    <tr>\n",
       "      <th>1</th>\n",
       "      <td>C1010012</td>\n",
       "      <td>1</td>\n",
       "      <td>1</td>\n",
       "      <td>1499.0</td>\n",
       "      <td>24204.490</td>\n",
       "      <td>22705.490</td>\n",
       "      <td>M</td>\n",
       "      <td>MUMBAI</td>\n",
       "      <td>1499.0</td>\n",
       "      <td>1499.0</td>\n",
       "      <td>...</td>\n",
       "      <td>-0.089836</td>\n",
       "      <td>-0.110304</td>\n",
       "      <td>0.653560</td>\n",
       "      <td>0.573716</td>\n",
       "      <td>No</td>\n",
       "      <td>No</td>\n",
       "      <td>Young</td>\n",
       "      <td>No</td>\n",
       "      <td>No</td>\n",
       "      <td>No</td>\n",
       "    </tr>\n",
       "    <tr>\n",
       "      <th>2</th>\n",
       "      <td>C1010014</td>\n",
       "      <td>2</td>\n",
       "      <td>2</td>\n",
       "      <td>727.5</td>\n",
       "      <td>100112.950</td>\n",
       "      <td>99385.450</td>\n",
       "      <td>F</td>\n",
       "      <td>MUMBAI</td>\n",
       "      <td>1205.0</td>\n",
       "      <td>250.0</td>\n",
       "      <td>...</td>\n",
       "      <td>-0.070711</td>\n",
       "      <td>0.047455</td>\n",
       "      <td>0.338037</td>\n",
       "      <td>0.833322</td>\n",
       "      <td>Yes</td>\n",
       "      <td>No</td>\n",
       "      <td>Young</td>\n",
       "      <td>No</td>\n",
       "      <td>No</td>\n",
       "      <td>No</td>\n",
       "    </tr>\n",
       "    <tr>\n",
       "      <th>3</th>\n",
       "      <td>C1010018</td>\n",
       "      <td>1</td>\n",
       "      <td>0</td>\n",
       "      <td>30.0</td>\n",
       "      <td>496.180</td>\n",
       "      <td>466.180</td>\n",
       "      <td>F</td>\n",
       "      <td>CHAMPARAN</td>\n",
       "      <td>30.0</td>\n",
       "      <td>30.0</td>\n",
       "      <td>...</td>\n",
       "      <td>-0.119238</td>\n",
       "      <td>-0.135564</td>\n",
       "      <td>0.649541</td>\n",
       "      <td>0.087697</td>\n",
       "      <td>No</td>\n",
       "      <td>No</td>\n",
       "      <td>Young</td>\n",
       "      <td>Yes</td>\n",
       "      <td>No</td>\n",
       "      <td>No</td>\n",
       "    </tr>\n",
       "    <tr>\n",
       "      <th>4</th>\n",
       "      <td>C1010024</td>\n",
       "      <td>1</td>\n",
       "      <td>1</td>\n",
       "      <td>5000.0</td>\n",
       "      <td>87058.650</td>\n",
       "      <td>82058.650</td>\n",
       "      <td>M</td>\n",
       "      <td>KOLKATA</td>\n",
       "      <td>5000.0</td>\n",
       "      <td>5000.0</td>\n",
       "      <td>...</td>\n",
       "      <td>-0.011368</td>\n",
       "      <td>-0.042889</td>\n",
       "      <td>0.640320</td>\n",
       "      <td>0.814460</td>\n",
       "      <td>Yes</td>\n",
       "      <td>No</td>\n",
       "      <td>Adult</td>\n",
       "      <td>No</td>\n",
       "      <td>No</td>\n",
       "      <td>No</td>\n",
       "    </tr>\n",
       "  </tbody>\n",
       "</table>\n",
       "<p>5 rows × 56 columns</p>\n",
       "</div>"
      ],
      "text/plain": [
       "  CustomerID  Number_Transactions  Number_Transactions>100  \\\n",
       "0   C1010011                    2                        2   \n",
       "1   C1010012                    1                        1   \n",
       "2   C1010014                    2                        2   \n",
       "3   C1010018                    1                        0   \n",
       "4   C1010024                    1                        1   \n",
       "\n",
       "   Average_Amount_Transactions  Average_Balance  Utilisation CustGender  \\\n",
       "0                       2553.0        76340.635    73787.635          F   \n",
       "1                       1499.0        24204.490    22705.490          M   \n",
       "2                        727.5       100112.950    99385.450          F   \n",
       "3                         30.0          496.180      466.180          F   \n",
       "4                       5000.0        87058.650    82058.650          M   \n",
       "\n",
       "  CustLocation  Max_Amount_Transactions  Min_Amount_Transactions  ...  \\\n",
       "0    NEW DELHI                   4750.0                    356.0  ...   \n",
       "1       MUMBAI                   1499.0                   1499.0  ...   \n",
       "2       MUMBAI                   1205.0                    250.0  ...   \n",
       "3    CHAMPARAN                     30.0                     30.0  ...   \n",
       "4      KOLKATA                   5000.0                   5000.0  ...   \n",
       "\n",
       "   Minimum_utilisation_scaled  Maximum_utilisation_scaled  \\\n",
       "0                   -0.083166                    0.000007   \n",
       "1                   -0.089836                   -0.110304   \n",
       "2                   -0.070711                    0.047455   \n",
       "3                   -0.119238                   -0.135564   \n",
       "4                   -0.011368                   -0.042889   \n",
       "\n",
       "  Percentile_Max_%_Transaction_scaled PercentileBalance_scaled  Rich_scaled  \\\n",
       "0                            0.654310                 0.796982          Yes   \n",
       "1                            0.653560                 0.573716           No   \n",
       "2                            0.338037                 0.833322          Yes   \n",
       "3                            0.649541                 0.087697           No   \n",
       "4                            0.640320                 0.814460          Yes   \n",
       "\n",
       "   Minor_scaled  Age_Status_scaled  Poor_scaled  Suspicious_Account_scaled  \\\n",
       "0            No              Young           No                         No   \n",
       "1            No              Young           No                         No   \n",
       "2            No              Young           No                         No   \n",
       "3            No              Young          Yes                         No   \n",
       "4            No              Adult           No                         No   \n",
       "\n",
       "   Account_in_red_scaled  \n",
       "0                     No  \n",
       "1                     No  \n",
       "2                     No  \n",
       "3                     No  \n",
       "4                     No  \n",
       "\n",
       "[5 rows x 56 columns]"
      ]
     },
     "execution_count": 12,
     "metadata": {},
     "output_type": "execute_result"
    }
   ],
   "source": [
    "# We would like to work with a single dataset that contains all the variables we need, that are the ones we just scaled, and the binary/location/datetime in the original data_small...\n",
    "# For simplicity, we add all the new variables in the first dataset. So we will have [non_scaled_features, binary/datatime/location, scaled_feature]\n",
    "\n",
    "# We start from adding a suffix to all the normalised columns, in order not to confuse us in future analyses.\n",
    "\n",
    "## normalised_variables = normalised_variables.add_suffix('_scaled')      # ------->  DO NOT RUN AGAIN AND AGAIN  <-------\n",
    "\n",
    "# Then we merge with the original dataset:\n",
    "\n",
    "## big_data  = pd.merge(data_small , normalised_variables, left_on = 'CustomerID', right_on = 'CustomerID_scaled')\n",
    "## big_data.head()\n"
   ]
  },
  {
   "cell_type": "markdown",
   "metadata": {},
   "source": [
    "### 2.2.2 & 2.2.3: Dimensionality Reduction with PCA"
   ]
  },
  {
   "cell_type": "markdown",
   "metadata": {},
   "source": [
    "Inspired by: https://github.com/Nolanole/Misc/blob/master/pca_scree/PCA_%2B_Scree_Chart_Function_Notebook.ipynb\n",
    "\n",
    "First, notice we have bith numerical and categorical variables.\n",
    "But on closer analysis, we find that categorical variables are often obtained from numerical ones. Think for example of 'Poor' or 'Account_in_red_scaled'... are directly obtained from 'Balance'!\n",
    "We can then think of focusing our attention exclusively on numerical variables, and this allows us to be able to perform dimensionality reduction with PCA (which does not support qualitative variables)."
   ]
  },
  {
   "cell_type": "code",
   "execution_count": 11,
   "metadata": {},
   "outputs": [
    {
     "data": {
      "text/html": [
       "<div>\n",
       "<style scoped>\n",
       "    .dataframe tbody tr th:only-of-type {\n",
       "        vertical-align: middle;\n",
       "    }\n",
       "\n",
       "    .dataframe tbody tr th {\n",
       "        vertical-align: top;\n",
       "    }\n",
       "\n",
       "    .dataframe thead th {\n",
       "        text-align: right;\n",
       "    }\n",
       "</style>\n",
       "<table border=\"1\" class=\"dataframe\">\n",
       "  <thead>\n",
       "    <tr style=\"text-align: right;\">\n",
       "      <th></th>\n",
       "      <th>Number_Transactions</th>\n",
       "      <th>Number_Transactions&gt;100</th>\n",
       "      <th>Average_Amount_Transactions</th>\n",
       "      <th>Average_Balance</th>\n",
       "      <th>Utilisation</th>\n",
       "      <th>Max_Amount_Transactions</th>\n",
       "      <th>Min_Amount_Transactions</th>\n",
       "      <th>Customer_Age</th>\n",
       "      <th>Max_%_Transaction</th>\n",
       "      <th>Minimum_Balance</th>\n",
       "      <th>Number_Transactions&gt;1000</th>\n",
       "      <th>Last_Month_Transaction</th>\n",
       "      <th>Maximum_Balance</th>\n",
       "      <th>Minimum_utilisation</th>\n",
       "      <th>Maximum_utilisation</th>\n",
       "      <th>Percentile_Max_%_Transaction</th>\n",
       "      <th>PercentileBalance</th>\n",
       "    </tr>\n",
       "  </thead>\n",
       "  <tbody>\n",
       "    <tr>\n",
       "      <th>0</th>\n",
       "      <td>1.896393</td>\n",
       "      <td>1.905610</td>\n",
       "      <td>0.181907</td>\n",
       "      <td>-0.037680</td>\n",
       "      <td>-0.039093</td>\n",
       "      <td>0.469628</td>\n",
       "      <td>-0.157959</td>\n",
       "      <td>-0.846157</td>\n",
       "      <td>-0.007742</td>\n",
       "      <td>-0.078734</td>\n",
       "      <td>1.374265</td>\n",
       "      <td>9</td>\n",
       "      <td>-0.001284</td>\n",
       "      <td>-0.083166</td>\n",
       "      <td>0.000007</td>\n",
       "      <td>0.654310</td>\n",
       "      <td>0.796982</td>\n",
       "    </tr>\n",
       "    <tr>\n",
       "      <th>1</th>\n",
       "      <td>-0.400812</td>\n",
       "      <td>0.101112</td>\n",
       "      <td>0.007547</td>\n",
       "      <td>-0.103949</td>\n",
       "      <td>-0.104048</td>\n",
       "      <td>-0.020815</td>\n",
       "      <td>0.036305</td>\n",
       "      <td>-1.073299</td>\n",
       "      <td>-0.007742</td>\n",
       "      <td>-0.089698</td>\n",
       "      <td>1.374265</td>\n",
       "      <td>8</td>\n",
       "      <td>-0.110250</td>\n",
       "      <td>-0.089836</td>\n",
       "      <td>-0.110304</td>\n",
       "      <td>0.653560</td>\n",
       "      <td>0.573716</td>\n",
       "    </tr>\n",
       "    <tr>\n",
       "      <th>2</th>\n",
       "      <td>1.896393</td>\n",
       "      <td>1.905610</td>\n",
       "      <td>-0.120080</td>\n",
       "      <td>-0.007464</td>\n",
       "      <td>-0.006543</td>\n",
       "      <td>-0.065168</td>\n",
       "      <td>-0.175975</td>\n",
       "      <td>-0.732585</td>\n",
       "      <td>-0.007750</td>\n",
       "      <td>-0.070968</td>\n",
       "      <td>1.374265</td>\n",
       "      <td>7</td>\n",
       "      <td>0.046024</td>\n",
       "      <td>-0.070711</td>\n",
       "      <td>0.047455</td>\n",
       "      <td>0.338037</td>\n",
       "      <td>0.833322</td>\n",
       "    </tr>\n",
       "    <tr>\n",
       "      <th>3</th>\n",
       "      <td>-0.400812</td>\n",
       "      <td>-1.703386</td>\n",
       "      <td>-0.235466</td>\n",
       "      <td>-0.134085</td>\n",
       "      <td>-0.132327</td>\n",
       "      <td>-0.242427</td>\n",
       "      <td>-0.213366</td>\n",
       "      <td>-0.505443</td>\n",
       "      <td>-0.007743</td>\n",
       "      <td>-0.121030</td>\n",
       "      <td>-0.642742</td>\n",
       "      <td>9</td>\n",
       "      <td>-0.137167</td>\n",
       "      <td>-0.119238</td>\n",
       "      <td>-0.135564</td>\n",
       "      <td>0.649541</td>\n",
       "      <td>0.087697</td>\n",
       "    </tr>\n",
       "    <tr>\n",
       "      <th>4</th>\n",
       "      <td>-0.400812</td>\n",
       "      <td>0.101112</td>\n",
       "      <td>0.586708</td>\n",
       "      <td>-0.024057</td>\n",
       "      <td>-0.028576</td>\n",
       "      <td>0.507343</td>\n",
       "      <td>0.631335</td>\n",
       "      <td>2.220270</td>\n",
       "      <td>-0.007743</td>\n",
       "      <td>-0.006633</td>\n",
       "      <td>1.374265</td>\n",
       "      <td>8</td>\n",
       "      <td>-0.038889</td>\n",
       "      <td>-0.011368</td>\n",
       "      <td>-0.042889</td>\n",
       "      <td>0.640320</td>\n",
       "      <td>0.814460</td>\n",
       "    </tr>\n",
       "    <tr>\n",
       "      <th>...</th>\n",
       "      <td>...</td>\n",
       "      <td>...</td>\n",
       "      <td>...</td>\n",
       "      <td>...</td>\n",
       "      <td>...</td>\n",
       "      <td>...</td>\n",
       "      <td>...</td>\n",
       "      <td>...</td>\n",
       "      <td>...</td>\n",
       "      <td>...</td>\n",
       "      <td>...</td>\n",
       "      <td>...</td>\n",
       "      <td>...</td>\n",
       "      <td>...</td>\n",
       "      <td>...</td>\n",
       "      <td>...</td>\n",
       "      <td>...</td>\n",
       "    </tr>\n",
       "    <tr>\n",
       "      <th>838556</th>\n",
       "      <td>-0.400812</td>\n",
       "      <td>0.101112</td>\n",
       "      <td>-0.126119</td>\n",
       "      <td>0.034424</td>\n",
       "      <td>0.035407</td>\n",
       "      <td>-0.142709</td>\n",
       "      <td>-0.101022</td>\n",
       "      <td>-0.619014</td>\n",
       "      <td>-0.007751</td>\n",
       "      <td>0.054170</td>\n",
       "      <td>-0.642742</td>\n",
       "      <td>7</td>\n",
       "      <td>0.013347</td>\n",
       "      <td>0.055155</td>\n",
       "      <td>0.014263</td>\n",
       "      <td>0.200886</td>\n",
       "      <td>0.867328</td>\n",
       "    </tr>\n",
       "    <tr>\n",
       "      <th>838557</th>\n",
       "      <td>-0.400812</td>\n",
       "      <td>0.101112</td>\n",
       "      <td>-0.203704</td>\n",
       "      <td>-0.012611</td>\n",
       "      <td>-0.011050</td>\n",
       "      <td>-0.213462</td>\n",
       "      <td>-0.180734</td>\n",
       "      <td>-1.300442</td>\n",
       "      <td>-0.007752</td>\n",
       "      <td>0.005268</td>\n",
       "      <td>-0.642742</td>\n",
       "      <td>9</td>\n",
       "      <td>-0.028665</td>\n",
       "      <td>0.006853</td>\n",
       "      <td>-0.027234</td>\n",
       "      <td>0.108322</td>\n",
       "      <td>0.827681</td>\n",
       "    </tr>\n",
       "    <tr>\n",
       "      <th>838558</th>\n",
       "      <td>-0.400812</td>\n",
       "      <td>0.101112</td>\n",
       "      <td>-0.219585</td>\n",
       "      <td>-0.127648</td>\n",
       "      <td>-0.126011</td>\n",
       "      <td>-0.227945</td>\n",
       "      <td>-0.197050</td>\n",
       "      <td>-0.959728</td>\n",
       "      <td>-0.007748</td>\n",
       "      <td>-0.114338</td>\n",
       "      <td>-0.642742</td>\n",
       "      <td>8</td>\n",
       "      <td>-0.131418</td>\n",
       "      <td>-0.112671</td>\n",
       "      <td>-0.129922</td>\n",
       "      <td>0.463031</td>\n",
       "      <td>0.255503</td>\n",
       "    </tr>\n",
       "    <tr>\n",
       "      <th>838559</th>\n",
       "      <td>-0.400812</td>\n",
       "      <td>-1.703386</td>\n",
       "      <td>-0.232158</td>\n",
       "      <td>-0.089851</td>\n",
       "      <td>-0.088102</td>\n",
       "      <td>-0.239410</td>\n",
       "      <td>-0.209967</td>\n",
       "      <td>-1.073299</td>\n",
       "      <td>-0.007752</td>\n",
       "      <td>-0.075040</td>\n",
       "      <td>-0.642742</td>\n",
       "      <td>8</td>\n",
       "      <td>-0.097658</td>\n",
       "      <td>-0.073257</td>\n",
       "      <td>-0.096060</td>\n",
       "      <td>0.071071</td>\n",
       "      <td>0.657828</td>\n",
       "    </tr>\n",
       "    <tr>\n",
       "      <th>838560</th>\n",
       "      <td>-0.400812</td>\n",
       "      <td>0.101112</td>\n",
       "      <td>-0.098988</td>\n",
       "      <td>-0.125857</td>\n",
       "      <td>-0.125146</td>\n",
       "      <td>-0.117969</td>\n",
       "      <td>-0.073149</td>\n",
       "      <td>0.289557</td>\n",
       "      <td>-0.007733</td>\n",
       "      <td>-0.112476</td>\n",
       "      <td>-0.642742</td>\n",
       "      <td>9</td>\n",
       "      <td>-0.129819</td>\n",
       "      <td>-0.111771</td>\n",
       "      <td>-0.129149</td>\n",
       "      <td>0.755193</td>\n",
       "      <td>0.293425</td>\n",
       "    </tr>\n",
       "  </tbody>\n",
       "</table>\n",
       "<p>837074 rows × 17 columns</p>\n",
       "</div>"
      ],
      "text/plain": [
       "        Number_Transactions  Number_Transactions>100  \\\n",
       "0                  1.896393                 1.905610   \n",
       "1                 -0.400812                 0.101112   \n",
       "2                  1.896393                 1.905610   \n",
       "3                 -0.400812                -1.703386   \n",
       "4                 -0.400812                 0.101112   \n",
       "...                     ...                      ...   \n",
       "838556            -0.400812                 0.101112   \n",
       "838557            -0.400812                 0.101112   \n",
       "838558            -0.400812                 0.101112   \n",
       "838559            -0.400812                -1.703386   \n",
       "838560            -0.400812                 0.101112   \n",
       "\n",
       "        Average_Amount_Transactions  Average_Balance  Utilisation  \\\n",
       "0                          0.181907        -0.037680    -0.039093   \n",
       "1                          0.007547        -0.103949    -0.104048   \n",
       "2                         -0.120080        -0.007464    -0.006543   \n",
       "3                         -0.235466        -0.134085    -0.132327   \n",
       "4                          0.586708        -0.024057    -0.028576   \n",
       "...                             ...              ...          ...   \n",
       "838556                    -0.126119         0.034424     0.035407   \n",
       "838557                    -0.203704        -0.012611    -0.011050   \n",
       "838558                    -0.219585        -0.127648    -0.126011   \n",
       "838559                    -0.232158        -0.089851    -0.088102   \n",
       "838560                    -0.098988        -0.125857    -0.125146   \n",
       "\n",
       "        Max_Amount_Transactions  Min_Amount_Transactions  Customer_Age  \\\n",
       "0                      0.469628                -0.157959     -0.846157   \n",
       "1                     -0.020815                 0.036305     -1.073299   \n",
       "2                     -0.065168                -0.175975     -0.732585   \n",
       "3                     -0.242427                -0.213366     -0.505443   \n",
       "4                      0.507343                 0.631335      2.220270   \n",
       "...                         ...                      ...           ...   \n",
       "838556                -0.142709                -0.101022     -0.619014   \n",
       "838557                -0.213462                -0.180734     -1.300442   \n",
       "838558                -0.227945                -0.197050     -0.959728   \n",
       "838559                -0.239410                -0.209967     -1.073299   \n",
       "838560                -0.117969                -0.073149      0.289557   \n",
       "\n",
       "        Max_%_Transaction  Minimum_Balance  Number_Transactions>1000  \\\n",
       "0               -0.007742        -0.078734                  1.374265   \n",
       "1               -0.007742        -0.089698                  1.374265   \n",
       "2               -0.007750        -0.070968                  1.374265   \n",
       "3               -0.007743        -0.121030                 -0.642742   \n",
       "4               -0.007743        -0.006633                  1.374265   \n",
       "...                   ...              ...                       ...   \n",
       "838556          -0.007751         0.054170                 -0.642742   \n",
       "838557          -0.007752         0.005268                 -0.642742   \n",
       "838558          -0.007748        -0.114338                 -0.642742   \n",
       "838559          -0.007752        -0.075040                 -0.642742   \n",
       "838560          -0.007733        -0.112476                 -0.642742   \n",
       "\n",
       "        Last_Month_Transaction  Maximum_Balance  Minimum_utilisation  \\\n",
       "0                            9        -0.001284            -0.083166   \n",
       "1                            8        -0.110250            -0.089836   \n",
       "2                            7         0.046024            -0.070711   \n",
       "3                            9        -0.137167            -0.119238   \n",
       "4                            8        -0.038889            -0.011368   \n",
       "...                        ...              ...                  ...   \n",
       "838556                       7         0.013347             0.055155   \n",
       "838557                       9        -0.028665             0.006853   \n",
       "838558                       8        -0.131418            -0.112671   \n",
       "838559                       8        -0.097658            -0.073257   \n",
       "838560                       9        -0.129819            -0.111771   \n",
       "\n",
       "        Maximum_utilisation  Percentile_Max_%_Transaction  PercentileBalance  \n",
       "0                  0.000007                      0.654310           0.796982  \n",
       "1                 -0.110304                      0.653560           0.573716  \n",
       "2                  0.047455                      0.338037           0.833322  \n",
       "3                 -0.135564                      0.649541           0.087697  \n",
       "4                 -0.042889                      0.640320           0.814460  \n",
       "...                     ...                           ...                ...  \n",
       "838556             0.014263                      0.200886           0.867328  \n",
       "838557            -0.027234                      0.108322           0.827681  \n",
       "838558            -0.129922                      0.463031           0.255503  \n",
       "838559            -0.096060                      0.071071           0.657828  \n",
       "838560            -0.129149                      0.755193           0.293425  \n",
       "\n",
       "[837074 rows x 17 columns]"
      ]
     },
     "execution_count": 11,
     "metadata": {},
     "output_type": "execute_result"
    }
   ],
   "source": [
    "# First of all, we need to select only numerical feature.\n",
    "\n",
    "X = normalised_variables.copy() # we create a copy of the dataset\n",
    "    \n",
    "# We drop non-numerical columns:\n",
    "numeric_cols = X.select_dtypes(include = 'number' ).columns.tolist()\n",
    "X = X[numeric_cols]\n",
    "X"
   ]
  },
  {
   "cell_type": "code",
   "execution_count": 12,
   "metadata": {},
   "outputs": [
    {
     "name": "stderr",
     "output_type": "stream",
     "text": [
      "/Users/simonefacchiano/opt/anaconda3/lib/python3.9/site-packages/seaborn/_decorators.py:36: FutureWarning: Pass the following variables as keyword args: x, y. From version 0.12, the only valid positional argument will be `data`, and passing other arguments without an explicit keyword will result in an error or misinterpretation.\n",
      "  warnings.warn(\n"
     ]
    },
    {
     "data": {
      "image/png": "[encoded data removed]",
      "text/plain": [
       "<Figure size 792x468 with 1 Axes>"
      ]
     },
     "metadata": {
      "needs_background": "light"
     },
     "output_type": "display_data"
    },
    {
     "name": "stdout",
     "output_type": "stream",
     "text": [
      "*********************************************************************************************************\n",
      "\n",
      "Our 3 principal components:\n"
     ]
    },
    {
     "data": {
      "text/plain": [
       "array([[ 1.77067007, -0.06273376,  0.9067211 ],\n",
       "       [ 0.41589738, -0.26556426,  0.26514403],\n",
       "       [-0.21615943,  0.03967785,  0.48024651],\n",
       "       ...,\n",
       "       [ 0.35635928, -0.43661978, -0.60364831],\n",
       "       [ 0.23867051, -0.37246686, -0.89085847],\n",
       "       [ 1.35673523, -0.37143011, -0.30767482]])"
      ]
     },
     "execution_count": 12,
     "metadata": {},
     "output_type": "execute_result"
    }
   ],
   "source": [
    "# Now that we have our new dataset ready, we search the optimal number of principal components:\n",
    "\n",
    "def pca_hw4(X, treshold):\n",
    "    \n",
    "    # Part 1: Import the packages\n",
    "    # --------------------------------------------------------------------------------------------------------------------------------------------\n",
    "\n",
    "    from sklearn.decomposition import PCA                                                                                                        \n",
    "    import matplotlib.pyplot as plt\n",
    "    import seaborn as sns\n",
    "\n",
    "    # Part 2: We find the optimal number of components\n",
    "    # --------------------------------------------------------------------------------------------------------------------------------------------\n",
    "\n",
    "    n = len(X.axes[1]) # number of columns of X\n",
    "    covar_matrix = PCA(n_components = n).fit(X)\n",
    "  \n",
    "    ## Variance explained for each of the principal components\n",
    "    variance = covar_matrix.explained_variance_ratio_\n",
    "    cumulative_var = np.cumsum( np.round(variance, decimals = 3) * 100 )\n",
    "\n",
    "    ## Find the number of components you need to go over your treshold:\n",
    "    num_components = len(cumulative_var) # default value\n",
    "    for i in range(len(cumulative_var)):\n",
    "        if cumulative_var[i] >= treshold:\n",
    "            num_components = i+1\n",
    "            break     \n",
    "\n",
    "    # Part 3: Plot to find the number of principal components you need\n",
    "    # --------------------------------------------------------------------------------------------------------------------------------------------\n",
    "\n",
    "    tot_num_components = len(cumulative_var)\n",
    "    \n",
    "    x = [x for x in range(1, tot_num_components + 1)] # numbers from 1 to maximum number of components\n",
    "    y = [var for var in cumulative_var] # value of the cumulative variance\n",
    "\n",
    "    customized_col = ['#f57b5f' if c == num_components else '#38c1fc' for c in x]\n",
    "\n",
    "    fig, ax = plt.subplots(figsize=(11, 6.5))\n",
    "\n",
    "    ax.set_title('Principal Components Cum. Variance', fontsize = 20)\n",
    "    ax.set_ylabel('Cumulative Variance % Explained', fontsize = 15)\n",
    "    ax.set_xlabel('Principal Components', fontsize = 15)\n",
    "\n",
    "    ax.axhline(treshold, color = '#177e89', linewidth = 1.75, linestyle = \"--\")\n",
    "\n",
    "    sns.barplot(x, y, palette = customized_col) \n",
    "    ax.bar_label(ax.containers[0])\n",
    "    plt.show()\n",
    "\n",
    "    # Part 4: we perform the PCA with the chosen number of principal components\n",
    "    # --------------------------------------------------------------------------------------------------------------------------------------------\n",
    "\n",
    "    pca = PCA(n_components = num_components)\n",
    "    principal_components = pca.fit_transform(X)\n",
    "\n",
    "    # Part 5: Just the print of the dataframe containing the principal components\n",
    "    # --------------------------------------------------------------------------------------------------------------------------------------------\n",
    "\n",
    "    print('*' * 105)\n",
    "    print('')\n",
    "    print('Our', num_components, 'principal components:')\n",
    "\n",
    "    return principal_components\n",
    "    \n",
    "\n",
    "pca = pca_hw4(X, treshold = 70)\n",
    "pca"
   ]
  },
  {
   "cell_type": "markdown",
   "metadata": {},
   "source": [
    "## 2.3: Clustering & K-means"
   ]
  },
  {
   "cell_type": "markdown",
   "metadata": {},
   "source": [
    "### 2.3.1: K-Means from scratch"
   ]
  },
  {
   "cell_type": "markdown",
   "metadata": {},
   "source": [
    "First, we define a function for the euclidean distance.\n",
    "Thi is easy because we can just apply the basic formula you can find on wikipedia:\n",
    "\n",
    "$$d(p, q) = \\sqrt{\\sum_{i = 1}^{n} (q_i - p_i)^2)}$$"
   ]
  },
  {
   "cell_type": "code",
   "execution_count": 13,
   "metadata": {},
   "outputs": [],
   "source": [
    "def euclidean_dist(d, q):  #euclidean distance between two points\n",
    "    return np.sqrt(np.sum((d - q) ** 2))"
   ]
  },
  {
   "cell_type": "code",
   "execution_count": 14,
   "metadata": {},
   "outputs": [],
   "source": [
    "# I could not implement it with MapReduce.\n",
    "# Inspired by: Patrick Loeber, https://www.youtube.com/@patloeber\n",
    "\n",
    "class KMeans_HW4:\n",
    "    \n",
    "    ### PART 1\n",
    "\n",
    "    def __init__(self, K = 4, n_max_iter = 75):\n",
    "        \n",
    "        # Very first thing to do: store the parameters\n",
    "        self.K = K\n",
    "        self.n_max_iter = n_max_iter\n",
    "\n",
    "        # Now we want to define our clusters. We will start by creating \"empty clusters\". \n",
    "        # For each cluster, we want it to be a list containing the indices of the units which belong to it.\n",
    "        # So we create a list of (empty) lists. We can do this with list comprehension:\n",
    "        self.clusters = [[] for k in range(self.K)]\n",
    "        \n",
    "        # But we also need a place to store our centroids.\n",
    "        # So, we set an empty list that will contain our centroids (aka: centers of the clusters)\n",
    "        self.centroids = []\n",
    "\n",
    "\n",
    "    ### PART 2\n",
    "\n",
    "    # Usually, what you do at this point is defin a fit and a predict method (think for example at the logistic regression...).\n",
    "    # But here we are dealing with an unsupervised-clustering-algorithm, that means we don't have any label in the dataset.\n",
    "    # So, we just implement the predict method:\n",
    "    def predict(self, X):\n",
    "        self.X = X                                  # matrix of the data\n",
    "        self.n_samples, self.n_features = X.shape   # number of rows and columns (because we need to use them later)\n",
    "\n",
    "        # Here is where the real algorithm starts!\n",
    "        # We have two main steps:\n",
    "        # 1) The initialization: it is the phase where we initialize the centroids.\n",
    "        #    In the standard KMeans, this is a random choice.\n",
    "        #    In KMeans++, which we will use later, we try to choose centroids that are far apart through probabilistic statements. \n",
    "        # 2) The Optimization: it is where we update our clusters (so the centroids) based on the new data points we assign at each iteration.\n",
    "        #    First, we use the centroids we already stored to assign the labels at the point\n",
    "        #    Second, we compute again the centroids of each cluster\n",
    "        #    Third, we assign again the labels...\n",
    "        #    ... and so on\n",
    "        \n",
    "        \n",
    "        ## 1) Initialization:\n",
    "        rand_ind = np.random.choice(self.n_samples, self.K, replace=False)  # we randomly pick some indeces \n",
    "        #                                                                     (using a numpy built-in function)\n",
    "        #                                                                     We set replace = False because we don't want\n",
    "        #                                                                     to sample the same index more than once.\n",
    "\n",
    "        # And we assign these (very first) centroids to our clusters:\n",
    "        self.centroids = [self.X[index] for index in rand_ind]\n",
    "\n",
    "        # This is as far as initialization is concerned.\n",
    "        # Now let's move on to the second phase\n",
    "\n",
    "        ## 2) Optimization:\n",
    "        for iter in range(self.n_max_iter):  # --> here is where we say to stop after n_max_iter iterations\n",
    "            # Assign samples to closest centroids (create clusters)\n",
    "            self.clusters = self.create_clusters(self.centroids)# Function 1 (defined below)\n",
    "\n",
    "            # Update centroids\n",
    "            old_centroids = self.centroids # Here we are only cehcking if the old centroids have changed. We need this information for the convergence step\n",
    "            self.centroids = self.get_centroids(self.clusters) # Function 3: defined below\n",
    "\n",
    "            # We have seted the maximum number of iterations, but the hope is to find the partition before we reach it.\n",
    "            # Therefore, at each iteration we check whether the new clusters are different from the previously defined ones:\n",
    "            #   - if they are different, perhaps we can still improve them, so the algorithm continues.\n",
    "            #   - if they are the same, the algorithm has reached its conclusion (and in fact we talk about \"convergence\").\n",
    "            # Check for Convergence\n",
    "            if self.convergence(old_centroids, self.centroids): # Function 4 (defined below)\n",
    "                break\n",
    "\n",
    "        # Finally, we classify samples as the index of their clusters\n",
    "        return self.get_labels(self.clusters) # Function 5: defined below\n",
    "\n",
    "    # Function 1: take an index and assign it to the closest cluster\n",
    "    def create_clusters(self, centroids):\n",
    "        # Here we assign the data-points to the clostest cluster\n",
    "        clusters = [[] for _ in range(self.K)] # like before, we start from an empty list of lists\n",
    "        for idx, sample in enumerate(self.X):\n",
    "            centroid_idx = self.closest_centroid(sample, centroids) # Function 2: this function is defined further below\n",
    "            clusters[centroid_idx].append(idx) # here we append the data-point index to the closest sample\n",
    "        return clusters\n",
    "\n",
    "    # Function 2: find the closest centroid (thinkking in terms of euclidean distance) for a given point\n",
    "    def closest_centroid(self, sample, centroids):\n",
    "        # distance of the current sample to each centroid\n",
    "        dist = [euclidean_dist(sample, point) for point in centroids] # we store all the distances\n",
    "        # If we have 5 clusters, this will be a list containing 5 indexes, each one corresponding to a cluster\n",
    "        closest_index = np.argmin(dist) # we find the minimum distance\n",
    "        return closest_index # return the index of the closest cluster. \n",
    "    \n",
    "    # Function 3: compute the mean of the clusters\n",
    "    def get_centroids(self, clusters):\n",
    "        # assign mean value of clusters to centroids\n",
    "        centroids = np.zeros((self.K, self.n_features))\n",
    "        for cluster_idx, cluster in enumerate(clusters):\n",
    "            cluster_mean = np.mean(self.X[cluster], axis=0) # compute the mean of the cluster...\n",
    "            centroids[cluster_idx] = cluster_mean # ... and then define the new centroid\n",
    "        return centroids\n",
    "    \n",
    "    # Function 4: check if the new centroids are equal to the ones at the previous iteration\n",
    "    def convergence(self, centroids_old, centroids):\n",
    "        # distances between each old and new centroids, fol all centroids\n",
    "        distances = [\n",
    "            euclidean_dist(centroids_old[i], centroids[i]) for i in range(self.K)\n",
    "        ]\n",
    "        return sum(distances) == 0  # returns True/False. If True, there is no change in our centroids\n",
    "\n",
    "    # Function 5: very last part, assign the labels to the data points\n",
    "    def get_labels(self, clusters):\n",
    "        # each sample will get the label of the cluster it was assigned to\n",
    "        labels = np.empty(self.n_samples) # pre-alloc\n",
    "        for cluster_idx, cluster in enumerate(clusters):\n",
    "            for sample_index in cluster:\n",
    "                labels[sample_index] = cluster_idx # each index is assigned to the corresponding cluster\n",
    "        return labels"
   ]
  },
  {
   "cell_type": "markdown",
   "metadata": {},
   "source": [
    "### 2.3.2: Find an optimal number of clusters"
   ]
  },
  {
   "cell_type": "code",
   "execution_count": 15,
   "metadata": {},
   "outputs": [
    {
     "data": {
      "text/plain": [
       "array([[ 1.77067007, -0.06273376,  0.9067211 ],\n",
       "       [ 0.41589738, -0.26556426,  0.26514403],\n",
       "       [-0.21615943,  0.03967785,  0.48024651],\n",
       "       ...,\n",
       "       [ 0.35635928, -0.43661978, -0.60364831],\n",
       "       [ 0.23867051, -0.37246686, -0.89085847],\n",
       "       [ 1.35673523, -0.37143011, -0.30767482]])"
      ]
     },
     "execution_count": 15,
     "metadata": {},
     "output_type": "execute_result"
    }
   ],
   "source": [
    "pca"
   ]
  },
  {
   "cell_type": "code",
   "execution_count": 16,
   "metadata": {},
   "outputs": [],
   "source": [
    "from kneed import KneeLocator\n",
    "from sklearn.datasets import make_blobs\n",
    "from sklearn.cluster import KMeans\n",
    "from sklearn.metrics import silhouette_score"
   ]
  },
  {
   "cell_type": "markdown",
   "metadata": {},
   "source": [
    "First Method for the choice of the optimal number of clusters: Elbow Method"
   ]
  },
  {
   "cell_type": "code",
   "execution_count": 20,
   "metadata": {},
   "outputs": [
    {
     "data": {
      "image/png": "[encoded data removed]",
      "text/plain": [
       "<Figure size 460.8x345.6 with 1 Axes>"
      ]
     },
     "metadata": {},
     "output_type": "display_data"
    }
   ],
   "source": [
    "kmeans_kwargs = { \"init\": \"random\", \"n_init\": 10, \"max_iter\": 200, \"random_state\": 42}\n",
    "\n",
    "sse = []\n",
    "\n",
    "for k in range(1, 11):\n",
    "    kmeans = KMeans(n_clusters=k, **kmeans_kwargs)\n",
    "    kmeans.fit(pca)\n",
    "    sse.append(kmeans.inertia_)\n",
    "\n",
    "plt.style.use(\"ggplot\")\n",
    "plt.figure(figsize = [6.4, 4.8])\n",
    "plt.plot(range(1, 11), sse)\n",
    "plt.xticks(range(1, 11))\n",
    "plt.xlabel(\"Number of Clusters\")\n",
    "plt.ylabel(\"SSE\")\n",
    "plt.title(\"Elbow Method for the choice of the \\n number of clusters\")\n",
    "plt.show()"
   ]
  },
  {
   "cell_type": "markdown",
   "metadata": {},
   "source": [
    "Second Method for the choice of the optimal number of clusters: Silhouette Score\n",
    "\n",
    "The Silhouette method is usually used togheter with the Elbow Method for a more precise decision.\n",
    "The Silhouette coefficient varies from -1 to +1: the closer it is to 1, the more accurate the cluster partitioning is.\n",
    "The advantage of this procedure is that it makes the choice of the number of clusters k more graphically clear (there is no elbow to look for in the graph...) and more accurate, but it has a major drawback. \n",
    "In fact, in order to calculate this index, we need to calculate the coefficient for each of the possible values of k, and this substantially increases the computational complexity."
   ]
  },
  {
   "cell_type": "code",
   "execution_count": 46,
   "metadata": {},
   "outputs": [
    {
     "name": "stdout",
     "output_type": "stream",
     "text": [
      "2 ... ... done\n",
      "3 ... ... done\n",
      "4 ... ... done\n",
      "5 ... ... done\n",
      "6 ... ... done\n"
     ]
    }
   ],
   "source": [
    "range_n_clusters = [2, 3, 4, 5, 6]\n",
    "silhouette_avg = []\n",
    "for num_clusters in range_n_clusters:\n",
    "    kmeans = KMeans(n_clusters = num_clusters)\n",
    "    kmeans.fit(pca)\n",
    "    cluster_labels = kmeans.labels_\n",
    "    silhouette_avg.append(silhouette_score(pca[1:100000], cluster_labels[1:100000]))\n",
    "    print(num_clusters, '... ... done')"
   ]
  },
  {
   "cell_type": "code",
   "execution_count": 60,
   "metadata": {},
   "outputs": [
    {
     "data": {
      "image/png": "[encoded data removed]",
      "text/plain": [
       "<Figure size 432x288 with 1 Axes>"
      ]
     },
     "metadata": {},
     "output_type": "display_data"
    }
   ],
   "source": [
    "plt.plot(range_n_clusters, silhouette_avg, 'green')\n",
    "plt.xlabel(\"Values of K\") \n",
    "plt.ylabel(\"Silhouette score\") \n",
    "plt.title(\"Silhouette analysis For Optimal k\")\n",
    "plt.show()"
   ]
  },
  {
   "cell_type": "markdown",
   "metadata": {},
   "source": [
    "We note that the silhouette index recommends choosing a number of clusters equal to k.\n",
    "However, it can be seen that the index calculated in k=3 and k=4 is very similar. In addition, we used a sample of only 100000 units (just over 10% of the total) to calculate this score.\n",
    "Therefore, also to make the algorithm computationally lighter in the next step, we choose to adopt a number of clusters equal to 3."
   ]
  },
  {
   "cell_type": "markdown",
   "metadata": {},
   "source": [
    "### 2.3.3: Algorithm on the data"
   ]
  },
  {
   "cell_type": "code",
   "execution_count": 21,
   "metadata": {},
   "outputs": [],
   "source": [
    "# My K-Means:\n",
    "\n",
    "km = KMeans_HW4(K=3, n_max_iter=50)\n",
    "\n",
    "import time\n",
    "\n",
    "st = time.time() # start execution time\n",
    "labels = km.predict(pca)\n",
    "et = time.time() # stop execution time\n",
    "\n",
    "execution_time_my_kmeans = et - st"
   ]
  },
  {
   "cell_type": "code",
   "execution_count": 22,
   "metadata": {},
   "outputs": [
    {
     "name": "stdout",
     "output_type": "stream",
     "text": [
      " The execution time for algorithm I implemented is: 07:24\n"
     ]
    }
   ],
   "source": [
    "seconds = execution_time_my_kmeans % (24 * 3600)\n",
    "seconds %= 3600\n",
    "minutes = seconds // 60\n",
    "seconds %= 60\n",
    "\n",
    "print(\" The execution time for algorithm I implemented is: %02d:%02d\" % (minutes, seconds))"
   ]
  },
  {
   "cell_type": "code",
   "execution_count": 23,
   "metadata": {},
   "outputs": [
    {
     "data": {
      "text/plain": [
       "<matplotlib.collections.PathCollection at 0x7fcac0808a00>"
      ]
     },
     "execution_count": 23,
     "metadata": {},
     "output_type": "execute_result"
    },
    {
     "data": {
      "image/png": "[encoded data removed]",
      "text/plain": [
       "<Figure size 612x468 with 1 Axes>"
      ]
     },
     "metadata": {},
     "output_type": "display_data"
    }
   ],
   "source": [
    "pca_df = pd.DataFrame(pca)\n",
    "pca_df['labels'] = labels\n",
    "\n",
    "plt.figure(figsize=[8.5, 6.5])\n",
    "plt.scatter(pca[labels==0, 0], pca[labels==0, 1], s=45, c='tomato')\n",
    "plt.scatter(pca[labels==1, 0], pca[labels==1, 1], s=45, c='navy')\n",
    "plt.scatter(pca[labels==2, 0], pca[labels==2, 1], s=45, c='gold')"
   ]
  },
  {
   "attachments": {},
   "cell_type": "markdown",
   "metadata": {},
   "source": [
    "Now let's compare this result with the K-Means that is already implemented in scikit-learn:"
   ]
  },
  {
   "cell_type": "code",
   "execution_count": 27,
   "metadata": {},
   "outputs": [],
   "source": [
    "#Initialize the class object\n",
    "st_kmeans = time.time()\n",
    "kmeans = KMeans(n_clusters= 3) #, init = 'k-means++', random_state=42\n",
    "labels_kmeans = kmeans.fit_predict(pca)\n",
    "et_kmeans = time.time()\n",
    "\n",
    "execution_time_kmeans = et_kmeans - st_kmeans"
   ]
  },
  {
   "cell_type": "code",
   "execution_count": 28,
   "metadata": {},
   "outputs": [
    {
     "data": {
      "text/plain": [
       "<matplotlib.collections.PathCollection at 0x7fcac064ebb0>"
      ]
     },
     "execution_count": 28,
     "metadata": {},
     "output_type": "execute_result"
    },
    {
     "data": {
      "image/png": "[encoded data removed]",
      "text/plain": [
       "<Figure size 612x468 with 1 Axes>"
      ]
     },
     "metadata": {},
     "output_type": "display_data"
    }
   ],
   "source": [
    "# Of course it's not easy to visualize almost 1 million points... se we will go for a 2D representation.\n",
    "\n",
    "plt.figure(figsize=[8.5, 6.5])\n",
    "plt.scatter(pca[labels_kmeans==0, 0], pca[labels_kmeans==0, 1], s=60, c='red')\n",
    "plt.scatter(pca[labels_kmeans==1, 0], pca[labels_kmeans==1, 1], s=60, c='blue')\n",
    "plt.scatter(pca[labels_kmeans==2, 0], pca[labels_kmeans==2, 1], s=60, c='green')"
   ]
  },
  {
   "cell_type": "markdown",
   "metadata": {},
   "source": [
    "In addition to the difference in classification of units to clusters, what stands out is the difference in execution time between the two versions of the algorithm:"
   ]
  },
  {
   "cell_type": "code",
   "execution_count": 30,
   "metadata": {},
   "outputs": [
    {
     "name": "stdout",
     "output_type": "stream",
     "text": [
      "Time execution in seconds for our version of K-Means: 444.63\n",
      "Time execution in seconds for the already implemented version of K-Means: 1.12\n"
     ]
    }
   ],
   "source": [
    "print('Time execution in seconds for our version of K-Means:', round(execution_time_my_kmeans, 2))\n",
    "print('Time execution in seconds for the already implemented version of K-Means:', round(execution_time_kmeans, 2))"
   ]
  },
  {
   "cell_type": "markdown",
   "metadata": {},
   "source": [
    "### 2.3.4: K-Means++"
   ]
  },
  {
   "cell_type": "code",
   "execution_count": 21,
   "metadata": {},
   "outputs": [
    {
     "data": {
      "image/png": "[encoded data removed]",
      "text/plain": [
       "<Figure size 460.8x345.6 with 1 Axes>"
      ]
     },
     "metadata": {},
     "output_type": "display_data"
    }
   ],
   "source": [
    "# Now we do the same thing using kmeans++\n",
    "\n",
    "sse = []\n",
    "\n",
    "for k in range(1, 11):\n",
    "    kmeans = KMeans(n_clusters = k, init = 'k-means++', random_state = 42)\n",
    "    kmeans.fit(pca)\n",
    "    sse.append(kmeans.inertia_)\n",
    "\n",
    "plt.style.use(\"ggplot\")\n",
    "plt.figure(figsize = [6.4, 4.8])\n",
    "plt.plot(range(1, 11), sse)\n",
    "plt.xticks(range(1, 11))\n",
    "plt.xlabel(\"Number of Clusters\")\n",
    "plt.ylabel(\"SSE\")\n",
    "plt.title(\"Elbow Method for the choice of the \\n number of clusters\")\n",
    "plt.show()"
   ]
  },
  {
   "cell_type": "code",
   "execution_count": 22,
   "metadata": {},
   "outputs": [
    {
     "data": {
      "text/plain": [
       "array([0, 1, 2], dtype=int32)"
      ]
     },
     "execution_count": 22,
     "metadata": {},
     "output_type": "execute_result"
    }
   ],
   "source": [
    "kmeans = KMeans(n_clusters= 3, init = 'k-means++', random_state = 42) #, init = 'k-means++', random_state=42\n",
    " \n",
    "labels = kmeans.fit_predict(pca)\n",
    "np.unique(labels)"
   ]
  },
  {
   "cell_type": "code",
   "execution_count": 23,
   "metadata": {},
   "outputs": [
    {
     "data": {
      "text/plain": [
       "<matplotlib.collections.PathCollection at 0x7ff533fd48b0>"
      ]
     },
     "execution_count": 23,
     "metadata": {},
     "output_type": "execute_result"
    },
    {
     "data": {
      "image/png": "[encoded data removed]",
      "text/plain": [
       "<Figure size 576x432 with 1 Axes>"
      ]
     },
     "metadata": {},
     "output_type": "display_data"
    }
   ],
   "source": [
    "plt.figure(figsize=[8, 6])\n",
    "plt.scatter(pca[labels==0, 0], pca[labels==0, 1], s=60, c='red')\n",
    "plt.scatter(pca[labels==1, 0], pca[labels==1, 1], s=60, c='blue')\n",
    "plt.scatter(pca[labels==2, 0], pca[labels==2, 1], s=60, c='green')\n",
    "\n",
    "# We obtain exactly the same result"
   ]
  },
  {
   "cell_type": "markdown",
   "metadata": {},
   "source": [
    "So, as we can see, results are pretty similar between the two scikit-leanr algorithms"
   ]
  },
  {
   "cell_type": "markdown",
   "metadata": {},
   "source": [
    "### 2.4 Analysing your results! (Features + Pivot Table)"
   ]
  },
  {
   "cell_type": "markdown",
   "metadata": {},
   "source": [
    "### 2.4.1: Choice of the features"
   ]
  },
  {
   "cell_type": "code",
   "execution_count": 24,
   "metadata": {},
   "outputs": [
    {
     "data": {
      "text/html": [
       "<div>\n",
       "<style scoped>\n",
       "    .dataframe tbody tr th:only-of-type {\n",
       "        vertical-align: middle;\n",
       "    }\n",
       "\n",
       "    .dataframe tbody tr th {\n",
       "        vertical-align: top;\n",
       "    }\n",
       "\n",
       "    .dataframe thead th {\n",
       "        text-align: right;\n",
       "    }\n",
       "</style>\n",
       "<table border=\"1\" class=\"dataframe\">\n",
       "  <thead>\n",
       "    <tr style=\"text-align: right;\">\n",
       "      <th></th>\n",
       "      <th>Average_Balance</th>\n",
       "      <th>Age_Status</th>\n",
       "      <th>Average_Amount_Transactions</th>\n",
       "      <th>CustGender</th>\n",
       "      <th>Label</th>\n",
       "    </tr>\n",
       "  </thead>\n",
       "  <tbody>\n",
       "    <tr>\n",
       "      <th>0</th>\n",
       "      <td>76340.635</td>\n",
       "      <td>Young</td>\n",
       "      <td>2553.0</td>\n",
       "      <td>F</td>\n",
       "      <td>0</td>\n",
       "    </tr>\n",
       "    <tr>\n",
       "      <th>1</th>\n",
       "      <td>24204.490</td>\n",
       "      <td>Young</td>\n",
       "      <td>1499.0</td>\n",
       "      <td>M</td>\n",
       "      <td>0</td>\n",
       "    </tr>\n",
       "    <tr>\n",
       "      <th>2</th>\n",
       "      <td>100112.950</td>\n",
       "      <td>Young</td>\n",
       "      <td>727.5</td>\n",
       "      <td>F</td>\n",
       "      <td>0</td>\n",
       "    </tr>\n",
       "    <tr>\n",
       "      <th>3</th>\n",
       "      <td>496.180</td>\n",
       "      <td>Young</td>\n",
       "      <td>30.0</td>\n",
       "      <td>F</td>\n",
       "      <td>0</td>\n",
       "    </tr>\n",
       "    <tr>\n",
       "      <th>4</th>\n",
       "      <td>87058.650</td>\n",
       "      <td>Adult</td>\n",
       "      <td>5000.0</td>\n",
       "      <td>M</td>\n",
       "      <td>0</td>\n",
       "    </tr>\n",
       "  </tbody>\n",
       "</table>\n",
       "</div>"
      ],
      "text/plain": [
       "   Average_Balance Age_Status  Average_Amount_Transactions CustGender  Label\n",
       "0        76340.635      Young                       2553.0          F      0\n",
       "1        24204.490      Young                       1499.0          M      0\n",
       "2       100112.950      Young                        727.5          F      0\n",
       "3          496.180      Young                         30.0          F      0\n",
       "4        87058.650      Adult                       5000.0          M      0"
      ]
     },
     "execution_count": 24,
     "metadata": {},
     "output_type": "execute_result"
    }
   ],
   "source": [
    "# Average_Balance  -> rich/poor\n",
    "# Age_Status\n",
    "# Average_Amount_Transactions\n",
    "# Cust_Gender\n",
    "\n",
    "# We have to categorise these variables. We perform this operation on the original variables, not the transformed ones.\n",
    "# First, we create a copy of the dataset containing transformed variables:\n",
    "\n",
    "data_small_2 = data_small.copy()\n",
    "\n",
    "# Then we remove the +inf and -inf values, so that the lenght of this dataset will correspond to the lenght of the standardized dataset\n",
    "data_small_2 = data_small_2.replace([np.inf, -np.inf], np.nan, inplace=False) \n",
    "data_small_2 = data_small_2.dropna()\n",
    "#data_small_2.head()\n",
    "\n",
    "# Now we select only the variables we are interested in:\n",
    "data_small_2 = data_small_2[['Average_Balance', 'Age_Status', 'Average_Amount_Transactions', 'CustGender']]\n",
    "\n",
    "# Notice: we will keep the Age_Status variable categorized in 3 gruops, not in 4, because otherwise there would be an imbalance due to a strong presence of people between 31 and 33 that would negatively impact the analysis \n",
    "\n",
    "# Finally we add the label of the cluster to each customer:\n",
    "data_small_2['Label'] = labels\n",
    "\n",
    "# A quick look\n",
    "data_small_2.head()"
   ]
  },
  {
   "cell_type": "code",
   "execution_count": 585,
   "metadata": {},
   "outputs": [
    {
     "data": {
      "text/html": [
       "<div>\n",
       "<style scoped>\n",
       "    .dataframe tbody tr th:only-of-type {\n",
       "        vertical-align: middle;\n",
       "    }\n",
       "\n",
       "    .dataframe tbody tr th {\n",
       "        vertical-align: top;\n",
       "    }\n",
       "\n",
       "    .dataframe thead tr th {\n",
       "        text-align: left;\n",
       "    }\n",
       "\n",
       "    .dataframe thead tr:last-of-type th {\n",
       "        text-align: right;\n",
       "    }\n",
       "</style>\n",
       "<table border=\"1\" class=\"dataframe\">\n",
       "  <thead>\n",
       "    <tr>\n",
       "      <th></th>\n",
       "      <th colspan=\"2\" halign=\"left\">Average_Amount_Transactions</th>\n",
       "      <th colspan=\"2\" halign=\"left\">Average_Balance</th>\n",
       "    </tr>\n",
       "    <tr>\n",
       "      <th>CustGender</th>\n",
       "      <th>F</th>\n",
       "      <th>M</th>\n",
       "      <th>F</th>\n",
       "      <th>M</th>\n",
       "    </tr>\n",
       "    <tr>\n",
       "      <th>Label</th>\n",
       "      <th></th>\n",
       "      <th></th>\n",
       "      <th></th>\n",
       "      <th></th>\n",
       "    </tr>\n",
       "  </thead>\n",
       "  <tbody>\n",
       "    <tr>\n",
       "      <th>0</th>\n",
       "      <td>1564.694922</td>\n",
       "      <td>1372.473722</td>\n",
       "      <td>9.795951e+04</td>\n",
       "      <td>1.030088e+05</td>\n",
       "    </tr>\n",
       "    <tr>\n",
       "      <th>1</th>\n",
       "      <td>1634.694483</td>\n",
       "      <td>1477.415967</td>\n",
       "      <td>8.630168e+04</td>\n",
       "      <td>9.390705e+04</td>\n",
       "    </tr>\n",
       "    <tr>\n",
       "      <th>2</th>\n",
       "      <td>3288.924844</td>\n",
       "      <td>14819.501165</td>\n",
       "      <td>5.584985e+07</td>\n",
       "      <td>4.629187e+07</td>\n",
       "    </tr>\n",
       "  </tbody>\n",
       "</table>\n",
       "</div>"
      ],
      "text/plain": [
       "           Average_Amount_Transactions               Average_Balance  \\\n",
       "CustGender                           F             M               F   \n",
       "Label                                                                  \n",
       "0                          1564.694922   1372.473722    9.795951e+04   \n",
       "1                          1634.694483   1477.415967    8.630168e+04   \n",
       "2                          3288.924844  14819.501165    5.584985e+07   \n",
       "\n",
       "                          \n",
       "CustGender             M  \n",
       "Label                     \n",
       "0           1.030088e+05  \n",
       "1           9.390705e+04  \n",
       "2           4.629187e+07  "
      ]
     },
     "metadata": {},
     "output_type": "display_data"
    },
    {
     "data": {
      "text/plain": [
       "'***************************************************************************'"
      ]
     },
     "metadata": {},
     "output_type": "display_data"
    },
    {
     "data": {
      "text/plain": [
       "'***************************************************************************'"
      ]
     },
     "metadata": {},
     "output_type": "display_data"
    },
    {
     "data": {
      "text/html": [
       "<div>\n",
       "<style scoped>\n",
       "    .dataframe tbody tr th:only-of-type {\n",
       "        vertical-align: middle;\n",
       "    }\n",
       "\n",
       "    .dataframe tbody tr th {\n",
       "        vertical-align: top;\n",
       "    }\n",
       "\n",
       "    .dataframe thead tr th {\n",
       "        text-align: left;\n",
       "    }\n",
       "\n",
       "    .dataframe thead tr:last-of-type th {\n",
       "        text-align: right;\n",
       "    }\n",
       "</style>\n",
       "<table border=\"1\" class=\"dataframe\">\n",
       "  <thead>\n",
       "    <tr>\n",
       "      <th></th>\n",
       "      <th colspan=\"3\" halign=\"left\">Average_Amount_Transactions</th>\n",
       "      <th colspan=\"3\" halign=\"left\">Average_Balance</th>\n",
       "    </tr>\n",
       "    <tr>\n",
       "      <th>Age_Status</th>\n",
       "      <th>Adult</th>\n",
       "      <th>Elderly</th>\n",
       "      <th>Young</th>\n",
       "      <th>Adult</th>\n",
       "      <th>Elderly</th>\n",
       "      <th>Young</th>\n",
       "    </tr>\n",
       "    <tr>\n",
       "      <th>Label</th>\n",
       "      <th></th>\n",
       "      <th></th>\n",
       "      <th></th>\n",
       "      <th></th>\n",
       "      <th></th>\n",
       "      <th></th>\n",
       "    </tr>\n",
       "  </thead>\n",
       "  <tbody>\n",
       "    <tr>\n",
       "      <th>0</th>\n",
       "      <td>1819.593895</td>\n",
       "      <td>3277.148738</td>\n",
       "      <td>1018.815350</td>\n",
       "      <td>1.447471e+05</td>\n",
       "      <td>3.402137e+05</td>\n",
       "      <td>5.424615e+04</td>\n",
       "    </tr>\n",
       "    <tr>\n",
       "      <th>1</th>\n",
       "      <td>1967.037295</td>\n",
       "      <td>3394.677068</td>\n",
       "      <td>1072.404139</td>\n",
       "      <td>1.375119e+05</td>\n",
       "      <td>3.304308e+05</td>\n",
       "      <td>4.418432e+04</td>\n",
       "    </tr>\n",
       "    <tr>\n",
       "      <th>2</th>\n",
       "      <td>19206.286232</td>\n",
       "      <td>6655.795833</td>\n",
       "      <td>4164.166667</td>\n",
       "      <td>4.950065e+07</td>\n",
       "      <td>4.867478e+07</td>\n",
       "      <td>4.661847e+07</td>\n",
       "    </tr>\n",
       "  </tbody>\n",
       "</table>\n",
       "</div>"
      ],
      "text/plain": [
       "           Average_Amount_Transactions                            \\\n",
       "Age_Status                       Adult      Elderly        Young   \n",
       "Label                                                              \n",
       "0                          1819.593895  3277.148738  1018.815350   \n",
       "1                          1967.037295  3394.677068  1072.404139   \n",
       "2                         19206.286232  6655.795833  4164.166667   \n",
       "\n",
       "           Average_Balance                              \n",
       "Age_Status           Adult       Elderly         Young  \n",
       "Label                                                   \n",
       "0             1.447471e+05  3.402137e+05  5.424615e+04  \n",
       "1             1.375119e+05  3.304308e+05  4.418432e+04  \n",
       "2             4.950065e+07  4.867478e+07  4.661847e+07  "
      ]
     },
     "metadata": {},
     "output_type": "display_data"
    }
   ],
   "source": [
    "# Before we categorize, look at the following two tables:\n",
    "\n",
    "display(\n",
    "    data_small_2.pivot_table(index=['Label'], columns=['CustGender'], aggfunc='mean'),\n",
    "    '*' * 75,\n",
    "    '*' * 75,\n",
    "    data_small_2.pivot_table(index=['Label'], columns=['Age_Status'], aggfunc='mean')\n",
    ")"
   ]
  },
  {
   "cell_type": "markdown",
   "metadata": {},
   "source": [
    "What immediately jumps out is that there does not seem to be a 'gender effect'.\n",
    "The difference between the two variables (and thus also in the cluster division...) seems to depend more on age!\n",
    "The older one gets, the larger the bank account grows, and consequently larger transactions can be made. For example, look at the difference in Average_Amount_Transactions between young and old, especially in the first two clusters: the ratio is almost 3:1!\n",
    "Viceversa, this difference is not evident if we divide customers by gender. We conclude that the gender of clients is not a discriminating variable."
   ]
  },
  {
   "cell_type": "markdown",
   "metadata": {},
   "source": [
    "### 2.4.2, 2.4.3, 2.4.4, 2.4.5: Categorization & Pivot Tables"
   ]
  },
  {
   "cell_type": "markdown",
   "metadata": {},
   "source": [
    "Now we have to categorise our variables. Age_status and Cust_Gender are already categorised, so we have to transform Average_balance and Average_Amount_Transactions.\n",
    "We need to divide into 4 categories, and we want to balance the dimension of each class we are going to create, in order not to introduce some sort of bias --> 200k for each class"
   ]
  },
  {
   "cell_type": "code",
   "execution_count": 586,
   "metadata": {},
   "outputs": [],
   "source": [
    "# Part 1: categorize Average_balance\n",
    "\n",
    "data_small_2.loc[(data_small_2['Average_Balance'] >= 0) & (data_small_2['Average_Balance'] <= 5500) , 'Average_Balance'] = 1\n",
    "data_small_2.loc[(data_small_2['Average_Balance'] > 5500) & (data_small_2['Average_Balance'] <= 18000), 'Average_Balance' ] = 2\n",
    "data_small_2.loc[(data_small_2['Average_Balance'] > 18000) & (data_small_2['Average_Balance'] <= 60000), 'Average_Balance' ] = 3\n",
    "data_small_2.loc[data_small_2['Average_Balance'] > 60000, 'Average_Balance'] = 4\n",
    "\n",
    "data_small_2['Average_Balance'] = data_small_2['Average_Balance'].astype('int')\n",
    "\n",
    "# Part 2: categorize Average_Amount_Transactions\n",
    "\n",
    "data_small_2.loc[(data_small_2['Average_Amount_Transactions'] >= 0) & (data_small_2['Average_Amount_Transactions'] <= 175) , 'Average_Amount_Transactions'] = 1\n",
    "data_small_2.loc[(data_small_2['Average_Amount_Transactions'] > 175) & (data_small_2['Average_Amount_Transactions'] <= 450), 'Average_Amount_Transactions' ] = 2\n",
    "data_small_2.loc[(data_small_2['Average_Amount_Transactions'] > 450) & (data_small_2['Average_Amount_Transactions'] <= 1100), 'Average_Amount_Transactions' ] = 3\n",
    "data_small_2.loc[data_small_2['Average_Amount_Transactions'] > 1100, 'Average_Amount_Transactions'] = 4\n",
    "\n",
    "data_small_2['Average_Amount_Transactions'] = data_small_2['Average_Amount_Transactions'].astype('int')\n",
    "\n",
    "# So we set 1 for low balances and low average transactions, 4 for the high values end the middle numbers for middle values"
   ]
  },
  {
   "cell_type": "code",
   "execution_count": 520,
   "metadata": {},
   "outputs": [
    {
     "data": {
      "text/html": [
       "<div>\n",
       "<style scoped>\n",
       "    .dataframe tbody tr th:only-of-type {\n",
       "        vertical-align: middle;\n",
       "    }\n",
       "\n",
       "    .dataframe tbody tr th {\n",
       "        vertical-align: top;\n",
       "    }\n",
       "\n",
       "    .dataframe thead th {\n",
       "        text-align: right;\n",
       "    }\n",
       "</style>\n",
       "<table border=\"1\" class=\"dataframe\">\n",
       "  <thead>\n",
       "    <tr style=\"text-align: right;\">\n",
       "      <th></th>\n",
       "      <th>Average_Balance</th>\n",
       "      <th>Age_Status</th>\n",
       "      <th>Average_Amount_Transactions</th>\n",
       "      <th>CustGender</th>\n",
       "      <th>Label</th>\n",
       "    </tr>\n",
       "  </thead>\n",
       "  <tbody>\n",
       "    <tr>\n",
       "      <th>0</th>\n",
       "      <td>4</td>\n",
       "      <td>Young</td>\n",
       "      <td>4</td>\n",
       "      <td>F</td>\n",
       "      <td>0</td>\n",
       "    </tr>\n",
       "    <tr>\n",
       "      <th>1</th>\n",
       "      <td>3</td>\n",
       "      <td>Young</td>\n",
       "      <td>4</td>\n",
       "      <td>M</td>\n",
       "      <td>0</td>\n",
       "    </tr>\n",
       "    <tr>\n",
       "      <th>2</th>\n",
       "      <td>4</td>\n",
       "      <td>Young</td>\n",
       "      <td>3</td>\n",
       "      <td>F</td>\n",
       "      <td>0</td>\n",
       "    </tr>\n",
       "    <tr>\n",
       "      <th>3</th>\n",
       "      <td>1</td>\n",
       "      <td>Young</td>\n",
       "      <td>1</td>\n",
       "      <td>F</td>\n",
       "      <td>0</td>\n",
       "    </tr>\n",
       "    <tr>\n",
       "      <th>4</th>\n",
       "      <td>4</td>\n",
       "      <td>Adult</td>\n",
       "      <td>4</td>\n",
       "      <td>M</td>\n",
       "      <td>0</td>\n",
       "    </tr>\n",
       "    <tr>\n",
       "      <th>5</th>\n",
       "      <td>4</td>\n",
       "      <td>Young</td>\n",
       "      <td>3</td>\n",
       "      <td>F</td>\n",
       "      <td>0</td>\n",
       "    </tr>\n",
       "    <tr>\n",
       "      <th>6</th>\n",
       "      <td>1</td>\n",
       "      <td>Adult</td>\n",
       "      <td>3</td>\n",
       "      <td>M</td>\n",
       "      <td>1</td>\n",
       "    </tr>\n",
       "    <tr>\n",
       "      <th>7</th>\n",
       "      <td>4</td>\n",
       "      <td>Young</td>\n",
       "      <td>2</td>\n",
       "      <td>M</td>\n",
       "      <td>0</td>\n",
       "    </tr>\n",
       "    <tr>\n",
       "      <th>8</th>\n",
       "      <td>4</td>\n",
       "      <td>Young</td>\n",
       "      <td>2</td>\n",
       "      <td>M</td>\n",
       "      <td>0</td>\n",
       "    </tr>\n",
       "    <tr>\n",
       "      <th>9</th>\n",
       "      <td>4</td>\n",
       "      <td>Adult</td>\n",
       "      <td>4</td>\n",
       "      <td>M</td>\n",
       "      <td>0</td>\n",
       "    </tr>\n",
       "  </tbody>\n",
       "</table>\n",
       "</div>"
      ],
      "text/plain": [
       "   Average_Balance Age_Status  Average_Amount_Transactions CustGender  Label\n",
       "0                4      Young                            4          F      0\n",
       "1                3      Young                            4          M      0\n",
       "2                4      Young                            3          F      0\n",
       "3                1      Young                            1          F      0\n",
       "4                4      Adult                            4          M      0\n",
       "5                4      Young                            3          F      0\n",
       "6                1      Adult                            3          M      1\n",
       "7                4      Young                            2          M      0\n",
       "8                4      Young                            2          M      0\n",
       "9                4      Adult                            4          M      0"
      ]
     },
     "execution_count": 520,
     "metadata": {},
     "output_type": "execute_result"
    }
   ],
   "source": [
    "data_small_2.head(10)"
   ]
  },
  {
   "cell_type": "code",
   "execution_count": 610,
   "metadata": {},
   "outputs": [
    {
     "name": "stdout",
     "output_type": "stream",
     "text": [
      "In cluster 0 there are 199958 F\n",
      "In cluster 0 there are 448909 M\n",
      "In cluster 1 there are 53230 F\n",
      "In cluster 1 there are 134862 M\n",
      "In cluster 2 there are 32 F\n",
      "In cluster 2 there are 83 M\n",
      "[0, 0, 1, 1, 2, 2]\n",
      "[199958, 448909, 53230, 134862, 32, 83]\n",
      "['F', 'M', 'F', 'M', 'F', 'M']\n"
     ]
    }
   ],
   "source": [
    "# We now turn to calculating percentages in pivot tables.\n",
    "\n",
    "pivot_table_cluster = []\n",
    "pivot_table_gender1 = []\n",
    "pivot_table_gender2 = []\n",
    "\n",
    "for cluster in np.unique(data_small_2.Label).tolist():\n",
    "    pivot_table_cluster.append(cluster)\n",
    "    pivot_table_cluster.append(cluster)\n",
    "    for gender in np.unique(data_small_2.CustGender).tolist():\n",
    "        pivot_table_gender1.append(len( data_small_2[(data_small_2['Label'] == cluster) & (data_small_2['CustGender'] == gender)] ))\n",
    "        pivot_table_gender2.append(gender)\n",
    "        print( 'In cluster', cluster, 'there are', len( data_small_2[(data_small_2['Label'] == cluster) & (data_small_2['CustGender'] == gender)] ), gender )\n",
    "        \n",
    "print(pivot_table_cluster)\n",
    "print(pivot_table_gender1)\n",
    "print(pivot_table_gender2)"
   ]
  },
  {
   "cell_type": "code",
   "execution_count": 640,
   "metadata": {},
   "outputs": [
    {
     "data": {
      "text/html": [
       "<div>\n",
       "<style scoped>\n",
       "    .dataframe tbody tr th:only-of-type {\n",
       "        vertical-align: middle;\n",
       "    }\n",
       "\n",
       "    .dataframe tbody tr th {\n",
       "        vertical-align: top;\n",
       "    }\n",
       "\n",
       "    .dataframe thead th {\n",
       "        text-align: right;\n",
       "    }\n",
       "</style>\n",
       "<table border=\"1\" class=\"dataframe\">\n",
       "  <thead>\n",
       "    <tr style=\"text-align: right;\">\n",
       "      <th></th>\n",
       "      <th>F</th>\n",
       "      <th>M</th>\n",
       "    </tr>\n",
       "  </thead>\n",
       "  <tbody>\n",
       "    <tr>\n",
       "      <th>0</th>\n",
       "      <td>30.816485</td>\n",
       "      <td>69.183515</td>\n",
       "    </tr>\n",
       "    <tr>\n",
       "      <th>1</th>\n",
       "      <td>28.299981</td>\n",
       "      <td>71.700019</td>\n",
       "    </tr>\n",
       "    <tr>\n",
       "      <th>2</th>\n",
       "      <td>27.826087</td>\n",
       "      <td>72.173913</td>\n",
       "    </tr>\n",
       "  </tbody>\n",
       "</table>\n",
       "</div>"
      ],
      "text/plain": [
       "           F          M\n",
       "0  30.816485  69.183515\n",
       "1  28.299981  71.700019\n",
       "2  27.826087  72.173913"
      ]
     },
     "metadata": {},
     "output_type": "display_data"
    },
    {
     "data": {
      "text/plain": [
       "'***********************************'"
      ]
     },
     "metadata": {},
     "output_type": "display_data"
    },
    {
     "data": {
      "text/html": [
       "<div>\n",
       "<style scoped>\n",
       "    .dataframe tbody tr th:only-of-type {\n",
       "        vertical-align: middle;\n",
       "    }\n",
       "\n",
       "    .dataframe tbody tr th {\n",
       "        vertical-align: top;\n",
       "    }\n",
       "\n",
       "    .dataframe thead th {\n",
       "        text-align: right;\n",
       "    }\n",
       "</style>\n",
       "<table border=\"1\" class=\"dataframe\">\n",
       "  <thead>\n",
       "    <tr style=\"text-align: right;\">\n",
       "      <th></th>\n",
       "      <th>Young</th>\n",
       "      <th>Adult</th>\n",
       "      <th>Elderly</th>\n",
       "    </tr>\n",
       "  </thead>\n",
       "  <tbody>\n",
       "    <tr>\n",
       "      <th>0</th>\n",
       "      <td>51.653112</td>\n",
       "      <td>46.580732</td>\n",
       "      <td>1.766155</td>\n",
       "    </tr>\n",
       "    <tr>\n",
       "      <th>1</th>\n",
       "      <td>52.207962</td>\n",
       "      <td>46.253961</td>\n",
       "      <td>1.538077</td>\n",
       "    </tr>\n",
       "    <tr>\n",
       "      <th>2</th>\n",
       "      <td>2.608696</td>\n",
       "      <td>40.000000</td>\n",
       "      <td>57.391304</td>\n",
       "    </tr>\n",
       "  </tbody>\n",
       "</table>\n",
       "</div>"
      ],
      "text/plain": [
       "       Young      Adult    Elderly\n",
       "0  51.653112  46.580732   1.766155\n",
       "1  52.207962  46.253961   1.538077\n",
       "2   2.608696  40.000000  57.391304"
      ]
     },
     "metadata": {},
     "output_type": "display_data"
    }
   ],
   "source": [
    "n_0 = len( data_small_2[data_small_2['Label'] == 0] ) \n",
    "n_1 = len( data_small_2[data_small_2['Label'] == 1] ) \n",
    "n_2 = len( data_small_2[data_small_2['Label'] == 2] )\n",
    "\n",
    "f_0 = len( data_small_2[ (data_small_2['Label'] == 0) & (data_small_2['CustGender'] == 'F') ] ) \n",
    "m_0 = len( data_small_2[ (data_small_2['Label'] == 0) & (data_small_2['CustGender'] == 'M') ] )\n",
    "f_1 = len( data_small_2[ (data_small_2['Label'] == 1) & (data_small_2['CustGender'] == 'F') ] ) \n",
    "m_1 = len( data_small_2[ (data_small_2['Label'] == 1) & (data_small_2['CustGender'] == 'M') ] )\n",
    "f_2 = len( data_small_2[ (data_small_2['Label'] == 2) & (data_small_2['CustGender'] == 'F') ] ) \n",
    "m_2 = len( data_small_2[ (data_small_2['Label'] == 2) & (data_small_2['CustGender'] == 'M') ] )\n",
    "\n",
    "piv_t_gender = pd.DataFrame([ [f_0/n_0, m_0/n_0], [f_1/n_1, m_1/n_1], [f_2/n_2, m_2/n_2]]).set_axis(['F', 'M'], axis=1, inplace=False) * 100\n",
    "\n",
    "##############################################################################################################################################\n",
    "\n",
    "y_0 = len( data_small_2[ (data_small_2['Label'] == 0) & (data_small_2['Age_Status'] == 'Young') ] ) \n",
    "a_0 = len( data_small_2[ (data_small_2['Label'] == 0) & (data_small_2['Age_Status'] == 'Adult') ] )\n",
    "e_0  = len( data_small_2[ (data_small_2['Label'] == 0) & (data_small_2['Age_Status'] == 'Elderly') ] )\n",
    "\n",
    "y_1 = len( data_small_2[ (data_small_2['Label'] == 1) & (data_small_2['Age_Status'] == 'Young') ] ) \n",
    "a_1 = len( data_small_2[ (data_small_2['Label'] == 1) & (data_small_2['Age_Status'] == 'Adult') ] )\n",
    "e_1  = len( data_small_2[ (data_small_2['Label'] == 1) & (data_small_2['Age_Status'] == 'Elderly') ] )\n",
    "\n",
    "y_2 = len( data_small_2[ (data_small_2['Label'] == 2) & (data_small_2['Age_Status'] == 'Young') ] ) \n",
    "a_2 = len( data_small_2[ (data_small_2['Label'] == 2) & (data_small_2['Age_Status'] == 'Adult') ] )\n",
    "e_2  = len( data_small_2[ (data_small_2['Label'] == 2) & (data_small_2['Age_Status'] == 'Elderly') ] )\n",
    "\n",
    "piv_t_age = pd.DataFrame([ [y_0/n_0, a_0/n_0, e_0/n_0], [y_1/n_1, a_1/n_1, e_1/n_1], [y_2/n_2, a_2/n_2, e_2/n_2]]).set_axis(['Young', 'Adult', 'Elderly'], axis=1, inplace=False) * 100\n",
    "\n",
    "###############################################################################################################################################\n",
    "\n",
    "display(piv_t_gender, '*'*35, piv_t_age)\n"
   ]
  },
  {
   "cell_type": "markdown",
   "metadata": {},
   "source": [
    "### 2.4.6: Metrics to estimate clustering algorithm performance"
   ]
  },
  {
   "attachments": {},
   "cell_type": "markdown",
   "metadata": {},
   "source": [
    "We will use the Silhouette Coefficient to evaluate the performance of our clustering partition.\n",
    "The Silhouette index is between -1 and +1, where +1 indicates a perfect partition and -1 a bad partition.\n",
    "For a given sample, you compute this index as the following:\n",
    "$(b-a)/max(a, b)$ , <br>\n",
    "where $a$ is the mean intra-cluster distance, and $b$ the mean between a point and the nearest cluster it doesn't belong to.\n"
   ]
  },
  {
   "cell_type": "code",
   "execution_count": 41,
   "metadata": {},
   "outputs": [
    {
     "data": {
      "text/plain": [
       "0.4222579029750807"
      ]
     },
     "execution_count": 41,
     "metadata": {},
     "output_type": "execute_result"
    }
   ],
   "source": [
    "# We compute the Silhouette index using the built-in function in scikit-learn\n",
    "from sklearn.metrics import silhouette_score\n",
    "\n",
    "silhouette_score(X, labels, metric =' euclidean')"
   ]
  },
  {
   "attachments": {},
   "cell_type": "markdown",
   "metadata": {},
   "source": [
    "0.4 is not a high value for the silhouette score. <br>\n",
    "Despite this, we can still be quite satisfied. <br>\n",
    "In fact, since this is an index based on the distance between points and clusters, the presence of outliers greatly affects the final result. In this case for example, the presence of some very rich clients impacts the final score, making it quite low. <br>\n",
    "Moreover, a commonly accepted 'good' threshold for the silhouette index is 0.6, not too far from the 0.42 we arrived at"
   ]
  },
  {
   "attachments": {},
   "cell_type": "markdown",
   "metadata": {},
   "source": [
    "------------------------------------------------------------------------------------------------------------------------------------------------------------------------------------------------\n",
    "------------------------------------------------------------------------------------------------------------------------------------------------------------------------------------------------"
   ]
  },
  {
   "cell_type": "markdown",
   "metadata": {},
   "source": [
    "# Bonus Point"
   ]
  },
  {
   "attachments": {},
   "cell_type": "markdown",
   "metadata": {},
   "source": [
    "Since we have to choose 2 other clustering algorithms to compare with our version of K-Means, we will use the Mini Batch K-Means and Affinity Propagation. <br>\n",
    "We chose these two clustering tecniques because the first one is very similar to the standard K-Means, but is way faster and produces similar results (so in this case could perform very well), and the second one daoes not require an a \"a priori\" number of clusters. Let's see how they work."
   ]
  },
  {
   "cell_type": "markdown",
   "metadata": {},
   "source": [
    "We start from the Mini Batch K-Means."
   ]
  },
  {
   "cell_type": "markdown",
   "metadata": {},
   "source": [
    "The Mini Batch K-Means is a simplified variant of the K-Means, which optimizes execution time by using a mini-batch, randomly selecting points.\n",
    "Mini Batch K-Means has one major advantage over other algorithms that set similar goals, and that is to produce results in line with standard K-Means. "
   ]
  },
  {
   "cell_type": "code",
   "execution_count": 70,
   "metadata": {},
   "outputs": [
    {
     "data": {
      "image/png": "[encoded data removed]",
      "text/plain": [
       "<Figure size 612x468 with 1 Axes>"
      ]
     },
     "metadata": {
      "needs_background": "light"
     },
     "output_type": "display_data"
    }
   ],
   "source": [
    "from sklearn.cluster import MiniBatchKMeans\n",
    "from sklearn.metrics.pairwise import pairwise_distances_argmin\n",
    "\n",
    "mini_km = MiniBatchKMeans(\n",
    "    init = \"k-means++\",\n",
    "    n_clusters = 3,\n",
    "    batch_size = 500,\n",
    "    n_init = 75,\n",
    "    max_no_improvement = 75,\n",
    "    verbose = 0,\n",
    ").fit(pca)\n",
    "\n",
    "mbk_means_cluster_centers = np.sort(mini_km.cluster_centers_, axis = 0)\n",
    "mbk_means_labels = pairwise_distances_argmin(pca, mbk_means_cluster_centers)\n",
    "pca_df['labels_mini'] = mbk_means_labels\n",
    "\n",
    "plt.figure(figsize=[8.5, 6.5])\n",
    "plt.scatter(pca[mbk_means_labels==0, 0], pca[mbk_means_labels==0, 1], s=30, c='tomato')\n",
    "plt.scatter(pca[mbk_means_labels==1, 0], pca[mbk_means_labels==1, 1], s=30, c='navy')\n",
    "plt.scatter(pca[mbk_means_labels==2, 0], pca[mbk_means_labels==2, 1], s=30, c='gold')\n",
    "\n",
    "st_mini_km = time.time()\n",
    "mini_km.fit(X)\n",
    "et_mini_kmeans = time.time()\n",
    "execution_time_mini_kmeans = et_mini_kmeans - st_mini_km"
   ]
  },
  {
   "cell_type": "markdown",
   "metadata": {},
   "source": [
    "The results are different from the standard K-Means, but not too much. <br>\n",
    "What really changes is the time execution:"
   ]
  },
  {
   "cell_type": "code",
   "execution_count": 73,
   "metadata": {},
   "outputs": [
    {
     "name": "stdout",
     "output_type": "stream",
     "text": [
      "In the standard KMeans, the execution time was 589.17 seconds\n",
      "Here, the execution time becomes 0.27 seconds\n"
     ]
    }
   ],
   "source": [
    "print('In the standard KMeans, the execution time was', round(execution_time_my_kmeans, 2), 'seconds')\n",
    "print('Here, the execution time becomes', round(execution_time_mini_kmeans, 2), 'seconds')"
   ]
  },
  {
   "cell_type": "code",
   "execution_count": 132,
   "metadata": {},
   "outputs": [
    {
     "data": {
      "image/png": "[encoded data removed]",
      "text/plain": [
       "<Figure size 432x288 with 1 Axes>"
      ]
     },
     "metadata": {
      "needs_background": "light"
     },
     "output_type": "display_data"
    }
   ],
   "source": [
    "times = [round(execution_time_my_kmeans, 2), round(execution_time_mini_kmeans, 2) + 1] # I add 1 to make it appear in the plot\n",
    "algorithms = ['My K-Means', 'Mini Batch K-Means']\n",
    "x_pos = np.arange(len(algorithms))\n",
    "\n",
    "\n",
    "plt.bar(x_pos, times, width=0.45, color=['gold', 'red'])\n",
    "\n",
    "# Annotation\n",
    "plt.annotate(\n",
    "'2180x faster!', xy=(1, 30), xytext=(0.835, 300),\n",
    "arrowprops = dict(facecolor = 'red', shrink= 0.1))\n",
    "\n",
    "plt.xticks(x_pos, algorithms)\n",
    "plt.xlabel('Algorithm I used')\n",
    "plt.ylabel('Execution time in seconds')\n",
    "plt.title('Comparison of execution times between K-Means \\n and Mini Batch K-Means')\n",
    "\n",
    "plt.show()"
   ]
  },
  {
   "attachments": {},
   "cell_type": "markdown",
   "metadata": {},
   "source": [
    "Now it's the turn of Affinity Propagation."
   ]
  },
  {
   "attachments": {},
   "cell_type": "markdown",
   "metadata": {},
   "source": [
    "Affinity Propagation is an alternative cluster technique to K-Means. In addition to being much newer (it was first published in 2007, 50 years after K-Means), it also has the advantage of not requiring an a priori number of clusters on which to perform the analysis. <br>\n",
    "This can be very advantageous in cases such as ours, where the elbow method and the silhouette index were giving less than perfectly concordant indications. <br>\n",
    "But this advantage has a cost: the complexity time. So, since you can perform this clustering tecnique only if you don't have big dataset, we will use a smaller portion of our data. <br>\n",
    "Let us try applying Affinity Propagation to our data:"
   ]
  },
  {
   "cell_type": "code",
   "execution_count": null,
   "metadata": {},
   "outputs": [],
   "source": [
    "from sklearn.cluster import AffinityPropagation\n",
    "\n",
    "X = pd.DataFrame(pca[0:2000])\n",
    "\n",
    "afprop  = AffinityPropagation(preference=-50)\n",
    "afprop.fit(X)\n",
    "\n",
    "aff_prop_labels = afprop.predict(X)\n",
    "\n",
    "X['aff_prop_labels'] = aff_prop_labels\n",
    "X"
   ]
  }
 ],
 "metadata": {
  "kernelspec": {
   "display_name": "base",
   "language": "python",
   "name": "python3"
  },
  "language_info": {
   "codemirror_mode": {
    "name": "ipython",
    "version": 3
   },
   "file_extension": ".py",
   "mimetype": "text/x-python",
   "name": "python",
   "nbconvert_exporter": "python",
   "pygments_lexer": "ipython3",
   "version": "3.9.12"
  },
  "orig_nbformat": 4,
  "vscode": {
   "interpreter": {
    "hash": "8922abe8a2f354f864dd8097bc99cbc9988d6260d5a3250d7fc0c8c4274840cd"
   }
  }
 },
 "nbformat": 4,
 "nbformat_minor": 2
}
